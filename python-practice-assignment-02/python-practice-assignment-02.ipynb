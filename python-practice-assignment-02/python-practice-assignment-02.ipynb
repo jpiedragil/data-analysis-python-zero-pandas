{
 "cells": [
  {
   "cell_type": "markdown",
   "metadata": {},
   "source": [
    "# Did You Know that Numpy Works with Strings?\n",
    "\n",
    "\n",
    "### 5 Useful functions to Work with String Arrays\n",
    "\n",
    "Write a short introduction about Numpy and list the chosen functions. \n",
    "\n",
    "- np.char.add()\n",
    "- np.char.capitalize()\n",
    "- np.char.rjust()\n",
    "- np.char.zfill()\n",
    "- np.char.startswith()\n",
    "\n",
    "The recommended way to run this notebook is to click the \"Run\" button at the top of this page, and select \"Run on Binder\". This will run the notebook on mybinder.org, a free online service for running Jupyter notebooks."
   ]
  },
  {
   "cell_type": "code",
   "execution_count": 20,
   "metadata": {},
   "outputs": [],
   "source": [
    "!pip install jovian --upgrade -q"
   ]
  },
  {
   "cell_type": "code",
   "execution_count": 21,
   "metadata": {},
   "outputs": [],
   "source": [
    "import jovian"
   ]
  },
  {
   "cell_type": "code",
   "execution_count": null,
   "metadata": {},
   "outputs": [
    {
     "data": {
      "application/javascript": [
       "window.require && require([\"base/js/namespace\"],function(Jupyter){Jupyter.notebook.save_checkpoint()})"
      ],
      "text/plain": [
       "<IPython.core.display.Javascript object>"
      ]
     },
     "metadata": {},
     "output_type": "display_data"
    },
    {
     "name": "stdout",
     "output_type": "stream",
     "text": [
      "[jovian] Attempting to save notebook..\u001b[0m\n"
     ]
    }
   ],
   "source": [
    "jovian.commit(project='numpy-array-operations')"
   ]
  },
  {
   "cell_type": "markdown",
   "metadata": {},
   "source": [
    "Let's begin by importing Numpy and listing out the functions covered in this notebook."
   ]
  },
  {
   "cell_type": "code",
   "execution_count": 2,
   "metadata": {
    "execution": {
     "iopub.execute_input": "2020-09-19T21:54:23.862236Z",
     "iopub.status.busy": "2020-09-19T21:54:23.861239Z",
     "iopub.status.idle": "2020-09-19T21:54:24.495231Z",
     "shell.execute_reply": "2020-09-19T21:54:24.493230Z",
     "shell.execute_reply.started": "2020-09-19T21:54:23.861239Z"
    }
   },
   "outputs": [],
   "source": [
    "import numpy as np"
   ]
  },
  {
   "cell_type": "markdown",
   "metadata": {
    "execution": {
     "iopub.execute_input": "2020-09-19T03:48:08.028556Z",
     "iopub.status.busy": "2020-09-19T03:48:08.028556Z",
     "iopub.status.idle": "2020-09-19T03:48:08.039554Z",
     "shell.execute_reply": "2020-09-19T03:48:08.037556Z",
     "shell.execute_reply.started": "2020-09-19T03:48:08.028556Z"
    }
   },
   "source": [
    "# List of functions explained \n",
    "1. np.char.add()\n",
    "2. np.char.capitalize()\n",
    "3. np.char.rjust()\n",
    "4. np.char.zfill()\n",
    "5. np.char.startswith()\n",
    "\n",
    "## Function 1 - np.char.add(x1, x2)\n",
    "\n",
    "Returns concatenation of string arrays x1 and x2, which must hace the same shape. "
   ]
  },
  {
   "cell_type": "code",
   "execution_count": 7,
   "metadata": {
    "execution": {
     "iopub.execute_input": "2020-09-19T04:00:27.219219Z",
     "iopub.status.busy": "2020-09-19T04:00:27.218216Z",
     "iopub.status.idle": "2020-09-19T04:00:27.234216Z",
     "shell.execute_reply": "2020-09-19T04:00:27.232211Z",
     "shell.execute_reply.started": "2020-09-19T04:00:27.219219Z"
    }
   },
   "outputs": [
    {
     "name": "stdout",
     "output_type": "stream",
     "text": [
      "['Javier Piedragil' 'Gender: Male ']\n"
     ]
    }
   ],
   "source": [
    "# Example 1\n",
    "arr1 = np.array([\"Javier \", \"Gender: \"])\n",
    "\n",
    "arr2 = np.array([\"Piedragil\", \"Male \"])\n",
    "\n",
    "print(np.char.add(arr1, arr2))"
   ]
  },
  {
   "cell_type": "markdown",
   "metadata": {},
   "source": [
    "This example show how the concatenation works \"element-wise\"."
   ]
  },
  {
   "cell_type": "code",
   "execution_count": 18,
   "metadata": {
    "execution": {
     "iopub.execute_input": "2020-09-19T04:08:49.669766Z",
     "iopub.status.busy": "2020-09-19T04:08:49.668766Z",
     "iopub.status.idle": "2020-09-19T04:08:49.683761Z",
     "shell.execute_reply": "2020-09-19T04:08:49.681760Z",
     "shell.execute_reply.started": "2020-09-19T04:08:49.669766Z"
    }
   },
   "outputs": [
    {
     "name": "stdout",
     "output_type": "stream",
     "text": [
      "[['Javier Piedragil' 'Nancy Drew']\n",
      " ['Molly Hatchet' 'Neil Peart']]\n"
     ]
    }
   ],
   "source": [
    "# Example 2 - working\n",
    "names = np.array([[\"Javier \", \"Nancy \"], \n",
    "                 [\"Molly \", \"Neil \"]]\n",
    "               ) \n",
    "\n",
    "last_names = np.array([[\"Piedragil\", \"Drew\"], \n",
    "                       [\"Hatchet\", \"Peart\"]]\n",
    "                     ) \n",
    "\n",
    "print(np.char.add(names, last_names))"
   ]
  },
  {
   "cell_type": "markdown",
   "metadata": {},
   "source": [
    "Concatenation between 2 2D arrays shows more clearly the \"element-wise\" nature of the function."
   ]
  },
  {
   "cell_type": "code",
   "execution_count": 64,
   "metadata": {
    "execution": {
     "iopub.execute_input": "2020-09-19T05:38:46.761173Z",
     "iopub.status.busy": "2020-09-19T05:38:46.760173Z",
     "iopub.status.idle": "2020-09-19T05:38:46.801172Z",
     "shell.execute_reply": "2020-09-19T05:38:46.798172Z",
     "shell.execute_reply.started": "2020-09-19T05:38:46.761173Z"
    }
   },
   "outputs": [
    {
     "ename": "ValueError",
     "evalue": "shape mismatch: objects cannot be broadcast to a single shape",
     "output_type": "error",
     "traceback": [
      "\u001b[1;31m---------------------------------------------------------------------------\u001b[0m",
      "\u001b[1;31mValueError\u001b[0m                                Traceback (most recent call last)",
      "\u001b[1;32m<ipython-input-64-ad91c1029cc2>\u001b[0m in \u001b[0;36m<module>\u001b[1;34m\u001b[0m\n\u001b[0;32m      4\u001b[0m \u001b[0mbreeds\u001b[0m \u001b[1;33m=\u001b[0m \u001b[0mnp\u001b[0m\u001b[1;33m.\u001b[0m\u001b[0marray\u001b[0m\u001b[1;33m(\u001b[0m\u001b[1;33m[\u001b[0m\u001b[1;34m\"Boxer\"\u001b[0m\u001b[1;33m,\u001b[0m \u001b[1;34m\"Bulldog\"\u001b[0m\u001b[1;33m,\u001b[0m \u001b[1;34m\"Dalmatian\"\u001b[0m\u001b[1;33m]\u001b[0m\u001b[1;33m)\u001b[0m\u001b[1;33m\u001b[0m\u001b[1;33m\u001b[0m\u001b[0m\n\u001b[0;32m      5\u001b[0m \u001b[1;33m\u001b[0m\u001b[0m\n\u001b[1;32m----> 6\u001b[1;33m \u001b[0mprint\u001b[0m\u001b[1;33m(\u001b[0m\u001b[0mnp\u001b[0m\u001b[1;33m.\u001b[0m\u001b[0mchar\u001b[0m\u001b[1;33m.\u001b[0m\u001b[0madd\u001b[0m\u001b[1;33m(\u001b[0m\u001b[0mdogs\u001b[0m\u001b[1;33m,\u001b[0m \u001b[0mbreeds\u001b[0m\u001b[1;33m)\u001b[0m\u001b[1;33m)\u001b[0m\u001b[1;33m\u001b[0m\u001b[1;33m\u001b[0m\u001b[0m\n\u001b[0m",
      "\u001b[1;32m<__array_function__ internals>\u001b[0m in \u001b[0;36madd\u001b[1;34m(*args, **kwargs)\u001b[0m\n",
      "\u001b[1;32m~\\.conda\\envs\\jpnb_py38\\lib\\site-packages\\numpy\\core\\defchararray.py\u001b[0m in \u001b[0;36madd\u001b[1;34m(x1, x2)\u001b[0m\n\u001b[0;32m    309\u001b[0m     \u001b[0mout_size\u001b[0m \u001b[1;33m=\u001b[0m \u001b[0m_get_num_chars\u001b[0m\u001b[1;33m(\u001b[0m\u001b[0marr1\u001b[0m\u001b[1;33m)\u001b[0m \u001b[1;33m+\u001b[0m \u001b[0m_get_num_chars\u001b[0m\u001b[1;33m(\u001b[0m\u001b[0marr2\u001b[0m\u001b[1;33m)\u001b[0m\u001b[1;33m\u001b[0m\u001b[1;33m\u001b[0m\u001b[0m\n\u001b[0;32m    310\u001b[0m     \u001b[0mdtype\u001b[0m \u001b[1;33m=\u001b[0m \u001b[0m_use_unicode\u001b[0m\u001b[1;33m(\u001b[0m\u001b[0marr1\u001b[0m\u001b[1;33m,\u001b[0m \u001b[0marr2\u001b[0m\u001b[1;33m)\u001b[0m\u001b[1;33m\u001b[0m\u001b[1;33m\u001b[0m\u001b[0m\n\u001b[1;32m--> 311\u001b[1;33m     \u001b[1;32mreturn\u001b[0m \u001b[0m_vec_string\u001b[0m\u001b[1;33m(\u001b[0m\u001b[0marr1\u001b[0m\u001b[1;33m,\u001b[0m \u001b[1;33m(\u001b[0m\u001b[0mdtype\u001b[0m\u001b[1;33m,\u001b[0m \u001b[0mout_size\u001b[0m\u001b[1;33m)\u001b[0m\u001b[1;33m,\u001b[0m \u001b[1;34m'__add__'\u001b[0m\u001b[1;33m,\u001b[0m \u001b[1;33m(\u001b[0m\u001b[0marr2\u001b[0m\u001b[1;33m,\u001b[0m\u001b[1;33m)\u001b[0m\u001b[1;33m)\u001b[0m\u001b[1;33m\u001b[0m\u001b[1;33m\u001b[0m\u001b[0m\n\u001b[0m\u001b[0;32m    312\u001b[0m \u001b[1;33m\u001b[0m\u001b[0m\n\u001b[0;32m    313\u001b[0m \u001b[1;33m\u001b[0m\u001b[0m\n",
      "\u001b[1;31mValueError\u001b[0m: shape mismatch: objects cannot be broadcast to a single shape"
     ]
    }
   ],
   "source": [
    "# Example 3 - breaking (to illustrate when it breaks)\n",
    "dogs = np.array([\"Spot: \", \"Fido: \"])\n",
    "        \n",
    "breeds = np.array([\"Boxer\", \"Bulldog\", \"Dalmatian\"])\n",
    "\n",
    "print(np.char.add(dogs, breeds))"
   ]
  },
  {
   "cell_type": "markdown",
   "metadata": {},
   "source": [
    "The function breaks because dogs and breeds arrays are not the same shape."
   ]
  },
  {
   "cell_type": "markdown",
   "metadata": {},
   "source": [
    "Use this function to concatenate strings in an element-wise fashion."
   ]
  },
  {
   "cell_type": "code",
   "execution_count": 23,
   "metadata": {},
   "outputs": [
    {
     "data": {
      "application/javascript": [
       "window.require && require([\"base/js/namespace\"],function(Jupyter){Jupyter.notebook.save_checkpoint()})"
      ],
      "text/plain": [
       "<IPython.core.display.Javascript object>"
      ]
     },
     "metadata": {},
     "output_type": "display_data"
    },
    {
     "name": "stdout",
     "output_type": "stream",
     "text": [
      "[jovian] Attempting to save notebook..\u001b[0m\n",
      "[jovian] Updating notebook \"aakashns/numpy-array-operations\" on https://jovian.ml/\u001b[0m\n",
      "[jovian] Uploading notebook..\u001b[0m\n",
      "[jovian] Capturing environment..\u001b[0m\n",
      "[jovian] Committed successfully! https://jovian.ml/aakashns/numpy-array-operations\u001b[0m\n"
     ]
    },
    {
     "data": {
      "text/plain": [
       "'https://jovian.ml/aakashns/numpy-array-operations'"
      ]
     },
     "execution_count": 23,
     "metadata": {},
     "output_type": "execute_result"
    }
   ],
   "source": [
    "jovian.commit()"
   ]
  },
  {
   "cell_type": "markdown",
   "metadata": {},
   "source": [
    "## Function 2 - np.char.capitalize(a)\n",
    "\n",
    "Returns a copy of \"a\" with only the first character of each element capitalized."
   ]
  },
  {
   "cell_type": "code",
   "execution_count": 65,
   "metadata": {
    "execution": {
     "iopub.execute_input": "2020-09-19T05:39:13.133285Z",
     "iopub.status.busy": "2020-09-19T05:39:13.132284Z",
     "iopub.status.idle": "2020-09-19T05:39:13.144285Z",
     "shell.execute_reply": "2020-09-19T05:39:13.142284Z",
     "shell.execute_reply.started": "2020-09-19T05:39:13.133285Z"
    }
   },
   "outputs": [
    {
     "name": "stdout",
     "output_type": "stream",
     "text": [
      "['México' 'India' 'China' 'Argentina' 'El salvador']\n"
     ]
    }
   ],
   "source": [
    "# Example 1\n",
    "\n",
    "countries = np.array([\"méxico\", \"india\", \"china\", \"argentina\", \"El salvador\"])\n",
    "\n",
    "print(np.char.capitalize(countries))"
   ]
  },
  {
   "cell_type": "markdown",
   "metadata": {},
   "source": [
    "Capitalizes the first character of each array's element."
   ]
  },
  {
   "cell_type": "code",
   "execution_count": 67,
   "metadata": {
    "execution": {
     "iopub.execute_input": "2020-09-19T05:40:55.074213Z",
     "iopub.status.busy": "2020-09-19T05:40:55.074213Z",
     "iopub.status.idle": "2020-09-19T05:40:55.092214Z",
     "shell.execute_reply": "2020-09-19T05:40:55.091214Z",
     "shell.execute_reply.started": "2020-09-19T05:40:55.074213Z"
    }
   },
   "outputs": [
    {
     "name": "stdout",
     "output_type": "stream",
     "text": [
      "[['Venice' 'Mumbai' 'Moscow' 'Beijing']\n",
      " ['Italy' 'India' 'Russia' 'China']]\n"
     ]
    }
   ],
   "source": [
    "# Example 2\n",
    "cities_countries = np.array([[\"venice\", \"mumbai\", \"moscow\", \"beijing\"],\n",
    "                             [\"italy\", \"india\", \"russia\", \"china\"]\n",
    "                            ] \n",
    "                           )\n",
    "\n",
    "print(np.char.capitalize(cities_countries))"
   ]
  },
  {
   "cell_type": "markdown",
   "metadata": {},
   "source": [
    "This function also works with multi-dimensional arrays."
   ]
  },
  {
   "cell_type": "code",
   "execution_count": 68,
   "metadata": {
    "execution": {
     "iopub.execute_input": "2020-09-19T05:41:11.129717Z",
     "iopub.status.busy": "2020-09-19T05:41:11.128718Z",
     "iopub.status.idle": "2020-09-19T05:41:11.170718Z",
     "shell.execute_reply": "2020-09-19T05:41:11.168716Z",
     "shell.execute_reply.started": "2020-09-19T05:41:11.129717Z"
    }
   },
   "outputs": [
    {
     "ename": "TypeError",
     "evalue": "string operation on non-string array",
     "output_type": "error",
     "traceback": [
      "\u001b[1;31m---------------------------------------------------------------------------\u001b[0m",
      "\u001b[1;31mTypeError\u001b[0m                                 Traceback (most recent call last)",
      "\u001b[1;32m<ipython-input-68-70041cc5deff>\u001b[0m in \u001b[0;36m<module>\u001b[1;34m\u001b[0m\n\u001b[0;32m      2\u001b[0m \u001b[0msentence\u001b[0m \u001b[1;33m=\u001b[0m \u001b[1;36m4\u001b[0m\u001b[1;33m\u001b[0m\u001b[1;33m\u001b[0m\u001b[0m\n\u001b[0;32m      3\u001b[0m \u001b[1;33m\u001b[0m\u001b[0m\n\u001b[1;32m----> 4\u001b[1;33m \u001b[0mprint\u001b[0m\u001b[1;33m(\u001b[0m\u001b[0mnp\u001b[0m\u001b[1;33m.\u001b[0m\u001b[0mchar\u001b[0m\u001b[1;33m.\u001b[0m\u001b[0mcapitalize\u001b[0m\u001b[1;33m(\u001b[0m\u001b[0msentence\u001b[0m\u001b[1;33m)\u001b[0m\u001b[1;33m)\u001b[0m\u001b[1;33m\u001b[0m\u001b[1;33m\u001b[0m\u001b[0m\n\u001b[0m",
      "\u001b[1;32m<__array_function__ internals>\u001b[0m in \u001b[0;36mcapitalize\u001b[1;34m(*args, **kwargs)\u001b[0m\n",
      "\u001b[1;32m~\\.conda\\envs\\jpnb_py38\\lib\\site-packages\\numpy\\core\\defchararray.py\u001b[0m in \u001b[0;36mcapitalize\u001b[1;34m(a)\u001b[0m\n\u001b[0;32m    414\u001b[0m     \"\"\"\n\u001b[0;32m    415\u001b[0m     \u001b[0ma_arr\u001b[0m \u001b[1;33m=\u001b[0m \u001b[0mnumpy\u001b[0m\u001b[1;33m.\u001b[0m\u001b[0masarray\u001b[0m\u001b[1;33m(\u001b[0m\u001b[0ma\u001b[0m\u001b[1;33m)\u001b[0m\u001b[1;33m\u001b[0m\u001b[1;33m\u001b[0m\u001b[0m\n\u001b[1;32m--> 416\u001b[1;33m     \u001b[1;32mreturn\u001b[0m \u001b[0m_vec_string\u001b[0m\u001b[1;33m(\u001b[0m\u001b[0ma_arr\u001b[0m\u001b[1;33m,\u001b[0m \u001b[0ma_arr\u001b[0m\u001b[1;33m.\u001b[0m\u001b[0mdtype\u001b[0m\u001b[1;33m,\u001b[0m \u001b[1;34m'capitalize'\u001b[0m\u001b[1;33m)\u001b[0m\u001b[1;33m\u001b[0m\u001b[1;33m\u001b[0m\u001b[0m\n\u001b[0m\u001b[0;32m    417\u001b[0m \u001b[1;33m\u001b[0m\u001b[0m\n\u001b[0;32m    418\u001b[0m \u001b[1;33m\u001b[0m\u001b[0m\n",
      "\u001b[1;31mTypeError\u001b[0m: string operation on non-string array"
     ]
    }
   ],
   "source": [
    "# Example 3 - breaking (to illustrate when it breaks)\n",
    "sentence = 4\n",
    "\n",
    "print(np.char.capitalize(sentence))"
   ]
  },
  {
   "cell_type": "markdown",
   "metadata": {},
   "source": [
    "When passed a non-character argument, the function throws an error."
   ]
  },
  {
   "cell_type": "markdown",
   "metadata": {},
   "source": [
    "Use this function to capitalize only the first character of an array element. Does not capitalize multiple words in an array's element."
   ]
  },
  {
   "cell_type": "code",
   "execution_count": 32,
   "metadata": {},
   "outputs": [
    {
     "data": {
      "application/javascript": [
       "window.require && require([\"base/js/namespace\"],function(Jupyter){Jupyter.notebook.save_checkpoint()})"
      ],
      "text/plain": [
       "<IPython.core.display.Javascript object>"
      ]
     },
     "metadata": {},
     "output_type": "display_data"
    },
    {
     "name": "stdout",
     "output_type": "stream",
     "text": [
      "[jovian] Attempting to save notebook..\u001b[0m\n",
      "[jovian] Updating notebook \"aakashns/numpy-array-operations\" on https://jovian.ml/\u001b[0m\n",
      "[jovian] Uploading notebook..\u001b[0m\n",
      "[jovian] Capturing environment..\u001b[0m\n",
      "[jovian] Committed successfully! https://jovian.ml/aakashns/numpy-array-operations\u001b[0m\n"
     ]
    },
    {
     "data": {
      "text/plain": [
       "'https://jovian.ml/aakashns/numpy-array-operations'"
      ]
     },
     "execution_count": 32,
     "metadata": {},
     "output_type": "execute_result"
    }
   ],
   "source": [
    "jovian.commit()"
   ]
  },
  {
   "cell_type": "markdown",
   "metadata": {},
   "source": [
    "## Function 3 - np.char.rjust(a, n, fillchar=)\n",
    "\n",
    "Returns an array of width n with elements of a right-justified, optionally filled to the left with fillchar."
   ]
  },
  {
   "cell_type": "code",
   "execution_count": 53,
   "metadata": {
    "execution": {
     "iopub.execute_input": "2020-09-19T05:22:00.279426Z",
     "iopub.status.busy": "2020-09-19T05:22:00.279426Z",
     "iopub.status.idle": "2020-09-19T05:22:00.292423Z",
     "shell.execute_reply": "2020-09-19T05:22:00.290426Z",
     "shell.execute_reply.started": "2020-09-19T05:22:00.279426Z"
    }
   },
   "outputs": [
    {
     "name": "stdout",
     "output_type": "stream",
     "text": [
      "   2\n",
      "  34\n",
      " 150\n",
      " 999\n",
      "1000\n"
     ]
    }
   ],
   "source": [
    "# Example 1\n",
    "\n",
    "totals = np.array([\"2\", \"34\", \"150\", \"999\", \"1000\"])\n",
    "\n",
    "totals_rj = np.char.rjust(totals,4)\n",
    "\n",
    "for x in totals_rj:\n",
    "    \n",
    "    print(x)"
   ]
  },
  {
   "cell_type": "markdown",
   "metadata": {},
   "source": [
    "Prints a list of strings right-justified, with space as a fill character."
   ]
  },
  {
   "cell_type": "code",
   "execution_count": 54,
   "metadata": {
    "execution": {
     "iopub.execute_input": "2020-09-19T05:25:39.143418Z",
     "iopub.status.busy": "2020-09-19T05:25:39.142418Z",
     "iopub.status.idle": "2020-09-19T05:25:39.160423Z",
     "shell.execute_reply": "2020-09-19T05:25:39.159422Z",
     "shell.execute_reply.started": "2020-09-19T05:25:39.143418Z"
    }
   },
   "outputs": [
    {
     "name": "stdout",
     "output_type": "stream",
     "text": [
      "0002\n",
      "0034\n",
      "0150\n",
      "0999\n",
      "1000\n"
     ]
    }
   ],
   "source": [
    "# Example 2 - working\n",
    "totals = np.array([\"2\", \"34\", \"150\", \"999\", \"1000\"])\n",
    "\n",
    "totals_rj = np.char.rjust(totals, 4, \"0\")\n",
    "\n",
    "for x in totals_rj:\n",
    "    \n",
    "    print(x)"
   ]
  },
  {
   "cell_type": "markdown",
   "metadata": {},
   "source": [
    "Prints strings right-justified, with character \"0\" as a fill character."
   ]
  },
  {
   "cell_type": "code",
   "execution_count": 55,
   "metadata": {
    "execution": {
     "iopub.execute_input": "2020-09-19T05:27:23.684597Z",
     "iopub.status.busy": "2020-09-19T05:27:23.683597Z",
     "iopub.status.idle": "2020-09-19T05:27:23.715602Z",
     "shell.execute_reply": "2020-09-19T05:27:23.713600Z",
     "shell.execute_reply.started": "2020-09-19T05:27:23.684597Z"
    }
   },
   "outputs": [
    {
     "ename": "TypeError",
     "evalue": "string operation on non-string array",
     "output_type": "error",
     "traceback": [
      "\u001b[1;31m---------------------------------------------------------------------------\u001b[0m",
      "\u001b[1;31mTypeError\u001b[0m                                 Traceback (most recent call last)",
      "\u001b[1;32m<ipython-input-55-0d76fd20a312>\u001b[0m in \u001b[0;36m<module>\u001b[1;34m\u001b[0m\n\u001b[0;32m      2\u001b[0m \u001b[0mtotals\u001b[0m \u001b[1;33m=\u001b[0m \u001b[0mnp\u001b[0m\u001b[1;33m.\u001b[0m\u001b[0marray\u001b[0m\u001b[1;33m(\u001b[0m\u001b[1;33m[\u001b[0m\u001b[1;36m2\u001b[0m\u001b[1;33m,\u001b[0m \u001b[1;36m34\u001b[0m\u001b[1;33m,\u001b[0m \u001b[1;36m150\u001b[0m\u001b[1;33m,\u001b[0m \u001b[1;36m999\u001b[0m\u001b[1;33m,\u001b[0m \u001b[1;36m1000\u001b[0m\u001b[1;33m]\u001b[0m\u001b[1;33m)\u001b[0m\u001b[1;33m\u001b[0m\u001b[1;33m\u001b[0m\u001b[0m\n\u001b[0;32m      3\u001b[0m \u001b[1;33m\u001b[0m\u001b[0m\n\u001b[1;32m----> 4\u001b[1;33m \u001b[0mtotals_rj\u001b[0m \u001b[1;33m=\u001b[0m \u001b[0mnp\u001b[0m\u001b[1;33m.\u001b[0m\u001b[0mchar\u001b[0m\u001b[1;33m.\u001b[0m\u001b[0mrjust\u001b[0m\u001b[1;33m(\u001b[0m\u001b[0mtotals\u001b[0m\u001b[1;33m,\u001b[0m \u001b[1;36m4\u001b[0m\u001b[1;33m,\u001b[0m \u001b[1;34m\"0\"\u001b[0m\u001b[1;33m)\u001b[0m\u001b[1;33m\u001b[0m\u001b[1;33m\u001b[0m\u001b[0m\n\u001b[0m\u001b[0;32m      5\u001b[0m \u001b[1;33m\u001b[0m\u001b[0m\n\u001b[0;32m      6\u001b[0m \u001b[1;32mfor\u001b[0m \u001b[0mx\u001b[0m \u001b[1;32min\u001b[0m \u001b[0mtotals_rj\u001b[0m\u001b[1;33m:\u001b[0m\u001b[1;33m\u001b[0m\u001b[1;33m\u001b[0m\u001b[0m\n",
      "\u001b[1;32m<__array_function__ internals>\u001b[0m in \u001b[0;36mrjust\u001b[1;34m(*args, **kwargs)\u001b[0m\n",
      "\u001b[1;32m~\\.conda\\envs\\jpnb_py38\\lib\\site-packages\\numpy\\core\\defchararray.py\u001b[0m in \u001b[0;36mrjust\u001b[1;34m(a, width, fillchar)\u001b[0m\n\u001b[0;32m   1269\u001b[0m     \u001b[1;32mif\u001b[0m \u001b[0mnumpy\u001b[0m\u001b[1;33m.\u001b[0m\u001b[0missubdtype\u001b[0m\u001b[1;33m(\u001b[0m\u001b[0ma_arr\u001b[0m\u001b[1;33m.\u001b[0m\u001b[0mdtype\u001b[0m\u001b[1;33m,\u001b[0m \u001b[0mnumpy\u001b[0m\u001b[1;33m.\u001b[0m\u001b[0mstring_\u001b[0m\u001b[1;33m)\u001b[0m\u001b[1;33m:\u001b[0m\u001b[1;33m\u001b[0m\u001b[1;33m\u001b[0m\u001b[0m\n\u001b[0;32m   1270\u001b[0m         \u001b[0mfillchar\u001b[0m \u001b[1;33m=\u001b[0m \u001b[0masbytes\u001b[0m\u001b[1;33m(\u001b[0m\u001b[0mfillchar\u001b[0m\u001b[1;33m)\u001b[0m\u001b[1;33m\u001b[0m\u001b[1;33m\u001b[0m\u001b[0m\n\u001b[1;32m-> 1271\u001b[1;33m     return _vec_string(\n\u001b[0m\u001b[0;32m   1272\u001b[0m         a_arr, (a_arr.dtype.type, size), 'rjust', (width_arr, fillchar))\n\u001b[0;32m   1273\u001b[0m \u001b[1;33m\u001b[0m\u001b[0m\n",
      "\u001b[1;31mTypeError\u001b[0m: string operation on non-string array"
     ]
    }
   ],
   "source": [
    "# Example 3 - breaking (to illustrate when it breaks)\n",
    "totals = np.array([2, 34, 150, 999, 1000])\n",
    "\n",
    "totals_rj = np.char.rjust(totals, 4, \"0\")\n",
    "\n",
    "for x in totals_rj:\n",
    "    \n",
    "    print(x)"
   ]
  },
  {
   "cell_type": "markdown",
   "metadata": {},
   "source": [
    "This function only accepts array's elements of type string."
   ]
  },
  {
   "cell_type": "markdown",
   "metadata": {},
   "source": [
    "This function is useful to display numbers (as strings) in a conventional right-justified fashion."
   ]
  },
  {
   "cell_type": "code",
   "execution_count": 25,
   "metadata": {},
   "outputs": [
    {
     "data": {
      "application/javascript": [
       "window.require && require([\"base/js/namespace\"],function(Jupyter){Jupyter.notebook.save_checkpoint()})"
      ],
      "text/plain": [
       "<IPython.core.display.Javascript object>"
      ]
     },
     "metadata": {},
     "output_type": "display_data"
    },
    {
     "name": "stdout",
     "output_type": "stream",
     "text": [
      "[jovian] Attempting to save notebook..\u001b[0m\n",
      "[jovian] Updating notebook \"aakashns/numpy-array-operations\" on https://jovian.ml/\u001b[0m\n",
      "[jovian] Uploading notebook..\u001b[0m\n",
      "[jovian] Capturing environment..\u001b[0m\n",
      "[jovian] Committed successfully! https://jovian.ml/aakashns/numpy-array-operations\u001b[0m\n"
     ]
    },
    {
     "data": {
      "text/plain": [
       "'https://jovian.ml/aakashns/numpy-array-operations'"
      ]
     },
     "execution_count": 25,
     "metadata": {},
     "output_type": "execute_result"
    }
   ],
   "source": [
    "jovian.commit()"
   ]
  },
  {
   "cell_type": "markdown",
   "metadata": {},
   "source": [
    "## Function 4 - np.char.zfill(a, width)\n",
    "\n",
    "This function returns an array of elements of a left-filled with zeroes."
   ]
  },
  {
   "cell_type": "code",
   "execution_count": 70,
   "metadata": {
    "execution": {
     "iopub.execute_input": "2020-09-19T05:48:28.114277Z",
     "iopub.status.busy": "2020-09-19T05:48:28.113276Z",
     "iopub.status.idle": "2020-09-19T05:48:28.124277Z",
     "shell.execute_reply": "2020-09-19T05:48:28.122278Z",
     "shell.execute_reply.started": "2020-09-19T05:48:28.114277Z"
    }
   },
   "outputs": [
    {
     "name": "stdout",
     "output_type": "stream",
     "text": [
      "01\n",
      "02\n",
      "03\n",
      "04\n",
      "05\n",
      "06\n",
      "07\n",
      "08\n",
      "09\n",
      "10\n"
     ]
    }
   ],
   "source": [
    "# Example 1 - working\n",
    "numbers = np.array([\"1\", \"2\", \"3\", \"4\", \"5\",\n",
    "                    \"6\", \"7\", \"8\", \"9\", \"10\"])\n",
    "\n",
    "numbers_zf = np.char.zfill(numbers, 2)\n",
    "\n",
    "for x in numbers_zf:\n",
    "    \n",
    "    print(x)"
   ]
  },
  {
   "cell_type": "markdown",
   "metadata": {},
   "source": [
    "Similar to np.np.char.rjust(), but the fillchar is fixed to  \"0\"."
   ]
  },
  {
   "cell_type": "code",
   "execution_count": 5,
   "metadata": {
    "execution": {
     "iopub.execute_input": "2020-09-19T21:55:55.313742Z",
     "iopub.status.busy": "2020-09-19T21:55:55.312741Z",
     "iopub.status.idle": "2020-09-19T21:55:55.334744Z",
     "shell.execute_reply": "2020-09-19T21:55:55.332747Z",
     "shell.execute_reply.started": "2020-09-19T21:55:55.313742Z"
    }
   },
   "outputs": [
    {
     "name": "stdout",
     "output_type": "stream",
     "text": [
      "0001\n",
      "0002\n",
      "0003\n",
      "0004\n",
      "0005\n",
      "0006\n",
      "0007\n",
      "0008\n",
      "0009\n",
      "0010\n",
      "0045\n",
      "0077\n",
      "0500\n",
      "0999\n",
      "0099\n",
      "0012\n",
      "0015\n",
      "0080\n",
      "0090\n",
      "0100\n"
     ]
    }
   ],
   "source": [
    "# Example 2\n",
    "numbers = np.array([[\"1\", \"2\", \"3\", \"4\", \"5\",\"6\", \"7\", \"8\", \"9\", \"10\"],\n",
    "                    [\"45\", \"77\", \"500\", \"999\", \"99\", \"12\", \"15\", \"80\", \"90\", \"100\"]\n",
    "                   ]\n",
    "                  )\n",
    "\n",
    "numbers_zf = np.char.zfill(numbers, 4)\n",
    "\n",
    "for x in numbers_zf:\n",
    "    \n",
    "    for y in x:\n",
    "        \n",
    "        print(y)"
   ]
  },
  {
   "cell_type": "markdown",
   "metadata": {},
   "source": [
    "This function also works with multi-dimensional arrays."
   ]
  },
  {
   "cell_type": "code",
   "execution_count": 9,
   "metadata": {
    "execution": {
     "iopub.execute_input": "2020-09-19T21:59:27.359021Z",
     "iopub.status.busy": "2020-09-19T21:59:27.359021Z",
     "iopub.status.idle": "2020-09-19T21:59:27.382021Z",
     "shell.execute_reply": "2020-09-19T21:59:27.380018Z",
     "shell.execute_reply.started": "2020-09-19T21:59:27.359021Z"
    }
   },
   "outputs": [
    {
     "ename": "TypeError",
     "evalue": "_zfill_dispatcher() missing 1 required positional argument: 'width'",
     "output_type": "error",
     "traceback": [
      "\u001b[1;31m---------------------------------------------------------------------------\u001b[0m",
      "\u001b[1;31mTypeError\u001b[0m                                 Traceback (most recent call last)",
      "\u001b[1;32m<ipython-input-9-f7c44a101a27>\u001b[0m in \u001b[0;36m<module>\u001b[1;34m\u001b[0m\n\u001b[0;32m      5\u001b[0m                   )\n\u001b[0;32m      6\u001b[0m \u001b[1;33m\u001b[0m\u001b[0m\n\u001b[1;32m----> 7\u001b[1;33m \u001b[0mnumbers_zf\u001b[0m \u001b[1;33m=\u001b[0m \u001b[0mnp\u001b[0m\u001b[1;33m.\u001b[0m\u001b[0mchar\u001b[0m\u001b[1;33m.\u001b[0m\u001b[0mzfill\u001b[0m\u001b[1;33m(\u001b[0m\u001b[0mnumbers\u001b[0m\u001b[1;33m)\u001b[0m\u001b[1;33m\u001b[0m\u001b[1;33m\u001b[0m\u001b[0m\n\u001b[0m\u001b[0;32m      8\u001b[0m \u001b[1;33m\u001b[0m\u001b[0m\n\u001b[0;32m      9\u001b[0m \u001b[1;32mfor\u001b[0m \u001b[0mx\u001b[0m \u001b[1;32min\u001b[0m \u001b[0mnumbers_zf\u001b[0m\u001b[1;33m:\u001b[0m\u001b[1;33m\u001b[0m\u001b[1;33m\u001b[0m\u001b[0m\n",
      "\u001b[1;32m<__array_function__ internals>\u001b[0m in \u001b[0;36mzfill\u001b[1;34m(*args, **kwargs)\u001b[0m\n",
      "\u001b[1;31mTypeError\u001b[0m: _zfill_dispatcher() missing 1 required positional argument: 'width'"
     ]
    }
   ],
   "source": [
    "# Example 3 - breaking (to illustrate when it breaks)\n",
    "numbers = np.array([[\"4\", \"2\", \"3\", \"4\", \"5\",\"6\", \"7\", \"8\", \"9\", \"10\"],\n",
    "                    [\"45\", \"77\", \"500\", \"999\", \"99\", \"12\", \"15\", \"80\", \"90\", \"100\"]\n",
    "                   ]\n",
    "                  )\n",
    "\n",
    "numbers_zf = np.char.zfill(numbers)\n",
    "\n",
    "for x in numbers_zf:\n",
    "    \n",
    "    for y in x:\n",
    "        \n",
    "        print(y)"
   ]
  },
  {
   "cell_type": "markdown",
   "metadata": {},
   "source": [
    "The width argument is not optional."
   ]
  },
  {
   "cell_type": "markdown",
   "metadata": {},
   "source": [
    "This function becomes handy when you need to print a nicely aligned list of numbers."
   ]
  },
  {
   "cell_type": "code",
   "execution_count": 26,
   "metadata": {},
   "outputs": [
    {
     "data": {
      "application/javascript": [
       "window.require && require([\"base/js/namespace\"],function(Jupyter){Jupyter.notebook.save_checkpoint()})"
      ],
      "text/plain": [
       "<IPython.core.display.Javascript object>"
      ]
     },
     "metadata": {},
     "output_type": "display_data"
    },
    {
     "name": "stdout",
     "output_type": "stream",
     "text": [
      "[jovian] Attempting to save notebook..\u001b[0m\n",
      "[jovian] Updating notebook \"aakashns/numpy-array-operations\" on https://jovian.ml/\u001b[0m\n",
      "[jovian] Uploading notebook..\u001b[0m\n",
      "[jovian] Capturing environment..\u001b[0m\n",
      "[jovian] Committed successfully! https://jovian.ml/aakashns/numpy-array-operations\u001b[0m\n"
     ]
    },
    {
     "data": {
      "text/plain": [
       "'https://jovian.ml/aakashns/numpy-array-operations'"
      ]
     },
     "execution_count": 26,
     "metadata": {},
     "output_type": "execute_result"
    }
   ],
   "source": [
    "jovian.commit()"
   ]
  },
  {
   "cell_type": "markdown",
   "metadata": {},
   "source": [
    "## Function 5 - np.char.startswith(a, prefix, start, end)\n",
    "\n",
    "This function returns boolean array with True elements where the string elements in *a* starts with *prefix*. Optionally, you can define *start* and end *position* of *prefix*."
   ]
  },
  {
   "cell_type": "code",
   "execution_count": 18,
   "metadata": {
    "execution": {
     "iopub.execute_input": "2020-09-19T22:17:19.111769Z",
     "iopub.status.busy": "2020-09-19T22:17:19.111769Z",
     "iopub.status.idle": "2020-09-19T22:17:19.124770Z",
     "shell.execute_reply": "2020-09-19T22:17:19.122769Z",
     "shell.execute_reply.started": "2020-09-19T22:17:19.111769Z"
    }
   },
   "outputs": [
    {
     "name": "stdout",
     "output_type": "stream",
     "text": [
      "[ True  True  True]\n"
     ]
    }
   ],
   "source": [
    "# Example 1 - working\n",
    "urls = np.array([\"https://medium.com\", \"https://github.com\", \"https:office.com\"])\n",
    "\n",
    "https_urls = np.char.startswith(urls, \"https\")\n",
    "\n",
    "print(https_urls)"
   ]
  },
  {
   "cell_type": "markdown",
   "metadata": {},
   "source": [
    "Returns an array of booleans, which each element is True if the string element in urls begins with \"https\"."
   ]
  },
  {
   "cell_type": "code",
   "execution_count": 30,
   "metadata": {
    "execution": {
     "iopub.execute_input": "2020-09-19T22:30:08.569707Z",
     "iopub.status.busy": "2020-09-19T22:30:08.568706Z",
     "iopub.status.idle": "2020-09-19T22:30:08.581706Z",
     "shell.execute_reply": "2020-09-19T22:30:08.579704Z",
     "shell.execute_reply.started": "2020-09-19T22:30:08.569707Z"
    }
   },
   "outputs": [
    {
     "name": "stdout",
     "output_type": "stream",
     "text": [
      "[ True  True  True]\n"
     ]
    }
   ],
   "source": [
    "# Example 2 - working\n",
    "urls = np.array([\"https://medium.com\", \"https://github.com\", \"https:office.com\"])\n",
    "\n",
    "https_urls = np.char.startswith(urls, \".com\", -4)\n",
    "\n",
    "print(https_urls)"
   ]
  },
  {
   "cell_type": "markdown",
   "metadata": {},
   "source": [
    "Returns an array of booleans, which each element is True if the string element in urls ends with \".com\"."
   ]
  },
  {
   "cell_type": "code",
   "execution_count": 31,
   "metadata": {
    "execution": {
     "iopub.execute_input": "2020-09-19T22:33:28.077116Z",
     "iopub.status.busy": "2020-09-19T22:33:28.076117Z",
     "iopub.status.idle": "2020-09-19T22:33:28.120115Z",
     "shell.execute_reply": "2020-09-19T22:33:28.118110Z",
     "shell.execute_reply.started": "2020-09-19T22:33:28.077116Z"
    }
   },
   "outputs": [
    {
     "ename": "TypeError",
     "evalue": "startswith first arg must be str or a tuple of str, not numpy.int32",
     "output_type": "error",
     "traceback": [
      "\u001b[1;31m---------------------------------------------------------------------------\u001b[0m",
      "\u001b[1;31mTypeError\u001b[0m                                 Traceback (most recent call last)",
      "\u001b[1;32m<ipython-input-31-af10b8861371>\u001b[0m in \u001b[0;36m<module>\u001b[1;34m\u001b[0m\n\u001b[0;32m      2\u001b[0m \u001b[0murls\u001b[0m \u001b[1;33m=\u001b[0m \u001b[0mnp\u001b[0m\u001b[1;33m.\u001b[0m\u001b[0marray\u001b[0m\u001b[1;33m(\u001b[0m\u001b[1;33m[\u001b[0m\u001b[1;34m\"https://medium.com\"\u001b[0m\u001b[1;33m,\u001b[0m \u001b[1;34m\"https://github.com\"\u001b[0m\u001b[1;33m,\u001b[0m \u001b[1;34m\"https:office.com\"\u001b[0m\u001b[1;33m]\u001b[0m\u001b[1;33m)\u001b[0m\u001b[1;33m\u001b[0m\u001b[1;33m\u001b[0m\u001b[0m\n\u001b[0;32m      3\u001b[0m \u001b[1;33m\u001b[0m\u001b[0m\n\u001b[1;32m----> 4\u001b[1;33m \u001b[0mhttps_urls\u001b[0m \u001b[1;33m=\u001b[0m \u001b[0mnp\u001b[0m\u001b[1;33m.\u001b[0m\u001b[0mchar\u001b[0m\u001b[1;33m.\u001b[0m\u001b[0mstartswith\u001b[0m\u001b[1;33m(\u001b[0m\u001b[0murls\u001b[0m\u001b[1;33m,\u001b[0m \u001b[1;36m4\u001b[0m\u001b[1;33m)\u001b[0m\u001b[1;33m\u001b[0m\u001b[1;33m\u001b[0m\u001b[0m\n\u001b[0m\u001b[0;32m      5\u001b[0m \u001b[1;33m\u001b[0m\u001b[0m\n\u001b[0;32m      6\u001b[0m \u001b[0mprint\u001b[0m\u001b[1;33m(\u001b[0m\u001b[0mhttps_urls\u001b[0m\u001b[1;33m)\u001b[0m\u001b[1;33m\u001b[0m\u001b[1;33m\u001b[0m\u001b[0m\n",
      "\u001b[1;32m<__array_function__ internals>\u001b[0m in \u001b[0;36mstartswith\u001b[1;34m(*args, **kwargs)\u001b[0m\n",
      "\u001b[1;32m~\\.conda\\envs\\jpnb_py38\\lib\\site-packages\\numpy\\core\\defchararray.py\u001b[0m in \u001b[0;36mstartswith\u001b[1;34m(a, prefix, start, end)\u001b[0m\n\u001b[0;32m   1501\u001b[0m \u001b[1;33m\u001b[0m\u001b[0m\n\u001b[0;32m   1502\u001b[0m     \"\"\"\n\u001b[1;32m-> 1503\u001b[1;33m     return _vec_string(\n\u001b[0m\u001b[0;32m   1504\u001b[0m         a, bool_, 'startswith', [prefix, start] + _clean_args(end))\n\u001b[0;32m   1505\u001b[0m \u001b[1;33m\u001b[0m\u001b[0m\n",
      "\u001b[1;31mTypeError\u001b[0m: startswith first arg must be str or a tuple of str, not numpy.int32"
     ]
    }
   ],
   "source": [
    "# Example 3\n",
    "urls = np.array([\"https://medium.com\", \"https://github.com\", \"https:office.com\"])\n",
    "\n",
    "https_urls = np.char.startswith(urls, 4)\n",
    "\n",
    "print(https_urls)"
   ]
  },
  {
   "cell_type": "markdown",
   "metadata": {},
   "source": [
    "Prefix must be of type string."
   ]
  },
  {
   "cell_type": "markdown",
   "metadata": {},
   "source": [
    "This function is useful to search for a specific prefix in a string array."
   ]
  },
  {
   "cell_type": "code",
   "execution_count": 27,
   "metadata": {},
   "outputs": [
    {
     "data": {
      "application/javascript": [
       "window.require && require([\"base/js/namespace\"],function(Jupyter){Jupyter.notebook.save_checkpoint()})"
      ],
      "text/plain": [
       "<IPython.core.display.Javascript object>"
      ]
     },
     "metadata": {},
     "output_type": "display_data"
    },
    {
     "name": "stdout",
     "output_type": "stream",
     "text": [
      "[jovian] Attempting to save notebook..\u001b[0m\n",
      "[jovian] Updating notebook \"aakashns/numpy-array-operations\" on https://jovian.ml/\u001b[0m\n",
      "[jovian] Uploading notebook..\u001b[0m\n",
      "[jovian] Capturing environment..\u001b[0m\n",
      "[jovian] Committed successfully! https://jovian.ml/aakashns/numpy-array-operations\u001b[0m\n"
     ]
    },
    {
     "data": {
      "text/plain": [
       "'https://jovian.ml/aakashns/numpy-array-operations'"
      ]
     },
     "execution_count": 27,
     "metadata": {},
     "output_type": "execute_result"
    }
   ],
   "source": [
    "jovian.commit()"
   ]
  },
  {
   "cell_type": "markdown",
   "metadata": {},
   "source": [
    "## Conclusion\n",
    "\n",
    "In this notebook we review some useful functions to process strings within a numpy array. There are many additional functions to work with string arrays, so I encourage you to look into the reference links."
   ]
  },
  {
   "cell_type": "markdown",
   "metadata": {},
   "source": [
    "## Reference Links\n",
    "\n",
    "* Numpy official documentation: https://numpy.org/doc/stable/reference/routines.char.html\n",
    "* Numpy string functions with examples: https://www.tutorialspoint.com/numpy/numpy_string_functions.htm"
   ]
  },
  {
   "cell_type": "code",
   "execution_count": 30,
   "metadata": {},
   "outputs": [
    {
     "data": {
      "application/javascript": [
       "window.require && require([\"base/js/namespace\"],function(Jupyter){Jupyter.notebook.save_checkpoint()})"
      ],
      "text/plain": [
       "<IPython.core.display.Javascript object>"
      ]
     },
     "metadata": {},
     "output_type": "display_data"
    },
    {
     "name": "stdout",
     "output_type": "stream",
     "text": [
      "[jovian] Attempting to save notebook..\u001b[0m\n",
      "[jovian] Updating notebook \"aakashns/numpy-array-operations\" on https://jovian.ml/\u001b[0m\n",
      "[jovian] Uploading notebook..\u001b[0m\n",
      "[jovian] Capturing environment..\u001b[0m\n",
      "[jovian] Committed successfully! https://jovian.ml/aakashns/numpy-array-operations\u001b[0m\n"
     ]
    },
    {
     "data": {
      "text/plain": [
       "'https://jovian.ml/aakashns/numpy-array-operations'"
      ]
     },
     "execution_count": 30,
     "metadata": {},
     "output_type": "execute_result"
    }
   ],
   "source": [
    "jovian.commit()"
   ]
  },
  {
   "cell_type": "code",
   "execution_count": null,
   "metadata": {},
   "outputs": [],
   "source": []
  }
 ],
 "metadata": {
  "kernelspec": {
   "display_name": "Python 3",
   "language": "python",
   "name": "python3"
  },
  "language_info": {
   "codemirror_mode": {
    "name": "ipython",
    "version": 3
   },
   "file_extension": ".py",
   "mimetype": "text/x-python",
   "name": "python",
   "nbconvert_exporter": "python",
   "pygments_lexer": "ipython3",
   "version": "3.8.5"
  }
 },
 "nbformat": 4,
 "nbformat_minor": 4
}
