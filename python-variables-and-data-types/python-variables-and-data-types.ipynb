{
 "cells": [
  {
   "cell_type": "markdown",
   "metadata": {},
   "source": [
    "# A Quick Tour of Variables and Data Types in Python\n",
    "\n",
    "### Part 2 of \"A Gentle Introduction to Programming with Python\"\n",
    "\n",
    "This tutorial is the second in a series on introduction to programming using the Python language. These tutorials take a practical coding-based approach, and the best way to learn the material is to execute the code and experiment with the examples. Check out the full series here: \n",
    "\n",
    "1. [First Steps with Python and Jupyter](https://jovian.ml/aakashns/first-steps-with-python)\n",
    "2. [A Quick Tour of Variables and Data Types](https://jovian.ml/aakashns/python-variables-and-data-types)\n",
    "3. [Branching using Conditional Statements and Loops](https://jovian.ml/aakashns/python-branching-and-loops)\n",
    "4. [Writing Reusable Code Using Functions](https://jovian.ml/aakashns/python-functions-and-scope)\n",
    "5. [Reading from and Writing to Files](https://jovian.ml/aakashns/python-os-and-filesystem)\n",
    "6. [Object Oriented Programming with Classes](https://jovian.ml/aakashns/python-object-oriented-programming)\n",
    "\n"
   ]
  },
  {
   "cell_type": "markdown",
   "metadata": {},
   "source": [
    "## How to run the code\n",
    "\n",
    "This tutorial hosted on [Jovian.ml](https://www.jovian.ml), a platform for sharing data science projects online. You can \"run\" this tutorial and experiment with the code examples in a couple of ways: *using free online resources* (recommended) or *on your own computer*.\n",
    "\n",
    ">  This tutorial is a [Jupyter notebook](https://jupyter.org) - a document made of \"cells\", which can contain explanations in text or code written in Python. Code cells can be executed and their outputs e.g. numbers, messages, graphs, tables, files etc. can be viewed within the notebook, which makes it a really powerful platform for experimentation and analysis. Don't afraid to experiment with the code & break things - you'll learn a lot by encoutering and fixing errors. You can use the \"Kernel > Restart & Clear Output\" menu option to clear all outputs and start again from the top of the notebook.\n",
    "\n",
    "### Option 1: Running using free online resources (1-click, recommended)\n",
    "\n",
    "The easiest way to start executing this notebook is to click the \"Run\" button at the top of this page, and select \"Run on Binder\". This will run the notebook on [mybinder.org](https://mybinder.org), a free online service for running Jupyter notebooks. You can also select \"Run on Colab\" or \"Run on Kaggle\", but you'll need to create an account on [Google Colab](https://colab.research.google.com) or [Kaggle](https://kaggle.com) to use these platforms.\n",
    "\n",
    "\n",
    "### Option 2: Running on your computer locally\n",
    "\n",
    "You'll need to install Python and download this notebook on your computer to run in locally. We recommend using the [Conda](https://docs.conda.io/en/latest/) distribution of Python. Here's what you need to do to get started:\n",
    "\n",
    "1. Install Conda by [following these instructions](https://conda.io/projects/conda/en/latest/user-guide/install/index.html). Make sure to add Conda binaries to your system `PATH` to be able to run the `conda` command line tool from your Mac/Linux terminal or Windows command prompt. \n",
    "\n",
    "\n",
    "2. Create and activate a [Conda virtual environment](https://docs.conda.io/projects/conda/en/latest/user-guide/tasks/manage-environments.html) called `zerotopandas` which you can use for this tutorial series:\n",
    "```\n",
    "conda create -n intro-to-python -y python=3.8 \n",
    "conda activate intro-to-python\n",
    "```\n",
    "You'll need to create the environment only once, but you'll have to activate it every time want to run the notebook. When the environment is activated, you should be able to see a prefix `(intro-to-python)` within your terminal or command prompt.\n",
    "\n",
    "\n",
    "3. Install the required Python libraries within the environmebt by the running the following command on your  terminal or command prompt:\n",
    "```\n",
    "pip install jovian jupyter numpy pandas matplotlib seaborn --upgrade\n",
    "```\n",
    "\n",
    "4. Download the notebook for this tutorial using the `jovian clone` command:\n",
    "```\n",
    "jovian clone aakashns/python-variables-and-data-types\n",
    "```\n",
    "The notebook is downloaded to the directory `python-variables-and-data-types`.\n",
    "\n",
    "\n",
    "5. Enter the project directory and start the Jupyter notebook:\n",
    "```\n",
    "cd python-variables-and-data-types\n",
    "jupyter notebook\n",
    "```\n",
    "\n",
    "6. You can now access Jupyter's web interface by clicking the link that shows up on the terminal or by visiting http://localhost:8888 on your browser. Click on the notebook `python-variables-and-data-types.ipynb` to open it and run the code. If you want to type out the code yourself, you can also create a new notebook using the \"New\" button.\n",
    "\n",
    "\n"
   ]
  },
  {
   "cell_type": "code",
   "execution_count": 34,
   "metadata": {
    "execution": {
     "iopub.execute_input": "2020-08-30T17:34:44.707392Z",
     "iopub.status.busy": "2020-08-30T17:34:44.706391Z",
     "iopub.status.idle": "2020-08-30T17:34:44.720391Z",
     "shell.execute_reply": "2020-08-30T17:34:44.719391Z",
     "shell.execute_reply.started": "2020-08-30T17:34:44.707392Z"
    }
   },
   "outputs": [],
   "source": [
    "# If false, skips statements that commit this notebook to Jovian.\n",
    "\n",
    "skip_commit = True"
   ]
  },
  {
   "cell_type": "markdown",
   "metadata": {},
   "source": [
    "## Storing information using variables\n",
    "\n",
    "Computers are useful for two purposes: storing information and performing operations on stored information. While working with a programming language such as Python, informations is stored in *variables*. You can think of variables are containers for storing data. The data stored within a variable is called it's *value*. It's really easy to create variables in Python, as we've already seen in the [previous tutorial](https://jovian.ml/aakashns/first-steps-with-python/v/4#C15).\n",
    "\n"
   ]
  },
  {
   "cell_type": "code",
   "execution_count": 2,
   "metadata": {
    "execution": {
     "iopub.execute_input": "2020-08-30T17:26:09.857576Z",
     "iopub.status.busy": "2020-08-30T17:26:09.857576Z",
     "iopub.status.idle": "2020-08-30T17:26:09.871576Z",
     "shell.execute_reply": "2020-08-30T17:26:09.868579Z",
     "shell.execute_reply.started": "2020-08-30T17:26:09.857576Z"
    }
   },
   "outputs": [],
   "source": [
    "my_favorite_color = \"blue\""
   ]
  },
  {
   "cell_type": "code",
   "execution_count": 3,
   "metadata": {
    "execution": {
     "iopub.execute_input": "2020-08-30T17:26:09.874577Z",
     "iopub.status.busy": "2020-08-30T17:26:09.874577Z",
     "iopub.status.idle": "2020-08-30T17:26:09.901576Z",
     "shell.execute_reply": "2020-08-30T17:26:09.900575Z",
     "shell.execute_reply.started": "2020-08-30T17:26:09.874577Z"
    }
   },
   "outputs": [
    {
     "data": {
      "text/plain": [
       "'blue'"
      ]
     },
     "execution_count": 3,
     "metadata": {},
     "output_type": "execute_result"
    }
   ],
   "source": [
    "my_favorite_color"
   ]
  },
  {
   "cell_type": "markdown",
   "metadata": {},
   "source": [
    "A variable is created using an *assignment statement*, which begins with the variable's name, followed by the assignment operator `=` (different from the equality comparision operator `==`), followed by the value to be stored within the variable. \n",
    "\n",
    "You can also values to multiple variables in a single statement by separating the variable names and values with commas."
   ]
  },
  {
   "cell_type": "code",
   "execution_count": 4,
   "metadata": {
    "execution": {
     "iopub.execute_input": "2020-08-30T17:26:09.903578Z",
     "iopub.status.busy": "2020-08-30T17:26:09.903578Z",
     "iopub.status.idle": "2020-08-30T17:26:09.917576Z",
     "shell.execute_reply": "2020-08-30T17:26:09.916575Z",
     "shell.execute_reply.started": "2020-08-30T17:26:09.903578Z"
    }
   },
   "outputs": [],
   "source": [
    "color1, color2, color3 = \"red\", \"green\", \"blue\""
   ]
  },
  {
   "cell_type": "code",
   "execution_count": 5,
   "metadata": {
    "execution": {
     "iopub.execute_input": "2020-08-30T17:26:09.919576Z",
     "iopub.status.busy": "2020-08-30T17:26:09.919576Z",
     "iopub.status.idle": "2020-08-30T17:26:09.933579Z",
     "shell.execute_reply": "2020-08-30T17:26:09.932576Z",
     "shell.execute_reply.started": "2020-08-30T17:26:09.919576Z"
    }
   },
   "outputs": [
    {
     "data": {
      "text/plain": [
       "'red'"
      ]
     },
     "execution_count": 5,
     "metadata": {},
     "output_type": "execute_result"
    }
   ],
   "source": [
    "color1"
   ]
  },
  {
   "cell_type": "code",
   "execution_count": 6,
   "metadata": {
    "execution": {
     "iopub.execute_input": "2020-08-30T17:26:09.935576Z",
     "iopub.status.busy": "2020-08-30T17:26:09.934575Z",
     "iopub.status.idle": "2020-08-30T17:26:09.949576Z",
     "shell.execute_reply": "2020-08-30T17:26:09.948573Z",
     "shell.execute_reply.started": "2020-08-30T17:26:09.935576Z"
    }
   },
   "outputs": [
    {
     "data": {
      "text/plain": [
       "'green'"
      ]
     },
     "execution_count": 6,
     "metadata": {},
     "output_type": "execute_result"
    }
   ],
   "source": [
    "color2"
   ]
  },
  {
   "cell_type": "code",
   "execution_count": 7,
   "metadata": {
    "execution": {
     "iopub.execute_input": "2020-08-30T17:26:09.951575Z",
     "iopub.status.busy": "2020-08-30T17:26:09.951575Z",
     "iopub.status.idle": "2020-08-30T17:26:09.965575Z",
     "shell.execute_reply": "2020-08-30T17:26:09.964575Z",
     "shell.execute_reply.started": "2020-08-30T17:26:09.951575Z"
    }
   },
   "outputs": [
    {
     "data": {
      "text/plain": [
       "'blue'"
      ]
     },
     "execution_count": 7,
     "metadata": {},
     "output_type": "execute_result"
    }
   ],
   "source": [
    "color3"
   ]
  },
  {
   "cell_type": "markdown",
   "metadata": {},
   "source": [
    "You can assign the same value to multiple variables by chaining multiple assignment operations within a single statement."
   ]
  },
  {
   "cell_type": "code",
   "execution_count": 8,
   "metadata": {
    "execution": {
     "iopub.execute_input": "2020-08-30T17:26:09.967576Z",
     "iopub.status.busy": "2020-08-30T17:26:09.967576Z",
     "iopub.status.idle": "2020-08-30T17:26:09.981576Z",
     "shell.execute_reply": "2020-08-30T17:26:09.980574Z",
     "shell.execute_reply.started": "2020-08-30T17:26:09.967576Z"
    }
   },
   "outputs": [],
   "source": [
    "color4 = color5 = color6 = \"magenta\""
   ]
  },
  {
   "cell_type": "code",
   "execution_count": 9,
   "metadata": {
    "execution": {
     "iopub.execute_input": "2020-08-30T17:26:09.985576Z",
     "iopub.status.busy": "2020-08-30T17:26:09.984575Z",
     "iopub.status.idle": "2020-08-30T17:26:09.997577Z",
     "shell.execute_reply": "2020-08-30T17:26:09.996576Z",
     "shell.execute_reply.started": "2020-08-30T17:26:09.985576Z"
    }
   },
   "outputs": [
    {
     "data": {
      "text/plain": [
       "'magenta'"
      ]
     },
     "execution_count": 9,
     "metadata": {},
     "output_type": "execute_result"
    }
   ],
   "source": [
    "color4"
   ]
  },
  {
   "cell_type": "code",
   "execution_count": 10,
   "metadata": {
    "execution": {
     "iopub.execute_input": "2020-08-30T17:26:10.000576Z",
     "iopub.status.busy": "2020-08-30T17:26:10.000576Z",
     "iopub.status.idle": "2020-08-30T17:26:10.012577Z",
     "shell.execute_reply": "2020-08-30T17:26:10.011576Z",
     "shell.execute_reply.started": "2020-08-30T17:26:10.000576Z"
    }
   },
   "outputs": [
    {
     "data": {
      "text/plain": [
       "'magenta'"
      ]
     },
     "execution_count": 10,
     "metadata": {},
     "output_type": "execute_result"
    }
   ],
   "source": [
    "color5"
   ]
  },
  {
   "cell_type": "code",
   "execution_count": 11,
   "metadata": {
    "execution": {
     "iopub.execute_input": "2020-08-30T17:26:10.014576Z",
     "iopub.status.busy": "2020-08-30T17:26:10.014576Z",
     "iopub.status.idle": "2020-08-30T17:26:10.028575Z",
     "shell.execute_reply": "2020-08-30T17:26:10.027574Z",
     "shell.execute_reply.started": "2020-08-30T17:26:10.014576Z"
    }
   },
   "outputs": [
    {
     "data": {
      "text/plain": [
       "'magenta'"
      ]
     },
     "execution_count": 11,
     "metadata": {},
     "output_type": "execute_result"
    }
   ],
   "source": [
    "color6"
   ]
  },
  {
   "cell_type": "markdown",
   "metadata": {},
   "source": [
    "You can change the value stored within a variable simply by assigning a new value to it using another assignment statement. Be careful while reassgining variables: when you assign a new value to the variable, the old value is lost and no longer accessible."
   ]
  },
  {
   "cell_type": "code",
   "execution_count": 12,
   "metadata": {
    "execution": {
     "iopub.execute_input": "2020-08-30T17:26:10.030575Z",
     "iopub.status.busy": "2020-08-30T17:26:10.029574Z",
     "iopub.status.idle": "2020-08-30T17:26:10.045576Z",
     "shell.execute_reply": "2020-08-30T17:26:10.043574Z",
     "shell.execute_reply.started": "2020-08-30T17:26:10.030575Z"
    }
   },
   "outputs": [],
   "source": [
    "my_favorite_color = \"red\""
   ]
  },
  {
   "cell_type": "code",
   "execution_count": 13,
   "metadata": {
    "execution": {
     "iopub.execute_input": "2020-08-30T17:26:10.046576Z",
     "iopub.status.busy": "2020-08-30T17:26:10.046576Z",
     "iopub.status.idle": "2020-08-30T17:26:10.060576Z",
     "shell.execute_reply": "2020-08-30T17:26:10.059573Z",
     "shell.execute_reply.started": "2020-08-30T17:26:10.046576Z"
    }
   },
   "outputs": [
    {
     "data": {
      "text/plain": [
       "'red'"
      ]
     },
     "execution_count": 13,
     "metadata": {},
     "output_type": "execute_result"
    }
   ],
   "source": [
    "my_favorite_color"
   ]
  },
  {
   "cell_type": "markdown",
   "metadata": {},
   "source": [
    "While assigning a new value to a variable, you can also use the previous value of the variable to determine the new value."
   ]
  },
  {
   "cell_type": "code",
   "execution_count": 14,
   "metadata": {
    "execution": {
     "iopub.execute_input": "2020-08-30T17:26:10.062575Z",
     "iopub.status.busy": "2020-08-30T17:26:10.062575Z",
     "iopub.status.idle": "2020-08-30T17:26:10.075577Z",
     "shell.execute_reply": "2020-08-30T17:26:10.074574Z",
     "shell.execute_reply.started": "2020-08-30T17:26:10.062575Z"
    }
   },
   "outputs": [],
   "source": [
    "counter = 10"
   ]
  },
  {
   "cell_type": "code",
   "execution_count": 15,
   "metadata": {
    "execution": {
     "iopub.execute_input": "2020-08-30T17:26:10.077577Z",
     "iopub.status.busy": "2020-08-30T17:26:10.077577Z",
     "iopub.status.idle": "2020-08-30T17:26:10.081578Z",
     "shell.execute_reply": "2020-08-30T17:26:10.080577Z",
     "shell.execute_reply.started": "2020-08-30T17:26:10.077577Z"
    }
   },
   "outputs": [],
   "source": [
    "counter = counter + 1"
   ]
  },
  {
   "cell_type": "code",
   "execution_count": 16,
   "metadata": {
    "execution": {
     "iopub.execute_input": "2020-08-30T17:26:10.083575Z",
     "iopub.status.busy": "2020-08-30T17:26:10.082576Z",
     "iopub.status.idle": "2020-08-30T17:26:10.107576Z",
     "shell.execute_reply": "2020-08-30T17:26:10.106574Z",
     "shell.execute_reply.started": "2020-08-30T17:26:10.083575Z"
    }
   },
   "outputs": [
    {
     "data": {
      "text/plain": [
       "11"
      ]
     },
     "execution_count": 16,
     "metadata": {},
     "output_type": "execute_result"
    }
   ],
   "source": [
    "counter"
   ]
  },
  {
   "cell_type": "markdown",
   "metadata": {},
   "source": [
    "The pattern `var = var op something` (where `op` is an arithmetic operator like `+`, `-`, `*`, `/`) is very commonly used, so Python provides a *shorthand* syntax for it."
   ]
  },
  {
   "cell_type": "code",
   "execution_count": 17,
   "metadata": {
    "execution": {
     "iopub.execute_input": "2020-08-30T17:26:10.109577Z",
     "iopub.status.busy": "2020-08-30T17:26:10.109577Z",
     "iopub.status.idle": "2020-08-30T17:26:10.122580Z",
     "shell.execute_reply": "2020-08-30T17:26:10.121779Z",
     "shell.execute_reply.started": "2020-08-30T17:26:10.109577Z"
    }
   },
   "outputs": [],
   "source": [
    "counter = 10"
   ]
  },
  {
   "cell_type": "code",
   "execution_count": 18,
   "metadata": {
    "execution": {
     "iopub.execute_input": "2020-08-30T17:26:10.124579Z",
     "iopub.status.busy": "2020-08-30T17:26:10.124579Z",
     "iopub.status.idle": "2020-08-30T17:26:10.139578Z",
     "shell.execute_reply": "2020-08-30T17:26:10.137578Z",
     "shell.execute_reply.started": "2020-08-30T17:26:10.124579Z"
    }
   },
   "outputs": [],
   "source": [
    "# Same as `counter = counter + 4`\n",
    "counter += 4"
   ]
  },
  {
   "cell_type": "code",
   "execution_count": 19,
   "metadata": {
    "execution": {
     "iopub.execute_input": "2020-08-30T17:26:10.141575Z",
     "iopub.status.busy": "2020-08-30T17:26:10.140577Z",
     "iopub.status.idle": "2020-08-30T17:26:10.155579Z",
     "shell.execute_reply": "2020-08-30T17:26:10.153575Z",
     "shell.execute_reply.started": "2020-08-30T17:26:10.141575Z"
    }
   },
   "outputs": [
    {
     "data": {
      "text/plain": [
       "14"
      ]
     },
     "execution_count": 19,
     "metadata": {},
     "output_type": "execute_result"
    }
   ],
   "source": [
    "counter"
   ]
  },
  {
   "cell_type": "markdown",
   "metadata": {},
   "source": [
    "Variable names can be short (`a`, `x`, `y` etc.) or descriptive ( `my_favorite_color`, `profit_margin`, `the_3_musketeers` etc.). Howerver, you must follow these rules while naming Python variables:\n",
    "\n",
    "* A variable's name must start with a letter or the underscore character `_`. It cannot start with a number.\n",
    "* A variable name can only contain lowercase or uppercase letters, digits or underscores (`a`-`z`, `A`-`Z`, `0`-`9` and `_`).\n",
    "* Variable names are case-sensitive i.e. a_variable, A_Variable and A_VARIABLE are all different variables.\n",
    "\n",
    "Here are some valid variable names:"
   ]
  },
  {
   "cell_type": "code",
   "execution_count": 20,
   "metadata": {
    "execution": {
     "iopub.execute_input": "2020-08-30T17:26:10.156575Z",
     "iopub.status.busy": "2020-08-30T17:26:10.156575Z",
     "iopub.status.idle": "2020-08-30T17:26:10.171581Z",
     "shell.execute_reply": "2020-08-30T17:26:10.169576Z",
     "shell.execute_reply.started": "2020-08-30T17:26:10.156575Z"
    }
   },
   "outputs": [],
   "source": [
    "a_variable = 23\n",
    "is_today_Saturday = False\n",
    "my_favorite_car = \"Delorean\"\n",
    "the_3_musketeers = [\"Athos\", \"Porthos\", \"Aramis\"] "
   ]
  },
  {
   "cell_type": "markdown",
   "metadata": {},
   "source": [
    "Let's also try creating some variables with invalid names. Python prints a syntax error if your variable's name is invalid.\n",
    "\n",
    "> **Syntax**: The syntax of a programming language refers to the rules which govern what a valid instruction or *statement* in the language should look like. If a statement does not follow these rules, Python stops execution and informs you that there is a *syntax error*. You can think of syntax as the rules of grammar for a programming language."
   ]
  },
  {
   "cell_type": "code",
   "execution_count": 28,
   "metadata": {
    "execution": {
     "iopub.execute_input": "2020-08-30T17:33:05.414527Z",
     "iopub.status.busy": "2020-08-30T17:33:05.413526Z",
     "iopub.status.idle": "2020-08-30T17:33:05.423527Z",
     "shell.execute_reply": "2020-08-30T17:33:05.421529Z",
     "shell.execute_reply.started": "2020-08-30T17:33:05.414527Z"
    }
   },
   "outputs": [
    {
     "ename": "SyntaxError",
     "evalue": "invalid syntax (<ipython-input-28-b4f9daa715a5>, line 1)",
     "output_type": "error",
     "traceback": [
      "\u001b[1;36m  File \u001b[1;32m\"<ipython-input-28-b4f9daa715a5>\"\u001b[1;36m, line \u001b[1;32m1\u001b[0m\n\u001b[1;33m    a variable = 23\u001b[0m\n\u001b[1;37m      ^\u001b[0m\n\u001b[1;31mSyntaxError\u001b[0m\u001b[1;31m:\u001b[0m invalid syntax\n"
     ]
    }
   ],
   "source": [
    "a variable = 23"
   ]
  },
  {
   "cell_type": "code",
   "execution_count": 30,
   "metadata": {
    "execution": {
     "iopub.execute_input": "2020-08-30T17:33:21.359240Z",
     "iopub.status.busy": "2020-08-30T17:33:21.358249Z",
     "iopub.status.idle": "2020-08-30T17:33:21.379241Z",
     "shell.execute_reply": "2020-08-30T17:33:21.377240Z",
     "shell.execute_reply.started": "2020-08-30T17:33:21.359240Z"
    }
   },
   "outputs": [
    {
     "ename": "SyntaxError",
     "evalue": "invalid syntax (<ipython-input-30-3785425ca227>, line 1)",
     "output_type": "error",
     "traceback": [
      "\u001b[1;36m  File \u001b[1;32m\"<ipython-input-30-3785425ca227>\"\u001b[1;36m, line \u001b[1;32m1\u001b[0m\n\u001b[1;33m    is_today_$aturday = False\u001b[0m\n\u001b[1;37m             ^\u001b[0m\n\u001b[1;31mSyntaxError\u001b[0m\u001b[1;31m:\u001b[0m invalid syntax\n"
     ]
    }
   ],
   "source": [
    "is_today_$aturday = False"
   ]
  },
  {
   "cell_type": "code",
   "execution_count": 32,
   "metadata": {
    "execution": {
     "iopub.execute_input": "2020-08-30T17:33:33.168593Z",
     "iopub.status.busy": "2020-08-30T17:33:33.167590Z",
     "iopub.status.idle": "2020-08-30T17:33:33.183590Z",
     "shell.execute_reply": "2020-08-30T17:33:33.181592Z",
     "shell.execute_reply.started": "2020-08-30T17:33:33.168593Z"
    }
   },
   "outputs": [
    {
     "ename": "SyntaxError",
     "evalue": "cannot assign to operator (<ipython-input-32-829f5ed5b10b>, line 1)",
     "output_type": "error",
     "traceback": [
      "\u001b[1;36m  File \u001b[1;32m\"<ipython-input-32-829f5ed5b10b>\"\u001b[1;36m, line \u001b[1;32m1\u001b[0m\n\u001b[1;33m    my-favorite-car = \"Delorean\"\u001b[0m\n\u001b[1;37m    ^\u001b[0m\n\u001b[1;31mSyntaxError\u001b[0m\u001b[1;31m:\u001b[0m cannot assign to operator\n"
     ]
    }
   ],
   "source": [
    "my-favorite-car = \"Delorean\""
   ]
  },
  {
   "cell_type": "code",
   "execution_count": 33,
   "metadata": {
    "execution": {
     "iopub.execute_input": "2020-08-30T17:33:50.521953Z",
     "iopub.status.busy": "2020-08-30T17:33:50.520954Z",
     "iopub.status.idle": "2020-08-30T17:33:50.542483Z",
     "shell.execute_reply": "2020-08-30T17:33:50.539480Z",
     "shell.execute_reply.started": "2020-08-30T17:33:50.521953Z"
    }
   },
   "outputs": [
    {
     "ename": "SyntaxError",
     "evalue": "invalid decimal literal (<ipython-input-33-41d8638a15bb>, line 1)",
     "output_type": "error",
     "traceback": [
      "\u001b[1;36m  File \u001b[1;32m\"<ipython-input-33-41d8638a15bb>\"\u001b[1;36m, line \u001b[1;32m1\u001b[0m\n\u001b[1;33m    3_musketeers = [\"Athos\", \"Porthos\", \"Aramis\"]\u001b[0m\n\u001b[1;37m     ^\u001b[0m\n\u001b[1;31mSyntaxError\u001b[0m\u001b[1;31m:\u001b[0m invalid decimal literal\n"
     ]
    }
   ],
   "source": [
    "3_musketeers = [\"Athos\", \"Porthos\", \"Aramis\"]"
   ]
  },
  {
   "cell_type": "markdown",
   "metadata": {},
   "source": [
    "### Save and upload your notebook\n",
    "\n",
    "Whether you're running this Jupyter notebook on an online service like Binder or on your local machine, it's important to save your work from time, so that you can access it later, or share it online. You can upload this notebook to your [Jovian.ml](https://jovian.ml) account using the `jovian` Python library."
   ]
  },
  {
   "cell_type": "code",
   "execution_count": 35,
   "metadata": {
    "execution": {
     "iopub.execute_input": "2020-08-30T17:34:52.721203Z",
     "iopub.status.busy": "2020-08-30T17:34:52.721203Z",
     "iopub.status.idle": "2020-08-30T17:34:52.743205Z",
     "shell.execute_reply": "2020-08-30T17:34:52.741204Z",
     "shell.execute_reply.started": "2020-08-30T17:34:52.721203Z"
    }
   },
   "outputs": [],
   "source": [
    "if not skip_commit:\n",
    "    \n",
    "    # Install the jovian library\n",
    "    !pip install jovian --upgrade --quiet"
   ]
  },
  {
   "cell_type": "code",
   "execution_count": 36,
   "metadata": {
    "execution": {
     "iopub.execute_input": "2020-08-30T17:34:54.392747Z",
     "iopub.status.busy": "2020-08-30T17:34:54.391743Z",
     "iopub.status.idle": "2020-08-30T17:34:54.402746Z",
     "shell.execute_reply": "2020-08-30T17:34:54.400747Z",
     "shell.execute_reply.started": "2020-08-30T17:34:54.392747Z"
    }
   },
   "outputs": [],
   "source": [
    "if not skip_commit:\n",
    "    \n",
    "    import jovian"
   ]
  },
  {
   "cell_type": "code",
   "execution_count": 37,
   "metadata": {
    "execution": {
     "iopub.execute_input": "2020-08-30T17:34:57.523306Z",
     "iopub.status.busy": "2020-08-30T17:34:57.522306Z",
     "iopub.status.idle": "2020-08-30T17:34:57.531309Z",
     "shell.execute_reply": "2020-08-30T17:34:57.529312Z",
     "shell.execute_reply.started": "2020-08-30T17:34:57.523306Z"
    }
   },
   "outputs": [],
   "source": [
    "if not skip_commit:\n",
    "    \n",
    "    jovian.commit(project='python-variables-and-data-types')"
   ]
  },
  {
   "cell_type": "markdown",
   "metadata": {},
   "source": [
    "The first time you run `jovian.commit`, you'll be asked to provide an API Key, to securely upload the notebook to your Jovian.ml account. You can get the API key from your Jovian.ml profile page after logging in / signing up.\n",
    "\n",
    "![api-key](https://i.imgur.com/YGGLH3e.png)\n",
    "\n",
    "`jovian.commit` uploads the notebook to your Jovian.ml account, captures the Python environment and creates a shareable link for your notebook as shown above. You can use this link to share your work and let anyone (including you) run your notebooks and reproduce your work."
   ]
  },
  {
   "cell_type": "markdown",
   "metadata": {},
   "source": [
    "## Built-in data types in Python\n",
    "\n",
    "Any data or information stored within a Python variable has a *type*. The type of data stored within a variable can be checked using the `type` function."
   ]
  },
  {
   "cell_type": "code",
   "execution_count": 38,
   "metadata": {
    "execution": {
     "iopub.execute_input": "2020-08-30T17:35:09.178697Z",
     "iopub.status.busy": "2020-08-30T17:35:09.177700Z",
     "iopub.status.idle": "2020-08-30T17:35:09.193698Z",
     "shell.execute_reply": "2020-08-30T17:35:09.191698Z",
     "shell.execute_reply.started": "2020-08-30T17:35:09.178697Z"
    }
   },
   "outputs": [
    {
     "data": {
      "text/plain": [
       "23"
      ]
     },
     "execution_count": 38,
     "metadata": {},
     "output_type": "execute_result"
    }
   ],
   "source": [
    "a_variable"
   ]
  },
  {
   "cell_type": "code",
   "execution_count": 39,
   "metadata": {
    "execution": {
     "iopub.execute_input": "2020-08-30T17:35:10.830696Z",
     "iopub.status.busy": "2020-08-30T17:35:10.829694Z",
     "iopub.status.idle": "2020-08-30T17:35:10.850699Z",
     "shell.execute_reply": "2020-08-30T17:35:10.849696Z",
     "shell.execute_reply.started": "2020-08-30T17:35:10.830696Z"
    }
   },
   "outputs": [
    {
     "data": {
      "text/plain": [
       "int"
      ]
     },
     "execution_count": 39,
     "metadata": {},
     "output_type": "execute_result"
    }
   ],
   "source": [
    "type(a_variable)"
   ]
  },
  {
   "cell_type": "code",
   "execution_count": 40,
   "metadata": {
    "execution": {
     "iopub.execute_input": "2020-08-30T17:35:11.889698Z",
     "iopub.status.busy": "2020-08-30T17:35:11.888696Z",
     "iopub.status.idle": "2020-08-30T17:35:11.909696Z",
     "shell.execute_reply": "2020-08-30T17:35:11.907698Z",
     "shell.execute_reply.started": "2020-08-30T17:35:11.889698Z"
    }
   },
   "outputs": [
    {
     "data": {
      "text/plain": [
       "False"
      ]
     },
     "execution_count": 40,
     "metadata": {},
     "output_type": "execute_result"
    }
   ],
   "source": [
    "is_today_Saturday"
   ]
  },
  {
   "cell_type": "code",
   "execution_count": 41,
   "metadata": {
    "execution": {
     "iopub.execute_input": "2020-08-30T17:35:12.926114Z",
     "iopub.status.busy": "2020-08-30T17:35:12.925113Z",
     "iopub.status.idle": "2020-08-30T17:35:12.944117Z",
     "shell.execute_reply": "2020-08-30T17:35:12.943113Z",
     "shell.execute_reply.started": "2020-08-30T17:35:12.926114Z"
    }
   },
   "outputs": [
    {
     "data": {
      "text/plain": [
       "bool"
      ]
     },
     "execution_count": 41,
     "metadata": {},
     "output_type": "execute_result"
    }
   ],
   "source": [
    "type(is_today_Saturday)"
   ]
  },
  {
   "cell_type": "code",
   "execution_count": 42,
   "metadata": {
    "execution": {
     "iopub.execute_input": "2020-08-30T17:35:13.925113Z",
     "iopub.status.busy": "2020-08-30T17:35:13.924459Z",
     "iopub.status.idle": "2020-08-30T17:35:13.940204Z",
     "shell.execute_reply": "2020-08-30T17:35:13.938114Z",
     "shell.execute_reply.started": "2020-08-30T17:35:13.925113Z"
    }
   },
   "outputs": [
    {
     "data": {
      "text/plain": [
       "'Delorean'"
      ]
     },
     "execution_count": 42,
     "metadata": {},
     "output_type": "execute_result"
    }
   ],
   "source": [
    "my_favorite_car"
   ]
  },
  {
   "cell_type": "code",
   "execution_count": 43,
   "metadata": {
    "execution": {
     "iopub.execute_input": "2020-08-30T17:35:14.888114Z",
     "iopub.status.busy": "2020-08-30T17:35:14.888114Z",
     "iopub.status.idle": "2020-08-30T17:35:14.902115Z",
     "shell.execute_reply": "2020-08-30T17:35:14.900113Z",
     "shell.execute_reply.started": "2020-08-30T17:35:14.888114Z"
    }
   },
   "outputs": [
    {
     "data": {
      "text/plain": [
       "str"
      ]
     },
     "execution_count": 43,
     "metadata": {},
     "output_type": "execute_result"
    }
   ],
   "source": [
    "type(my_favorite_car)"
   ]
  },
  {
   "cell_type": "code",
   "execution_count": 44,
   "metadata": {
    "execution": {
     "iopub.execute_input": "2020-08-30T17:35:18.167298Z",
     "iopub.status.busy": "2020-08-30T17:35:18.166297Z",
     "iopub.status.idle": "2020-08-30T17:35:18.182294Z",
     "shell.execute_reply": "2020-08-30T17:35:18.180293Z",
     "shell.execute_reply.started": "2020-08-30T17:35:18.167298Z"
    }
   },
   "outputs": [
    {
     "data": {
      "text/plain": [
       "['Athos', 'Porthos', 'Aramis']"
      ]
     },
     "execution_count": 44,
     "metadata": {},
     "output_type": "execute_result"
    }
   ],
   "source": [
    "the_3_musketeers"
   ]
  },
  {
   "cell_type": "code",
   "execution_count": 45,
   "metadata": {
    "execution": {
     "iopub.execute_input": "2020-08-30T17:35:19.493298Z",
     "iopub.status.busy": "2020-08-30T17:35:19.492296Z",
     "iopub.status.idle": "2020-08-30T17:35:19.500295Z",
     "shell.execute_reply": "2020-08-30T17:35:19.499295Z",
     "shell.execute_reply.started": "2020-08-30T17:35:19.493298Z"
    }
   },
   "outputs": [
    {
     "data": {
      "text/plain": [
       "list"
      ]
     },
     "execution_count": 45,
     "metadata": {},
     "output_type": "execute_result"
    }
   ],
   "source": [
    "type(the_3_musketeers)"
   ]
  },
  {
   "cell_type": "markdown",
   "metadata": {},
   "source": [
    "Python has several built-in data types for storing different types of information in variables. Following are at some commonly used data types:\n",
    "\n",
    "1. Integer\n",
    "2. Float\n",
    "3. Boolean\n",
    "4. None\n",
    "5. String\n",
    "6. List\n",
    "7. Tuple\n",
    "8. Dictionary\n",
    "\n",
    "Integer, float, boolean, None and string are *primitive data types* because they represent a single value. Other data types like list, tuple and dictionary are often called *data structures* or *containers* because they hold multiple pieces of data together."
   ]
  },
  {
   "cell_type": "markdown",
   "metadata": {},
   "source": [
    "### Integer\n",
    "\n",
    "Integers represent positive or negative whole numbers, from negative infinity to infinity. Note that integers should not include decimal points. Integers have the type `int`."
   ]
  },
  {
   "cell_type": "code",
   "execution_count": 46,
   "metadata": {
    "execution": {
     "iopub.execute_input": "2020-08-30T17:35:25.171495Z",
     "iopub.status.busy": "2020-08-30T17:35:25.171495Z",
     "iopub.status.idle": "2020-08-30T17:35:25.186490Z",
     "shell.execute_reply": "2020-08-30T17:35:25.185492Z",
     "shell.execute_reply.started": "2020-08-30T17:35:25.171495Z"
    }
   },
   "outputs": [],
   "source": [
    "current_year = 2020"
   ]
  },
  {
   "cell_type": "code",
   "execution_count": 47,
   "metadata": {
    "execution": {
     "iopub.execute_input": "2020-08-30T17:35:25.921494Z",
     "iopub.status.busy": "2020-08-30T17:35:25.921494Z",
     "iopub.status.idle": "2020-08-30T17:35:25.930493Z",
     "shell.execute_reply": "2020-08-30T17:35:25.929491Z",
     "shell.execute_reply.started": "2020-08-30T17:35:25.921494Z"
    }
   },
   "outputs": [
    {
     "data": {
      "text/plain": [
       "2020"
      ]
     },
     "execution_count": 47,
     "metadata": {},
     "output_type": "execute_result"
    }
   ],
   "source": [
    "current_year"
   ]
  },
  {
   "cell_type": "code",
   "execution_count": 48,
   "metadata": {
    "execution": {
     "iopub.execute_input": "2020-08-30T17:35:27.341494Z",
     "iopub.status.busy": "2020-08-30T17:35:27.339493Z",
     "iopub.status.idle": "2020-08-30T17:35:27.347498Z",
     "shell.execute_reply": "2020-08-30T17:35:27.346496Z",
     "shell.execute_reply.started": "2020-08-30T17:35:27.340709Z"
    }
   },
   "outputs": [
    {
     "data": {
      "text/plain": [
       "int"
      ]
     },
     "execution_count": 48,
     "metadata": {},
     "output_type": "execute_result"
    }
   ],
   "source": [
    "type(current_year)"
   ]
  },
  {
   "cell_type": "markdown",
   "metadata": {},
   "source": [
    "Unlike some other programming languages, integers in Python can be arbirarily large (or small). There's no lowest or highest value for integers, and there's just one `int` type (as opposed to `short`, `int`, `long`, `long long`, `unsigned int` etc. in C/C++/Java)."
   ]
  },
  {
   "cell_type": "code",
   "execution_count": 49,
   "metadata": {
    "execution": {
     "iopub.execute_input": "2020-08-30T17:35:29.661880Z",
     "iopub.status.busy": "2020-08-30T17:35:29.661880Z",
     "iopub.status.idle": "2020-08-30T17:35:29.677878Z",
     "shell.execute_reply": "2020-08-30T17:35:29.675880Z",
     "shell.execute_reply.started": "2020-08-30T17:35:29.661880Z"
    }
   },
   "outputs": [],
   "source": [
    "a_large_negative_number = -23374038374832934334234317348343"
   ]
  },
  {
   "cell_type": "code",
   "execution_count": 50,
   "metadata": {
    "execution": {
     "iopub.execute_input": "2020-08-30T17:35:30.801137Z",
     "iopub.status.busy": "2020-08-30T17:35:30.800139Z",
     "iopub.status.idle": "2020-08-30T17:35:30.819139Z",
     "shell.execute_reply": "2020-08-30T17:35:30.817138Z",
     "shell.execute_reply.started": "2020-08-30T17:35:30.801137Z"
    }
   },
   "outputs": [
    {
     "data": {
      "text/plain": [
       "-23374038374832934334234317348343"
      ]
     },
     "execution_count": 50,
     "metadata": {},
     "output_type": "execute_result"
    }
   ],
   "source": [
    "a_large_negative_number"
   ]
  },
  {
   "cell_type": "code",
   "execution_count": 51,
   "metadata": {
    "execution": {
     "iopub.execute_input": "2020-08-30T17:35:31.833138Z",
     "iopub.status.busy": "2020-08-30T17:35:31.832138Z",
     "iopub.status.idle": "2020-08-30T17:35:31.846140Z",
     "shell.execute_reply": "2020-08-30T17:35:31.845138Z",
     "shell.execute_reply.started": "2020-08-30T17:35:31.833138Z"
    }
   },
   "outputs": [
    {
     "data": {
      "text/plain": [
       "int"
      ]
     },
     "execution_count": 51,
     "metadata": {},
     "output_type": "execute_result"
    }
   ],
   "source": [
    "type(a_large_negative_number)"
   ]
  },
  {
   "cell_type": "markdown",
   "metadata": {},
   "source": [
    "### Float\n",
    "\n",
    "Floats (or floating point numbers) are numbers with a decimal point. There are no limits on the value of a float or the number of digits before or after the decimal point. Floating point numbers have the type `float`."
   ]
  },
  {
   "cell_type": "code",
   "execution_count": 52,
   "metadata": {
    "execution": {
     "iopub.execute_input": "2020-08-30T17:35:34.174251Z",
     "iopub.status.busy": "2020-08-30T17:35:34.174251Z",
     "iopub.status.idle": "2020-08-30T17:35:34.189249Z",
     "shell.execute_reply": "2020-08-30T17:35:34.187246Z",
     "shell.execute_reply.started": "2020-08-30T17:35:34.174251Z"
    }
   },
   "outputs": [],
   "source": [
    "pi = 3.141592653589793238"
   ]
  },
  {
   "cell_type": "code",
   "execution_count": 53,
   "metadata": {
    "execution": {
     "iopub.execute_input": "2020-08-30T17:35:35.190784Z",
     "iopub.status.busy": "2020-08-30T17:35:35.190784Z",
     "iopub.status.idle": "2020-08-30T17:35:35.205783Z",
     "shell.execute_reply": "2020-08-30T17:35:35.203781Z",
     "shell.execute_reply.started": "2020-08-30T17:35:35.190784Z"
    }
   },
   "outputs": [
    {
     "data": {
      "text/plain": [
       "3.141592653589793"
      ]
     },
     "execution_count": 53,
     "metadata": {},
     "output_type": "execute_result"
    }
   ],
   "source": [
    "pi"
   ]
  },
  {
   "cell_type": "code",
   "execution_count": 54,
   "metadata": {
    "execution": {
     "iopub.execute_input": "2020-08-30T17:35:36.246783Z",
     "iopub.status.busy": "2020-08-30T17:35:36.245786Z",
     "iopub.status.idle": "2020-08-30T17:35:36.252783Z",
     "shell.execute_reply": "2020-08-30T17:35:36.251784Z",
     "shell.execute_reply.started": "2020-08-30T17:35:36.245786Z"
    }
   },
   "outputs": [
    {
     "data": {
      "text/plain": [
       "float"
      ]
     },
     "execution_count": 54,
     "metadata": {},
     "output_type": "execute_result"
    }
   ],
   "source": [
    "type(pi)"
   ]
  },
  {
   "cell_type": "markdown",
   "metadata": {},
   "source": [
    "Note that a whole number is treated as a float if it is written with a decimal point, even though the decimal portion of the number is zero."
   ]
  },
  {
   "cell_type": "code",
   "execution_count": 55,
   "metadata": {
    "execution": {
     "iopub.execute_input": "2020-08-30T17:35:38.184781Z",
     "iopub.status.busy": "2020-08-30T17:35:38.184781Z",
     "iopub.status.idle": "2020-08-30T17:35:38.199782Z",
     "shell.execute_reply": "2020-08-30T17:35:38.197780Z",
     "shell.execute_reply.started": "2020-08-30T17:35:38.184781Z"
    }
   },
   "outputs": [],
   "source": [
    "a_number = 3.0"
   ]
  },
  {
   "cell_type": "code",
   "execution_count": 56,
   "metadata": {
    "execution": {
     "iopub.execute_input": "2020-08-30T17:35:39.247782Z",
     "iopub.status.busy": "2020-08-30T17:35:39.246781Z",
     "iopub.status.idle": "2020-08-30T17:35:39.261780Z",
     "shell.execute_reply": "2020-08-30T17:35:39.259780Z",
     "shell.execute_reply.started": "2020-08-30T17:35:39.247782Z"
    }
   },
   "outputs": [
    {
     "data": {
      "text/plain": [
       "3.0"
      ]
     },
     "execution_count": 56,
     "metadata": {},
     "output_type": "execute_result"
    }
   ],
   "source": [
    "a_number"
   ]
  },
  {
   "cell_type": "code",
   "execution_count": 57,
   "metadata": {
    "execution": {
     "iopub.execute_input": "2020-08-30T17:35:40.164783Z",
     "iopub.status.busy": "2020-08-30T17:35:40.163783Z",
     "iopub.status.idle": "2020-08-30T17:35:40.176781Z",
     "shell.execute_reply": "2020-08-30T17:35:40.174782Z",
     "shell.execute_reply.started": "2020-08-30T17:35:40.164783Z"
    }
   },
   "outputs": [
    {
     "data": {
      "text/plain": [
       "float"
      ]
     },
     "execution_count": 57,
     "metadata": {},
     "output_type": "execute_result"
    }
   ],
   "source": [
    "type(a_number)"
   ]
  },
  {
   "cell_type": "code",
   "execution_count": 58,
   "metadata": {
    "execution": {
     "iopub.execute_input": "2020-08-30T17:35:42.913576Z",
     "iopub.status.busy": "2020-08-30T17:35:42.912578Z",
     "iopub.status.idle": "2020-08-30T17:35:42.928576Z",
     "shell.execute_reply": "2020-08-30T17:35:42.926576Z",
     "shell.execute_reply.started": "2020-08-30T17:35:42.913576Z"
    }
   },
   "outputs": [],
   "source": [
    "another_number = 4."
   ]
  },
  {
   "cell_type": "code",
   "execution_count": 59,
   "metadata": {
    "execution": {
     "iopub.execute_input": "2020-08-30T17:35:43.700704Z",
     "iopub.status.busy": "2020-08-30T17:35:43.699704Z",
     "iopub.status.idle": "2020-08-30T17:35:43.719706Z",
     "shell.execute_reply": "2020-08-30T17:35:43.718704Z",
     "shell.execute_reply.started": "2020-08-30T17:35:43.699704Z"
    }
   },
   "outputs": [
    {
     "data": {
      "text/plain": [
       "4.0"
      ]
     },
     "execution_count": 59,
     "metadata": {},
     "output_type": "execute_result"
    }
   ],
   "source": [
    "another_number"
   ]
  },
  {
   "cell_type": "code",
   "execution_count": 60,
   "metadata": {
    "execution": {
     "iopub.execute_input": "2020-08-30T17:35:44.715711Z",
     "iopub.status.busy": "2020-08-30T17:35:44.714704Z",
     "iopub.status.idle": "2020-08-30T17:35:44.727706Z",
     "shell.execute_reply": "2020-08-30T17:35:44.726704Z",
     "shell.execute_reply.started": "2020-08-30T17:35:44.715711Z"
    }
   },
   "outputs": [
    {
     "data": {
      "text/plain": [
       "float"
      ]
     },
     "execution_count": 60,
     "metadata": {},
     "output_type": "execute_result"
    }
   ],
   "source": [
    "type(another_number)"
   ]
  },
  {
   "cell_type": "markdown",
   "metadata": {},
   "source": [
    "Floating point numbers can also be written using the scientific notation with an \"e\" to indicate the power of 10."
   ]
  },
  {
   "cell_type": "code",
   "execution_count": 61,
   "metadata": {
    "execution": {
     "iopub.execute_input": "2020-08-30T17:35:47.178092Z",
     "iopub.status.busy": "2020-08-30T17:35:47.177092Z",
     "iopub.status.idle": "2020-08-30T17:35:47.192093Z",
     "shell.execute_reply": "2020-08-30T17:35:47.190096Z",
     "shell.execute_reply.started": "2020-08-30T17:35:47.177092Z"
    }
   },
   "outputs": [],
   "source": [
    "one_hundredth = 1e-2"
   ]
  },
  {
   "cell_type": "code",
   "execution_count": 62,
   "metadata": {
    "execution": {
     "iopub.execute_input": "2020-08-30T17:35:48.353094Z",
     "iopub.status.busy": "2020-08-30T17:35:48.352091Z",
     "iopub.status.idle": "2020-08-30T17:35:48.375092Z",
     "shell.execute_reply": "2020-08-30T17:35:48.373092Z",
     "shell.execute_reply.started": "2020-08-30T17:35:48.353094Z"
    }
   },
   "outputs": [
    {
     "data": {
      "text/plain": [
       "0.01"
      ]
     },
     "execution_count": 62,
     "metadata": {},
     "output_type": "execute_result"
    }
   ],
   "source": [
    "one_hundredth"
   ]
  },
  {
   "cell_type": "code",
   "execution_count": 63,
   "metadata": {
    "execution": {
     "iopub.execute_input": "2020-08-30T17:35:49.436096Z",
     "iopub.status.busy": "2020-08-30T17:35:49.436096Z",
     "iopub.status.idle": "2020-08-30T17:35:49.461091Z",
     "shell.execute_reply": "2020-08-30T17:35:49.459091Z",
     "shell.execute_reply.started": "2020-08-30T17:35:49.436096Z"
    }
   },
   "outputs": [
    {
     "data": {
      "text/plain": [
       "float"
      ]
     },
     "execution_count": 63,
     "metadata": {},
     "output_type": "execute_result"
    }
   ],
   "source": [
    "type(one_hundredth)"
   ]
  },
  {
   "cell_type": "code",
   "execution_count": 64,
   "metadata": {
    "execution": {
     "iopub.execute_input": "2020-08-30T17:35:50.410092Z",
     "iopub.status.busy": "2020-08-30T17:35:50.409091Z",
     "iopub.status.idle": "2020-08-30T17:35:50.423094Z",
     "shell.execute_reply": "2020-08-30T17:35:50.421091Z",
     "shell.execute_reply.started": "2020-08-30T17:35:50.410092Z"
    }
   },
   "outputs": [],
   "source": [
    "avogadro_number = 6.02214076e23"
   ]
  },
  {
   "cell_type": "code",
   "execution_count": 65,
   "metadata": {
    "execution": {
     "iopub.execute_input": "2020-08-30T17:35:51.300099Z",
     "iopub.status.busy": "2020-08-30T17:35:51.299098Z",
     "iopub.status.idle": "2020-08-30T17:35:51.323668Z",
     "shell.execute_reply": "2020-08-30T17:35:51.321091Z",
     "shell.execute_reply.started": "2020-08-30T17:35:51.300099Z"
    }
   },
   "outputs": [
    {
     "data": {
      "text/plain": [
       "6.02214076e+23"
      ]
     },
     "execution_count": 65,
     "metadata": {},
     "output_type": "execute_result"
    }
   ],
   "source": [
    "avogadro_number"
   ]
  },
  {
   "cell_type": "code",
   "execution_count": 66,
   "metadata": {
    "execution": {
     "iopub.execute_input": "2020-08-30T17:35:52.221254Z",
     "iopub.status.busy": "2020-08-30T17:35:52.220254Z",
     "iopub.status.idle": "2020-08-30T17:35:52.233257Z",
     "shell.execute_reply": "2020-08-30T17:35:52.231257Z",
     "shell.execute_reply.started": "2020-08-30T17:35:52.221254Z"
    }
   },
   "outputs": [
    {
     "data": {
      "text/plain": [
       "float"
      ]
     },
     "execution_count": 66,
     "metadata": {},
     "output_type": "execute_result"
    }
   ],
   "source": [
    "type(avogadro_number)"
   ]
  },
  {
   "cell_type": "markdown",
   "metadata": {},
   "source": [
    "Floats can be converted into integers and vice versa using the `float` and `int` functions. The operation of coverting one type of value into another is called casting."
   ]
  },
  {
   "cell_type": "code",
   "execution_count": 67,
   "metadata": {
    "execution": {
     "iopub.execute_input": "2020-08-30T17:35:55.911342Z",
     "iopub.status.busy": "2020-08-30T17:35:55.911342Z",
     "iopub.status.idle": "2020-08-30T17:35:55.921343Z",
     "shell.execute_reply": "2020-08-30T17:35:55.920343Z",
     "shell.execute_reply.started": "2020-08-30T17:35:55.911342Z"
    }
   },
   "outputs": [
    {
     "data": {
      "text/plain": [
       "2020.0"
      ]
     },
     "execution_count": 67,
     "metadata": {},
     "output_type": "execute_result"
    }
   ],
   "source": [
    "float(current_year)"
   ]
  },
  {
   "cell_type": "code",
   "execution_count": 68,
   "metadata": {
    "execution": {
     "iopub.execute_input": "2020-08-30T17:35:56.783811Z",
     "iopub.status.busy": "2020-08-30T17:35:56.783811Z",
     "iopub.status.idle": "2020-08-30T17:35:56.803814Z",
     "shell.execute_reply": "2020-08-30T17:35:56.802811Z",
     "shell.execute_reply.started": "2020-08-30T17:35:56.783811Z"
    }
   },
   "outputs": [
    {
     "data": {
      "text/plain": [
       "-2.3374038374832935e+31"
      ]
     },
     "execution_count": 68,
     "metadata": {},
     "output_type": "execute_result"
    }
   ],
   "source": [
    "float(a_large_negative_number)"
   ]
  },
  {
   "cell_type": "code",
   "execution_count": 69,
   "metadata": {
    "execution": {
     "iopub.execute_input": "2020-08-30T17:35:57.769812Z",
     "iopub.status.busy": "2020-08-30T17:35:57.769812Z",
     "iopub.status.idle": "2020-08-30T17:35:57.783811Z",
     "shell.execute_reply": "2020-08-30T17:35:57.781810Z",
     "shell.execute_reply.started": "2020-08-30T17:35:57.769812Z"
    }
   },
   "outputs": [
    {
     "data": {
      "text/plain": [
       "3"
      ]
     },
     "execution_count": 69,
     "metadata": {},
     "output_type": "execute_result"
    }
   ],
   "source": [
    "int(pi)"
   ]
  },
  {
   "cell_type": "code",
   "execution_count": 70,
   "metadata": {
    "execution": {
     "iopub.execute_input": "2020-08-30T17:35:58.700507Z",
     "iopub.status.busy": "2020-08-30T17:35:58.700507Z",
     "iopub.status.idle": "2020-08-30T17:35:58.715506Z",
     "shell.execute_reply": "2020-08-30T17:35:58.714504Z",
     "shell.execute_reply.started": "2020-08-30T17:35:58.700507Z"
    }
   },
   "outputs": [
    {
     "data": {
      "text/plain": [
       "602214075999999987023872"
      ]
     },
     "execution_count": 70,
     "metadata": {},
     "output_type": "execute_result"
    }
   ],
   "source": [
    "int(avogadro_number)"
   ]
  },
  {
   "cell_type": "markdown",
   "metadata": {},
   "source": [
    "While performing arithmetic operations, integers are automatically converted to floats if any of the operands is a float. Also, the division operator `/` always returns a float, even if both operands are integers. Use the `//` operator if you want the result of division to be an `int`."
   ]
  },
  {
   "cell_type": "code",
   "execution_count": 71,
   "metadata": {
    "execution": {
     "iopub.execute_input": "2020-08-30T17:36:01.175044Z",
     "iopub.status.busy": "2020-08-30T17:36:01.174046Z",
     "iopub.status.idle": "2020-08-30T17:36:01.188042Z",
     "shell.execute_reply": "2020-08-30T17:36:01.186043Z",
     "shell.execute_reply.started": "2020-08-30T17:36:01.175044Z"
    }
   },
   "outputs": [
    {
     "data": {
      "text/plain": [
       "float"
      ]
     },
     "execution_count": 71,
     "metadata": {},
     "output_type": "execute_result"
    }
   ],
   "source": [
    "type(45 * 3.0)"
   ]
  },
  {
   "cell_type": "code",
   "execution_count": 72,
   "metadata": {
    "execution": {
     "iopub.execute_input": "2020-08-30T17:36:01.932045Z",
     "iopub.status.busy": "2020-08-30T17:36:01.932045Z",
     "iopub.status.idle": "2020-08-30T17:36:01.947043Z",
     "shell.execute_reply": "2020-08-30T17:36:01.946043Z",
     "shell.execute_reply.started": "2020-08-30T17:36:01.932045Z"
    }
   },
   "outputs": [
    {
     "data": {
      "text/plain": [
       "int"
      ]
     },
     "execution_count": 72,
     "metadata": {},
     "output_type": "execute_result"
    }
   ],
   "source": [
    "type(45 * 3)"
   ]
  },
  {
   "cell_type": "code",
   "execution_count": 73,
   "metadata": {
    "execution": {
     "iopub.execute_input": "2020-08-30T17:36:02.751528Z",
     "iopub.status.busy": "2020-08-30T17:36:02.750529Z",
     "iopub.status.idle": "2020-08-30T17:36:02.764523Z",
     "shell.execute_reply": "2020-08-30T17:36:02.763526Z",
     "shell.execute_reply.started": "2020-08-30T17:36:02.750529Z"
    }
   },
   "outputs": [
    {
     "data": {
      "text/plain": [
       "float"
      ]
     },
     "execution_count": 73,
     "metadata": {},
     "output_type": "execute_result"
    }
   ],
   "source": [
    "type(10/3)"
   ]
  },
  {
   "cell_type": "code",
   "execution_count": 74,
   "metadata": {
    "execution": {
     "iopub.execute_input": "2020-08-30T17:36:03.583525Z",
     "iopub.status.busy": "2020-08-30T17:36:03.583525Z",
     "iopub.status.idle": "2020-08-30T17:36:03.603528Z",
     "shell.execute_reply": "2020-08-30T17:36:03.602526Z",
     "shell.execute_reply.started": "2020-08-30T17:36:03.583525Z"
    }
   },
   "outputs": [
    {
     "data": {
      "text/plain": [
       "float"
      ]
     },
     "execution_count": 74,
     "metadata": {},
     "output_type": "execute_result"
    }
   ],
   "source": [
    "type(10/2)"
   ]
  },
  {
   "cell_type": "code",
   "execution_count": 75,
   "metadata": {
    "execution": {
     "iopub.execute_input": "2020-08-30T17:36:04.851447Z",
     "iopub.status.busy": "2020-08-30T17:36:04.851447Z",
     "iopub.status.idle": "2020-08-30T17:36:04.862440Z",
     "shell.execute_reply": "2020-08-30T17:36:04.860441Z",
     "shell.execute_reply.started": "2020-08-30T17:36:04.851447Z"
    }
   },
   "outputs": [
    {
     "data": {
      "text/plain": [
       "int"
      ]
     },
     "execution_count": 75,
     "metadata": {},
     "output_type": "execute_result"
    }
   ],
   "source": [
    "type(10//2)"
   ]
  },
  {
   "cell_type": "markdown",
   "metadata": {},
   "source": [
    "### Boolean\n",
    "\n",
    "Booleans represent one of 2 values: `True` and `False`. Booleans have the type `bool`."
   ]
  },
  {
   "cell_type": "code",
   "execution_count": 76,
   "metadata": {
    "execution": {
     "iopub.execute_input": "2020-08-30T17:36:09.256306Z",
     "iopub.status.busy": "2020-08-30T17:36:09.255788Z",
     "iopub.status.idle": "2020-08-30T17:36:09.265305Z",
     "shell.execute_reply": "2020-08-30T17:36:09.263304Z",
     "shell.execute_reply.started": "2020-08-30T17:36:09.256306Z"
    }
   },
   "outputs": [],
   "source": [
    "is_today_Sunday = True"
   ]
  },
  {
   "cell_type": "code",
   "execution_count": 77,
   "metadata": {
    "execution": {
     "iopub.execute_input": "2020-08-30T17:36:10.279726Z",
     "iopub.status.busy": "2020-08-30T17:36:10.279726Z",
     "iopub.status.idle": "2020-08-30T17:36:10.301728Z",
     "shell.execute_reply": "2020-08-30T17:36:10.300724Z",
     "shell.execute_reply.started": "2020-08-30T17:36:10.279726Z"
    }
   },
   "outputs": [
    {
     "data": {
      "text/plain": [
       "True"
      ]
     },
     "execution_count": 77,
     "metadata": {},
     "output_type": "execute_result"
    }
   ],
   "source": [
    "is_today_Sunday"
   ]
  },
  {
   "cell_type": "code",
   "execution_count": 78,
   "metadata": {
    "execution": {
     "iopub.execute_input": "2020-08-30T17:36:11.218729Z",
     "iopub.status.busy": "2020-08-30T17:36:11.217730Z",
     "iopub.status.idle": "2020-08-30T17:36:11.234730Z",
     "shell.execute_reply": "2020-08-30T17:36:11.232724Z",
     "shell.execute_reply.started": "2020-08-30T17:36:11.218729Z"
    }
   },
   "outputs": [
    {
     "data": {
      "text/plain": [
       "bool"
      ]
     },
     "execution_count": 78,
     "metadata": {},
     "output_type": "execute_result"
    }
   ],
   "source": [
    "type(is_today_Saturday)"
   ]
  },
  {
   "cell_type": "markdown",
   "metadata": {},
   "source": [
    "Booleans are generally returned as the result of a comparision operation (e.g. `==`, `>=` etc.)."
   ]
  },
  {
   "cell_type": "code",
   "execution_count": 79,
   "metadata": {
    "execution": {
     "iopub.execute_input": "2020-08-30T17:36:13.176019Z",
     "iopub.status.busy": "2020-08-30T17:36:13.175019Z",
     "iopub.status.idle": "2020-08-30T17:36:13.190019Z",
     "shell.execute_reply": "2020-08-30T17:36:13.188019Z",
     "shell.execute_reply.started": "2020-08-30T17:36:13.176019Z"
    }
   },
   "outputs": [],
   "source": [
    "cost_of_ice_bag = 1.25\n",
    "is_ice_bag_expensive = cost_of_ice_bag >= 10"
   ]
  },
  {
   "cell_type": "code",
   "execution_count": 80,
   "metadata": {
    "execution": {
     "iopub.execute_input": "2020-08-30T17:36:14.174678Z",
     "iopub.status.busy": "2020-08-30T17:36:14.174678Z",
     "iopub.status.idle": "2020-08-30T17:36:14.189685Z",
     "shell.execute_reply": "2020-08-30T17:36:14.187681Z",
     "shell.execute_reply.started": "2020-08-30T17:36:14.174678Z"
    }
   },
   "outputs": [
    {
     "data": {
      "text/plain": [
       "False"
      ]
     },
     "execution_count": 80,
     "metadata": {},
     "output_type": "execute_result"
    }
   ],
   "source": [
    "is_ice_bag_expensive"
   ]
  },
  {
   "cell_type": "code",
   "execution_count": 81,
   "metadata": {
    "execution": {
     "iopub.execute_input": "2020-08-30T17:36:14.850687Z",
     "iopub.status.busy": "2020-08-30T17:36:14.849687Z",
     "iopub.status.idle": "2020-08-30T17:36:14.863686Z",
     "shell.execute_reply": "2020-08-30T17:36:14.862682Z",
     "shell.execute_reply.started": "2020-08-30T17:36:14.850687Z"
    }
   },
   "outputs": [
    {
     "data": {
      "text/plain": [
       "bool"
      ]
     },
     "execution_count": 81,
     "metadata": {},
     "output_type": "execute_result"
    }
   ],
   "source": [
    "type(is_ice_bag_expensive)"
   ]
  },
  {
   "cell_type": "markdown",
   "metadata": {},
   "source": [
    "Booleans are automatically converted to `int`s when used in arithmetic operations. `True` is converted to `1` and `False` is converted to `0`."
   ]
  },
  {
   "cell_type": "code",
   "execution_count": 82,
   "metadata": {
    "execution": {
     "iopub.execute_input": "2020-08-30T17:36:16.856799Z",
     "iopub.status.busy": "2020-08-30T17:36:16.856799Z",
     "iopub.status.idle": "2020-08-30T17:36:16.871801Z",
     "shell.execute_reply": "2020-08-30T17:36:16.869797Z",
     "shell.execute_reply.started": "2020-08-30T17:36:16.856799Z"
    }
   },
   "outputs": [
    {
     "data": {
      "text/plain": [
       "5"
      ]
     },
     "execution_count": 82,
     "metadata": {},
     "output_type": "execute_result"
    }
   ],
   "source": [
    "5 + False"
   ]
  },
  {
   "cell_type": "code",
   "execution_count": 83,
   "metadata": {
    "execution": {
     "iopub.execute_input": "2020-08-30T17:36:17.914799Z",
     "iopub.status.busy": "2020-08-30T17:36:17.914799Z",
     "iopub.status.idle": "2020-08-30T17:36:17.931796Z",
     "shell.execute_reply": "2020-08-30T17:36:17.930796Z",
     "shell.execute_reply.started": "2020-08-30T17:36:17.914799Z"
    }
   },
   "outputs": [
    {
     "data": {
      "text/plain": [
       "4.0"
      ]
     },
     "execution_count": 83,
     "metadata": {},
     "output_type": "execute_result"
    }
   ],
   "source": [
    "3. + True"
   ]
  },
  {
   "cell_type": "markdown",
   "metadata": {},
   "source": [
    "Any value in Python can be converted to a Boolean using the `bool` function. \n",
    "\n",
    "Only the following values evaluate to `False` (they are often called *falsy* values):\n",
    "\n",
    "1. The value `False` itself\n",
    "2. The integer `0`\n",
    "3. The float `0.0`\n",
    "4. The empty value `None`\n",
    "5. The empty text `\"\"`\n",
    "6. The empty list `[]`\n",
    "7. The empty tuple `()`\n",
    "8. The empty dictionary `{}`\n",
    "9. The emtpy set `set()`\n",
    "10. The empty range `range(0)`\n",
    "\n",
    "Everything else evaluates to `True` (a value that evalutes to `True` is often called a *truthy* value)."
   ]
  },
  {
   "cell_type": "code",
   "execution_count": 84,
   "metadata": {
    "execution": {
     "iopub.execute_input": "2020-08-30T17:36:20.902475Z",
     "iopub.status.busy": "2020-08-30T17:36:20.902475Z",
     "iopub.status.idle": "2020-08-30T17:36:20.922476Z",
     "shell.execute_reply": "2020-08-30T17:36:20.920475Z",
     "shell.execute_reply.started": "2020-08-30T17:36:20.902475Z"
    }
   },
   "outputs": [
    {
     "data": {
      "text/plain": [
       "False"
      ]
     },
     "execution_count": 84,
     "metadata": {},
     "output_type": "execute_result"
    }
   ],
   "source": [
    "bool(False)"
   ]
  },
  {
   "cell_type": "code",
   "execution_count": 85,
   "metadata": {
    "execution": {
     "iopub.execute_input": "2020-08-30T17:36:22.407946Z",
     "iopub.status.busy": "2020-08-30T17:36:22.406947Z",
     "iopub.status.idle": "2020-08-30T17:36:22.427947Z",
     "shell.execute_reply": "2020-08-30T17:36:22.426947Z",
     "shell.execute_reply.started": "2020-08-30T17:36:22.407946Z"
    }
   },
   "outputs": [
    {
     "data": {
      "text/plain": [
       "False"
      ]
     },
     "execution_count": 85,
     "metadata": {},
     "output_type": "execute_result"
    }
   ],
   "source": [
    "bool(0)"
   ]
  },
  {
   "cell_type": "code",
   "execution_count": 86,
   "metadata": {
    "execution": {
     "iopub.execute_input": "2020-08-30T17:36:23.181242Z",
     "iopub.status.busy": "2020-08-30T17:36:23.181242Z",
     "iopub.status.idle": "2020-08-30T17:36:23.202240Z",
     "shell.execute_reply": "2020-08-30T17:36:23.201241Z",
     "shell.execute_reply.started": "2020-08-30T17:36:23.181242Z"
    }
   },
   "outputs": [
    {
     "data": {
      "text/plain": [
       "False"
      ]
     },
     "execution_count": 86,
     "metadata": {},
     "output_type": "execute_result"
    }
   ],
   "source": [
    "bool(0.0)"
   ]
  },
  {
   "cell_type": "code",
   "execution_count": 87,
   "metadata": {
    "execution": {
     "iopub.execute_input": "2020-08-30T17:36:24.185241Z",
     "iopub.status.busy": "2020-08-30T17:36:24.185241Z",
     "iopub.status.idle": "2020-08-30T17:36:24.200240Z",
     "shell.execute_reply": "2020-08-30T17:36:24.198242Z",
     "shell.execute_reply.started": "2020-08-30T17:36:24.185241Z"
    }
   },
   "outputs": [
    {
     "data": {
      "text/plain": [
       "False"
      ]
     },
     "execution_count": 87,
     "metadata": {},
     "output_type": "execute_result"
    }
   ],
   "source": [
    "bool(None)"
   ]
  },
  {
   "cell_type": "code",
   "execution_count": 88,
   "metadata": {
    "execution": {
     "iopub.execute_input": "2020-08-30T17:36:24.831593Z",
     "iopub.status.busy": "2020-08-30T17:36:24.831593Z",
     "iopub.status.idle": "2020-08-30T17:36:24.844594Z",
     "shell.execute_reply": "2020-08-30T17:36:24.842589Z",
     "shell.execute_reply.started": "2020-08-30T17:36:24.831593Z"
    }
   },
   "outputs": [
    {
     "data": {
      "text/plain": [
       "False"
      ]
     },
     "execution_count": 88,
     "metadata": {},
     "output_type": "execute_result"
    }
   ],
   "source": [
    "bool(\"\")"
   ]
  },
  {
   "cell_type": "code",
   "execution_count": 89,
   "metadata": {
    "execution": {
     "iopub.execute_input": "2020-08-30T17:36:25.785596Z",
     "iopub.status.busy": "2020-08-30T17:36:25.785596Z",
     "iopub.status.idle": "2020-08-30T17:36:25.796594Z",
     "shell.execute_reply": "2020-08-30T17:36:25.795593Z",
     "shell.execute_reply.started": "2020-08-30T17:36:25.785596Z"
    }
   },
   "outputs": [
    {
     "data": {
      "text/plain": [
       "False"
      ]
     },
     "execution_count": 89,
     "metadata": {},
     "output_type": "execute_result"
    }
   ],
   "source": [
    "bool([])"
   ]
  },
  {
   "cell_type": "code",
   "execution_count": 90,
   "metadata": {
    "execution": {
     "iopub.execute_input": "2020-08-30T17:36:26.515595Z",
     "iopub.status.busy": "2020-08-30T17:36:26.514594Z",
     "iopub.status.idle": "2020-08-30T17:36:26.530591Z",
     "shell.execute_reply": "2020-08-30T17:36:26.529589Z",
     "shell.execute_reply.started": "2020-08-30T17:36:26.515595Z"
    }
   },
   "outputs": [
    {
     "data": {
      "text/plain": [
       "False"
      ]
     },
     "execution_count": 90,
     "metadata": {},
     "output_type": "execute_result"
    }
   ],
   "source": [
    "bool(())"
   ]
  },
  {
   "cell_type": "code",
   "execution_count": 91,
   "metadata": {
    "execution": {
     "iopub.execute_input": "2020-08-30T17:36:27.350738Z",
     "iopub.status.busy": "2020-08-30T17:36:27.349740Z",
     "iopub.status.idle": "2020-08-30T17:36:27.358739Z",
     "shell.execute_reply": "2020-08-30T17:36:27.357739Z",
     "shell.execute_reply.started": "2020-08-30T17:36:27.350738Z"
    }
   },
   "outputs": [
    {
     "data": {
      "text/plain": [
       "False"
      ]
     },
     "execution_count": 91,
     "metadata": {},
     "output_type": "execute_result"
    }
   ],
   "source": [
    "bool({})"
   ]
  },
  {
   "cell_type": "code",
   "execution_count": 92,
   "metadata": {
    "execution": {
     "iopub.execute_input": "2020-08-30T17:36:28.168740Z",
     "iopub.status.busy": "2020-08-30T17:36:28.168740Z",
     "iopub.status.idle": "2020-08-30T17:36:28.181739Z",
     "shell.execute_reply": "2020-08-30T17:36:28.180738Z",
     "shell.execute_reply.started": "2020-08-30T17:36:28.168740Z"
    }
   },
   "outputs": [
    {
     "data": {
      "text/plain": [
       "False"
      ]
     },
     "execution_count": 92,
     "metadata": {},
     "output_type": "execute_result"
    }
   ],
   "source": [
    "bool(set())"
   ]
  },
  {
   "cell_type": "code",
   "execution_count": 93,
   "metadata": {
    "execution": {
     "iopub.execute_input": "2020-08-30T17:36:29.166875Z",
     "iopub.status.busy": "2020-08-30T17:36:29.165874Z",
     "iopub.status.idle": "2020-08-30T17:36:29.178873Z",
     "shell.execute_reply": "2020-08-30T17:36:29.177875Z",
     "shell.execute_reply.started": "2020-08-30T17:36:29.165874Z"
    }
   },
   "outputs": [
    {
     "data": {
      "text/plain": [
       "False"
      ]
     },
     "execution_count": 93,
     "metadata": {},
     "output_type": "execute_result"
    }
   ],
   "source": [
    "bool(range(0))"
   ]
  },
  {
   "cell_type": "code",
   "execution_count": 94,
   "metadata": {
    "execution": {
     "iopub.execute_input": "2020-08-30T17:36:30.176875Z",
     "iopub.status.busy": "2020-08-30T17:36:30.176875Z",
     "iopub.status.idle": "2020-08-30T17:36:30.190880Z",
     "shell.execute_reply": "2020-08-30T17:36:30.189876Z",
     "shell.execute_reply.started": "2020-08-30T17:36:30.176875Z"
    }
   },
   "outputs": [
    {
     "data": {
      "text/plain": [
       "(True, True, True, True, True, True, True)"
      ]
     },
     "execution_count": 94,
     "metadata": {},
     "output_type": "execute_result"
    }
   ],
   "source": [
    "bool(True), bool(1), bool(2.0), bool(\"hello\"), bool([1,2]), bool((2,3)), bool(range(10))"
   ]
  },
  {
   "cell_type": "markdown",
   "metadata": {},
   "source": [
    "### None\n",
    "\n",
    "The None type includes a single value `None`, used to indicate the absence of a value. `None` has the type `NoneType`. It is often used to declare a variable whose value may be assigned later."
   ]
  },
  {
   "cell_type": "code",
   "execution_count": 95,
   "metadata": {
    "execution": {
     "iopub.execute_input": "2020-08-30T17:36:31.807325Z",
     "iopub.status.busy": "2020-08-30T17:36:31.807325Z",
     "iopub.status.idle": "2020-08-30T17:36:31.825322Z",
     "shell.execute_reply": "2020-08-30T17:36:31.823326Z",
     "shell.execute_reply.started": "2020-08-30T17:36:31.807325Z"
    }
   },
   "outputs": [],
   "source": [
    "nothing = None"
   ]
  },
  {
   "cell_type": "code",
   "execution_count": 96,
   "metadata": {
    "execution": {
     "iopub.execute_input": "2020-08-30T17:36:32.665485Z",
     "iopub.status.busy": "2020-08-30T17:36:32.664480Z",
     "iopub.status.idle": "2020-08-30T17:36:32.674478Z",
     "shell.execute_reply": "2020-08-30T17:36:32.672482Z",
     "shell.execute_reply.started": "2020-08-30T17:36:32.665485Z"
    }
   },
   "outputs": [
    {
     "data": {
      "text/plain": [
       "NoneType"
      ]
     },
     "execution_count": 96,
     "metadata": {},
     "output_type": "execute_result"
    }
   ],
   "source": [
    "type(nothing)"
   ]
  },
  {
   "cell_type": "markdown",
   "metadata": {},
   "source": [
    "### String\n",
    "\n",
    "A string is used to represent text (*a string of characters*) in Python. Strings must be surrounded using quotations (either the single quote `'` or the double quote `\"`). Strings have the type `string`."
   ]
  },
  {
   "cell_type": "code",
   "execution_count": 97,
   "metadata": {
    "execution": {
     "iopub.execute_input": "2020-08-30T17:36:34.600793Z",
     "iopub.status.busy": "2020-08-30T17:36:34.599793Z",
     "iopub.status.idle": "2020-08-30T17:36:34.609791Z",
     "shell.execute_reply": "2020-08-30T17:36:34.607790Z",
     "shell.execute_reply.started": "2020-08-30T17:36:34.599793Z"
    }
   },
   "outputs": [],
   "source": [
    "today = \"Saturday\""
   ]
  },
  {
   "cell_type": "code",
   "execution_count": 98,
   "metadata": {
    "execution": {
     "iopub.execute_input": "2020-08-30T17:36:35.499356Z",
     "iopub.status.busy": "2020-08-30T17:36:35.498356Z",
     "iopub.status.idle": "2020-08-30T17:36:35.509358Z",
     "shell.execute_reply": "2020-08-30T17:36:35.507360Z",
     "shell.execute_reply.started": "2020-08-30T17:36:35.498356Z"
    }
   },
   "outputs": [
    {
     "data": {
      "text/plain": [
       "'Saturday'"
      ]
     },
     "execution_count": 98,
     "metadata": {},
     "output_type": "execute_result"
    }
   ],
   "source": [
    "today"
   ]
  },
  {
   "cell_type": "code",
   "execution_count": 99,
   "metadata": {
    "execution": {
     "iopub.execute_input": "2020-08-30T17:36:36.352356Z",
     "iopub.status.busy": "2020-08-30T17:36:36.351356Z",
     "iopub.status.idle": "2020-08-30T17:36:36.363361Z",
     "shell.execute_reply": "2020-08-30T17:36:36.362358Z",
     "shell.execute_reply.started": "2020-08-30T17:36:36.352356Z"
    }
   },
   "outputs": [
    {
     "data": {
      "text/plain": [
       "str"
      ]
     },
     "execution_count": 99,
     "metadata": {},
     "output_type": "execute_result"
    }
   ],
   "source": [
    "type(today)"
   ]
  },
  {
   "cell_type": "markdown",
   "metadata": {},
   "source": [
    "You can use single quotes inside a string written with double quotes, and vice versa."
   ]
  },
  {
   "cell_type": "code",
   "execution_count": 100,
   "metadata": {
    "execution": {
     "iopub.execute_input": "2020-08-30T17:36:38.365843Z",
     "iopub.status.busy": "2020-08-30T17:36:38.364844Z",
     "iopub.status.idle": "2020-08-30T17:36:38.374845Z",
     "shell.execute_reply": "2020-08-30T17:36:38.372846Z",
     "shell.execute_reply.started": "2020-08-30T17:36:38.365843Z"
    }
   },
   "outputs": [],
   "source": [
    "my_favorite_movie = \"One Flew over the Cuckoo's Nest\" "
   ]
  },
  {
   "cell_type": "code",
   "execution_count": 101,
   "metadata": {
    "execution": {
     "iopub.execute_input": "2020-08-30T17:36:39.464307Z",
     "iopub.status.busy": "2020-08-30T17:36:39.464307Z",
     "iopub.status.idle": "2020-08-30T17:36:39.479309Z",
     "shell.execute_reply": "2020-08-30T17:36:39.477306Z",
     "shell.execute_reply.started": "2020-08-30T17:36:39.464307Z"
    }
   },
   "outputs": [
    {
     "data": {
      "text/plain": [
       "\"One Flew over the Cuckoo's Nest\""
      ]
     },
     "execution_count": 101,
     "metadata": {},
     "output_type": "execute_result"
    }
   ],
   "source": [
    "my_favorite_movie"
   ]
  },
  {
   "cell_type": "code",
   "execution_count": 102,
   "metadata": {
    "execution": {
     "iopub.execute_input": "2020-08-30T17:36:40.304308Z",
     "iopub.status.busy": "2020-08-30T17:36:40.303308Z",
     "iopub.status.idle": "2020-08-30T17:36:40.313309Z",
     "shell.execute_reply": "2020-08-30T17:36:40.311310Z",
     "shell.execute_reply.started": "2020-08-30T17:36:40.304308Z"
    }
   },
   "outputs": [],
   "source": [
    "my_favorite_pun = 'Thanks for explaining the word \"many\" to me, it means a lot.'"
   ]
  },
  {
   "cell_type": "code",
   "execution_count": 103,
   "metadata": {
    "execution": {
     "iopub.execute_input": "2020-08-30T17:36:41.264307Z",
     "iopub.status.busy": "2020-08-30T17:36:41.264307Z",
     "iopub.status.idle": "2020-08-30T17:36:41.277309Z",
     "shell.execute_reply": "2020-08-30T17:36:41.275307Z",
     "shell.execute_reply.started": "2020-08-30T17:36:41.264307Z"
    }
   },
   "outputs": [
    {
     "data": {
      "text/plain": [
       "'Thanks for explaining the word \"many\" to me, it means a lot.'"
      ]
     },
     "execution_count": 103,
     "metadata": {},
     "output_type": "execute_result"
    }
   ],
   "source": [
    "my_favorite_pun"
   ]
  },
  {
   "cell_type": "markdown",
   "metadata": {},
   "source": [
    "To use the a double quote within a string written with double quotes, *escape* the inner quotes by prefixing them with the `\\` character."
   ]
  },
  {
   "cell_type": "code",
   "execution_count": 104,
   "metadata": {
    "execution": {
     "iopub.execute_input": "2020-08-30T17:37:23.931928Z",
     "iopub.status.busy": "2020-08-30T17:37:23.931928Z",
     "iopub.status.idle": "2020-08-30T17:37:23.948927Z",
     "shell.execute_reply": "2020-08-30T17:37:23.946931Z",
     "shell.execute_reply.started": "2020-08-30T17:37:23.931928Z"
    }
   },
   "outputs": [],
   "source": [
    "another_pun = \"The first time I got a universal remote control, I thought to myself \\\"This changes everything\\\".\""
   ]
  },
  {
   "cell_type": "code",
   "execution_count": 105,
   "metadata": {
    "execution": {
     "iopub.execute_input": "2020-08-30T17:37:25.183478Z",
     "iopub.status.busy": "2020-08-30T17:37:25.183478Z",
     "iopub.status.idle": "2020-08-30T17:37:25.198482Z",
     "shell.execute_reply": "2020-08-30T17:37:25.196481Z",
     "shell.execute_reply.started": "2020-08-30T17:37:25.183478Z"
    }
   },
   "outputs": [
    {
     "data": {
      "text/plain": [
       "'The first time I got a universal remote control, I thought to myself \"This changes everything\".'"
      ]
     },
     "execution_count": 105,
     "metadata": {},
     "output_type": "execute_result"
    }
   ],
   "source": [
    "another_pun"
   ]
  },
  {
   "cell_type": "markdown",
   "metadata": {},
   "source": [
    "Strings created using single or double quotes must begin and end on the same line. To create multiline strings, use three single quotes `'''` or three double quotes `\"\"\"` to begin and end the string. Line breaks are represented using the newline character `\\n`."
   ]
  },
  {
   "cell_type": "code",
   "execution_count": 106,
   "metadata": {
    "execution": {
     "iopub.execute_input": "2020-08-30T17:37:28.184181Z",
     "iopub.status.busy": "2020-08-30T17:37:28.183178Z",
     "iopub.status.idle": "2020-08-30T17:37:28.192176Z",
     "shell.execute_reply": "2020-08-30T17:37:28.190176Z",
     "shell.execute_reply.started": "2020-08-30T17:37:28.184181Z"
    }
   },
   "outputs": [],
   "source": [
    "yet_another_pun = '''Son: \"Dad, can you tell me what a solar eclipse is?\" \n",
    "Dad: \"No sun.\"'''"
   ]
  },
  {
   "cell_type": "code",
   "execution_count": 107,
   "metadata": {
    "execution": {
     "iopub.execute_input": "2020-08-30T17:37:29.673189Z",
     "iopub.status.busy": "2020-08-30T17:37:29.672193Z",
     "iopub.status.idle": "2020-08-30T17:37:29.694188Z",
     "shell.execute_reply": "2020-08-30T17:37:29.693185Z",
     "shell.execute_reply.started": "2020-08-30T17:37:29.673189Z"
    }
   },
   "outputs": [
    {
     "data": {
      "text/plain": [
       "'Son: \"Dad, can you tell me what a solar eclipse is?\" \\nDad: \"No sun.\"'"
      ]
     },
     "execution_count": 107,
     "metadata": {},
     "output_type": "execute_result"
    }
   ],
   "source": [
    "yet_another_pun"
   ]
  },
  {
   "cell_type": "markdown",
   "metadata": {},
   "source": [
    "Multiline strings are best displayed using the `print` function."
   ]
  },
  {
   "cell_type": "code",
   "execution_count": 108,
   "metadata": {
    "execution": {
     "iopub.execute_input": "2020-08-30T17:37:31.614577Z",
     "iopub.status.busy": "2020-08-30T17:37:31.613578Z",
     "iopub.status.idle": "2020-08-30T17:37:31.625576Z",
     "shell.execute_reply": "2020-08-30T17:37:31.624577Z",
     "shell.execute_reply.started": "2020-08-30T17:37:31.614577Z"
    }
   },
   "outputs": [
    {
     "name": "stdout",
     "output_type": "stream",
     "text": [
      "Son: \"Dad, can you tell me what a solar eclipse is?\" \n",
      "Dad: \"No sun.\"\n"
     ]
    }
   ],
   "source": [
    "print(yet_another_pun)"
   ]
  },
  {
   "cell_type": "code",
   "execution_count": 109,
   "metadata": {
    "execution": {
     "iopub.execute_input": "2020-08-30T17:37:32.597576Z",
     "iopub.status.busy": "2020-08-30T17:37:32.597576Z",
     "iopub.status.idle": "2020-08-30T17:37:32.605578Z",
     "shell.execute_reply": "2020-08-30T17:37:32.603577Z",
     "shell.execute_reply.started": "2020-08-30T17:37:32.597576Z"
    }
   },
   "outputs": [],
   "source": [
    "a_music_pun = \"\"\"\n",
    "Two windmills are standing in a field and one asks the other, \n",
    "\"What kind of music do you like?\"  \n",
    "\n",
    "The other says, \n",
    "\"I'm a big metal fan.\"\n",
    "\"\"\""
   ]
  },
  {
   "cell_type": "code",
   "execution_count": 110,
   "metadata": {
    "execution": {
     "iopub.execute_input": "2020-08-30T17:37:33.713707Z",
     "iopub.status.busy": "2020-08-30T17:37:33.713707Z",
     "iopub.status.idle": "2020-08-30T17:37:33.728709Z",
     "shell.execute_reply": "2020-08-30T17:37:33.727705Z",
     "shell.execute_reply.started": "2020-08-30T17:37:33.713707Z"
    }
   },
   "outputs": [
    {
     "name": "stdout",
     "output_type": "stream",
     "text": [
      "\n",
      "Two windmills are standing in a field and one asks the other, \n",
      "\"What kind of music do you like?\"  \n",
      "\n",
      "The other says, \n",
      "\"I'm a big metal fan.\"\n",
      "\n"
     ]
    }
   ],
   "source": [
    "print(a_music_pun)"
   ]
  },
  {
   "cell_type": "markdown",
   "metadata": {},
   "source": [
    "You can check the length of a string using the `len` function."
   ]
  },
  {
   "cell_type": "code",
   "execution_count": 111,
   "metadata": {
    "execution": {
     "iopub.execute_input": "2020-08-30T17:37:36.190023Z",
     "iopub.status.busy": "2020-08-30T17:37:36.189024Z",
     "iopub.status.idle": "2020-08-30T17:37:36.204025Z",
     "shell.execute_reply": "2020-08-30T17:37:36.202025Z",
     "shell.execute_reply.started": "2020-08-30T17:37:36.189024Z"
    }
   },
   "outputs": [
    {
     "data": {
      "text/plain": [
       "31"
      ]
     },
     "execution_count": 111,
     "metadata": {},
     "output_type": "execute_result"
    }
   ],
   "source": [
    "len(my_favorite_movie)"
   ]
  },
  {
   "cell_type": "markdown",
   "metadata": {},
   "source": [
    "Note that special characters like `\\n` and escaped characters like `\\\"` count as a single character, even though they are written and sometimes printed as 2 characters."
   ]
  },
  {
   "cell_type": "code",
   "execution_count": 112,
   "metadata": {
    "execution": {
     "iopub.execute_input": "2020-08-30T17:37:39.203267Z",
     "iopub.status.busy": "2020-08-30T17:37:39.202024Z",
     "iopub.status.idle": "2020-08-30T17:37:39.217023Z",
     "shell.execute_reply": "2020-08-30T17:37:39.215023Z",
     "shell.execute_reply.started": "2020-08-30T17:37:39.203027Z"
    }
   },
   "outputs": [
    {
     "data": {
      "text/plain": [
       "'a\\nb'"
      ]
     },
     "execution_count": 112,
     "metadata": {},
     "output_type": "execute_result"
    }
   ],
   "source": [
    "multiline_string = \"\"\"a\n",
    "b\"\"\"\n",
    "multiline_string"
   ]
  },
  {
   "cell_type": "code",
   "execution_count": 113,
   "metadata": {
    "execution": {
     "iopub.execute_input": "2020-08-30T17:37:40.413025Z",
     "iopub.status.busy": "2020-08-30T17:37:40.412025Z",
     "iopub.status.idle": "2020-08-30T17:37:40.435026Z",
     "shell.execute_reply": "2020-08-30T17:37:40.433024Z",
     "shell.execute_reply.started": "2020-08-30T17:37:40.413025Z"
    }
   },
   "outputs": [
    {
     "data": {
      "text/plain": [
       "3"
      ]
     },
     "execution_count": 113,
     "metadata": {},
     "output_type": "execute_result"
    }
   ],
   "source": [
    "len(multiline_string)"
   ]
  },
  {
   "cell_type": "markdown",
   "metadata": {},
   "source": [
    "A string can be converted into a list of characters using `list` function."
   ]
  },
  {
   "cell_type": "code",
   "execution_count": 114,
   "metadata": {
    "execution": {
     "iopub.execute_input": "2020-08-30T17:37:43.323089Z",
     "iopub.status.busy": "2020-08-30T17:37:43.323089Z",
     "iopub.status.idle": "2020-08-30T17:37:43.338088Z",
     "shell.execute_reply": "2020-08-30T17:37:43.336085Z",
     "shell.execute_reply.started": "2020-08-30T17:37:43.323089Z"
    }
   },
   "outputs": [
    {
     "data": {
      "text/plain": [
       "['a', '\\n', 'b']"
      ]
     },
     "execution_count": 114,
     "metadata": {},
     "output_type": "execute_result"
    }
   ],
   "source": [
    "list(multiline_string)"
   ]
  },
  {
   "cell_type": "markdown",
   "metadata": {},
   "source": [
    "Strings also support several list operations, which are discussed in the next section. We'll look at a couple of examples here.\n",
    "\n",
    "You can access individual characters within a string using the `[]` indexing notation. Note the character indices go from `0` to `n-1`, where `n` is the length of the string."
   ]
  },
  {
   "cell_type": "code",
   "execution_count": 115,
   "metadata": {
    "execution": {
     "iopub.execute_input": "2020-08-30T17:37:45.192149Z",
     "iopub.status.busy": "2020-08-30T17:37:45.191149Z",
     "iopub.status.idle": "2020-08-30T17:37:45.201148Z",
     "shell.execute_reply": "2020-08-30T17:37:45.199147Z",
     "shell.execute_reply.started": "2020-08-30T17:37:45.192149Z"
    }
   },
   "outputs": [],
   "source": [
    "today = \"Saturday\""
   ]
  },
  {
   "cell_type": "code",
   "execution_count": 116,
   "metadata": {
    "execution": {
     "iopub.execute_input": "2020-08-30T17:37:46.200146Z",
     "iopub.status.busy": "2020-08-30T17:37:46.200146Z",
     "iopub.status.idle": "2020-08-30T17:37:46.224147Z",
     "shell.execute_reply": "2020-08-30T17:37:46.222144Z",
     "shell.execute_reply.started": "2020-08-30T17:37:46.200146Z"
    }
   },
   "outputs": [
    {
     "data": {
      "text/plain": [
       "'S'"
      ]
     },
     "execution_count": 116,
     "metadata": {},
     "output_type": "execute_result"
    }
   ],
   "source": [
    "today[0]"
   ]
  },
  {
   "cell_type": "code",
   "execution_count": 117,
   "metadata": {
    "execution": {
     "iopub.execute_input": "2020-08-30T17:37:48.703149Z",
     "iopub.status.busy": "2020-08-30T17:37:48.702147Z",
     "iopub.status.idle": "2020-08-30T17:37:48.716149Z",
     "shell.execute_reply": "2020-08-30T17:37:48.714149Z",
     "shell.execute_reply.started": "2020-08-30T17:37:48.702147Z"
    }
   },
   "outputs": [
    {
     "data": {
      "text/plain": [
       "'u'"
      ]
     },
     "execution_count": 117,
     "metadata": {},
     "output_type": "execute_result"
    }
   ],
   "source": [
    "today[3]"
   ]
  },
  {
   "cell_type": "code",
   "execution_count": 118,
   "metadata": {
    "execution": {
     "iopub.execute_input": "2020-08-30T17:37:49.745034Z",
     "iopub.status.busy": "2020-08-30T17:37:49.744038Z",
     "iopub.status.idle": "2020-08-30T17:37:49.762035Z",
     "shell.execute_reply": "2020-08-30T17:37:49.760031Z",
     "shell.execute_reply.started": "2020-08-30T17:37:49.745034Z"
    }
   },
   "outputs": [
    {
     "data": {
      "text/plain": [
       "'y'"
      ]
     },
     "execution_count": 118,
     "metadata": {},
     "output_type": "execute_result"
    }
   ],
   "source": [
    "today[7]"
   ]
  },
  {
   "cell_type": "markdown",
   "metadata": {},
   "source": [
    "You can access a part of a string using by providing a `start:end` range instead of a single index in `[]`."
   ]
  },
  {
   "cell_type": "code",
   "execution_count": 119,
   "metadata": {
    "execution": {
     "iopub.execute_input": "2020-08-30T17:37:52.273937Z",
     "iopub.status.busy": "2020-08-30T17:37:52.272939Z",
     "iopub.status.idle": "2020-08-30T17:37:52.290936Z",
     "shell.execute_reply": "2020-08-30T17:37:52.288938Z",
     "shell.execute_reply.started": "2020-08-30T17:37:52.273937Z"
    }
   },
   "outputs": [
    {
     "data": {
      "text/plain": [
       "'day'"
      ]
     },
     "execution_count": 119,
     "metadata": {},
     "output_type": "execute_result"
    }
   ],
   "source": [
    "today[5:8]"
   ]
  },
  {
   "cell_type": "markdown",
   "metadata": {},
   "source": [
    "You can also check whether a string contains a some text using the `in` operator. "
   ]
  },
  {
   "cell_type": "code",
   "execution_count": 120,
   "metadata": {
    "execution": {
     "iopub.execute_input": "2020-08-30T17:37:55.169311Z",
     "iopub.status.busy": "2020-08-30T17:37:55.167960Z",
     "iopub.status.idle": "2020-08-30T17:37:55.183961Z",
     "shell.execute_reply": "2020-08-30T17:37:55.181961Z",
     "shell.execute_reply.started": "2020-08-30T17:37:55.169311Z"
    }
   },
   "outputs": [
    {
     "data": {
      "text/plain": [
       "True"
      ]
     },
     "execution_count": 120,
     "metadata": {},
     "output_type": "execute_result"
    }
   ],
   "source": [
    "'day' in today"
   ]
  },
  {
   "cell_type": "code",
   "execution_count": 121,
   "metadata": {
    "execution": {
     "iopub.execute_input": "2020-08-30T17:37:56.169836Z",
     "iopub.status.busy": "2020-08-30T17:37:56.169460Z",
     "iopub.status.idle": "2020-08-30T17:37:56.182834Z",
     "shell.execute_reply": "2020-08-30T17:37:56.180835Z",
     "shell.execute_reply.started": "2020-08-30T17:37:56.169836Z"
    }
   },
   "outputs": [
    {
     "data": {
      "text/plain": [
       "False"
      ]
     },
     "execution_count": 121,
     "metadata": {},
     "output_type": "execute_result"
    }
   ],
   "source": [
    "'Sun' in today"
   ]
  },
  {
   "cell_type": "markdown",
   "metadata": {},
   "source": [
    "Two or more strings can be joined or *concatenated* using the `+` operator. Be careful while concatenating strings, sometimes you may need to add a space character `\" \"` between words."
   ]
  },
  {
   "cell_type": "code",
   "execution_count": 122,
   "metadata": {
    "execution": {
     "iopub.execute_input": "2020-08-30T17:37:58.166940Z",
     "iopub.status.busy": "2020-08-30T17:37:58.165941Z",
     "iopub.status.idle": "2020-08-30T17:37:58.180938Z",
     "shell.execute_reply": "2020-08-30T17:37:58.179937Z",
     "shell.execute_reply.started": "2020-08-30T17:37:58.166940Z"
    }
   },
   "outputs": [],
   "source": [
    "full_name = \"Derek O'Brien\""
   ]
  },
  {
   "cell_type": "code",
   "execution_count": 123,
   "metadata": {
    "execution": {
     "iopub.execute_input": "2020-08-30T17:37:59.191347Z",
     "iopub.status.busy": "2020-08-30T17:37:59.190345Z",
     "iopub.status.idle": "2020-08-30T17:37:59.204351Z",
     "shell.execute_reply": "2020-08-30T17:37:59.202530Z",
     "shell.execute_reply.started": "2020-08-30T17:37:59.191347Z"
    }
   },
   "outputs": [],
   "source": [
    "greeting = \"Hello\""
   ]
  },
  {
   "cell_type": "code",
   "execution_count": 124,
   "metadata": {
    "execution": {
     "iopub.execute_input": "2020-08-30T17:38:00.183448Z",
     "iopub.status.busy": "2020-08-30T17:38:00.182447Z",
     "iopub.status.idle": "2020-08-30T17:38:00.198444Z",
     "shell.execute_reply": "2020-08-30T17:38:00.196445Z",
     "shell.execute_reply.started": "2020-08-30T17:38:00.183448Z"
    }
   },
   "outputs": [
    {
     "data": {
      "text/plain": [
       "\"HelloDerek O'Brien\""
      ]
     },
     "execution_count": 124,
     "metadata": {},
     "output_type": "execute_result"
    }
   ],
   "source": [
    "greeting + full_name"
   ]
  },
  {
   "cell_type": "code",
   "execution_count": 125,
   "metadata": {
    "execution": {
     "iopub.execute_input": "2020-08-30T17:38:01.336444Z",
     "iopub.status.busy": "2020-08-30T17:38:01.335446Z",
     "iopub.status.idle": "2020-08-30T17:38:01.347442Z",
     "shell.execute_reply": "2020-08-30T17:38:01.345440Z",
     "shell.execute_reply.started": "2020-08-30T17:38:01.336444Z"
    }
   },
   "outputs": [
    {
     "data": {
      "text/plain": [
       "\"Hello Derek O'Brien!\""
      ]
     },
     "execution_count": 125,
     "metadata": {},
     "output_type": "execute_result"
    }
   ],
   "source": [
    "greeting + \" \" + full_name + \"!\" # additional space"
   ]
  },
  {
   "cell_type": "markdown",
   "metadata": {},
   "source": [
    "String in Python have many built-in *methods* that can be used to manipulate them. Let's try out some common string methods.\n",
    "\n",
    "> **Methods**: Methods are functions associated with data types, and are accessed using the `.` notatation e.g. `variable_name.method()` or `\"a string\".method()`. Methods are a powerful technique for associating common operations with values of specific data types.\n",
    "\n",
    "The `.lower()`, `.upper()` and `.capitalize()` methods are used to change the case of the characters."
   ]
  },
  {
   "cell_type": "code",
   "execution_count": 126,
   "metadata": {
    "execution": {
     "iopub.execute_input": "2020-08-30T17:38:03.201225Z",
     "iopub.status.busy": "2020-08-30T17:38:03.200226Z",
     "iopub.status.idle": "2020-08-30T17:38:03.226230Z",
     "shell.execute_reply": "2020-08-30T17:38:03.224224Z",
     "shell.execute_reply.started": "2020-08-30T17:38:03.201225Z"
    }
   },
   "outputs": [
    {
     "data": {
      "text/plain": [
       "'saturday'"
      ]
     },
     "execution_count": 126,
     "metadata": {},
     "output_type": "execute_result"
    }
   ],
   "source": [
    "today.lower()"
   ]
  },
  {
   "cell_type": "code",
   "execution_count": 127,
   "metadata": {
    "execution": {
     "iopub.execute_input": "2020-08-30T17:38:04.281626Z",
     "iopub.status.busy": "2020-08-30T17:38:04.280625Z",
     "iopub.status.idle": "2020-08-30T17:38:04.298622Z",
     "shell.execute_reply": "2020-08-30T17:38:04.296624Z",
     "shell.execute_reply.started": "2020-08-30T17:38:04.281626Z"
    }
   },
   "outputs": [
    {
     "data": {
      "text/plain": [
       "'SATURDAY'"
      ]
     },
     "execution_count": 127,
     "metadata": {},
     "output_type": "execute_result"
    }
   ],
   "source": [
    "\"saturday\".upper()"
   ]
  },
  {
   "cell_type": "code",
   "execution_count": 128,
   "metadata": {
    "execution": {
     "iopub.execute_input": "2020-08-30T17:38:05.145620Z",
     "iopub.status.busy": "2020-08-30T17:38:05.144622Z",
     "iopub.status.idle": "2020-08-30T17:38:05.156623Z",
     "shell.execute_reply": "2020-08-30T17:38:05.154625Z",
     "shell.execute_reply.started": "2020-08-30T17:38:05.145620Z"
    }
   },
   "outputs": [
    {
     "data": {
      "text/plain": [
       "'Monday'"
      ]
     },
     "execution_count": 128,
     "metadata": {},
     "output_type": "execute_result"
    }
   ],
   "source": [
    "\"monday\".capitalize() # changes first character to uppercase"
   ]
  },
  {
   "cell_type": "markdown",
   "metadata": {},
   "source": [
    "The `.replace` method is used to replace a part of the string with another string. It takes the portion to be replaced and the replacement text as *inputs* or *arguments*."
   ]
  },
  {
   "cell_type": "code",
   "execution_count": 129,
   "metadata": {
    "execution": {
     "iopub.execute_input": "2020-08-30T17:38:08.177022Z",
     "iopub.status.busy": "2020-08-30T17:38:08.176024Z",
     "iopub.status.idle": "2020-08-30T17:38:08.191021Z",
     "shell.execute_reply": "2020-08-30T17:38:08.190020Z",
     "shell.execute_reply.started": "2020-08-30T17:38:08.177022Z"
    }
   },
   "outputs": [],
   "source": [
    "another_day = today.replace(\"Satur\", \"Wednes\")"
   ]
  },
  {
   "cell_type": "code",
   "execution_count": 130,
   "metadata": {
    "execution": {
     "iopub.execute_input": "2020-08-30T17:38:08.917030Z",
     "iopub.status.busy": "2020-08-30T17:38:08.916026Z",
     "iopub.status.idle": "2020-08-30T17:38:08.932023Z",
     "shell.execute_reply": "2020-08-30T17:38:08.930028Z",
     "shell.execute_reply.started": "2020-08-30T17:38:08.917030Z"
    }
   },
   "outputs": [
    {
     "data": {
      "text/plain": [
       "'Wednesday'"
      ]
     },
     "execution_count": 130,
     "metadata": {},
     "output_type": "execute_result"
    }
   ],
   "source": [
    "another_day"
   ]
  },
  {
   "cell_type": "markdown",
   "metadata": {},
   "source": [
    "Note that a new string is returned, and the original string is not modified."
   ]
  },
  {
   "cell_type": "code",
   "execution_count": 131,
   "metadata": {
    "execution": {
     "iopub.execute_input": "2020-08-30T17:38:11.341054Z",
     "iopub.status.busy": "2020-08-30T17:38:11.340053Z",
     "iopub.status.idle": "2020-08-30T17:38:11.349053Z",
     "shell.execute_reply": "2020-08-30T17:38:11.348052Z",
     "shell.execute_reply.started": "2020-08-30T17:38:11.341054Z"
    }
   },
   "outputs": [
    {
     "data": {
      "text/plain": [
       "'Saturday'"
      ]
     },
     "execution_count": 131,
     "metadata": {},
     "output_type": "execute_result"
    }
   ],
   "source": [
    "today"
   ]
  },
  {
   "cell_type": "markdown",
   "metadata": {},
   "source": [
    "The `.split` method can be used to split a string into a list of strings based using the character(s) provided."
   ]
  },
  {
   "cell_type": "code",
   "execution_count": 132,
   "metadata": {
    "execution": {
     "iopub.execute_input": "2020-08-30T17:38:13.276109Z",
     "iopub.status.busy": "2020-08-30T17:38:13.276109Z",
     "iopub.status.idle": "2020-08-30T17:38:13.297103Z",
     "shell.execute_reply": "2020-08-30T17:38:13.295102Z",
     "shell.execute_reply.started": "2020-08-30T17:38:13.276109Z"
    }
   },
   "outputs": [
    {
     "data": {
      "text/plain": [
       "['Sun', 'Mon', 'Tue', 'Wed', 'Thu', 'Fri', 'Sat']"
      ]
     },
     "execution_count": 132,
     "metadata": {},
     "output_type": "execute_result"
    }
   ],
   "source": [
    "\"Sun,Mon,Tue,Wed,Thu,Fri,Sat\".split(\",\")"
   ]
  },
  {
   "cell_type": "markdown",
   "metadata": {},
   "source": [
    "The .strip method is used to remove whitespace characters from the beginning and end of a string."
   ]
  },
  {
   "cell_type": "code",
   "execution_count": 133,
   "metadata": {
    "execution": {
     "iopub.execute_input": "2020-08-30T17:38:16.242206Z",
     "iopub.status.busy": "2020-08-30T17:38:16.241205Z",
     "iopub.status.idle": "2020-08-30T17:38:16.260207Z",
     "shell.execute_reply": "2020-08-30T17:38:16.259203Z",
     "shell.execute_reply.started": "2020-08-30T17:38:16.242206Z"
    }
   },
   "outputs": [],
   "source": [
    "a_long_line = \"       This is a long line with some space before, after,     and some space in the middle..    \""
   ]
  },
  {
   "cell_type": "code",
   "execution_count": 134,
   "metadata": {
    "execution": {
     "iopub.execute_input": "2020-08-30T17:38:17.369478Z",
     "iopub.status.busy": "2020-08-30T17:38:17.368481Z",
     "iopub.status.idle": "2020-08-30T17:38:17.381482Z",
     "shell.execute_reply": "2020-08-30T17:38:17.380479Z",
     "shell.execute_reply.started": "2020-08-30T17:38:17.369478Z"
    }
   },
   "outputs": [],
   "source": [
    "a_long_line_stripped = a_long_line.strip()"
   ]
  },
  {
   "cell_type": "code",
   "execution_count": 135,
   "metadata": {
    "execution": {
     "iopub.execute_input": "2020-08-30T17:38:18.775392Z",
     "iopub.status.busy": "2020-08-30T17:38:18.775392Z",
     "iopub.status.idle": "2020-08-30T17:38:18.793391Z",
     "shell.execute_reply": "2020-08-30T17:38:18.792395Z",
     "shell.execute_reply.started": "2020-08-30T17:38:18.775392Z"
    }
   },
   "outputs": [
    {
     "data": {
      "text/plain": [
       "'This is a long line with some space before, after,     and some space in the middle..'"
      ]
     },
     "execution_count": 135,
     "metadata": {},
     "output_type": "execute_result"
    }
   ],
   "source": [
    "a_long_line_stripped"
   ]
  },
  {
   "cell_type": "markdown",
   "metadata": {},
   "source": [
    "The `.format` method is used to combine values of other data types e.g. integers, floats, booleans, lists etc. with strings. It is often used to create output messages for display."
   ]
  },
  {
   "cell_type": "code",
   "execution_count": 136,
   "metadata": {
    "execution": {
     "iopub.execute_input": "2020-08-30T17:38:25.457730Z",
     "iopub.status.busy": "2020-08-30T17:38:25.456733Z",
     "iopub.status.idle": "2020-08-30T17:38:25.475732Z",
     "shell.execute_reply": "2020-08-30T17:38:25.474738Z",
     "shell.execute_reply.started": "2020-08-30T17:38:25.457730Z"
    }
   },
   "outputs": [
    {
     "name": "stdout",
     "output_type": "stream",
     "text": [
      "If a grocery store sells ice bags at $ {} per bag, with a profit margin of {} %, \n",
      "then the total profit it makes by selling {} ice bags is $ {}.\n"
     ]
    }
   ],
   "source": [
    "# Input variables\n",
    "cost_of_ice_bag = 1.25\n",
    "profit_margin = .2\n",
    "number_of_bags = 500\n",
    "\n",
    "# Template for output message\n",
    "output_template = \"\"\"If a grocery store sells ice bags at $ {} per bag, with a profit margin of {} %, \n",
    "then the total profit it makes by selling {} ice bags is $ {}.\"\"\"\n",
    "\n",
    "print(output_template)"
   ]
  },
  {
   "cell_type": "code",
   "execution_count": 137,
   "metadata": {
    "execution": {
     "iopub.execute_input": "2020-08-30T17:38:27.189505Z",
     "iopub.status.busy": "2020-08-30T17:38:27.188507Z",
     "iopub.status.idle": "2020-08-30T17:38:27.202601Z",
     "shell.execute_reply": "2020-08-30T17:38:27.200504Z",
     "shell.execute_reply.started": "2020-08-30T17:38:27.189505Z"
    }
   },
   "outputs": [
    {
     "name": "stdout",
     "output_type": "stream",
     "text": [
      "If a grocery store sells ice bags at $ 1.25 per bag, with a profit margin of 20.0 %, \n",
      "then the total profit it makes by selling 500 ice bags is $ 125.0.\n"
     ]
    }
   ],
   "source": [
    "# Inserting values into the string\n",
    "total_profit = cost_of_ice_bag * profit_margin * number_of_bags\n",
    "output_message = output_template.format(cost_of_ice_bag, profit_margin*100, number_of_bags, total_profit)\n",
    "\n",
    "print(output_message)"
   ]
  },
  {
   "cell_type": "markdown",
   "metadata": {},
   "source": [
    "Notice how the placeholders `{}` in the `output_template` string are replaced with the arguments provided to the `.format` method.\n",
    "\n",
    "It is also possible use the string concatenation operator `+` to combine strings with other values, however, those values must first be converted to strings using the `str` function."
   ]
  },
  {
   "cell_type": "code",
   "execution_count": 138,
   "metadata": {
    "execution": {
     "iopub.execute_input": "2020-08-30T17:38:42.781954Z",
     "iopub.status.busy": "2020-08-30T17:38:42.780955Z",
     "iopub.status.idle": "2020-08-30T17:38:42.813955Z",
     "shell.execute_reply": "2020-08-30T17:38:42.811953Z",
     "shell.execute_reply.started": "2020-08-30T17:38:42.781954Z"
    }
   },
   "outputs": [
    {
     "ename": "TypeError",
     "evalue": "can only concatenate str (not \"float\") to str",
     "output_type": "error",
     "traceback": [
      "\u001b[1;31m---------------------------------------------------------------------------\u001b[0m",
      "\u001b[1;31mTypeError\u001b[0m                                 Traceback (most recent call last)",
      "\u001b[1;32m<ipython-input-138-78b7958ec7cc>\u001b[0m in \u001b[0;36m<module>\u001b[1;34m\u001b[0m\n\u001b[1;32m----> 1\u001b[1;33m \u001b[1;34m\"If a grocery store sells ice bags at $ \"\u001b[0m \u001b[1;33m+\u001b[0m \u001b[0mcost_of_ice_bag\u001b[0m \u001b[1;33m+\u001b[0m \u001b[1;34m\", with a profit margin of \"\u001b[0m \u001b[1;33m+\u001b[0m \u001b[0mprofit_margin\u001b[0m\u001b[1;33m\u001b[0m\u001b[1;33m\u001b[0m\u001b[0m\n\u001b[0m",
      "\u001b[1;31mTypeError\u001b[0m: can only concatenate str (not \"float\") to str"
     ]
    }
   ],
   "source": [
    "\"If a grocery store sells ice bags at $ \" + cost_of_ice_bag + \", with a profit margin of \" + profit_margin"
   ]
  },
  {
   "cell_type": "code",
   "execution_count": 139,
   "metadata": {
    "execution": {
     "iopub.execute_input": "2020-08-30T17:38:48.265963Z",
     "iopub.status.busy": "2020-08-30T17:38:48.264958Z",
     "iopub.status.idle": "2020-08-30T17:38:48.285958Z",
     "shell.execute_reply": "2020-08-30T17:38:48.283957Z",
     "shell.execute_reply.started": "2020-08-30T17:38:48.265963Z"
    }
   },
   "outputs": [
    {
     "data": {
      "text/plain": [
       "'If a grocery store sells ice bags at $ 1.25, with a profit margin of 0.2'"
      ]
     },
     "execution_count": 139,
     "metadata": {},
     "output_type": "execute_result"
    }
   ],
   "source": [
    "\"If a grocery store sells ice bags at $ \" + str(cost_of_ice_bag) + \", with a profit margin of \" + str(profit_margin)"
   ]
  },
  {
   "cell_type": "markdown",
   "metadata": {},
   "source": [
    "In fact, the `str` can be used to convert a value of any data type into a string."
   ]
  },
  {
   "cell_type": "code",
   "execution_count": 140,
   "metadata": {
    "execution": {
     "iopub.execute_input": "2020-08-30T17:38:52.055959Z",
     "iopub.status.busy": "2020-08-30T17:38:52.054956Z",
     "iopub.status.idle": "2020-08-30T17:38:52.068968Z",
     "shell.execute_reply": "2020-08-30T17:38:52.066957Z",
     "shell.execute_reply.started": "2020-08-30T17:38:52.055959Z"
    }
   },
   "outputs": [
    {
     "data": {
      "text/plain": [
       "'23'"
      ]
     },
     "execution_count": 140,
     "metadata": {},
     "output_type": "execute_result"
    }
   ],
   "source": [
    "str(23)"
   ]
  },
  {
   "cell_type": "code",
   "execution_count": 141,
   "metadata": {
    "execution": {
     "iopub.execute_input": "2020-08-30T17:38:53.531964Z",
     "iopub.status.busy": "2020-08-30T17:38:53.530960Z",
     "iopub.status.idle": "2020-08-30T17:38:53.552952Z",
     "shell.execute_reply": "2020-08-30T17:38:53.550953Z",
     "shell.execute_reply.started": "2020-08-30T17:38:53.531964Z"
    }
   },
   "outputs": [
    {
     "data": {
      "text/plain": [
       "'23.432'"
      ]
     },
     "execution_count": 141,
     "metadata": {},
     "output_type": "execute_result"
    }
   ],
   "source": [
    "str(23.432)"
   ]
  },
  {
   "cell_type": "code",
   "execution_count": 142,
   "metadata": {
    "execution": {
     "iopub.execute_input": "2020-08-30T17:38:54.648953Z",
     "iopub.status.busy": "2020-08-30T17:38:54.648953Z",
     "iopub.status.idle": "2020-08-30T17:38:54.672957Z",
     "shell.execute_reply": "2020-08-30T17:38:54.671953Z",
     "shell.execute_reply.started": "2020-08-30T17:38:54.648953Z"
    }
   },
   "outputs": [
    {
     "data": {
      "text/plain": [
       "'True'"
      ]
     },
     "execution_count": 142,
     "metadata": {},
     "output_type": "execute_result"
    }
   ],
   "source": [
    "str(True)"
   ]
  },
  {
   "cell_type": "code",
   "execution_count": 143,
   "metadata": {
    "execution": {
     "iopub.execute_input": "2020-08-30T17:38:55.702175Z",
     "iopub.status.busy": "2020-08-30T17:38:55.700957Z",
     "iopub.status.idle": "2020-08-30T17:38:55.711955Z",
     "shell.execute_reply": "2020-08-30T17:38:55.710955Z",
     "shell.execute_reply.started": "2020-08-30T17:38:55.701956Z"
    }
   },
   "outputs": [
    {
     "data": {
      "text/plain": [
       "\"['Athos', 'Porthos', 'Aramis']\""
      ]
     },
     "execution_count": 143,
     "metadata": {},
     "output_type": "execute_result"
    }
   ],
   "source": [
    "the_3_musketeers = [\"Athos\", \"Porthos\", \"Aramis\"]\n",
    "str(the_3_musketeers)"
   ]
  },
  {
   "cell_type": "markdown",
   "metadata": {},
   "source": [
    "Note that all string methods returns new values, and DO NOT change the existing string. You can find a full list of string methods here: https://www.w3schools.com/python/python_ref_string.asp. "
   ]
  },
  {
   "cell_type": "markdown",
   "metadata": {},
   "source": [
    "Strings also support the comparision operators `==` and `!=` for checking whether two strings are equal"
   ]
  },
  {
   "cell_type": "code",
   "execution_count": 144,
   "metadata": {
    "execution": {
     "iopub.execute_input": "2020-08-30T17:38:59.174480Z",
     "iopub.status.busy": "2020-08-30T17:38:59.173479Z",
     "iopub.status.idle": "2020-08-30T17:38:59.187482Z",
     "shell.execute_reply": "2020-08-30T17:38:59.185481Z",
     "shell.execute_reply.started": "2020-08-30T17:38:59.174480Z"
    }
   },
   "outputs": [],
   "source": [
    "first_name = \"John\""
   ]
  },
  {
   "cell_type": "code",
   "execution_count": 145,
   "metadata": {
    "execution": {
     "iopub.execute_input": "2020-08-30T17:39:04.278508Z",
     "iopub.status.busy": "2020-08-30T17:39:04.277509Z",
     "iopub.status.idle": "2020-08-30T17:39:04.287508Z",
     "shell.execute_reply": "2020-08-30T17:39:04.285506Z",
     "shell.execute_reply.started": "2020-08-30T17:39:04.278508Z"
    }
   },
   "outputs": [
    {
     "data": {
      "text/plain": [
       "False"
      ]
     },
     "execution_count": 145,
     "metadata": {},
     "output_type": "execute_result"
    }
   ],
   "source": [
    "first_name == \"Doe\""
   ]
  },
  {
   "cell_type": "code",
   "execution_count": 146,
   "metadata": {
    "execution": {
     "iopub.execute_input": "2020-08-30T17:39:05.496097Z",
     "iopub.status.busy": "2020-08-30T17:39:05.496097Z",
     "iopub.status.idle": "2020-08-30T17:39:05.515101Z",
     "shell.execute_reply": "2020-08-30T17:39:05.514098Z",
     "shell.execute_reply.started": "2020-08-30T17:39:05.496097Z"
    }
   },
   "outputs": [
    {
     "data": {
      "text/plain": [
       "True"
      ]
     },
     "execution_count": 146,
     "metadata": {},
     "output_type": "execute_result"
    }
   ],
   "source": [
    "first_name == \"John\""
   ]
  },
  {
   "cell_type": "code",
   "execution_count": 147,
   "metadata": {
    "execution": {
     "iopub.execute_input": "2020-08-30T17:39:06.557018Z",
     "iopub.status.busy": "2020-08-30T17:39:06.557018Z",
     "iopub.status.idle": "2020-08-30T17:39:06.574018Z",
     "shell.execute_reply": "2020-08-30T17:39:06.572017Z",
     "shell.execute_reply.started": "2020-08-30T17:39:06.557018Z"
    }
   },
   "outputs": [
    {
     "data": {
      "text/plain": [
       "True"
      ]
     },
     "execution_count": 147,
     "metadata": {},
     "output_type": "execute_result"
    }
   ],
   "source": [
    "first_name != \"Jane\""
   ]
  },
  {
   "cell_type": "markdown",
   "metadata": {},
   "source": [
    "We've looked at the primitive data types in Python, and we're now ready to explore non-primitive data structures or containers.\n",
    "\n",
    "Before continuing, let us run `jovian.commit` once again to record another snapshot of our notebook."
   ]
  },
  {
   "cell_type": "code",
   "execution_count": null,
   "metadata": {
    "execution": {
     "iopub.status.busy": "2020-08-30T17:26:10.468578Z",
     "iopub.status.idle": "2020-08-30T17:26:10.468578Z"
    }
   },
   "outputs": [],
   "source": [
    "if not skip_commit:\n",
    "    \n",
    "    jovian.commit()"
   ]
  },
  {
   "cell_type": "markdown",
   "metadata": {},
   "source": [
    "Running `jovian.commit` multiple times within a notebook automatically records new versions. You will continue to have access to all the previous versions of your notebook, using the versions dropdown on the Jovian.ml web interface."
   ]
  },
  {
   "cell_type": "markdown",
   "metadata": {},
   "source": [
    "### List\n",
    "\n",
    "A list in Python is an ordered collection of values. Lists can hold values of different data types, and support operations to add, remove and change values. Lists have the type `list`.\n",
    "\n",
    "To create a list, enclose a list of values within square brackets `[` and `]`, separated by commas."
   ]
  },
  {
   "cell_type": "code",
   "execution_count": 148,
   "metadata": {
    "execution": {
     "iopub.execute_input": "2020-08-30T17:39:41.213772Z",
     "iopub.status.busy": "2020-08-30T17:39:41.212773Z",
     "iopub.status.idle": "2020-08-30T17:39:41.229775Z",
     "shell.execute_reply": "2020-08-30T17:39:41.228776Z",
     "shell.execute_reply.started": "2020-08-30T17:39:41.213772Z"
    }
   },
   "outputs": [],
   "source": [
    "fruits = ['apple', 'banana', 'cherry']"
   ]
  },
  {
   "cell_type": "code",
   "execution_count": 149,
   "metadata": {
    "execution": {
     "iopub.execute_input": "2020-08-30T17:39:42.252771Z",
     "iopub.status.busy": "2020-08-30T17:39:42.252771Z",
     "iopub.status.idle": "2020-08-30T17:39:42.266770Z",
     "shell.execute_reply": "2020-08-30T17:39:42.264767Z",
     "shell.execute_reply.started": "2020-08-30T17:39:42.252771Z"
    }
   },
   "outputs": [
    {
     "data": {
      "text/plain": [
       "['apple', 'banana', 'cherry']"
      ]
     },
     "execution_count": 149,
     "metadata": {},
     "output_type": "execute_result"
    }
   ],
   "source": [
    "fruits"
   ]
  },
  {
   "cell_type": "code",
   "execution_count": 150,
   "metadata": {
    "execution": {
     "iopub.execute_input": "2020-08-30T17:39:43.549781Z",
     "iopub.status.busy": "2020-08-30T17:39:43.549781Z",
     "iopub.status.idle": "2020-08-30T17:39:43.565768Z",
     "shell.execute_reply": "2020-08-30T17:39:43.564767Z",
     "shell.execute_reply.started": "2020-08-30T17:39:43.549781Z"
    }
   },
   "outputs": [
    {
     "data": {
      "text/plain": [
       "list"
      ]
     },
     "execution_count": 150,
     "metadata": {},
     "output_type": "execute_result"
    }
   ],
   "source": [
    "type(fruits)"
   ]
  },
  {
   "cell_type": "markdown",
   "metadata": {},
   "source": [
    "Let's try creating a list containing values of different data types, including another list."
   ]
  },
  {
   "cell_type": "code",
   "execution_count": 151,
   "metadata": {
    "execution": {
     "iopub.execute_input": "2020-08-30T17:39:45.413773Z",
     "iopub.status.busy": "2020-08-30T17:39:45.413773Z",
     "iopub.status.idle": "2020-08-30T17:39:45.434084Z",
     "shell.execute_reply": "2020-08-30T17:39:45.431767Z",
     "shell.execute_reply.started": "2020-08-30T17:39:45.413773Z"
    }
   },
   "outputs": [],
   "source": [
    "a_list = [23, 'hello', None, 3.14, fruits, 3 <= 5]"
   ]
  },
  {
   "cell_type": "code",
   "execution_count": 152,
   "metadata": {
    "execution": {
     "iopub.execute_input": "2020-08-30T17:39:46.736771Z",
     "iopub.status.busy": "2020-08-30T17:39:46.736771Z",
     "iopub.status.idle": "2020-08-30T17:39:46.746770Z",
     "shell.execute_reply": "2020-08-30T17:39:46.744767Z",
     "shell.execute_reply.started": "2020-08-30T17:39:46.736771Z"
    }
   },
   "outputs": [
    {
     "data": {
      "text/plain": [
       "[23, 'hello', None, 3.14, ['apple', 'banana', 'cherry'], True]"
      ]
     },
     "execution_count": 152,
     "metadata": {},
     "output_type": "execute_result"
    }
   ],
   "source": [
    "a_list"
   ]
  },
  {
   "cell_type": "code",
   "execution_count": 153,
   "metadata": {
    "execution": {
     "iopub.execute_input": "2020-08-30T17:39:47.924771Z",
     "iopub.status.busy": "2020-08-30T17:39:47.924771Z",
     "iopub.status.idle": "2020-08-30T17:39:47.943772Z",
     "shell.execute_reply": "2020-08-30T17:39:47.941771Z",
     "shell.execute_reply.started": "2020-08-30T17:39:47.924771Z"
    }
   },
   "outputs": [],
   "source": [
    "empty_list = []"
   ]
  },
  {
   "cell_type": "code",
   "execution_count": 154,
   "metadata": {
    "execution": {
     "iopub.execute_input": "2020-08-30T17:39:48.863775Z",
     "iopub.status.busy": "2020-08-30T17:39:48.862771Z",
     "iopub.status.idle": "2020-08-30T17:39:48.873769Z",
     "shell.execute_reply": "2020-08-30T17:39:48.872768Z",
     "shell.execute_reply.started": "2020-08-30T17:39:48.863775Z"
    }
   },
   "outputs": [
    {
     "data": {
      "text/plain": [
       "[]"
      ]
     },
     "execution_count": 154,
     "metadata": {},
     "output_type": "execute_result"
    }
   ],
   "source": [
    "empty_list"
   ]
  },
  {
   "cell_type": "markdown",
   "metadata": {},
   "source": [
    "To determine the number of values in a list, use the `len` function. In general, the `len` function can be used to determine of values in several other data types."
   ]
  },
  {
   "cell_type": "code",
   "execution_count": 155,
   "metadata": {
    "execution": {
     "iopub.execute_input": "2020-08-30T17:39:50.736375Z",
     "iopub.status.busy": "2020-08-30T17:39:50.735380Z",
     "iopub.status.idle": "2020-08-30T17:39:50.743382Z",
     "shell.execute_reply": "2020-08-30T17:39:50.742377Z",
     "shell.execute_reply.started": "2020-08-30T17:39:50.736375Z"
    }
   },
   "outputs": [
    {
     "data": {
      "text/plain": [
       "3"
      ]
     },
     "execution_count": 155,
     "metadata": {},
     "output_type": "execute_result"
    }
   ],
   "source": [
    "len(fruits)"
   ]
  },
  {
   "cell_type": "code",
   "execution_count": 156,
   "metadata": {
    "execution": {
     "iopub.execute_input": "2020-08-30T17:39:51.747961Z",
     "iopub.status.busy": "2020-08-30T17:39:51.746964Z",
     "iopub.status.idle": "2020-08-30T17:39:51.762960Z",
     "shell.execute_reply": "2020-08-30T17:39:51.761964Z",
     "shell.execute_reply.started": "2020-08-30T17:39:51.747961Z"
    }
   },
   "outputs": [
    {
     "name": "stdout",
     "output_type": "stream",
     "text": [
      "Number of fruits: 3\n"
     ]
    }
   ],
   "source": [
    "print(\"Number of fruits:\", len(fruits))"
   ]
  },
  {
   "cell_type": "code",
   "execution_count": 157,
   "metadata": {
    "execution": {
     "iopub.execute_input": "2020-08-30T17:39:53.173009Z",
     "iopub.status.busy": "2020-08-30T17:39:53.173009Z",
     "iopub.status.idle": "2020-08-30T17:39:53.188010Z",
     "shell.execute_reply": "2020-08-30T17:39:53.186012Z",
     "shell.execute_reply.started": "2020-08-30T17:39:53.173009Z"
    }
   },
   "outputs": [
    {
     "data": {
      "text/plain": [
       "6"
      ]
     },
     "execution_count": 157,
     "metadata": {},
     "output_type": "execute_result"
    }
   ],
   "source": [
    "len(a_list)"
   ]
  },
  {
   "cell_type": "code",
   "execution_count": 158,
   "metadata": {
    "execution": {
     "iopub.execute_input": "2020-08-30T17:39:55.589063Z",
     "iopub.status.busy": "2020-08-30T17:39:55.589063Z",
     "iopub.status.idle": "2020-08-30T17:39:55.607062Z",
     "shell.execute_reply": "2020-08-30T17:39:55.606062Z",
     "shell.execute_reply.started": "2020-08-30T17:39:55.589063Z"
    }
   },
   "outputs": [
    {
     "data": {
      "text/plain": [
       "0"
      ]
     },
     "execution_count": 158,
     "metadata": {},
     "output_type": "execute_result"
    }
   ],
   "source": [
    "len(empty_list)"
   ]
  },
  {
   "cell_type": "markdown",
   "metadata": {},
   "source": [
    "You can access the elements of a list using the the *index* of the element, starting from the index 0."
   ]
  },
  {
   "cell_type": "code",
   "execution_count": 159,
   "metadata": {
    "execution": {
     "iopub.execute_input": "2020-08-30T17:39:57.756289Z",
     "iopub.status.busy": "2020-08-30T17:39:57.755290Z",
     "iopub.status.idle": "2020-08-30T17:39:57.765293Z",
     "shell.execute_reply": "2020-08-30T17:39:57.763290Z",
     "shell.execute_reply.started": "2020-08-30T17:39:57.756289Z"
    }
   },
   "outputs": [
    {
     "data": {
      "text/plain": [
       "'apple'"
      ]
     },
     "execution_count": 159,
     "metadata": {},
     "output_type": "execute_result"
    }
   ],
   "source": [
    "fruits[0]"
   ]
  },
  {
   "cell_type": "code",
   "execution_count": 160,
   "metadata": {
    "execution": {
     "iopub.execute_input": "2020-08-30T17:39:58.777430Z",
     "iopub.status.busy": "2020-08-30T17:39:58.776429Z",
     "iopub.status.idle": "2020-08-30T17:39:58.787423Z",
     "shell.execute_reply": "2020-08-30T17:39:58.786431Z",
     "shell.execute_reply.started": "2020-08-30T17:39:58.777430Z"
    }
   },
   "outputs": [
    {
     "data": {
      "text/plain": [
       "'banana'"
      ]
     },
     "execution_count": 160,
     "metadata": {},
     "output_type": "execute_result"
    }
   ],
   "source": [
    "fruits[1]"
   ]
  },
  {
   "cell_type": "code",
   "execution_count": 161,
   "metadata": {
    "execution": {
     "iopub.execute_input": "2020-08-30T17:39:59.714591Z",
     "iopub.status.busy": "2020-08-30T17:39:59.713592Z",
     "iopub.status.idle": "2020-08-30T17:39:59.733696Z",
     "shell.execute_reply": "2020-08-30T17:39:59.731591Z",
     "shell.execute_reply.started": "2020-08-30T17:39:59.713592Z"
    }
   },
   "outputs": [
    {
     "data": {
      "text/plain": [
       "'cherry'"
      ]
     },
     "execution_count": 161,
     "metadata": {},
     "output_type": "execute_result"
    }
   ],
   "source": [
    "fruits[2]"
   ]
  },
  {
   "cell_type": "markdown",
   "metadata": {},
   "source": [
    "If you try to access an index equal to or higher than the length of the list, Python returns an `IndexError`."
   ]
  },
  {
   "cell_type": "code",
   "execution_count": 162,
   "metadata": {
    "execution": {
     "iopub.execute_input": "2020-08-30T17:40:01.806549Z",
     "iopub.status.busy": "2020-08-30T17:40:01.805551Z",
     "iopub.status.idle": "2020-08-30T17:40:01.831554Z",
     "shell.execute_reply": "2020-08-30T17:40:01.829550Z",
     "shell.execute_reply.started": "2020-08-30T17:40:01.806549Z"
    }
   },
   "outputs": [
    {
     "ename": "IndexError",
     "evalue": "list index out of range",
     "output_type": "error",
     "traceback": [
      "\u001b[1;31m---------------------------------------------------------------------------\u001b[0m",
      "\u001b[1;31mIndexError\u001b[0m                                Traceback (most recent call last)",
      "\u001b[1;32m<ipython-input-162-7ceeafd384d7>\u001b[0m in \u001b[0;36m<module>\u001b[1;34m\u001b[0m\n\u001b[1;32m----> 1\u001b[1;33m \u001b[0mfruits\u001b[0m\u001b[1;33m[\u001b[0m\u001b[1;36m3\u001b[0m\u001b[1;33m]\u001b[0m\u001b[1;33m\u001b[0m\u001b[1;33m\u001b[0m\u001b[0m\n\u001b[0m",
      "\u001b[1;31mIndexError\u001b[0m: list index out of range"
     ]
    }
   ],
   "source": [
    "fruits[3]"
   ]
  },
  {
   "cell_type": "code",
   "execution_count": 163,
   "metadata": {
    "execution": {
     "iopub.execute_input": "2020-08-30T17:40:04.744649Z",
     "iopub.status.busy": "2020-08-30T17:40:04.743649Z",
     "iopub.status.idle": "2020-08-30T17:40:04.763647Z",
     "shell.execute_reply": "2020-08-30T17:40:04.761647Z",
     "shell.execute_reply.started": "2020-08-30T17:40:04.744649Z"
    }
   },
   "outputs": [
    {
     "ename": "IndexError",
     "evalue": "list index out of range",
     "output_type": "error",
     "traceback": [
      "\u001b[1;31m---------------------------------------------------------------------------\u001b[0m",
      "\u001b[1;31mIndexError\u001b[0m                                Traceback (most recent call last)",
      "\u001b[1;32m<ipython-input-163-b8c91da6ba3a>\u001b[0m in \u001b[0;36m<module>\u001b[1;34m\u001b[0m\n\u001b[1;32m----> 1\u001b[1;33m \u001b[0mfruits\u001b[0m\u001b[1;33m[\u001b[0m\u001b[1;36m4\u001b[0m\u001b[1;33m]\u001b[0m\u001b[1;33m\u001b[0m\u001b[1;33m\u001b[0m\u001b[0m\n\u001b[0m",
      "\u001b[1;31mIndexError\u001b[0m: list index out of range"
     ]
    }
   ],
   "source": [
    "fruits[4]"
   ]
  },
  {
   "cell_type": "code",
   "execution_count": 164,
   "metadata": {
    "execution": {
     "iopub.execute_input": "2020-08-30T17:40:06.435433Z",
     "iopub.status.busy": "2020-08-30T17:40:06.434442Z",
     "iopub.status.idle": "2020-08-30T17:40:06.449437Z",
     "shell.execute_reply": "2020-08-30T17:40:06.447428Z",
     "shell.execute_reply.started": "2020-08-30T17:40:06.435433Z"
    }
   },
   "outputs": [
    {
     "data": {
      "text/plain": [
       "'cherry'"
      ]
     },
     "execution_count": 164,
     "metadata": {},
     "output_type": "execute_result"
    }
   ],
   "source": [
    "fruits[-1]"
   ]
  },
  {
   "cell_type": "code",
   "execution_count": 165,
   "metadata": {
    "execution": {
     "iopub.execute_input": "2020-08-30T17:40:07.645432Z",
     "iopub.status.busy": "2020-08-30T17:40:07.645432Z",
     "iopub.status.idle": "2020-08-30T17:40:07.664431Z",
     "shell.execute_reply": "2020-08-30T17:40:07.662428Z",
     "shell.execute_reply.started": "2020-08-30T17:40:07.645432Z"
    }
   },
   "outputs": [
    {
     "data": {
      "text/plain": [
       "'banana'"
      ]
     },
     "execution_count": 165,
     "metadata": {},
     "output_type": "execute_result"
    }
   ],
   "source": [
    "fruits[-2]"
   ]
  },
  {
   "cell_type": "code",
   "execution_count": 166,
   "metadata": {
    "execution": {
     "iopub.execute_input": "2020-08-30T17:40:09.188429Z",
     "iopub.status.busy": "2020-08-30T17:40:09.188429Z",
     "iopub.status.idle": "2020-08-30T17:40:09.203429Z",
     "shell.execute_reply": "2020-08-30T17:40:09.201425Z",
     "shell.execute_reply.started": "2020-08-30T17:40:09.188429Z"
    }
   },
   "outputs": [
    {
     "data": {
      "text/plain": [
       "'apple'"
      ]
     },
     "execution_count": 166,
     "metadata": {},
     "output_type": "execute_result"
    }
   ],
   "source": [
    "fruits[-3]"
   ]
  },
  {
   "cell_type": "code",
   "execution_count": 167,
   "metadata": {
    "execution": {
     "iopub.execute_input": "2020-08-30T17:40:11.163427Z",
     "iopub.status.busy": "2020-08-30T17:40:11.162428Z",
     "iopub.status.idle": "2020-08-30T17:40:11.192426Z",
     "shell.execute_reply": "2020-08-30T17:40:11.190426Z",
     "shell.execute_reply.started": "2020-08-30T17:40:11.163427Z"
    }
   },
   "outputs": [
    {
     "ename": "IndexError",
     "evalue": "list index out of range",
     "output_type": "error",
     "traceback": [
      "\u001b[1;31m---------------------------------------------------------------------------\u001b[0m",
      "\u001b[1;31mIndexError\u001b[0m                                Traceback (most recent call last)",
      "\u001b[1;32m<ipython-input-167-1cb2d66442ee>\u001b[0m in \u001b[0;36m<module>\u001b[1;34m\u001b[0m\n\u001b[1;32m----> 1\u001b[1;33m \u001b[0mfruits\u001b[0m\u001b[1;33m[\u001b[0m\u001b[1;33m-\u001b[0m\u001b[1;36m4\u001b[0m\u001b[1;33m]\u001b[0m\u001b[1;33m\u001b[0m\u001b[1;33m\u001b[0m\u001b[0m\n\u001b[0m",
      "\u001b[1;31mIndexError\u001b[0m: list index out of range"
     ]
    }
   ],
   "source": [
    "fruits[-4]"
   ]
  },
  {
   "cell_type": "markdown",
   "metadata": {},
   "source": [
    "You can also access a range of values from the list. The result is itself a list. Let us look at some examples."
   ]
  },
  {
   "cell_type": "code",
   "execution_count": 168,
   "metadata": {
    "execution": {
     "iopub.execute_input": "2020-08-30T17:40:17.397429Z",
     "iopub.status.busy": "2020-08-30T17:40:17.397429Z",
     "iopub.status.idle": "2020-08-30T17:40:17.413431Z",
     "shell.execute_reply": "2020-08-30T17:40:17.412431Z",
     "shell.execute_reply.started": "2020-08-30T17:40:17.397429Z"
    }
   },
   "outputs": [],
   "source": [
    "a_list = [23, 'hello', None, 3.14, fruits, 3 <= 5]"
   ]
  },
  {
   "cell_type": "code",
   "execution_count": 169,
   "metadata": {
    "execution": {
     "iopub.execute_input": "2020-08-30T17:40:18.801430Z",
     "iopub.status.busy": "2020-08-30T17:40:18.800430Z",
     "iopub.status.idle": "2020-08-30T17:40:18.812429Z",
     "shell.execute_reply": "2020-08-30T17:40:18.810428Z",
     "shell.execute_reply.started": "2020-08-30T17:40:18.801430Z"
    }
   },
   "outputs": [
    {
     "data": {
      "text/plain": [
       "[23, 'hello', None, 3.14, ['apple', 'banana', 'cherry'], True]"
      ]
     },
     "execution_count": 169,
     "metadata": {},
     "output_type": "execute_result"
    }
   ],
   "source": [
    "a_list"
   ]
  },
  {
   "cell_type": "code",
   "execution_count": 170,
   "metadata": {
    "execution": {
     "iopub.execute_input": "2020-08-30T17:40:20.428765Z",
     "iopub.status.busy": "2020-08-30T17:40:20.427764Z",
     "iopub.status.idle": "2020-08-30T17:40:20.437764Z",
     "shell.execute_reply": "2020-08-30T17:40:20.435765Z",
     "shell.execute_reply.started": "2020-08-30T17:40:20.428765Z"
    }
   },
   "outputs": [
    {
     "data": {
      "text/plain": [
       "6"
      ]
     },
     "execution_count": 170,
     "metadata": {},
     "output_type": "execute_result"
    }
   ],
   "source": [
    "len(a_list)"
   ]
  },
  {
   "cell_type": "code",
   "execution_count": 171,
   "metadata": {
    "execution": {
     "iopub.execute_input": "2020-08-30T17:40:21.642232Z",
     "iopub.status.busy": "2020-08-30T17:40:21.642232Z",
     "iopub.status.idle": "2020-08-30T17:40:21.657231Z",
     "shell.execute_reply": "2020-08-30T17:40:21.656230Z",
     "shell.execute_reply.started": "2020-08-30T17:40:21.642232Z"
    }
   },
   "outputs": [
    {
     "data": {
      "text/plain": [
       "[None, 3.14, ['apple', 'banana', 'cherry']]"
      ]
     },
     "execution_count": 171,
     "metadata": {},
     "output_type": "execute_result"
    }
   ],
   "source": [
    "a_list[2:5]"
   ]
  },
  {
   "cell_type": "markdown",
   "metadata": {},
   "source": [
    "Note that the start index (`2` in the above example) of the range is included in the list, but the end index (`5` in the above example) is not included. So, the result has 3 values (indices `2`, `3` and `4`).\n",
    "\n",
    "Here are some experiments you should try out (use the empty cells below):\n",
    "\n",
    "* Try setting one or both indices of the range are larger than the size of the list e.g. `a_list[2:10]`\n",
    "* Try setting the start index of the range to be larger than the end index of the range e.g. `list_a[2:10]`\n",
    "* Try leaving out the start or end index of a range e.g. `a_list[2:]` or `a_list[:5]`\n",
    "* Try using negative indices for the range e.g. `a_list[-2:-5]` or `a_list[-5:-2]` (can you explain the results?)\n",
    "\n",
    "> The flexible and interactive nature of Jupyter notebooks makes them a great tool for learning and experimentation. Most questions that arise while you are learning Python for the first time can be resolved by simply typing the code into a cell and executing it. Let your curiosity run wild, and discover what Python is capable of, and what it isn't! "
   ]
  },
  {
   "cell_type": "code",
   "execution_count": 172,
   "metadata": {
    "execution": {
     "iopub.execute_input": "2020-08-30T17:40:25.863270Z",
     "iopub.status.busy": "2020-08-30T17:40:25.862269Z",
     "iopub.status.idle": "2020-08-30T17:40:25.887269Z",
     "shell.execute_reply": "2020-08-30T17:40:25.885268Z",
     "shell.execute_reply.started": "2020-08-30T17:40:25.863270Z"
    }
   },
   "outputs": [
    {
     "data": {
      "text/plain": [
       "[None, 3.14, ['apple', 'banana', 'cherry'], True]"
      ]
     },
     "execution_count": 172,
     "metadata": {},
     "output_type": "execute_result"
    }
   ],
   "source": [
    "a_list[2:10]"
   ]
  },
  {
   "cell_type": "code",
   "execution_count": 173,
   "metadata": {
    "execution": {
     "iopub.execute_input": "2020-08-30T17:40:27.544378Z",
     "iopub.status.busy": "2020-08-30T17:40:27.543379Z",
     "iopub.status.idle": "2020-08-30T17:40:27.568383Z",
     "shell.execute_reply": "2020-08-30T17:40:27.566378Z",
     "shell.execute_reply.started": "2020-08-30T17:40:27.544378Z"
    }
   },
   "outputs": [
    {
     "data": {
      "text/plain": [
       "[]"
      ]
     },
     "execution_count": 173,
     "metadata": {},
     "output_type": "execute_result"
    }
   ],
   "source": [
    "a_list[6:10]"
   ]
  },
  {
   "cell_type": "code",
   "execution_count": 174,
   "metadata": {
    "execution": {
     "iopub.execute_input": "2020-08-30T17:40:28.909697Z",
     "iopub.status.busy": "2020-08-30T17:40:28.909697Z",
     "iopub.status.idle": "2020-08-30T17:40:28.921698Z",
     "shell.execute_reply": "2020-08-30T17:40:28.920698Z",
     "shell.execute_reply.started": "2020-08-30T17:40:28.909697Z"
    }
   },
   "outputs": [
    {
     "data": {
      "text/plain": [
       "[None, 3.14, ['apple', 'banana', 'cherry'], True]"
      ]
     },
     "execution_count": 174,
     "metadata": {},
     "output_type": "execute_result"
    }
   ],
   "source": [
    "a_list[2:]"
   ]
  },
  {
   "cell_type": "code",
   "execution_count": 175,
   "metadata": {
    "execution": {
     "iopub.execute_input": "2020-08-30T17:40:30.186699Z",
     "iopub.status.busy": "2020-08-30T17:40:30.185699Z",
     "iopub.status.idle": "2020-08-30T17:40:30.195698Z",
     "shell.execute_reply": "2020-08-30T17:40:30.193697Z",
     "shell.execute_reply.started": "2020-08-30T17:40:30.186699Z"
    }
   },
   "outputs": [
    {
     "data": {
      "text/plain": [
       "[23, 'hello', None, 3.14, ['apple', 'banana', 'cherry']]"
      ]
     },
     "execution_count": 175,
     "metadata": {},
     "output_type": "execute_result"
    }
   ],
   "source": [
    "a_list[:5]"
   ]
  },
  {
   "cell_type": "code",
   "execution_count": 176,
   "metadata": {
    "execution": {
     "iopub.execute_input": "2020-08-30T17:40:31.173695Z",
     "iopub.status.busy": "2020-08-30T17:40:31.173695Z",
     "iopub.status.idle": "2020-08-30T17:40:31.187696Z",
     "shell.execute_reply": "2020-08-30T17:40:31.185694Z",
     "shell.execute_reply.started": "2020-08-30T17:40:31.173695Z"
    }
   },
   "outputs": [
    {
     "data": {
      "text/plain": [
       "[]"
      ]
     },
     "execution_count": 176,
     "metadata": {},
     "output_type": "execute_result"
    }
   ],
   "source": [
    "a_list[-2:-5]"
   ]
  },
  {
   "cell_type": "code",
   "execution_count": 177,
   "metadata": {
    "execution": {
     "iopub.execute_input": "2020-08-30T17:40:32.172696Z",
     "iopub.status.busy": "2020-08-30T17:40:32.171695Z",
     "iopub.status.idle": "2020-08-30T17:40:32.185698Z",
     "shell.execute_reply": "2020-08-30T17:40:32.184696Z",
     "shell.execute_reply.started": "2020-08-30T17:40:32.172696Z"
    }
   },
   "outputs": [
    {
     "data": {
      "text/plain": [
       "['hello', None, 3.14]"
      ]
     },
     "execution_count": 177,
     "metadata": {},
     "output_type": "execute_result"
    }
   ],
   "source": [
    "a_list[-5:-2]"
   ]
  },
  {
   "cell_type": "markdown",
   "metadata": {},
   "source": [
    "You can also change the value at a specific index within a list using the assignment operation."
   ]
  },
  {
   "cell_type": "code",
   "execution_count": 178,
   "metadata": {
    "execution": {
     "iopub.execute_input": "2020-08-30T17:40:34.563170Z",
     "iopub.status.busy": "2020-08-30T17:40:34.562169Z",
     "iopub.status.idle": "2020-08-30T17:40:34.584167Z",
     "shell.execute_reply": "2020-08-30T17:40:34.582168Z",
     "shell.execute_reply.started": "2020-08-30T17:40:34.563170Z"
    }
   },
   "outputs": [
    {
     "data": {
      "text/plain": [
       "['apple', 'banana', 'cherry']"
      ]
     },
     "execution_count": 178,
     "metadata": {},
     "output_type": "execute_result"
    }
   ],
   "source": [
    "fruits"
   ]
  },
  {
   "cell_type": "code",
   "execution_count": 179,
   "metadata": {
    "execution": {
     "iopub.execute_input": "2020-08-30T17:40:35.599173Z",
     "iopub.status.busy": "2020-08-30T17:40:35.599173Z",
     "iopub.status.idle": "2020-08-30T17:40:35.611170Z",
     "shell.execute_reply": "2020-08-30T17:40:35.609168Z",
     "shell.execute_reply.started": "2020-08-30T17:40:35.599173Z"
    }
   },
   "outputs": [],
   "source": [
    "fruits[1] = 'blueberry'"
   ]
  },
  {
   "cell_type": "code",
   "execution_count": 180,
   "metadata": {
    "execution": {
     "iopub.execute_input": "2020-08-30T17:40:36.759600Z",
     "iopub.status.busy": "2020-08-30T17:40:36.758595Z",
     "iopub.status.idle": "2020-08-30T17:40:36.771597Z",
     "shell.execute_reply": "2020-08-30T17:40:36.770601Z",
     "shell.execute_reply.started": "2020-08-30T17:40:36.759600Z"
    }
   },
   "outputs": [
    {
     "data": {
      "text/plain": [
       "['apple', 'blueberry', 'cherry']"
      ]
     },
     "execution_count": 180,
     "metadata": {},
     "output_type": "execute_result"
    }
   ],
   "source": [
    "fruits"
   ]
  },
  {
   "cell_type": "markdown",
   "metadata": {},
   "source": [
    "A new value can be added to the end of a list using the `append` method."
   ]
  },
  {
   "cell_type": "code",
   "execution_count": 181,
   "metadata": {
    "execution": {
     "iopub.execute_input": "2020-08-30T17:40:38.858597Z",
     "iopub.status.busy": "2020-08-30T17:40:38.858597Z",
     "iopub.status.idle": "2020-08-30T17:40:38.877596Z",
     "shell.execute_reply": "2020-08-30T17:40:38.876595Z",
     "shell.execute_reply.started": "2020-08-30T17:40:38.858597Z"
    }
   },
   "outputs": [],
   "source": [
    "fruits.append('dates')"
   ]
  },
  {
   "cell_type": "code",
   "execution_count": 182,
   "metadata": {
    "execution": {
     "iopub.execute_input": "2020-08-30T17:40:39.827595Z",
     "iopub.status.busy": "2020-08-30T17:40:39.827595Z",
     "iopub.status.idle": "2020-08-30T17:40:39.840598Z",
     "shell.execute_reply": "2020-08-30T17:40:39.839596Z",
     "shell.execute_reply.started": "2020-08-30T17:40:39.827595Z"
    }
   },
   "outputs": [
    {
     "data": {
      "text/plain": [
       "['apple', 'blueberry', 'cherry', 'dates']"
      ]
     },
     "execution_count": 182,
     "metadata": {},
     "output_type": "execute_result"
    }
   ],
   "source": [
    "fruits"
   ]
  },
  {
   "cell_type": "markdown",
   "metadata": {},
   "source": [
    "A new value can also be inserted a specific index using the `insert` method."
   ]
  },
  {
   "cell_type": "code",
   "execution_count": 183,
   "metadata": {
    "execution": {
     "iopub.execute_input": "2020-08-30T17:40:41.849442Z",
     "iopub.status.busy": "2020-08-30T17:40:41.848718Z",
     "iopub.status.idle": "2020-08-30T17:40:41.860442Z",
     "shell.execute_reply": "2020-08-30T17:40:41.859444Z",
     "shell.execute_reply.started": "2020-08-30T17:40:41.849442Z"
    }
   },
   "outputs": [],
   "source": [
    "fruits.insert(1, 'banana')"
   ]
  },
  {
   "cell_type": "code",
   "execution_count": 184,
   "metadata": {
    "execution": {
     "iopub.execute_input": "2020-08-30T17:40:43.306755Z",
     "iopub.status.busy": "2020-08-30T17:40:43.305749Z",
     "iopub.status.idle": "2020-08-30T17:40:43.316753Z",
     "shell.execute_reply": "2020-08-30T17:40:43.314756Z",
     "shell.execute_reply.started": "2020-08-30T17:40:43.306755Z"
    }
   },
   "outputs": [
    {
     "data": {
      "text/plain": [
       "['apple', 'banana', 'blueberry', 'cherry', 'dates']"
      ]
     },
     "execution_count": 184,
     "metadata": {},
     "output_type": "execute_result"
    }
   ],
   "source": [
    "fruits"
   ]
  },
  {
   "cell_type": "markdown",
   "metadata": {},
   "source": [
    "You can remove a value from the list using the `remove` method."
   ]
  },
  {
   "cell_type": "code",
   "execution_count": 185,
   "metadata": {
    "execution": {
     "iopub.execute_input": "2020-08-30T17:40:45.696681Z",
     "iopub.status.busy": "2020-08-30T17:40:45.696681Z",
     "iopub.status.idle": "2020-08-30T17:40:45.709683Z",
     "shell.execute_reply": "2020-08-30T17:40:45.707681Z",
     "shell.execute_reply.started": "2020-08-30T17:40:45.696681Z"
    }
   },
   "outputs": [],
   "source": [
    "fruits.remove('blueberry')"
   ]
  },
  {
   "cell_type": "code",
   "execution_count": 186,
   "metadata": {
    "execution": {
     "iopub.execute_input": "2020-08-30T17:40:46.900871Z",
     "iopub.status.busy": "2020-08-30T17:40:46.899870Z",
     "iopub.status.idle": "2020-08-30T17:40:46.917867Z",
     "shell.execute_reply": "2020-08-30T17:40:46.916870Z",
     "shell.execute_reply.started": "2020-08-30T17:40:46.900871Z"
    }
   },
   "outputs": [
    {
     "data": {
      "text/plain": [
       "['apple', 'banana', 'cherry', 'dates']"
      ]
     },
     "execution_count": 186,
     "metadata": {},
     "output_type": "execute_result"
    }
   ],
   "source": [
    "fruits"
   ]
  },
  {
   "cell_type": "markdown",
   "metadata": {},
   "source": [
    "What happens if a list has multiple instances of the value passed to `.remove`? Try it out."
   ]
  },
  {
   "cell_type": "code",
   "execution_count": 187,
   "metadata": {
    "execution": {
     "iopub.execute_input": "2020-08-30T17:40:49.184969Z",
     "iopub.status.busy": "2020-08-30T17:40:49.184306Z",
     "iopub.status.idle": "2020-08-30T17:40:49.195304Z",
     "shell.execute_reply": "2020-08-30T17:40:49.194302Z",
     "shell.execute_reply.started": "2020-08-30T17:40:49.184969Z"
    }
   },
   "outputs": [],
   "source": [
    "fruits.append('strawberry')\n",
    "fruits.append('strawberry')"
   ]
  },
  {
   "cell_type": "code",
   "execution_count": 188,
   "metadata": {
    "execution": {
     "iopub.execute_input": "2020-08-30T17:40:51.424864Z",
     "iopub.status.busy": "2020-08-30T17:40:51.424864Z",
     "iopub.status.idle": "2020-08-30T17:40:51.439866Z",
     "shell.execute_reply": "2020-08-30T17:40:51.438863Z",
     "shell.execute_reply.started": "2020-08-30T17:40:51.424864Z"
    }
   },
   "outputs": [
    {
     "data": {
      "text/plain": [
       "['apple', 'banana', 'cherry', 'dates', 'strawberry', 'strawberry']"
      ]
     },
     "execution_count": 188,
     "metadata": {},
     "output_type": "execute_result"
    }
   ],
   "source": [
    "fruits"
   ]
  },
  {
   "cell_type": "code",
   "execution_count": 189,
   "metadata": {
    "execution": {
     "iopub.execute_input": "2020-08-30T17:40:53.180109Z",
     "iopub.status.busy": "2020-08-30T17:40:53.179110Z",
     "iopub.status.idle": "2020-08-30T17:40:53.194112Z",
     "shell.execute_reply": "2020-08-30T17:40:53.193112Z",
     "shell.execute_reply.started": "2020-08-30T17:40:53.180109Z"
    }
   },
   "outputs": [
    {
     "data": {
      "text/plain": [
       "['apple', 'banana', 'cherry', 'dates', 'strawberry']"
      ]
     },
     "execution_count": 189,
     "metadata": {},
     "output_type": "execute_result"
    }
   ],
   "source": [
    "fruits.remove('strawberry')\n",
    "fruits"
   ]
  },
  {
   "cell_type": "markdown",
   "metadata": {},
   "source": [
    "To remove an element from a specific index, use the `pop` method. The method also returns the removed element."
   ]
  },
  {
   "cell_type": "code",
   "execution_count": 190,
   "metadata": {
    "execution": {
     "iopub.execute_input": "2020-08-30T17:40:57.683954Z",
     "iopub.status.busy": "2020-08-30T17:40:57.683954Z",
     "iopub.status.idle": "2020-08-30T17:40:57.696956Z",
     "shell.execute_reply": "2020-08-30T17:40:57.695955Z",
     "shell.execute_reply.started": "2020-08-30T17:40:57.683954Z"
    }
   },
   "outputs": [
    {
     "data": {
      "text/plain": [
       "['apple', 'banana', 'cherry', 'dates', 'strawberry']"
      ]
     },
     "execution_count": 190,
     "metadata": {},
     "output_type": "execute_result"
    }
   ],
   "source": [
    "fruits"
   ]
  },
  {
   "cell_type": "code",
   "execution_count": 191,
   "metadata": {
    "execution": {
     "iopub.execute_input": "2020-08-30T17:41:02.518183Z",
     "iopub.status.busy": "2020-08-30T17:41:02.517183Z",
     "iopub.status.idle": "2020-08-30T17:41:02.532186Z",
     "shell.execute_reply": "2020-08-30T17:41:02.530188Z",
     "shell.execute_reply.started": "2020-08-30T17:41:02.518183Z"
    }
   },
   "outputs": [
    {
     "data": {
      "text/plain": [
       "'banana'"
      ]
     },
     "execution_count": 191,
     "metadata": {},
     "output_type": "execute_result"
    }
   ],
   "source": [
    "fruits.pop(1)"
   ]
  },
  {
   "cell_type": "code",
   "execution_count": 192,
   "metadata": {
    "execution": {
     "iopub.execute_input": "2020-08-30T17:41:03.844188Z",
     "iopub.status.busy": "2020-08-30T17:41:03.843183Z",
     "iopub.status.idle": "2020-08-30T17:41:03.860184Z",
     "shell.execute_reply": "2020-08-30T17:41:03.859181Z",
     "shell.execute_reply.started": "2020-08-30T17:41:03.844188Z"
    }
   },
   "outputs": [
    {
     "data": {
      "text/plain": [
       "['apple', 'cherry', 'dates', 'strawberry']"
      ]
     },
     "execution_count": 192,
     "metadata": {},
     "output_type": "execute_result"
    }
   ],
   "source": [
    "fruits"
   ]
  },
  {
   "cell_type": "markdown",
   "metadata": {},
   "source": [
    "If no index is provided, the `pop` method removes the last element of the list."
   ]
  },
  {
   "cell_type": "code",
   "execution_count": 193,
   "metadata": {
    "execution": {
     "iopub.execute_input": "2020-08-30T17:41:06.254597Z",
     "iopub.status.busy": "2020-08-30T17:41:06.253596Z",
     "iopub.status.idle": "2020-08-30T17:41:06.269596Z",
     "shell.execute_reply": "2020-08-30T17:41:06.268596Z",
     "shell.execute_reply.started": "2020-08-30T17:41:06.254597Z"
    }
   },
   "outputs": [
    {
     "data": {
      "text/plain": [
       "'strawberry'"
      ]
     },
     "execution_count": 193,
     "metadata": {},
     "output_type": "execute_result"
    }
   ],
   "source": [
    "fruits.pop()"
   ]
  },
  {
   "cell_type": "code",
   "execution_count": 194,
   "metadata": {
    "execution": {
     "iopub.execute_input": "2020-08-30T17:41:14.371891Z",
     "iopub.status.busy": "2020-08-30T17:41:14.370890Z",
     "iopub.status.idle": "2020-08-30T17:41:14.380887Z",
     "shell.execute_reply": "2020-08-30T17:41:14.378884Z",
     "shell.execute_reply.started": "2020-08-30T17:41:14.371891Z"
    }
   },
   "outputs": [
    {
     "data": {
      "text/plain": [
       "['apple', 'cherry', 'dates']"
      ]
     },
     "execution_count": 194,
     "metadata": {},
     "output_type": "execute_result"
    }
   ],
   "source": [
    "fruits"
   ]
  },
  {
   "cell_type": "markdown",
   "metadata": {},
   "source": [
    "You can test whether a list contains a value using the `in` operator."
   ]
  },
  {
   "cell_type": "code",
   "execution_count": 195,
   "metadata": {
    "execution": {
     "iopub.execute_input": "2020-08-30T17:41:18.444813Z",
     "iopub.status.busy": "2020-08-30T17:41:18.444813Z",
     "iopub.status.idle": "2020-08-30T17:41:18.466815Z",
     "shell.execute_reply": "2020-08-30T17:41:18.465113Z",
     "shell.execute_reply.started": "2020-08-30T17:41:18.444813Z"
    }
   },
   "outputs": [
    {
     "data": {
      "text/plain": [
       "False"
      ]
     },
     "execution_count": 195,
     "metadata": {},
     "output_type": "execute_result"
    }
   ],
   "source": [
    "'pineapple' in fruits"
   ]
  },
  {
   "cell_type": "code",
   "execution_count": 196,
   "metadata": {
    "execution": {
     "iopub.execute_input": "2020-08-30T17:41:20.667487Z",
     "iopub.status.busy": "2020-08-30T17:41:20.666488Z",
     "iopub.status.idle": "2020-08-30T17:41:20.683485Z",
     "shell.execute_reply": "2020-08-30T17:41:20.681491Z",
     "shell.execute_reply.started": "2020-08-30T17:41:20.667487Z"
    }
   },
   "outputs": [
    {
     "data": {
      "text/plain": [
       "True"
      ]
     },
     "execution_count": 196,
     "metadata": {},
     "output_type": "execute_result"
    }
   ],
   "source": [
    "'cherry' in fruits"
   ]
  },
  {
   "cell_type": "markdown",
   "metadata": {},
   "source": [
    "To combine two or more lists, use the `+` operator. This operation is also called *concatenation*."
   ]
  },
  {
   "cell_type": "code",
   "execution_count": 197,
   "metadata": {
    "execution": {
     "iopub.execute_input": "2020-08-30T17:41:23.548390Z",
     "iopub.status.busy": "2020-08-30T17:41:23.547447Z",
     "iopub.status.idle": "2020-08-30T17:41:23.569394Z",
     "shell.execute_reply": "2020-08-30T17:41:23.568387Z",
     "shell.execute_reply.started": "2020-08-30T17:41:23.548390Z"
    }
   },
   "outputs": [
    {
     "data": {
      "text/plain": [
       "['apple', 'cherry', 'dates']"
      ]
     },
     "execution_count": 197,
     "metadata": {},
     "output_type": "execute_result"
    }
   ],
   "source": [
    "fruits"
   ]
  },
  {
   "cell_type": "code",
   "execution_count": 198,
   "metadata": {
    "execution": {
     "iopub.execute_input": "2020-08-30T17:41:24.888619Z",
     "iopub.status.busy": "2020-08-30T17:41:24.888619Z",
     "iopub.status.idle": "2020-08-30T17:41:24.900619Z",
     "shell.execute_reply": "2020-08-30T17:41:24.898621Z",
     "shell.execute_reply.started": "2020-08-30T17:41:24.888619Z"
    }
   },
   "outputs": [],
   "source": [
    "more_fruits = fruits + ['pineapple', 'tomato', 'guava'] + ['dates', 'banana']"
   ]
  },
  {
   "cell_type": "code",
   "execution_count": 199,
   "metadata": {
    "execution": {
     "iopub.execute_input": "2020-08-30T17:41:27.160730Z",
     "iopub.status.busy": "2020-08-30T17:41:27.159731Z",
     "iopub.status.idle": "2020-08-30T17:41:27.174732Z",
     "shell.execute_reply": "2020-08-30T17:41:27.173734Z",
     "shell.execute_reply.started": "2020-08-30T17:41:27.160730Z"
    }
   },
   "outputs": [
    {
     "data": {
      "text/plain": [
       "['apple', 'cherry', 'dates', 'pineapple', 'tomato', 'guava', 'dates', 'banana']"
      ]
     },
     "execution_count": 199,
     "metadata": {},
     "output_type": "execute_result"
    }
   ],
   "source": [
    "more_fruits"
   ]
  },
  {
   "cell_type": "markdown",
   "metadata": {},
   "source": [
    "To create a copy of a list, use the `copy` method. Modifying the copied list does not affect the original list."
   ]
  },
  {
   "cell_type": "code",
   "execution_count": 200,
   "metadata": {
    "execution": {
     "iopub.execute_input": "2020-08-30T17:41:31.829948Z",
     "iopub.status.busy": "2020-08-30T17:41:31.828945Z",
     "iopub.status.idle": "2020-08-30T17:41:31.847949Z",
     "shell.execute_reply": "2020-08-30T17:41:31.845946Z",
     "shell.execute_reply.started": "2020-08-30T17:41:31.829948Z"
    }
   },
   "outputs": [],
   "source": [
    "more_fruits_copy = more_fruits.copy()"
   ]
  },
  {
   "cell_type": "code",
   "execution_count": 201,
   "metadata": {
    "execution": {
     "iopub.execute_input": "2020-08-30T17:41:33.162300Z",
     "iopub.status.busy": "2020-08-30T17:41:33.162300Z",
     "iopub.status.idle": "2020-08-30T17:41:33.175299Z",
     "shell.execute_reply": "2020-08-30T17:41:33.174295Z",
     "shell.execute_reply.started": "2020-08-30T17:41:33.162300Z"
    }
   },
   "outputs": [
    {
     "data": {
      "text/plain": [
       "['apple', 'cherry', 'dates', 'pineapple', 'tomato', 'guava', 'dates', 'banana']"
      ]
     },
     "execution_count": 201,
     "metadata": {},
     "output_type": "execute_result"
    }
   ],
   "source": [
    "more_fruits_copy"
   ]
  },
  {
   "cell_type": "code",
   "execution_count": 202,
   "metadata": {
    "execution": {
     "iopub.execute_input": "2020-08-30T17:41:34.414621Z",
     "iopub.status.busy": "2020-08-30T17:41:34.413659Z",
     "iopub.status.idle": "2020-08-30T17:41:34.424619Z",
     "shell.execute_reply": "2020-08-30T17:41:34.423622Z",
     "shell.execute_reply.started": "2020-08-30T17:41:34.414621Z"
    }
   },
   "outputs": [
    {
     "data": {
      "text/plain": [
       "['apple', 'cherry', 'dates', 'tomato', 'guava', 'dates']"
      ]
     },
     "execution_count": 202,
     "metadata": {},
     "output_type": "execute_result"
    }
   ],
   "source": [
    "# Modify the copy\n",
    "more_fruits_copy.remove('pineapple')\n",
    "more_fruits_copy.pop()\n",
    "more_fruits_copy"
   ]
  },
  {
   "cell_type": "code",
   "execution_count": 203,
   "metadata": {
    "execution": {
     "iopub.execute_input": "2020-08-30T17:41:35.740811Z",
     "iopub.status.busy": "2020-08-30T17:41:35.739812Z",
     "iopub.status.idle": "2020-08-30T17:41:35.752817Z",
     "shell.execute_reply": "2020-08-30T17:41:35.750813Z",
     "shell.execute_reply.started": "2020-08-30T17:41:35.740811Z"
    }
   },
   "outputs": [
    {
     "data": {
      "text/plain": [
       "['apple', 'cherry', 'dates', 'pineapple', 'tomato', 'guava', 'dates', 'banana']"
      ]
     },
     "execution_count": 203,
     "metadata": {},
     "output_type": "execute_result"
    }
   ],
   "source": [
    "# Original list remains unchanged\n",
    "more_fruits"
   ]
  },
  {
   "cell_type": "markdown",
   "metadata": {},
   "source": [
    "Note that you cannot create a copy of a list by simply creating a new variable using the assignment operator `=`. The new variable will point to the same list, and any modifications performed using one variable will affect the other."
   ]
  },
  {
   "cell_type": "code",
   "execution_count": 204,
   "metadata": {
    "execution": {
     "iopub.execute_input": "2020-08-30T17:41:40.649503Z",
     "iopub.status.busy": "2020-08-30T17:41:40.648504Z",
     "iopub.status.idle": "2020-08-30T17:41:40.672507Z",
     "shell.execute_reply": "2020-08-30T17:41:40.670500Z",
     "shell.execute_reply.started": "2020-08-30T17:41:40.649503Z"
    }
   },
   "outputs": [
    {
     "data": {
      "text/plain": [
       "['apple', 'cherry', 'dates', 'pineapple', 'tomato', 'guava', 'dates', 'banana']"
      ]
     },
     "execution_count": 204,
     "metadata": {},
     "output_type": "execute_result"
    }
   ],
   "source": [
    "more_fruits"
   ]
  },
  {
   "cell_type": "code",
   "execution_count": 205,
   "metadata": {
    "execution": {
     "iopub.execute_input": "2020-08-30T17:41:42.298784Z",
     "iopub.status.busy": "2020-08-30T17:41:42.298087Z",
     "iopub.status.idle": "2020-08-30T17:41:42.309782Z",
     "shell.execute_reply": "2020-08-30T17:41:42.307781Z",
     "shell.execute_reply.started": "2020-08-30T17:41:42.298784Z"
    }
   },
   "outputs": [],
   "source": [
    "more_fruits_not_a_copy = more_fruits"
   ]
  },
  {
   "cell_type": "code",
   "execution_count": 206,
   "metadata": {
    "execution": {
     "iopub.execute_input": "2020-08-30T17:41:44.502126Z",
     "iopub.status.busy": "2020-08-30T17:41:44.501127Z",
     "iopub.status.idle": "2020-08-30T17:41:44.516133Z",
     "shell.execute_reply": "2020-08-30T17:41:44.514129Z",
     "shell.execute_reply.started": "2020-08-30T17:41:44.502126Z"
    }
   },
   "outputs": [
    {
     "data": {
      "text/plain": [
       "'banana'"
      ]
     },
     "execution_count": 206,
     "metadata": {},
     "output_type": "execute_result"
    }
   ],
   "source": [
    "more_fruits_not_a_copy.remove('pineapple')\n",
    "more_fruits_not_a_copy.pop()"
   ]
  },
  {
   "cell_type": "code",
   "execution_count": 207,
   "metadata": {
    "execution": {
     "iopub.execute_input": "2020-08-30T17:41:45.698131Z",
     "iopub.status.busy": "2020-08-30T17:41:45.697130Z",
     "iopub.status.idle": "2020-08-30T17:41:45.716129Z",
     "shell.execute_reply": "2020-08-30T17:41:45.715129Z",
     "shell.execute_reply.started": "2020-08-30T17:41:45.698131Z"
    }
   },
   "outputs": [
    {
     "data": {
      "text/plain": [
       "['apple', 'cherry', 'dates', 'tomato', 'guava', 'dates']"
      ]
     },
     "execution_count": 207,
     "metadata": {},
     "output_type": "execute_result"
    }
   ],
   "source": [
    "more_fruits_not_a_copy"
   ]
  },
  {
   "cell_type": "code",
   "execution_count": 208,
   "metadata": {
    "execution": {
     "iopub.execute_input": "2020-08-30T17:41:46.885129Z",
     "iopub.status.busy": "2020-08-30T17:41:46.885129Z",
     "iopub.status.idle": "2020-08-30T17:41:46.899129Z",
     "shell.execute_reply": "2020-08-30T17:41:46.897133Z",
     "shell.execute_reply.started": "2020-08-30T17:41:46.885129Z"
    }
   },
   "outputs": [
    {
     "data": {
      "text/plain": [
       "['apple', 'cherry', 'dates', 'tomato', 'guava', 'dates']"
      ]
     },
     "execution_count": 208,
     "metadata": {},
     "output_type": "execute_result"
    }
   ],
   "source": [
    "more_fruits"
   ]
  },
  {
   "cell_type": "markdown",
   "metadata": {},
   "source": [
    "Just like strings, there are several in-built methods to manipulate a list. Unlike strings, however, most list methods modify the original list, rather than returning a new one. Check out some common list operations here: https://www.w3schools.com/python/python_ref_list.asp\n",
    "\n",
    "\n",
    "Following are some exercises you can try out with list methods (use the blank code cells below):\n",
    "\n",
    "* Reverse the order of elements in a list\n",
    "* Add the elements of one list to the end of another list\n",
    "* Sort a list of strings in alphabetical order\n",
    "* Sort a list of numbers in decreasing order"
   ]
  },
  {
   "cell_type": "code",
   "execution_count": 209,
   "metadata": {
    "execution": {
     "iopub.execute_input": "2020-08-30T17:41:50.878716Z",
     "iopub.status.busy": "2020-08-30T17:41:50.877715Z",
     "iopub.status.idle": "2020-08-30T17:41:50.892717Z",
     "shell.execute_reply": "2020-08-30T17:41:50.891717Z",
     "shell.execute_reply.started": "2020-08-30T17:41:50.878716Z"
    }
   },
   "outputs": [],
   "source": [
    "more_fruits.reverse()"
   ]
  },
  {
   "cell_type": "code",
   "execution_count": 210,
   "metadata": {
    "execution": {
     "iopub.execute_input": "2020-08-30T17:41:52.733110Z",
     "iopub.status.busy": "2020-08-30T17:41:52.732110Z",
     "iopub.status.idle": "2020-08-30T17:41:52.745109Z",
     "shell.execute_reply": "2020-08-30T17:41:52.743107Z",
     "shell.execute_reply.started": "2020-08-30T17:41:52.733110Z"
    }
   },
   "outputs": [
    {
     "data": {
      "text/plain": [
       "['dates', 'guava', 'tomato', 'dates', 'cherry', 'apple']"
      ]
     },
     "execution_count": 210,
     "metadata": {},
     "output_type": "execute_result"
    }
   ],
   "source": [
    "more_fruits"
   ]
  },
  {
   "cell_type": "code",
   "execution_count": 211,
   "metadata": {
    "execution": {
     "iopub.execute_input": "2020-08-30T17:41:54.199111Z",
     "iopub.status.busy": "2020-08-30T17:41:54.198110Z",
     "iopub.status.idle": "2020-08-30T17:41:54.212114Z",
     "shell.execute_reply": "2020-08-30T17:41:54.210110Z",
     "shell.execute_reply.started": "2020-08-30T17:41:54.199111Z"
    }
   },
   "outputs": [
    {
     "data": {
      "text/plain": [
       "['dates',\n",
       " 'guava',\n",
       " 'tomato',\n",
       " 'dates',\n",
       " 'cherry',\n",
       " 'apple',\n",
       " 'apple',\n",
       " 'cherry',\n",
       " 'dates']"
      ]
     },
     "execution_count": 211,
     "metadata": {},
     "output_type": "execute_result"
    }
   ],
   "source": [
    "more_fruits.extend(fruits)\n",
    "more_fruits"
   ]
  },
  {
   "cell_type": "code",
   "execution_count": 212,
   "metadata": {
    "execution": {
     "iopub.execute_input": "2020-08-30T17:41:56.254708Z",
     "iopub.status.busy": "2020-08-30T17:41:56.254708Z",
     "iopub.status.idle": "2020-08-30T17:41:56.265710Z",
     "shell.execute_reply": "2020-08-30T17:41:56.264126Z",
     "shell.execute_reply.started": "2020-08-30T17:41:56.254708Z"
    }
   },
   "outputs": [
    {
     "data": {
      "text/plain": [
       "['apple',\n",
       " 'apple',\n",
       " 'cherry',\n",
       " 'cherry',\n",
       " 'dates',\n",
       " 'dates',\n",
       " 'dates',\n",
       " 'guava',\n",
       " 'tomato']"
      ]
     },
     "execution_count": 212,
     "metadata": {},
     "output_type": "execute_result"
    }
   ],
   "source": [
    "more_fruits.sort()\n",
    "more_fruits"
   ]
  },
  {
   "cell_type": "code",
   "execution_count": 213,
   "metadata": {
    "execution": {
     "iopub.execute_input": "2020-08-30T17:42:01.193304Z",
     "iopub.status.busy": "2020-08-30T17:42:01.193304Z",
     "iopub.status.idle": "2020-08-30T17:42:01.208299Z",
     "shell.execute_reply": "2020-08-30T17:42:01.206299Z",
     "shell.execute_reply.started": "2020-08-30T17:42:01.193304Z"
    }
   },
   "outputs": [
    {
     "data": {
      "text/plain": [
       "['tomato',\n",
       " 'guava',\n",
       " 'dates',\n",
       " 'dates',\n",
       " 'dates',\n",
       " 'cherry',\n",
       " 'cherry',\n",
       " 'apple',\n",
       " 'apple']"
      ]
     },
     "execution_count": 213,
     "metadata": {},
     "output_type": "execute_result"
    }
   ],
   "source": [
    "more_fruits.sort(reverse=True)\n",
    "more_fruits"
   ]
  },
  {
   "cell_type": "markdown",
   "metadata": {},
   "source": [
    "### Tuple\n",
    "\n",
    "A tuple is an ordered collection of values, similar to a list, however it is not possible to add, remove or modify values in a tuple. A tuple is created by enclosing values within parantheses `(` and `)`, separated by commas.\n",
    "\n",
    "> Any data structure that cannot be modified after creation is called *immutable*. You can think of tuples as immutable lists.\n",
    "\n",
    "Let's try some experiments with tuples."
   ]
  },
  {
   "cell_type": "code",
   "execution_count": 215,
   "metadata": {
    "execution": {
     "iopub.execute_input": "2020-08-30T17:42:33.191125Z",
     "iopub.status.busy": "2020-08-30T17:42:33.190127Z",
     "iopub.status.idle": "2020-08-30T17:42:33.201126Z",
     "shell.execute_reply": "2020-08-30T17:42:33.200125Z",
     "shell.execute_reply.started": "2020-08-30T17:42:33.191125Z"
    }
   },
   "outputs": [],
   "source": [
    "fruits = ('apple', 'cherry', 'dates')"
   ]
  },
  {
   "cell_type": "code",
   "execution_count": 216,
   "metadata": {
    "execution": {
     "iopub.execute_input": "2020-08-30T17:42:34.587123Z",
     "iopub.status.busy": "2020-08-30T17:42:34.586124Z",
     "iopub.status.idle": "2020-08-30T17:42:34.605125Z",
     "shell.execute_reply": "2020-08-30T17:42:34.604125Z",
     "shell.execute_reply.started": "2020-08-30T17:42:34.586124Z"
    }
   },
   "outputs": [
    {
     "data": {
      "text/plain": [
       "3"
      ]
     },
     "execution_count": 216,
     "metadata": {},
     "output_type": "execute_result"
    }
   ],
   "source": [
    "# check no. of elements\n",
    "len(fruits)"
   ]
  },
  {
   "cell_type": "code",
   "execution_count": 217,
   "metadata": {
    "execution": {
     "iopub.execute_input": "2020-08-30T17:42:36.530950Z",
     "iopub.status.busy": "2020-08-30T17:42:36.529948Z",
     "iopub.status.idle": "2020-08-30T17:42:36.551946Z",
     "shell.execute_reply": "2020-08-30T17:42:36.550946Z",
     "shell.execute_reply.started": "2020-08-30T17:42:36.530950Z"
    }
   },
   "outputs": [
    {
     "data": {
      "text/plain": [
       "'apple'"
      ]
     },
     "execution_count": 217,
     "metadata": {},
     "output_type": "execute_result"
    }
   ],
   "source": [
    "# get an element (positive index)\n",
    "fruits[0]"
   ]
  },
  {
   "cell_type": "code",
   "execution_count": 218,
   "metadata": {
    "execution": {
     "iopub.execute_input": "2020-08-30T17:42:38.399858Z",
     "iopub.status.busy": "2020-08-30T17:42:38.398860Z",
     "iopub.status.idle": "2020-08-30T17:42:38.420864Z",
     "shell.execute_reply": "2020-08-30T17:42:38.418861Z",
     "shell.execute_reply.started": "2020-08-30T17:42:38.399858Z"
    }
   },
   "outputs": [
    {
     "data": {
      "text/plain": [
       "'cherry'"
      ]
     },
     "execution_count": 218,
     "metadata": {},
     "output_type": "execute_result"
    }
   ],
   "source": [
    "# get an element (negative index)\n",
    "fruits[-2]"
   ]
  },
  {
   "cell_type": "code",
   "execution_count": 219,
   "metadata": {
    "execution": {
     "iopub.execute_input": "2020-08-30T17:42:42.271083Z",
     "iopub.status.busy": "2020-08-30T17:42:42.271083Z",
     "iopub.status.idle": "2020-08-30T17:42:42.291087Z",
     "shell.execute_reply": "2020-08-30T17:42:42.289082Z",
     "shell.execute_reply.started": "2020-08-30T17:42:42.271083Z"
    }
   },
   "outputs": [
    {
     "data": {
      "text/plain": [
       "True"
      ]
     },
     "execution_count": 219,
     "metadata": {},
     "output_type": "execute_result"
    }
   ],
   "source": [
    "# check if it contains an element\n",
    "'dates' in fruits"
   ]
  },
  {
   "cell_type": "code",
   "execution_count": 220,
   "metadata": {
    "execution": {
     "iopub.execute_input": "2020-08-30T17:42:44.881919Z",
     "iopub.status.busy": "2020-08-30T17:42:44.880918Z",
     "iopub.status.idle": "2020-08-30T17:42:44.895926Z",
     "shell.execute_reply": "2020-08-30T17:42:44.893916Z",
     "shell.execute_reply.started": "2020-08-30T17:42:44.881919Z"
    }
   },
   "outputs": [
    {
     "ename": "TypeError",
     "evalue": "'tuple' object does not support item assignment",
     "output_type": "error",
     "traceback": [
      "\u001b[1;31m---------------------------------------------------------------------------\u001b[0m",
      "\u001b[1;31mTypeError\u001b[0m                                 Traceback (most recent call last)",
      "\u001b[1;32m<ipython-input-220-eea1d48cc8b5>\u001b[0m in \u001b[0;36m<module>\u001b[1;34m\u001b[0m\n\u001b[0;32m      1\u001b[0m \u001b[1;31m# try to change an element\u001b[0m\u001b[1;33m\u001b[0m\u001b[1;33m\u001b[0m\u001b[1;33m\u001b[0m\u001b[0m\n\u001b[1;32m----> 2\u001b[1;33m \u001b[0mfruits\u001b[0m\u001b[1;33m[\u001b[0m\u001b[1;36m0\u001b[0m\u001b[1;33m]\u001b[0m \u001b[1;33m=\u001b[0m \u001b[1;34m'avocado'\u001b[0m\u001b[1;33m\u001b[0m\u001b[1;33m\u001b[0m\u001b[0m\n\u001b[0m",
      "\u001b[1;31mTypeError\u001b[0m: 'tuple' object does not support item assignment"
     ]
    }
   ],
   "source": [
    "# try to change an element\n",
    "fruits[0] = 'avocado'"
   ]
  },
  {
   "cell_type": "code",
   "execution_count": 221,
   "metadata": {
    "execution": {
     "iopub.execute_input": "2020-08-30T17:42:55.198382Z",
     "iopub.status.busy": "2020-08-30T17:42:55.197382Z",
     "iopub.status.idle": "2020-08-30T17:42:55.214382Z",
     "shell.execute_reply": "2020-08-30T17:42:55.211385Z",
     "shell.execute_reply.started": "2020-08-30T17:42:55.198382Z"
    }
   },
   "outputs": [
    {
     "ename": "AttributeError",
     "evalue": "'tuple' object has no attribute 'append'",
     "output_type": "error",
     "traceback": [
      "\u001b[1;31m---------------------------------------------------------------------------\u001b[0m",
      "\u001b[1;31mAttributeError\u001b[0m                            Traceback (most recent call last)",
      "\u001b[1;32m<ipython-input-221-e5ea20adaaf8>\u001b[0m in \u001b[0;36m<module>\u001b[1;34m\u001b[0m\n\u001b[0;32m      1\u001b[0m \u001b[1;31m# try to append an element\u001b[0m\u001b[1;33m\u001b[0m\u001b[1;33m\u001b[0m\u001b[1;33m\u001b[0m\u001b[0m\n\u001b[1;32m----> 2\u001b[1;33m \u001b[0mfruits\u001b[0m\u001b[1;33m.\u001b[0m\u001b[0mappend\u001b[0m\u001b[1;33m(\u001b[0m\u001b[1;34m'blueberry'\u001b[0m\u001b[1;33m)\u001b[0m\u001b[1;33m\u001b[0m\u001b[1;33m\u001b[0m\u001b[0m\n\u001b[0m",
      "\u001b[1;31mAttributeError\u001b[0m: 'tuple' object has no attribute 'append'"
     ]
    }
   ],
   "source": [
    "# try to append an element\n",
    "fruits.append('blueberry')"
   ]
  },
  {
   "cell_type": "code",
   "execution_count": 222,
   "metadata": {
    "execution": {
     "iopub.execute_input": "2020-08-30T17:42:56.494454Z",
     "iopub.status.busy": "2020-08-30T17:42:56.493453Z",
     "iopub.status.idle": "2020-08-30T17:42:56.507451Z",
     "shell.execute_reply": "2020-08-30T17:42:56.506453Z",
     "shell.execute_reply.started": "2020-08-30T17:42:56.494454Z"
    }
   },
   "outputs": [
    {
     "ename": "AttributeError",
     "evalue": "'tuple' object has no attribute 'remove'",
     "output_type": "error",
     "traceback": [
      "\u001b[1;31m---------------------------------------------------------------------------\u001b[0m",
      "\u001b[1;31mAttributeError\u001b[0m                            Traceback (most recent call last)",
      "\u001b[1;32m<ipython-input-222-37543d45b6b4>\u001b[0m in \u001b[0;36m<module>\u001b[1;34m\u001b[0m\n\u001b[0;32m      1\u001b[0m \u001b[1;31m# try to remove an element\u001b[0m\u001b[1;33m\u001b[0m\u001b[1;33m\u001b[0m\u001b[1;33m\u001b[0m\u001b[0m\n\u001b[1;32m----> 2\u001b[1;33m \u001b[0mfruits\u001b[0m\u001b[1;33m.\u001b[0m\u001b[0mremove\u001b[0m\u001b[1;33m(\u001b[0m\u001b[1;34m'apple'\u001b[0m\u001b[1;33m)\u001b[0m\u001b[1;33m\u001b[0m\u001b[1;33m\u001b[0m\u001b[0m\n\u001b[0m",
      "\u001b[1;31mAttributeError\u001b[0m: 'tuple' object has no attribute 'remove'"
     ]
    }
   ],
   "source": [
    "# try to remove an element\n",
    "fruits.remove('apple')"
   ]
  },
  {
   "cell_type": "markdown",
   "metadata": {},
   "source": [
    "You can also skip the parantheses `(` and `)` while creating a tuple. Python automatically converts comma-separated values into a tuple."
   ]
  },
  {
   "cell_type": "code",
   "execution_count": 223,
   "metadata": {
    "execution": {
     "iopub.execute_input": "2020-08-30T17:42:59.385823Z",
     "iopub.status.busy": "2020-08-30T17:42:59.385823Z",
     "iopub.status.idle": "2020-08-30T17:42:59.400819Z",
     "shell.execute_reply": "2020-08-30T17:42:59.398822Z",
     "shell.execute_reply.started": "2020-08-30T17:42:59.385823Z"
    }
   },
   "outputs": [],
   "source": [
    "the_3_musketeers = 'Athos', 'Porthos', 'Aramis'"
   ]
  },
  {
   "cell_type": "code",
   "execution_count": 224,
   "metadata": {
    "execution": {
     "iopub.execute_input": "2020-08-30T17:43:03.974988Z",
     "iopub.status.busy": "2020-08-30T17:43:03.974988Z",
     "iopub.status.idle": "2020-08-30T17:43:03.988989Z",
     "shell.execute_reply": "2020-08-30T17:43:03.987987Z",
     "shell.execute_reply.started": "2020-08-30T17:43:03.974988Z"
    }
   },
   "outputs": [
    {
     "data": {
      "text/plain": [
       "('Athos', 'Porthos', 'Aramis')"
      ]
     },
     "execution_count": 224,
     "metadata": {},
     "output_type": "execute_result"
    }
   ],
   "source": [
    "the_3_musketeers"
   ]
  },
  {
   "cell_type": "markdown",
   "metadata": {},
   "source": [
    "You can also create a tuple with just one element, if you include a comma after the element. Just wrapping it with parantheses `(` and `)` won't create a tuple."
   ]
  },
  {
   "cell_type": "code",
   "execution_count": 225,
   "metadata": {
    "execution": {
     "iopub.execute_input": "2020-08-30T17:43:06.920005Z",
     "iopub.status.busy": "2020-08-30T17:43:06.920005Z",
     "iopub.status.idle": "2020-08-30T17:43:06.928008Z",
     "shell.execute_reply": "2020-08-30T17:43:06.926003Z",
     "shell.execute_reply.started": "2020-08-30T17:43:06.920005Z"
    }
   },
   "outputs": [],
   "source": [
    "single_element_tuple = 4,"
   ]
  },
  {
   "cell_type": "code",
   "execution_count": 226,
   "metadata": {
    "execution": {
     "iopub.execute_input": "2020-08-30T17:43:30.524938Z",
     "iopub.status.busy": "2020-08-30T17:43:30.524938Z",
     "iopub.status.idle": "2020-08-30T17:43:30.539932Z",
     "shell.execute_reply": "2020-08-30T17:43:30.538934Z",
     "shell.execute_reply.started": "2020-08-30T17:43:30.524938Z"
    }
   },
   "outputs": [
    {
     "data": {
      "text/plain": [
       "(4,)"
      ]
     },
     "execution_count": 226,
     "metadata": {},
     "output_type": "execute_result"
    }
   ],
   "source": [
    "single_element_tuple"
   ]
  },
  {
   "cell_type": "code",
   "execution_count": 227,
   "metadata": {
    "execution": {
     "iopub.execute_input": "2020-08-30T17:43:35.168763Z",
     "iopub.status.busy": "2020-08-30T17:43:35.167761Z",
     "iopub.status.idle": "2020-08-30T17:43:35.182760Z",
     "shell.execute_reply": "2020-08-30T17:43:35.181761Z",
     "shell.execute_reply.started": "2020-08-30T17:43:35.168763Z"
    }
   },
   "outputs": [],
   "source": [
    "another_single_element_tuple = (4,)"
   ]
  },
  {
   "cell_type": "code",
   "execution_count": 228,
   "metadata": {
    "execution": {
     "iopub.execute_input": "2020-08-30T17:43:37.817540Z",
     "iopub.status.busy": "2020-08-30T17:43:37.816539Z",
     "iopub.status.idle": "2020-08-30T17:43:37.831541Z",
     "shell.execute_reply": "2020-08-30T17:43:37.829541Z",
     "shell.execute_reply.started": "2020-08-30T17:43:37.817540Z"
    }
   },
   "outputs": [
    {
     "data": {
      "text/plain": [
       "(4,)"
      ]
     },
     "execution_count": 228,
     "metadata": {},
     "output_type": "execute_result"
    }
   ],
   "source": [
    "another_single_element_tuple"
   ]
  },
  {
   "cell_type": "code",
   "execution_count": 229,
   "metadata": {
    "execution": {
     "iopub.execute_input": "2020-08-30T17:43:40.181503Z",
     "iopub.status.busy": "2020-08-30T17:43:40.181503Z",
     "iopub.status.idle": "2020-08-30T17:43:40.196501Z",
     "shell.execute_reply": "2020-08-30T17:43:40.194502Z",
     "shell.execute_reply.started": "2020-08-30T17:43:40.181503Z"
    }
   },
   "outputs": [],
   "source": [
    "not_a_tuple = (4)"
   ]
  },
  {
   "cell_type": "code",
   "execution_count": 230,
   "metadata": {
    "execution": {
     "iopub.execute_input": "2020-08-30T17:43:42.715991Z",
     "iopub.status.busy": "2020-08-30T17:43:42.714987Z",
     "iopub.status.idle": "2020-08-30T17:43:42.723988Z",
     "shell.execute_reply": "2020-08-30T17:43:42.722992Z",
     "shell.execute_reply.started": "2020-08-30T17:43:42.715991Z"
    }
   },
   "outputs": [
    {
     "data": {
      "text/plain": [
       "4"
      ]
     },
     "execution_count": 230,
     "metadata": {},
     "output_type": "execute_result"
    }
   ],
   "source": [
    "not_a_tuple"
   ]
  },
  {
   "cell_type": "markdown",
   "metadata": {},
   "source": [
    "Tuples are often used to create multiple variables with a single statement."
   ]
  },
  {
   "cell_type": "code",
   "execution_count": 231,
   "metadata": {
    "execution": {
     "iopub.execute_input": "2020-08-30T17:43:56.779123Z",
     "iopub.status.busy": "2020-08-30T17:43:56.778127Z",
     "iopub.status.idle": "2020-08-30T17:43:56.797504Z",
     "shell.execute_reply": "2020-08-30T17:43:56.796505Z",
     "shell.execute_reply.started": "2020-08-30T17:43:56.779123Z"
    }
   },
   "outputs": [],
   "source": [
    "point = (3, 4)"
   ]
  },
  {
   "cell_type": "code",
   "execution_count": 232,
   "metadata": {
    "execution": {
     "iopub.execute_input": "2020-08-30T17:44:08.241281Z",
     "iopub.status.busy": "2020-08-30T17:44:08.240274Z",
     "iopub.status.idle": "2020-08-30T17:44:08.251275Z",
     "shell.execute_reply": "2020-08-30T17:44:08.250273Z",
     "shell.execute_reply.started": "2020-08-30T17:44:08.241281Z"
    }
   },
   "outputs": [],
   "source": [
    "point_x, point_y = point"
   ]
  },
  {
   "cell_type": "code",
   "execution_count": 233,
   "metadata": {
    "execution": {
     "iopub.execute_input": "2020-08-30T17:44:10.669645Z",
     "iopub.status.busy": "2020-08-30T17:44:10.668645Z",
     "iopub.status.idle": "2020-08-30T17:44:10.679184Z",
     "shell.execute_reply": "2020-08-30T17:44:10.677165Z",
     "shell.execute_reply.started": "2020-08-30T17:44:10.669645Z"
    }
   },
   "outputs": [
    {
     "data": {
      "text/plain": [
       "3"
      ]
     },
     "execution_count": 233,
     "metadata": {},
     "output_type": "execute_result"
    }
   ],
   "source": [
    "point_x"
   ]
  },
  {
   "cell_type": "code",
   "execution_count": 234,
   "metadata": {
    "execution": {
     "iopub.execute_input": "2020-08-30T17:44:15.478495Z",
     "iopub.status.busy": "2020-08-30T17:44:15.478495Z",
     "iopub.status.idle": "2020-08-30T17:44:15.493770Z",
     "shell.execute_reply": "2020-08-30T17:44:15.492503Z",
     "shell.execute_reply.started": "2020-08-30T17:44:15.478495Z"
    }
   },
   "outputs": [
    {
     "data": {
      "text/plain": [
       "4"
      ]
     },
     "execution_count": 234,
     "metadata": {},
     "output_type": "execute_result"
    }
   ],
   "source": [
    "point_y"
   ]
  },
  {
   "cell_type": "markdown",
   "metadata": {},
   "source": [
    "You can convert a list into a tuple using the `tuple` function, and vice versa using the `list` function"
   ]
  },
  {
   "cell_type": "code",
   "execution_count": 235,
   "metadata": {
    "execution": {
     "iopub.execute_input": "2020-08-30T17:44:32.366555Z",
     "iopub.status.busy": "2020-08-30T17:44:32.366555Z",
     "iopub.status.idle": "2020-08-30T17:44:32.383556Z",
     "shell.execute_reply": "2020-08-30T17:44:32.381556Z",
     "shell.execute_reply.started": "2020-08-30T17:44:32.366555Z"
    }
   },
   "outputs": [
    {
     "data": {
      "text/plain": [
       "('one', 'two', 'three')"
      ]
     },
     "execution_count": 235,
     "metadata": {},
     "output_type": "execute_result"
    }
   ],
   "source": [
    "tuple(['one', 'two', 'three'])"
   ]
  },
  {
   "cell_type": "code",
   "execution_count": 236,
   "metadata": {
    "execution": {
     "iopub.execute_input": "2020-08-30T17:44:35.165972Z",
     "iopub.status.busy": "2020-08-30T17:44:35.165972Z",
     "iopub.status.idle": "2020-08-30T17:44:35.179497Z",
     "shell.execute_reply": "2020-08-30T17:44:35.178501Z",
     "shell.execute_reply.started": "2020-08-30T17:44:35.165972Z"
    }
   },
   "outputs": [
    {
     "data": {
      "text/plain": [
       "['Athos', 'Porthos', 'Aramis']"
      ]
     },
     "execution_count": 236,
     "metadata": {},
     "output_type": "execute_result"
    }
   ],
   "source": [
    "list(('Athos', 'Porthos', 'Aramis'))"
   ]
  },
  {
   "cell_type": "markdown",
   "metadata": {},
   "source": [
    "Tuples have just 2 built-in methods: `count` and `index`. Can you figure out what they do? While look could look for documentation and examples online, there's an easier way to check the documentation of a method, using the `help` function."
   ]
  },
  {
   "cell_type": "code",
   "execution_count": 237,
   "metadata": {
    "execution": {
     "iopub.execute_input": "2020-08-30T17:45:06.684225Z",
     "iopub.status.busy": "2020-08-30T17:45:06.683226Z",
     "iopub.status.idle": "2020-08-30T17:45:06.698226Z",
     "shell.execute_reply": "2020-08-30T17:45:06.696225Z",
     "shell.execute_reply.started": "2020-08-30T17:45:06.684225Z"
    }
   },
   "outputs": [],
   "source": [
    "a_tuple = 23, \"hello\", False, None, 23, 37, \"hello\""
   ]
  },
  {
   "cell_type": "code",
   "execution_count": 238,
   "metadata": {
    "execution": {
     "iopub.execute_input": "2020-08-30T17:45:10.178714Z",
     "iopub.status.busy": "2020-08-30T17:45:10.177714Z",
     "iopub.status.idle": "2020-08-30T17:45:10.191719Z",
     "shell.execute_reply": "2020-08-30T17:45:10.189717Z",
     "shell.execute_reply.started": "2020-08-30T17:45:10.177714Z"
    }
   },
   "outputs": [
    {
     "name": "stdout",
     "output_type": "stream",
     "text": [
      "Help on built-in function count:\n",
      "\n",
      "count(value, /) method of builtins.tuple instance\n",
      "    Return number of occurrences of value.\n",
      "\n"
     ]
    }
   ],
   "source": [
    "help(a_tuple.count)"
   ]
  },
  {
   "cell_type": "markdown",
   "metadata": {},
   "source": [
    "Within a Jupyter notebook, you can also start a code cell with `?` and type the name of a function or method. When you execute this cell, you will see the documentation for the function/method in a pop-up window."
   ]
  },
  {
   "cell_type": "code",
   "execution_count": 239,
   "metadata": {
    "execution": {
     "iopub.execute_input": "2020-08-30T17:46:04.398290Z",
     "iopub.status.busy": "2020-08-30T17:46:04.397287Z",
     "iopub.status.idle": "2020-08-30T17:46:04.503285Z",
     "shell.execute_reply": "2020-08-30T17:46:04.502283Z",
     "shell.execute_reply.started": "2020-08-30T17:46:04.398290Z"
    }
   },
   "outputs": [
    {
     "data": {
      "text/plain": [
       "\u001b[1;31mSignature:\u001b[0m \u001b[0ma_tuple\u001b[0m\u001b[1;33m.\u001b[0m\u001b[0mindex\u001b[0m\u001b[1;33m(\u001b[0m\u001b[0mvalue\u001b[0m\u001b[1;33m,\u001b[0m \u001b[0mstart\u001b[0m\u001b[1;33m=\u001b[0m\u001b[1;36m0\u001b[0m\u001b[1;33m,\u001b[0m \u001b[0mstop\u001b[0m\u001b[1;33m=\u001b[0m\u001b[1;36m9223372036854775807\u001b[0m\u001b[1;33m,\u001b[0m \u001b[1;33m/\u001b[0m\u001b[1;33m)\u001b[0m\u001b[1;33m\u001b[0m\u001b[1;33m\u001b[0m\u001b[0m\n",
       "\u001b[1;31mDocstring:\u001b[0m\n",
       "Return first index of value.\n",
       "\n",
       "Raises ValueError if the value is not present.\n",
       "\u001b[1;31mType:\u001b[0m      builtin_function_or_method\n"
      ]
     },
     "metadata": {},
     "output_type": "display_data"
    }
   ],
   "source": [
    "?a_tuple.index"
   ]
  },
  {
   "cell_type": "markdown",
   "metadata": {},
   "source": [
    "Try using `count` and `index` with `a_tuple` in the code cells below."
   ]
  },
  {
   "cell_type": "code",
   "execution_count": 241,
   "metadata": {
    "execution": {
     "iopub.execute_input": "2020-08-30T17:47:01.440680Z",
     "iopub.status.busy": "2020-08-30T17:47:01.439681Z",
     "iopub.status.idle": "2020-08-30T17:47:01.452679Z",
     "shell.execute_reply": "2020-08-30T17:47:01.451680Z",
     "shell.execute_reply.started": "2020-08-30T17:47:01.440680Z"
    }
   },
   "outputs": [
    {
     "data": {
      "text/plain": [
       "2"
      ]
     },
     "execution_count": 241,
     "metadata": {},
     "output_type": "execute_result"
    }
   ],
   "source": [
    "a_tuple.count(23)"
   ]
  },
  {
   "cell_type": "code",
   "execution_count": 242,
   "metadata": {
    "execution": {
     "iopub.execute_input": "2020-08-30T17:47:24.163014Z",
     "iopub.status.busy": "2020-08-30T17:47:24.163014Z",
     "iopub.status.idle": "2020-08-30T17:47:24.177717Z",
     "shell.execute_reply": "2020-08-30T17:47:24.176016Z",
     "shell.execute_reply.started": "2020-08-30T17:47:24.163014Z"
    }
   },
   "outputs": [
    {
     "data": {
      "text/plain": [
       "1"
      ]
     },
     "execution_count": 242,
     "metadata": {},
     "output_type": "execute_result"
    }
   ],
   "source": [
    "a_tuple.index(\"hello\")"
   ]
  },
  {
   "cell_type": "markdown",
   "metadata": {},
   "source": [
    "### Dictionary\n",
    "\n",
    "A dictionary is an unordered collection of items. Each item stored in a dictionary has a key and value. Keys are used to retrieve values from the dictionary. Dictionaries have the type `dict`.\n",
    "\n",
    "Dictionaries are often used to store many pieces of information e.g. details about a person, in a single variable. Dictionaries are created by enclosing key-value pairs within curly brackets `{` and `}`."
   ]
  },
  {
   "cell_type": "code",
   "execution_count": 243,
   "metadata": {
    "execution": {
     "iopub.execute_input": "2020-08-30T17:55:29.433407Z",
     "iopub.status.busy": "2020-08-30T17:55:29.433407Z",
     "iopub.status.idle": "2020-08-30T17:55:29.442408Z",
     "shell.execute_reply": "2020-08-30T17:55:29.440411Z",
     "shell.execute_reply.started": "2020-08-30T17:55:29.433407Z"
    }
   },
   "outputs": [],
   "source": [
    "person1 = {\n",
    "    'name': 'John Doe',\n",
    "    'sex': 'Male',\n",
    "    'age': 32,\n",
    "    'married': True\n",
    "}"
   ]
  },
  {
   "cell_type": "code",
   "execution_count": 244,
   "metadata": {
    "execution": {
     "iopub.execute_input": "2020-08-30T17:55:31.882346Z",
     "iopub.status.busy": "2020-08-30T17:55:31.881345Z",
     "iopub.status.idle": "2020-08-30T17:55:31.895343Z",
     "shell.execute_reply": "2020-08-30T17:55:31.893344Z",
     "shell.execute_reply.started": "2020-08-30T17:55:31.882346Z"
    }
   },
   "outputs": [
    {
     "data": {
      "text/plain": [
       "{'name': 'John Doe', 'sex': 'Male', 'age': 32, 'married': True}"
      ]
     },
     "execution_count": 244,
     "metadata": {},
     "output_type": "execute_result"
    }
   ],
   "source": [
    "person1"
   ]
  },
  {
   "cell_type": "markdown",
   "metadata": {},
   "source": [
    "Dictionaries can also be created using the `dict` function."
   ]
  },
  {
   "cell_type": "code",
   "execution_count": 245,
   "metadata": {
    "execution": {
     "iopub.execute_input": "2020-08-30T17:55:43.702189Z",
     "iopub.status.busy": "2020-08-30T17:55:43.702189Z",
     "iopub.status.idle": "2020-08-30T17:55:43.713722Z",
     "shell.execute_reply": "2020-08-30T17:55:43.710707Z",
     "shell.execute_reply.started": "2020-08-30T17:55:43.702189Z"
    }
   },
   "outputs": [],
   "source": [
    "person2 = dict(name='Jane Judy', sex='Female', age=28, married=False)"
   ]
  },
  {
   "cell_type": "code",
   "execution_count": 246,
   "metadata": {
    "execution": {
     "iopub.execute_input": "2020-08-30T17:55:44.778405Z",
     "iopub.status.busy": "2020-08-30T17:55:44.778405Z",
     "iopub.status.idle": "2020-08-30T17:55:44.790402Z",
     "shell.execute_reply": "2020-08-30T17:55:44.788403Z",
     "shell.execute_reply.started": "2020-08-30T17:55:44.778405Z"
    }
   },
   "outputs": [
    {
     "data": {
      "text/plain": [
       "{'name': 'Jane Judy', 'sex': 'Female', 'age': 28, 'married': False}"
      ]
     },
     "execution_count": 246,
     "metadata": {},
     "output_type": "execute_result"
    }
   ],
   "source": [
    "person2"
   ]
  },
  {
   "cell_type": "code",
   "execution_count": 247,
   "metadata": {
    "execution": {
     "iopub.execute_input": "2020-08-30T17:55:46.370835Z",
     "iopub.status.busy": "2020-08-30T17:55:46.369841Z",
     "iopub.status.idle": "2020-08-30T17:55:46.389833Z",
     "shell.execute_reply": "2020-08-30T17:55:46.387834Z",
     "shell.execute_reply.started": "2020-08-30T17:55:46.370835Z"
    }
   },
   "outputs": [
    {
     "data": {
      "text/plain": [
       "dict"
      ]
     },
     "execution_count": 247,
     "metadata": {},
     "output_type": "execute_result"
    }
   ],
   "source": [
    "type(person1)"
   ]
  },
  {
   "cell_type": "markdown",
   "metadata": {},
   "source": [
    "Keys can be used to access values using square brackets `[` and `]`."
   ]
  },
  {
   "cell_type": "code",
   "execution_count": 248,
   "metadata": {
    "execution": {
     "iopub.execute_input": "2020-08-30T17:55:51.705469Z",
     "iopub.status.busy": "2020-08-30T17:55:51.704470Z",
     "iopub.status.idle": "2020-08-30T17:55:51.725475Z",
     "shell.execute_reply": "2020-08-30T17:55:51.723472Z",
     "shell.execute_reply.started": "2020-08-30T17:55:51.705469Z"
    }
   },
   "outputs": [
    {
     "data": {
      "text/plain": [
       "'John Doe'"
      ]
     },
     "execution_count": 248,
     "metadata": {},
     "output_type": "execute_result"
    }
   ],
   "source": [
    "person1['name']"
   ]
  },
  {
   "cell_type": "code",
   "execution_count": 249,
   "metadata": {
    "execution": {
     "iopub.execute_input": "2020-08-30T17:55:54.342435Z",
     "iopub.status.busy": "2020-08-30T17:55:54.342435Z",
     "iopub.status.idle": "2020-08-30T17:55:54.360433Z",
     "shell.execute_reply": "2020-08-30T17:55:54.358435Z",
     "shell.execute_reply.started": "2020-08-30T17:55:54.342435Z"
    }
   },
   "outputs": [
    {
     "data": {
      "text/plain": [
       "True"
      ]
     },
     "execution_count": 249,
     "metadata": {},
     "output_type": "execute_result"
    }
   ],
   "source": [
    "person1['married']"
   ]
  },
  {
   "cell_type": "code",
   "execution_count": 250,
   "metadata": {
    "execution": {
     "iopub.execute_input": "2020-08-30T17:55:56.561221Z",
     "iopub.status.busy": "2020-08-30T17:55:56.560225Z",
     "iopub.status.idle": "2020-08-30T17:55:56.568219Z",
     "shell.execute_reply": "2020-08-30T17:55:56.567222Z",
     "shell.execute_reply.started": "2020-08-30T17:55:56.561221Z"
    }
   },
   "outputs": [
    {
     "data": {
      "text/plain": [
       "'Jane Judy'"
      ]
     },
     "execution_count": 250,
     "metadata": {},
     "output_type": "execute_result"
    }
   ],
   "source": [
    "person2['name']"
   ]
  },
  {
   "cell_type": "markdown",
   "metadata": {},
   "source": [
    "If a key isn't present in the dictionary, then a `KeyError` is returned."
   ]
  },
  {
   "cell_type": "code",
   "execution_count": 251,
   "metadata": {
    "execution": {
     "iopub.execute_input": "2020-08-30T17:56:04.465031Z",
     "iopub.status.busy": "2020-08-30T17:56:04.464031Z",
     "iopub.status.idle": "2020-08-30T17:56:04.487031Z",
     "shell.execute_reply": "2020-08-30T17:56:04.485026Z",
     "shell.execute_reply.started": "2020-08-30T17:56:04.464031Z"
    }
   },
   "outputs": [
    {
     "ename": "KeyError",
     "evalue": "'address'",
     "output_type": "error",
     "traceback": [
      "\u001b[1;31m---------------------------------------------------------------------------\u001b[0m",
      "\u001b[1;31mKeyError\u001b[0m                                  Traceback (most recent call last)",
      "\u001b[1;32m<ipython-input-251-f2b8bd2476d4>\u001b[0m in \u001b[0;36m<module>\u001b[1;34m\u001b[0m\n\u001b[1;32m----> 1\u001b[1;33m \u001b[0mperson1\u001b[0m\u001b[1;33m[\u001b[0m\u001b[1;34m'address'\u001b[0m\u001b[1;33m]\u001b[0m\u001b[1;33m\u001b[0m\u001b[1;33m\u001b[0m\u001b[0m\n\u001b[0m",
      "\u001b[1;31mKeyError\u001b[0m: 'address'"
     ]
    }
   ],
   "source": [
    "person1['address']"
   ]
  },
  {
   "cell_type": "markdown",
   "metadata": {},
   "source": [
    "The `get` method can also be used to access the value associated with a key."
   ]
  },
  {
   "cell_type": "code",
   "execution_count": 252,
   "metadata": {
    "execution": {
     "iopub.execute_input": "2020-08-30T17:56:10.616349Z",
     "iopub.status.busy": "2020-08-30T17:56:10.616349Z",
     "iopub.status.idle": "2020-08-30T17:56:10.631347Z",
     "shell.execute_reply": "2020-08-30T17:56:10.630348Z",
     "shell.execute_reply.started": "2020-08-30T17:56:10.616349Z"
    }
   },
   "outputs": [
    {
     "data": {
      "text/plain": [
       "'Jane Judy'"
      ]
     },
     "execution_count": 252,
     "metadata": {},
     "output_type": "execute_result"
    }
   ],
   "source": [
    "person2.get(\"name\")"
   ]
  },
  {
   "cell_type": "markdown",
   "metadata": {},
   "source": [
    "The `get` method also accepts a default value which is returned if the key is not present in the dictionary."
   ]
  },
  {
   "cell_type": "code",
   "execution_count": 253,
   "metadata": {
    "execution": {
     "iopub.execute_input": "2020-08-30T17:56:15.170200Z",
     "iopub.status.busy": "2020-08-30T17:56:15.169203Z",
     "iopub.status.idle": "2020-08-30T17:56:15.184200Z",
     "shell.execute_reply": "2020-08-30T17:56:15.182196Z",
     "shell.execute_reply.started": "2020-08-30T17:56:15.170200Z"
    }
   },
   "outputs": [
    {
     "data": {
      "text/plain": [
       "'Unknown'"
      ]
     },
     "execution_count": 253,
     "metadata": {},
     "output_type": "execute_result"
    }
   ],
   "source": [
    "person2.get(\"address\", \"Unknown\")"
   ]
  },
  {
   "cell_type": "markdown",
   "metadata": {},
   "source": [
    "You can check whether a key is present in a dictionary using the `in` operator."
   ]
  },
  {
   "cell_type": "code",
   "execution_count": 254,
   "metadata": {
    "execution": {
     "iopub.execute_input": "2020-08-30T17:56:45.679687Z",
     "iopub.status.busy": "2020-08-30T17:56:45.678687Z",
     "iopub.status.idle": "2020-08-30T17:56:45.696679Z",
     "shell.execute_reply": "2020-08-30T17:56:45.695680Z",
     "shell.execute_reply.started": "2020-08-30T17:56:45.679687Z"
    }
   },
   "outputs": [
    {
     "data": {
      "text/plain": [
       "True"
      ]
     },
     "execution_count": 254,
     "metadata": {},
     "output_type": "execute_result"
    }
   ],
   "source": [
    "'name' in person1"
   ]
  },
  {
   "cell_type": "code",
   "execution_count": 255,
   "metadata": {
    "execution": {
     "iopub.execute_input": "2020-08-30T17:56:53.177223Z",
     "iopub.status.busy": "2020-08-30T17:56:53.177223Z",
     "iopub.status.idle": "2020-08-30T17:56:53.192221Z",
     "shell.execute_reply": "2020-08-30T17:56:53.190218Z",
     "shell.execute_reply.started": "2020-08-30T17:56:53.177223Z"
    }
   },
   "outputs": [
    {
     "data": {
      "text/plain": [
       "False"
      ]
     },
     "execution_count": 255,
     "metadata": {},
     "output_type": "execute_result"
    }
   ],
   "source": [
    "'address' in person1"
   ]
  },
  {
   "cell_type": "markdown",
   "metadata": {},
   "source": [
    "You can change the value associated with a key using the assignment operator."
   ]
  },
  {
   "cell_type": "code",
   "execution_count": 256,
   "metadata": {
    "execution": {
     "iopub.execute_input": "2020-08-30T17:57:06.820257Z",
     "iopub.status.busy": "2020-08-30T17:57:06.820257Z",
     "iopub.status.idle": "2020-08-30T17:57:06.841259Z",
     "shell.execute_reply": "2020-08-30T17:57:06.839260Z",
     "shell.execute_reply.started": "2020-08-30T17:57:06.820257Z"
    }
   },
   "outputs": [
    {
     "data": {
      "text/plain": [
       "False"
      ]
     },
     "execution_count": 256,
     "metadata": {},
     "output_type": "execute_result"
    }
   ],
   "source": [
    "person2['married']"
   ]
  },
  {
   "cell_type": "code",
   "execution_count": 257,
   "metadata": {
    "execution": {
     "iopub.execute_input": "2020-08-30T17:57:09.188121Z",
     "iopub.status.busy": "2020-08-30T17:57:09.187122Z",
     "iopub.status.idle": "2020-08-30T17:57:09.202122Z",
     "shell.execute_reply": "2020-08-30T17:57:09.201120Z",
     "shell.execute_reply.started": "2020-08-30T17:57:09.188121Z"
    }
   },
   "outputs": [],
   "source": [
    "person2['married'] = True"
   ]
  },
  {
   "cell_type": "code",
   "execution_count": 258,
   "metadata": {
    "execution": {
     "iopub.execute_input": "2020-08-30T17:57:10.454221Z",
     "iopub.status.busy": "2020-08-30T17:57:10.454221Z",
     "iopub.status.idle": "2020-08-30T17:57:10.468228Z",
     "shell.execute_reply": "2020-08-30T17:57:10.466223Z",
     "shell.execute_reply.started": "2020-08-30T17:57:10.454221Z"
    }
   },
   "outputs": [
    {
     "data": {
      "text/plain": [
       "True"
      ]
     },
     "execution_count": 258,
     "metadata": {},
     "output_type": "execute_result"
    }
   ],
   "source": [
    "person2['married']"
   ]
  },
  {
   "cell_type": "markdown",
   "metadata": {},
   "source": [
    "The assignment operator can also be used to add new key-value pairs to the dictonary."
   ]
  },
  {
   "cell_type": "code",
   "execution_count": 259,
   "metadata": {
    "execution": {
     "iopub.execute_input": "2020-08-30T17:57:15.347070Z",
     "iopub.status.busy": "2020-08-30T17:57:15.347070Z",
     "iopub.status.idle": "2020-08-30T17:57:15.360071Z",
     "shell.execute_reply": "2020-08-30T17:57:15.359070Z",
     "shell.execute_reply.started": "2020-08-30T17:57:15.347070Z"
    }
   },
   "outputs": [
    {
     "data": {
      "text/plain": [
       "{'name': 'John Doe', 'sex': 'Male', 'age': 32, 'married': True}"
      ]
     },
     "execution_count": 259,
     "metadata": {},
     "output_type": "execute_result"
    }
   ],
   "source": [
    "person1"
   ]
  },
  {
   "cell_type": "code",
   "execution_count": 260,
   "metadata": {
    "execution": {
     "iopub.execute_input": "2020-08-30T17:57:18.163487Z",
     "iopub.status.busy": "2020-08-30T17:57:18.163487Z",
     "iopub.status.idle": "2020-08-30T17:57:18.177486Z",
     "shell.execute_reply": "2020-08-30T17:57:18.175490Z",
     "shell.execute_reply.started": "2020-08-30T17:57:18.163487Z"
    }
   },
   "outputs": [],
   "source": [
    "person1['address'] = '1, Penny Lane'"
   ]
  },
  {
   "cell_type": "code",
   "execution_count": 261,
   "metadata": {
    "execution": {
     "iopub.execute_input": "2020-08-30T17:57:20.375013Z",
     "iopub.status.busy": "2020-08-30T17:57:20.374015Z",
     "iopub.status.idle": "2020-08-30T17:57:20.382018Z",
     "shell.execute_reply": "2020-08-30T17:57:20.381017Z",
     "shell.execute_reply.started": "2020-08-30T17:57:20.375013Z"
    }
   },
   "outputs": [
    {
     "data": {
      "text/plain": [
       "{'name': 'John Doe',\n",
       " 'sex': 'Male',\n",
       " 'age': 32,\n",
       " 'married': True,\n",
       " 'address': '1, Penny Lane'}"
      ]
     },
     "execution_count": 261,
     "metadata": {},
     "output_type": "execute_result"
    }
   ],
   "source": [
    "person1"
   ]
  },
  {
   "cell_type": "markdown",
   "metadata": {},
   "source": [
    "To remove a key and the associated value from a dictionary, use the `pop` method."
   ]
  },
  {
   "cell_type": "code",
   "execution_count": 262,
   "metadata": {
    "execution": {
     "iopub.execute_input": "2020-08-30T18:00:49.449870Z",
     "iopub.status.busy": "2020-08-30T18:00:49.448869Z",
     "iopub.status.idle": "2020-08-30T18:00:49.463870Z",
     "shell.execute_reply": "2020-08-30T18:00:49.462871Z",
     "shell.execute_reply.started": "2020-08-30T18:00:49.449870Z"
    }
   },
   "outputs": [
    {
     "data": {
      "text/plain": [
       "'1, Penny Lane'"
      ]
     },
     "execution_count": 262,
     "metadata": {},
     "output_type": "execute_result"
    }
   ],
   "source": [
    "person1.pop('address')"
   ]
  },
  {
   "cell_type": "code",
   "execution_count": 263,
   "metadata": {
    "execution": {
     "iopub.execute_input": "2020-08-30T18:00:55.188565Z",
     "iopub.status.busy": "2020-08-30T18:00:55.188565Z",
     "iopub.status.idle": "2020-08-30T18:00:55.203565Z",
     "shell.execute_reply": "2020-08-30T18:00:55.202560Z",
     "shell.execute_reply.started": "2020-08-30T18:00:55.188565Z"
    }
   },
   "outputs": [
    {
     "data": {
      "text/plain": [
       "{'name': 'John Doe', 'sex': 'Male', 'age': 32, 'married': True}"
      ]
     },
     "execution_count": 263,
     "metadata": {},
     "output_type": "execute_result"
    }
   ],
   "source": [
    "person1"
   ]
  },
  {
   "cell_type": "markdown",
   "metadata": {},
   "source": [
    "Dictonaries also provide methods to view the list of keys, values or key-value pairs inside it."
   ]
  },
  {
   "cell_type": "code",
   "execution_count": 264,
   "metadata": {
    "execution": {
     "iopub.execute_input": "2020-08-30T18:01:07.170702Z",
     "iopub.status.busy": "2020-08-30T18:01:07.169705Z",
     "iopub.status.idle": "2020-08-30T18:01:07.183704Z",
     "shell.execute_reply": "2020-08-30T18:01:07.181701Z",
     "shell.execute_reply.started": "2020-08-30T18:01:07.169705Z"
    }
   },
   "outputs": [
    {
     "data": {
      "text/plain": [
       "dict_keys(['name', 'sex', 'age', 'married'])"
      ]
     },
     "execution_count": 264,
     "metadata": {},
     "output_type": "execute_result"
    }
   ],
   "source": [
    "person1.keys()"
   ]
  },
  {
   "cell_type": "code",
   "execution_count": 265,
   "metadata": {
    "execution": {
     "iopub.execute_input": "2020-08-30T18:01:08.576838Z",
     "iopub.status.busy": "2020-08-30T18:01:08.575838Z",
     "iopub.status.idle": "2020-08-30T18:01:08.590840Z",
     "shell.execute_reply": "2020-08-30T18:01:08.589838Z",
     "shell.execute_reply.started": "2020-08-30T18:01:08.576838Z"
    }
   },
   "outputs": [
    {
     "data": {
      "text/plain": [
       "dict_values(['John Doe', 'Male', 32, True])"
      ]
     },
     "execution_count": 265,
     "metadata": {},
     "output_type": "execute_result"
    }
   ],
   "source": [
    "person1.values()"
   ]
  },
  {
   "cell_type": "code",
   "execution_count": 266,
   "metadata": {
    "execution": {
     "iopub.execute_input": "2020-08-30T18:01:14.601036Z",
     "iopub.status.busy": "2020-08-30T18:01:14.601036Z",
     "iopub.status.idle": "2020-08-30T18:01:14.613036Z",
     "shell.execute_reply": "2020-08-30T18:01:14.612033Z",
     "shell.execute_reply.started": "2020-08-30T18:01:14.601036Z"
    }
   },
   "outputs": [
    {
     "data": {
      "text/plain": [
       "dict_items([('name', 'John Doe'), ('sex', 'Male'), ('age', 32), ('married', True)])"
      ]
     },
     "execution_count": 266,
     "metadata": {},
     "output_type": "execute_result"
    }
   ],
   "source": [
    "person1.items()"
   ]
  },
  {
   "cell_type": "code",
   "execution_count": 267,
   "metadata": {
    "execution": {
     "iopub.execute_input": "2020-08-30T18:01:19.577911Z",
     "iopub.status.busy": "2020-08-30T18:01:19.576906Z",
     "iopub.status.idle": "2020-08-30T18:01:19.601905Z",
     "shell.execute_reply": "2020-08-30T18:01:19.598908Z",
     "shell.execute_reply.started": "2020-08-30T18:01:19.577911Z"
    }
   },
   "outputs": [
    {
     "ename": "TypeError",
     "evalue": "'dict_items' object is not subscriptable",
     "output_type": "error",
     "traceback": [
      "\u001b[1;31m---------------------------------------------------------------------------\u001b[0m",
      "\u001b[1;31mTypeError\u001b[0m                                 Traceback (most recent call last)",
      "\u001b[1;32m<ipython-input-267-b9fb361f2a9e>\u001b[0m in \u001b[0;36m<module>\u001b[1;34m\u001b[0m\n\u001b[1;32m----> 1\u001b[1;33m \u001b[0mperson1\u001b[0m\u001b[1;33m.\u001b[0m\u001b[0mitems\u001b[0m\u001b[1;33m(\u001b[0m\u001b[1;33m)\u001b[0m\u001b[1;33m[\u001b[0m\u001b[1;36m1\u001b[0m\u001b[1;33m]\u001b[0m\u001b[1;33m\u001b[0m\u001b[1;33m\u001b[0m\u001b[0m\n\u001b[0m",
      "\u001b[1;31mTypeError\u001b[0m: 'dict_items' object is not subscriptable"
     ]
    }
   ],
   "source": [
    "person1.items()[1]"
   ]
  },
  {
   "cell_type": "markdown",
   "metadata": {},
   "source": [
    "The result of the `keys`, `values` or `items` look like lists but don't seem to support the indexing operator `[]` for retrieving elements. \n",
    "\n",
    "Can you figure out how to access an element at a specific index from these results? Try it below. *Hint: Use the `list` function*"
   ]
  },
  {
   "cell_type": "code",
   "execution_count": 269,
   "metadata": {
    "execution": {
     "iopub.execute_input": "2020-08-30T18:02:31.583626Z",
     "iopub.status.busy": "2020-08-30T18:02:31.582626Z",
     "iopub.status.idle": "2020-08-30T18:02:31.604628Z",
     "shell.execute_reply": "2020-08-30T18:02:31.603622Z",
     "shell.execute_reply.started": "2020-08-30T18:02:31.583626Z"
    }
   },
   "outputs": [
    {
     "data": {
      "text/plain": [
       "('name', 'John Doe')"
      ]
     },
     "execution_count": 269,
     "metadata": {},
     "output_type": "execute_result"
    }
   ],
   "source": [
    "list(person1.items())[0]"
   ]
  },
  {
   "cell_type": "code",
   "execution_count": 270,
   "metadata": {
    "execution": {
     "iopub.execute_input": "2020-08-30T18:03:09.768954Z",
     "iopub.status.busy": "2020-08-30T18:03:09.767955Z",
     "iopub.status.idle": "2020-08-30T18:03:09.787951Z",
     "shell.execute_reply": "2020-08-30T18:03:09.786950Z",
     "shell.execute_reply.started": "2020-08-30T18:03:09.768954Z"
    }
   },
   "outputs": [
    {
     "data": {
      "text/plain": [
       "('married', True)"
      ]
     },
     "execution_count": 270,
     "metadata": {},
     "output_type": "execute_result"
    }
   ],
   "source": [
    "list(person2.items())[3]"
   ]
  },
  {
   "cell_type": "markdown",
   "metadata": {},
   "source": [
    "Dictionaries provide many other methods. You can learn more about them here: https://www.w3schools.com/python/python_ref_dictionary.asp\n",
    "\n",
    "Here are some experiments you can try out with dictionaries (use the empty cells below):\n",
    "* What happens if you use the same key multiple times while creating a dictionary?\n",
    "* How can you create a copy of a dictionary (modifying the copy should not change the original)?\n",
    "* Can the value associated with a key itself be a dictionary?\n",
    "* How can you add the key value pairs from one dictionary into another dictionary? Hint: See the `update` method.\n",
    "* Can the keys of a dictionary be something other than a string e.g. a number, boolean, list etc.?"
   ]
  },
  {
   "cell_type": "code",
   "execution_count": 273,
   "metadata": {
    "execution": {
     "iopub.execute_input": "2020-08-30T18:05:17.935687Z",
     "iopub.status.busy": "2020-08-30T18:05:17.935687Z",
     "iopub.status.idle": "2020-08-30T18:05:17.946693Z",
     "shell.execute_reply": "2020-08-30T18:05:17.944688Z",
     "shell.execute_reply.started": "2020-08-30T18:05:17.935687Z"
    }
   },
   "outputs": [],
   "source": [
    "dog = {\"name\": \"Bear\", \"age\": 1, \"name\": \"bear\", \"name\": \"Jack\"}"
   ]
  },
  {
   "cell_type": "code",
   "execution_count": 274,
   "metadata": {
    "execution": {
     "iopub.execute_input": "2020-08-30T18:05:19.679672Z",
     "iopub.status.busy": "2020-08-30T18:05:19.678669Z",
     "iopub.status.idle": "2020-08-30T18:05:19.700674Z",
     "shell.execute_reply": "2020-08-30T18:05:19.699673Z",
     "shell.execute_reply.started": "2020-08-30T18:05:19.679672Z"
    }
   },
   "outputs": [
    {
     "data": {
      "text/plain": [
       "'Jack'"
      ]
     },
     "execution_count": 274,
     "metadata": {},
     "output_type": "execute_result"
    }
   ],
   "source": [
    "dog[\"name\"]"
   ]
  },
  {
   "cell_type": "code",
   "execution_count": 278,
   "metadata": {
    "execution": {
     "iopub.execute_input": "2020-08-30T18:07:20.208864Z",
     "iopub.status.busy": "2020-08-30T18:07:20.207864Z",
     "iopub.status.idle": "2020-08-30T18:07:20.222868Z",
     "shell.execute_reply": "2020-08-30T18:07:20.220864Z",
     "shell.execute_reply.started": "2020-08-30T18:07:20.208864Z"
    }
   },
   "outputs": [],
   "source": [
    "person3 = person1.copy()"
   ]
  },
  {
   "cell_type": "code",
   "execution_count": 279,
   "metadata": {
    "execution": {
     "iopub.execute_input": "2020-08-30T18:07:53.546486Z",
     "iopub.status.busy": "2020-08-30T18:07:53.545491Z",
     "iopub.status.idle": "2020-08-30T18:07:53.557487Z",
     "shell.execute_reply": "2020-08-30T18:07:53.555486Z",
     "shell.execute_reply.started": "2020-08-30T18:07:53.546486Z"
    }
   },
   "outputs": [
    {
     "data": {
      "text/plain": [
       "{'name': 'John Doe', 'sex': 'Male', 'age': 32, 'married': True}"
      ]
     },
     "execution_count": 279,
     "metadata": {},
     "output_type": "execute_result"
    }
   ],
   "source": [
    "person1"
   ]
  },
  {
   "cell_type": "code",
   "execution_count": 280,
   "metadata": {
    "execution": {
     "iopub.execute_input": "2020-08-30T18:08:01.173441Z",
     "iopub.status.busy": "2020-08-30T18:08:01.172441Z",
     "iopub.status.idle": "2020-08-30T18:08:01.187439Z",
     "shell.execute_reply": "2020-08-30T18:08:01.185438Z",
     "shell.execute_reply.started": "2020-08-30T18:08:01.173441Z"
    }
   },
   "outputs": [
    {
     "data": {
      "text/plain": [
       "{'name': 'John Doe', 'sex': 'Male', 'age': 32, 'married': True}"
      ]
     },
     "execution_count": 280,
     "metadata": {},
     "output_type": "execute_result"
    }
   ],
   "source": [
    "person3"
   ]
  },
  {
   "cell_type": "code",
   "execution_count": 281,
   "metadata": {
    "execution": {
     "iopub.execute_input": "2020-08-30T18:08:33.163428Z",
     "iopub.status.busy": "2020-08-30T18:08:33.162428Z",
     "iopub.status.idle": "2020-08-30T18:08:33.177428Z",
     "shell.execute_reply": "2020-08-30T18:08:33.175430Z",
     "shell.execute_reply.started": "2020-08-30T18:08:33.163428Z"
    }
   },
   "outputs": [],
   "source": [
    "person3[\"age\"] = 40"
   ]
  },
  {
   "cell_type": "code",
   "execution_count": 282,
   "metadata": {
    "execution": {
     "iopub.execute_input": "2020-08-30T18:08:48.164993Z",
     "iopub.status.busy": "2020-08-30T18:08:48.163992Z",
     "iopub.status.idle": "2020-08-30T18:08:48.178997Z",
     "shell.execute_reply": "2020-08-30T18:08:48.176995Z",
     "shell.execute_reply.started": "2020-08-30T18:08:48.164993Z"
    }
   },
   "outputs": [
    {
     "data": {
      "text/plain": [
       "{'name': 'John Doe', 'sex': 'Male', 'age': 40, 'married': True}"
      ]
     },
     "execution_count": 282,
     "metadata": {},
     "output_type": "execute_result"
    }
   ],
   "source": [
    "person3"
   ]
  },
  {
   "cell_type": "code",
   "execution_count": 283,
   "metadata": {
    "execution": {
     "iopub.execute_input": "2020-08-30T18:08:56.168644Z",
     "iopub.status.busy": "2020-08-30T18:08:56.168644Z",
     "iopub.status.idle": "2020-08-30T18:08:56.184645Z",
     "shell.execute_reply": "2020-08-30T18:08:56.182644Z",
     "shell.execute_reply.started": "2020-08-30T18:08:56.168644Z"
    }
   },
   "outputs": [
    {
     "data": {
      "text/plain": [
       "{'name': 'John Doe', 'sex': 'Male', 'age': 32, 'married': True}"
      ]
     },
     "execution_count": 283,
     "metadata": {},
     "output_type": "execute_result"
    }
   ],
   "source": [
    "person1"
   ]
  },
  {
   "cell_type": "code",
   "execution_count": 285,
   "metadata": {
    "execution": {
     "iopub.execute_input": "2020-08-30T18:12:01.167446Z",
     "iopub.status.busy": "2020-08-30T18:12:01.166449Z",
     "iopub.status.idle": "2020-08-30T18:12:01.181444Z",
     "shell.execute_reply": "2020-08-30T18:12:01.179447Z",
     "shell.execute_reply.started": "2020-08-30T18:12:01.167446Z"
    }
   },
   "outputs": [],
   "source": [
    "dict1 = {\"Name\": \"New dictionary\", \"values\": {\"item1\": 0, \"item2\": 1, \"item3\": 2}}"
   ]
  },
  {
   "cell_type": "code",
   "execution_count": 286,
   "metadata": {
    "execution": {
     "iopub.execute_input": "2020-08-30T18:12:13.782806Z",
     "iopub.status.busy": "2020-08-30T18:12:13.781810Z",
     "iopub.status.idle": "2020-08-30T18:12:13.791806Z",
     "shell.execute_reply": "2020-08-30T18:12:13.789809Z",
     "shell.execute_reply.started": "2020-08-30T18:12:13.782806Z"
    }
   },
   "outputs": [
    {
     "data": {
      "text/plain": [
       "{'Name': 'New dictionary', 'values': {'item1': 0, 'item2': 1, 'item3': 2}}"
      ]
     },
     "execution_count": 286,
     "metadata": {},
     "output_type": "execute_result"
    }
   ],
   "source": [
    "dict1"
   ]
  },
  {
   "cell_type": "code",
   "execution_count": 289,
   "metadata": {
    "execution": {
     "iopub.execute_input": "2020-08-30T18:15:37.309892Z",
     "iopub.status.busy": "2020-08-30T18:15:37.308891Z",
     "iopub.status.idle": "2020-08-30T18:15:37.328400Z",
     "shell.execute_reply": "2020-08-30T18:15:37.326386Z",
     "shell.execute_reply.started": "2020-08-30T18:15:37.309892Z"
    }
   },
   "outputs": [],
   "source": [
    "person1.update({\"Employed\": True, \"OwnsCar\": False})"
   ]
  },
  {
   "cell_type": "code",
   "execution_count": 290,
   "metadata": {
    "execution": {
     "iopub.execute_input": "2020-08-30T18:15:54.203539Z",
     "iopub.status.busy": "2020-08-30T18:15:54.202540Z",
     "iopub.status.idle": "2020-08-30T18:15:54.212538Z",
     "shell.execute_reply": "2020-08-30T18:15:54.211539Z",
     "shell.execute_reply.started": "2020-08-30T18:15:54.203539Z"
    }
   },
   "outputs": [
    {
     "data": {
      "text/plain": [
       "{'name': 'John Doe',\n",
       " 'sex': 'Male',\n",
       " 'age': 32,\n",
       " 'married': True,\n",
       " 'Employed': True,\n",
       " 'OwnsCar': False}"
      ]
     },
     "execution_count": 290,
     "metadata": {},
     "output_type": "execute_result"
    }
   ],
   "source": [
    "person1"
   ]
  },
  {
   "cell_type": "code",
   "execution_count": 291,
   "metadata": {
    "execution": {
     "iopub.execute_input": "2020-08-30T18:17:55.651752Z",
     "iopub.status.busy": "2020-08-30T18:17:55.651752Z",
     "iopub.status.idle": "2020-08-30T18:17:55.666753Z",
     "shell.execute_reply": "2020-08-30T18:17:55.665751Z",
     "shell.execute_reply.started": "2020-08-30T18:17:55.651752Z"
    }
   },
   "outputs": [],
   "source": [
    "some_data = {\"FileExtension\": [\"csv\", \"xslx\", \"txt\"], \"Boolean\": False, \"RealNumber\": 345.456, \"IntegerNumber\": 34}"
   ]
  },
  {
   "cell_type": "code",
   "execution_count": 292,
   "metadata": {
    "execution": {
     "iopub.execute_input": "2020-08-30T18:18:18.438300Z",
     "iopub.status.busy": "2020-08-30T18:18:18.438300Z",
     "iopub.status.idle": "2020-08-30T18:18:18.456302Z",
     "shell.execute_reply": "2020-08-30T18:18:18.453300Z",
     "shell.execute_reply.started": "2020-08-30T18:18:18.438300Z"
    }
   },
   "outputs": [
    {
     "data": {
      "text/plain": [
       "{'FileExtension': ['csv', 'xslx', 'txt'],\n",
       " 'Boolean': False,\n",
       " 'RealNumber': 345.456,\n",
       " 'IntegerNumber': 34}"
      ]
     },
     "execution_count": 292,
     "metadata": {},
     "output_type": "execute_result"
    }
   ],
   "source": [
    "some_data"
   ]
  },
  {
   "cell_type": "markdown",
   "metadata": {},
   "source": [
    "## Further Reading\n",
    "\n",
    "We've now completed our exploration of variables and common data types in Python. Following are some resources to learn more about data types in Python:\n",
    "\n",
    "* Python official documentation: https://docs.python.org/3/tutorial/index.html\n",
    "* Python Tutorial at W3Schools: https://www.w3schools.com/python/\n",
    "* Practical Python Programming: https://dabeaz-course.github.io/practical-python/Notes/Contents.html\n",
    "\n",
    "You are now ready to move on to the next tutorial: [Branching using conditional statements and loops in Python](https://jovian.ml/aakashns/python-branching-and-loops)"
   ]
  },
  {
   "cell_type": "markdown",
   "metadata": {},
   "source": [
    "Let's save a snapshot of our notebook one final time using `jovian.commit`."
   ]
  },
  {
   "cell_type": "code",
   "execution_count": null,
   "metadata": {
    "execution": {
     "iopub.status.busy": "2020-08-30T17:24:43.981634Z",
     "iopub.status.idle": "2020-08-30T17:24:43.982632Z"
    }
   },
   "outputs": [],
   "source": [
    "jovian.commit()"
   ]
  },
  {
   "cell_type": "code",
   "execution_count": null,
   "metadata": {},
   "outputs": [],
   "source": []
  }
 ],
 "metadata": {
  "kernelspec": {
   "display_name": "Python 3",
   "language": "python",
   "name": "python3"
  },
  "language_info": {
   "codemirror_mode": {
    "name": "ipython",
    "version": 3
   },
   "file_extension": ".py",
   "mimetype": "text/x-python",
   "name": "python",
   "nbconvert_exporter": "python",
   "pygments_lexer": "ipython3",
   "version": "3.8.5"
  }
 },
 "nbformat": 4,
 "nbformat_minor": 4
}
