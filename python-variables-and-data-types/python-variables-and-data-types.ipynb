{
 "cells": [
  {
   "cell_type": "markdown",
   "metadata": {},
   "source": [
    "# A Quick Tour of Variables and Data Types in Python\n",
    "\n",
    "### Part 2 of \"A Gentle Introduction to Programming with Python\"\n",
    "\n",
    "This tutorial is the second in a series on introduction to programming using the Python language. These tutorials take a practical coding-based approach, and the best way to learn the material is to execute the code and experiment with the examples. Check out the full series here: \n",
    "\n",
    "1. [First Steps with Python and Jupyter](https://jovian.ml/aakashns/first-steps-with-python)\n",
    "2. [A Quick Tour of Variables and Data Types](https://jovian.ml/aakashns/python-variables-and-data-types)\n",
    "3. [Branching using Conditional Statements and Loops](https://jovian.ml/aakashns/python-branching-and-loops)\n",
    "4. [Writing Reusable Code Using Functions](https://jovian.ml/aakashns/python-functions-and-scope)\n",
    "5. [Reading from and Writing to Files](https://jovian.ml/aakashns/python-os-and-filesystem)\n",
    "6. [Object Oriented Programming with Classes](https://jovian.ml/aakashns/python-object-oriented-programming)\n",
    "\n"
   ]
  },
  {
   "cell_type": "markdown",
   "metadata": {},
   "source": [
    "## How to run the code\n",
    "\n",
    "This tutorial hosted on [Jovian.ml](https://www.jovian.ml), a platform for sharing data science projects online. You can \"run\" this tutorial and experiment with the code examples in a couple of ways: *using free online resources* (recommended) or *on your own computer*.\n",
    "\n",
    ">  This tutorial is a [Jupyter notebook](https://jupyter.org) - a document made of \"cells\", which can contain explanations in text or code written in Python. Code cells can be executed and their outputs e.g. numbers, messages, graphs, tables, files etc. can be viewed within the notebook, which makes it a really powerful platform for experimentation and analysis. Don't afraid to experiment with the code & break things - you'll learn a lot by encoutering and fixing errors. You can use the \"Kernel > Restart & Clear Output\" menu option to clear all outputs and start again from the top of the notebook.\n",
    "\n",
    "### Option 1: Running using free online resources (1-click, recommended)\n",
    "\n",
    "The easiest way to start executing this notebook is to click the \"Run\" button at the top of this page, and select \"Run on Binder\". This will run the notebook on [mybinder.org](https://mybinder.org), a free online service for running Jupyter notebooks. You can also select \"Run on Colab\" or \"Run on Kaggle\", but you'll need to create an account on [Google Colab](https://colab.research.google.com) or [Kaggle](https://kaggle.com) to use these platforms.\n",
    "\n",
    "\n",
    "### Option 2: Running on your computer locally\n",
    "\n",
    "You'll need to install Python and download this notebook on your computer to run in locally. We recommend using the [Conda](https://docs.conda.io/en/latest/) distribution of Python. Here's what you need to do to get started:\n",
    "\n",
    "1. Install Conda by [following these instructions](https://conda.io/projects/conda/en/latest/user-guide/install/index.html). Make sure to add Conda binaries to your system `PATH` to be able to run the `conda` command line tool from your Mac/Linux terminal or Windows command prompt. \n",
    "\n",
    "\n",
    "2. Create and activate a [Conda virtual environment](https://docs.conda.io/projects/conda/en/latest/user-guide/tasks/manage-environments.html) called `zerotopandas` which you can use for this tutorial series:\n",
    "```\n",
    "conda create -n intro-to-python -y python=3.8 \n",
    "conda activate intro-to-python\n",
    "```\n",
    "You'll need to create the environment only once, but you'll have to activate it every time want to run the notebook. When the environment is activated, you should be able to see a prefix `(intro-to-python)` within your terminal or command prompt.\n",
    "\n",
    "\n",
    "3. Install the required Python libraries within the environmebt by the running the following command on your  terminal or command prompt:\n",
    "```\n",
    "pip install jovian jupyter numpy pandas matplotlib seaborn --upgrade\n",
    "```\n",
    "\n",
    "4. Download the notebook for this tutorial using the `jovian clone` command:\n",
    "```\n",
    "jovian clone aakashns/python-variables-and-data-types\n",
    "```\n",
    "The notebook is downloaded to the directory `python-variables-and-data-types`.\n",
    "\n",
    "\n",
    "5. Enter the project directory and start the Jupyter notebook:\n",
    "```\n",
    "cd python-variables-and-data-types\n",
    "jupyter notebook\n",
    "```\n",
    "\n",
    "6. You can now access Jupyter's web interface by clicking the link that shows up on the terminal or by visiting http://localhost:8888 on your browser. Click on the notebook `python-variables-and-data-types.ipynb` to open it and run the code. If you want to type out the code yourself, you can also create a new notebook using the \"New\" button.\n",
    "\n",
    "\n"
   ]
  },
  {
   "cell_type": "markdown",
   "metadata": {},
   "source": [
    "## Storing information using variables\n",
    "\n",
    "Computers are useful for two purposes: storing information and performing operations on stored information. While working with a programming language such as Python, informations is stored in *variables*. You can think of variables are containers for storing data. The data stored within a variable is called it's *value*. It's really easy to create variables in Python, as we've already seen in the [previous tutorial](https://jovian.ml/aakashns/first-steps-with-python/v/4#C15).\n",
    "\n"
   ]
  },
  {
   "cell_type": "code",
   "execution_count": 1,
   "metadata": {
    "execution": {
     "iopub.execute_input": "2020-08-30T05:29:14.583658Z",
     "iopub.status.busy": "2020-08-30T05:29:14.582659Z",
     "iopub.status.idle": "2020-08-30T05:29:14.593660Z",
     "shell.execute_reply": "2020-08-30T05:29:14.591664Z",
     "shell.execute_reply.started": "2020-08-30T05:29:14.583658Z"
    }
   },
   "outputs": [],
   "source": [
    "my_favorite_color = \"blue\""
   ]
  },
  {
   "cell_type": "code",
   "execution_count": 2,
   "metadata": {
    "execution": {
     "iopub.execute_input": "2020-08-30T05:29:17.475565Z",
     "iopub.status.busy": "2020-08-30T05:29:17.474567Z",
     "iopub.status.idle": "2020-08-30T05:29:17.502570Z",
     "shell.execute_reply": "2020-08-30T05:29:17.500568Z",
     "shell.execute_reply.started": "2020-08-30T05:29:17.475565Z"
    }
   },
   "outputs": [
    {
     "data": {
      "text/plain": [
       "'blue'"
      ]
     },
     "execution_count": 2,
     "metadata": {},
     "output_type": "execute_result"
    }
   ],
   "source": [
    "my_favorite_color"
   ]
  },
  {
   "cell_type": "markdown",
   "metadata": {},
   "source": [
    "A variable is created using an *assignment statement*, which begins with the variable's name, followed by the assignment operator `=` (different from the equality comparision operator `==`), followed by the value to be stored within the variable. \n",
    "\n",
    "You can also values to multiple variables in a single statement by separating the variable names and values with commas."
   ]
  },
  {
   "cell_type": "code",
   "execution_count": 3,
   "metadata": {
    "execution": {
     "iopub.execute_input": "2020-08-30T05:29:40.837850Z",
     "iopub.status.busy": "2020-08-30T05:29:40.836845Z",
     "iopub.status.idle": "2020-08-30T05:29:40.852848Z",
     "shell.execute_reply": "2020-08-30T05:29:40.850845Z",
     "shell.execute_reply.started": "2020-08-30T05:29:40.837850Z"
    }
   },
   "outputs": [],
   "source": [
    "color1, color2, color3 = \"red\", \"green\", \"blue\""
   ]
  },
  {
   "cell_type": "code",
   "execution_count": 4,
   "metadata": {
    "execution": {
     "iopub.execute_input": "2020-08-30T05:29:41.973238Z",
     "iopub.status.busy": "2020-08-30T05:29:41.973238Z",
     "iopub.status.idle": "2020-08-30T05:29:41.992236Z",
     "shell.execute_reply": "2020-08-30T05:29:41.991237Z",
     "shell.execute_reply.started": "2020-08-30T05:29:41.973238Z"
    }
   },
   "outputs": [
    {
     "data": {
      "text/plain": [
       "'red'"
      ]
     },
     "execution_count": 4,
     "metadata": {},
     "output_type": "execute_result"
    }
   ],
   "source": [
    "color1"
   ]
  },
  {
   "cell_type": "code",
   "execution_count": 5,
   "metadata": {
    "execution": {
     "iopub.execute_input": "2020-08-30T05:29:50.853656Z",
     "iopub.status.busy": "2020-08-30T05:29:50.853656Z",
     "iopub.status.idle": "2020-08-30T05:29:50.875653Z",
     "shell.execute_reply": "2020-08-30T05:29:50.874656Z",
     "shell.execute_reply.started": "2020-08-30T05:29:50.853656Z"
    }
   },
   "outputs": [
    {
     "data": {
      "text/plain": [
       "'green'"
      ]
     },
     "execution_count": 5,
     "metadata": {},
     "output_type": "execute_result"
    }
   ],
   "source": [
    "color2"
   ]
  },
  {
   "cell_type": "code",
   "execution_count": 6,
   "metadata": {
    "execution": {
     "iopub.execute_input": "2020-08-30T05:29:51.904662Z",
     "iopub.status.busy": "2020-08-30T05:29:51.904662Z",
     "iopub.status.idle": "2020-08-30T05:29:51.922657Z",
     "shell.execute_reply": "2020-08-30T05:29:51.921659Z",
     "shell.execute_reply.started": "2020-08-30T05:29:51.904662Z"
    }
   },
   "outputs": [
    {
     "data": {
      "text/plain": [
       "'blue'"
      ]
     },
     "execution_count": 6,
     "metadata": {},
     "output_type": "execute_result"
    }
   ],
   "source": [
    "color3"
   ]
  },
  {
   "cell_type": "markdown",
   "metadata": {},
   "source": [
    "You can assign the same value to multiple variables by chaining multiple assignment operations within a single statement."
   ]
  },
  {
   "cell_type": "code",
   "execution_count": 7,
   "metadata": {
    "execution": {
     "iopub.execute_input": "2020-08-30T05:30:03.791389Z",
     "iopub.status.busy": "2020-08-30T05:30:03.790390Z",
     "iopub.status.idle": "2020-08-30T05:30:03.808389Z",
     "shell.execute_reply": "2020-08-30T05:30:03.807388Z",
     "shell.execute_reply.started": "2020-08-30T05:30:03.791389Z"
    }
   },
   "outputs": [],
   "source": [
    "color4 = color5 = color6 = \"magenta\""
   ]
  },
  {
   "cell_type": "code",
   "execution_count": 8,
   "metadata": {
    "execution": {
     "iopub.execute_input": "2020-08-30T05:30:06.367684Z",
     "iopub.status.busy": "2020-08-30T05:30:06.366682Z",
     "iopub.status.idle": "2020-08-30T05:30:06.378680Z",
     "shell.execute_reply": "2020-08-30T05:30:06.377679Z",
     "shell.execute_reply.started": "2020-08-30T05:30:06.367684Z"
    }
   },
   "outputs": [
    {
     "data": {
      "text/plain": [
       "'magenta'"
      ]
     },
     "execution_count": 8,
     "metadata": {},
     "output_type": "execute_result"
    }
   ],
   "source": [
    "color4"
   ]
  },
  {
   "cell_type": "code",
   "execution_count": 9,
   "metadata": {
    "execution": {
     "iopub.execute_input": "2020-08-30T05:30:07.358683Z",
     "iopub.status.busy": "2020-08-30T05:30:07.358683Z",
     "iopub.status.idle": "2020-08-30T05:30:07.373680Z",
     "shell.execute_reply": "2020-08-30T05:30:07.371677Z",
     "shell.execute_reply.started": "2020-08-30T05:30:07.358683Z"
    }
   },
   "outputs": [
    {
     "data": {
      "text/plain": [
       "'magenta'"
      ]
     },
     "execution_count": 9,
     "metadata": {},
     "output_type": "execute_result"
    }
   ],
   "source": [
    "color5"
   ]
  },
  {
   "cell_type": "code",
   "execution_count": 10,
   "metadata": {
    "execution": {
     "iopub.execute_input": "2020-08-30T05:30:08.507682Z",
     "iopub.status.busy": "2020-08-30T05:30:08.507682Z",
     "iopub.status.idle": "2020-08-30T05:30:08.529680Z",
     "shell.execute_reply": "2020-08-30T05:30:08.527677Z",
     "shell.execute_reply.started": "2020-08-30T05:30:08.507682Z"
    }
   },
   "outputs": [
    {
     "data": {
      "text/plain": [
       "'magenta'"
      ]
     },
     "execution_count": 10,
     "metadata": {},
     "output_type": "execute_result"
    }
   ],
   "source": [
    "color6"
   ]
  },
  {
   "cell_type": "markdown",
   "metadata": {},
   "source": [
    "You can change the value stored within a variable simply by assigning a new value to it using another assignment statement. Be careful while reassgining variables: when you assign a new value to the variable, the old value is lost and no longer accessible."
   ]
  },
  {
   "cell_type": "code",
   "execution_count": 11,
   "metadata": {
    "execution": {
     "iopub.execute_input": "2020-08-30T05:31:18.343626Z",
     "iopub.status.busy": "2020-08-30T05:31:18.342628Z",
     "iopub.status.idle": "2020-08-30T05:31:18.356633Z",
     "shell.execute_reply": "2020-08-30T05:31:18.355632Z",
     "shell.execute_reply.started": "2020-08-30T05:31:18.342628Z"
    }
   },
   "outputs": [],
   "source": [
    "my_favorite_color = \"red\""
   ]
  },
  {
   "cell_type": "code",
   "execution_count": 12,
   "metadata": {
    "execution": {
     "iopub.execute_input": "2020-08-30T05:31:22.355379Z",
     "iopub.status.busy": "2020-08-30T05:31:22.354379Z",
     "iopub.status.idle": "2020-08-30T05:31:22.368383Z",
     "shell.execute_reply": "2020-08-30T05:31:22.367379Z",
     "shell.execute_reply.started": "2020-08-30T05:31:22.355379Z"
    }
   },
   "outputs": [
    {
     "data": {
      "text/plain": [
       "'red'"
      ]
     },
     "execution_count": 12,
     "metadata": {},
     "output_type": "execute_result"
    }
   ],
   "source": [
    "my_favorite_color"
   ]
  },
  {
   "cell_type": "markdown",
   "metadata": {},
   "source": [
    "While assigning a new value to a variable, you can also use the previous value of the variable to determine the new value."
   ]
  },
  {
   "cell_type": "code",
   "execution_count": 13,
   "metadata": {
    "execution": {
     "iopub.execute_input": "2020-08-30T05:31:31.892762Z",
     "iopub.status.busy": "2020-08-30T05:31:31.891763Z",
     "iopub.status.idle": "2020-08-30T05:31:31.908765Z",
     "shell.execute_reply": "2020-08-30T05:31:31.907760Z",
     "shell.execute_reply.started": "2020-08-30T05:31:31.892762Z"
    }
   },
   "outputs": [],
   "source": [
    "counter = 10"
   ]
  },
  {
   "cell_type": "code",
   "execution_count": 14,
   "metadata": {
    "execution": {
     "iopub.execute_input": "2020-08-30T05:31:33.939598Z",
     "iopub.status.busy": "2020-08-30T05:31:33.939598Z",
     "iopub.status.idle": "2020-08-30T05:31:33.948598Z",
     "shell.execute_reply": "2020-08-30T05:31:33.946603Z",
     "shell.execute_reply.started": "2020-08-30T05:31:33.939598Z"
    }
   },
   "outputs": [],
   "source": [
    "counter = counter + 1"
   ]
  },
  {
   "cell_type": "code",
   "execution_count": 15,
   "metadata": {
    "execution": {
     "iopub.execute_input": "2020-08-30T05:31:35.344299Z",
     "iopub.status.busy": "2020-08-30T05:31:35.343296Z",
     "iopub.status.idle": "2020-08-30T05:31:35.356468Z",
     "shell.execute_reply": "2020-08-30T05:31:35.354466Z",
     "shell.execute_reply.started": "2020-08-30T05:31:35.344299Z"
    }
   },
   "outputs": [
    {
     "data": {
      "text/plain": [
       "11"
      ]
     },
     "execution_count": 15,
     "metadata": {},
     "output_type": "execute_result"
    }
   ],
   "source": [
    "counter"
   ]
  },
  {
   "cell_type": "markdown",
   "metadata": {},
   "source": [
    "The pattern `var = var op something` (where `op` is an arithmetic operator like `+`, `-`, `*`, `/`) is very commonly used, so Python provides a *shorthand* syntax for it."
   ]
  },
  {
   "cell_type": "code",
   "execution_count": 16,
   "metadata": {
    "execution": {
     "iopub.execute_input": "2020-08-30T05:31:46.358099Z",
     "iopub.status.busy": "2020-08-30T05:31:46.358099Z",
     "iopub.status.idle": "2020-08-30T05:31:46.370101Z",
     "shell.execute_reply": "2020-08-30T05:31:46.368098Z",
     "shell.execute_reply.started": "2020-08-30T05:31:46.358099Z"
    }
   },
   "outputs": [],
   "source": [
    "counter = 10"
   ]
  },
  {
   "cell_type": "code",
   "execution_count": 17,
   "metadata": {
    "execution": {
     "iopub.execute_input": "2020-08-30T05:31:48.347097Z",
     "iopub.status.busy": "2020-08-30T05:31:48.347097Z",
     "iopub.status.idle": "2020-08-30T05:31:48.361112Z",
     "shell.execute_reply": "2020-08-30T05:31:48.359096Z",
     "shell.execute_reply.started": "2020-08-30T05:31:48.347097Z"
    }
   },
   "outputs": [],
   "source": [
    "# Same as `counter = counter + 4`\n",
    "counter += 4"
   ]
  },
  {
   "cell_type": "code",
   "execution_count": 18,
   "metadata": {
    "execution": {
     "iopub.execute_input": "2020-08-30T05:31:49.357098Z",
     "iopub.status.busy": "2020-08-30T05:31:49.357098Z",
     "iopub.status.idle": "2020-08-30T05:31:49.371101Z",
     "shell.execute_reply": "2020-08-30T05:31:49.370098Z",
     "shell.execute_reply.started": "2020-08-30T05:31:49.357098Z"
    }
   },
   "outputs": [
    {
     "data": {
      "text/plain": [
       "14"
      ]
     },
     "execution_count": 18,
     "metadata": {},
     "output_type": "execute_result"
    }
   ],
   "source": [
    "counter"
   ]
  },
  {
   "cell_type": "markdown",
   "metadata": {},
   "source": [
    "Variable names can be short (`a`, `x`, `y` etc.) or descriptive ( `my_favorite_color`, `profit_margin`, `the_3_musketeers` etc.). Howerver, you must follow these rules while naming Python variables:\n",
    "\n",
    "* A variable's name must start with a letter or the underscore character `_`. It cannot start with a number.\n",
    "* A variable name can only contain lowercase or uppercase letters, digits or underscores (`a`-`z`, `A`-`Z`, `0`-`9` and `_`).\n",
    "* Variable names are case-sensitive i.e. a_variable, A_Variable and A_VARIABLE are all different variables.\n",
    "\n",
    "Here are some valid variable names:"
   ]
  },
  {
   "cell_type": "code",
   "execution_count": 19,
   "metadata": {
    "execution": {
     "iopub.execute_input": "2020-08-30T05:32:15.636595Z",
     "iopub.status.busy": "2020-08-30T05:32:15.635591Z",
     "iopub.status.idle": "2020-08-30T05:32:15.645591Z",
     "shell.execute_reply": "2020-08-30T05:32:15.643590Z",
     "shell.execute_reply.started": "2020-08-30T05:32:15.636595Z"
    }
   },
   "outputs": [],
   "source": [
    "a_variable = 23\n",
    "is_today_Saturday = False\n",
    "my_favorite_car = \"Delorean\"\n",
    "the_3_musketeers = [\"Athos\", \"Porthos\", \"Aramis\"] "
   ]
  },
  {
   "cell_type": "markdown",
   "metadata": {},
   "source": [
    "Let's also try creating some variables with invalid names. Python prints a syntax error if your variable's name is invalid.\n",
    "\n",
    "> **Syntax**: The syntax of a programming language refers to the rules which govern what a valid instruction or *statement* in the language should look like. If a statement does not follow these rules, Python stops execution and informs you that there is a *syntax error*. You can think of syntax as the rules of grammar for a programming language."
   ]
  },
  {
   "cell_type": "code",
   "execution_count": 20,
   "metadata": {
    "execution": {
     "iopub.execute_input": "2020-08-30T05:32:27.499398Z",
     "iopub.status.busy": "2020-08-30T05:32:27.499398Z",
     "iopub.status.idle": "2020-08-30T05:32:27.519400Z",
     "shell.execute_reply": "2020-08-30T05:32:27.516396Z",
     "shell.execute_reply.started": "2020-08-30T05:32:27.499398Z"
    }
   },
   "outputs": [
    {
     "ename": "SyntaxError",
     "evalue": "invalid syntax (<ipython-input-20-b4f9daa715a5>, line 1)",
     "output_type": "error",
     "traceback": [
      "\u001b[1;36m  File \u001b[1;32m\"<ipython-input-20-b4f9daa715a5>\"\u001b[1;36m, line \u001b[1;32m1\u001b[0m\n\u001b[1;33m    a variable = 23\u001b[0m\n\u001b[1;37m      ^\u001b[0m\n\u001b[1;31mSyntaxError\u001b[0m\u001b[1;31m:\u001b[0m invalid syntax\n"
     ]
    }
   ],
   "source": [
    "a variable = 23"
   ]
  },
  {
   "cell_type": "code",
   "execution_count": 21,
   "metadata": {
    "execution": {
     "iopub.execute_input": "2020-08-30T05:32:31.003409Z",
     "iopub.status.busy": "2020-08-30T05:32:31.002409Z",
     "iopub.status.idle": "2020-08-30T05:32:31.018409Z",
     "shell.execute_reply": "2020-08-30T05:32:31.016407Z",
     "shell.execute_reply.started": "2020-08-30T05:32:31.003409Z"
    }
   },
   "outputs": [
    {
     "ename": "SyntaxError",
     "evalue": "invalid syntax (<ipython-input-21-3785425ca227>, line 1)",
     "output_type": "error",
     "traceback": [
      "\u001b[1;36m  File \u001b[1;32m\"<ipython-input-21-3785425ca227>\"\u001b[1;36m, line \u001b[1;32m1\u001b[0m\n\u001b[1;33m    is_today_$aturday = False\u001b[0m\n\u001b[1;37m             ^\u001b[0m\n\u001b[1;31mSyntaxError\u001b[0m\u001b[1;31m:\u001b[0m invalid syntax\n"
     ]
    }
   ],
   "source": [
    "is_today_$aturday = False"
   ]
  },
  {
   "cell_type": "code",
   "execution_count": 22,
   "metadata": {
    "execution": {
     "iopub.execute_input": "2020-08-30T05:32:34.363524Z",
     "iopub.status.busy": "2020-08-30T05:32:34.363524Z",
     "iopub.status.idle": "2020-08-30T05:32:34.383524Z",
     "shell.execute_reply": "2020-08-30T05:32:34.381522Z",
     "shell.execute_reply.started": "2020-08-30T05:32:34.363524Z"
    }
   },
   "outputs": [
    {
     "ename": "SyntaxError",
     "evalue": "cannot assign to operator (<ipython-input-22-829f5ed5b10b>, line 1)",
     "output_type": "error",
     "traceback": [
      "\u001b[1;36m  File \u001b[1;32m\"<ipython-input-22-829f5ed5b10b>\"\u001b[1;36m, line \u001b[1;32m1\u001b[0m\n\u001b[1;33m    my-favorite-car = \"Delorean\"\u001b[0m\n\u001b[1;37m    ^\u001b[0m\n\u001b[1;31mSyntaxError\u001b[0m\u001b[1;31m:\u001b[0m cannot assign to operator\n"
     ]
    }
   ],
   "source": [
    "my-favorite-car = \"Delorean\""
   ]
  },
  {
   "cell_type": "code",
   "execution_count": 23,
   "metadata": {
    "execution": {
     "iopub.execute_input": "2020-08-30T05:32:37.795756Z",
     "iopub.status.busy": "2020-08-30T05:32:37.794754Z",
     "iopub.status.idle": "2020-08-30T05:32:37.817751Z",
     "shell.execute_reply": "2020-08-30T05:32:37.815753Z",
     "shell.execute_reply.started": "2020-08-30T05:32:37.795756Z"
    }
   },
   "outputs": [
    {
     "ename": "SyntaxError",
     "evalue": "invalid decimal literal (<ipython-input-23-41d8638a15bb>, line 1)",
     "output_type": "error",
     "traceback": [
      "\u001b[1;36m  File \u001b[1;32m\"<ipython-input-23-41d8638a15bb>\"\u001b[1;36m, line \u001b[1;32m1\u001b[0m\n\u001b[1;33m    3_musketeers = [\"Athos\", \"Porthos\", \"Aramis\"]\u001b[0m\n\u001b[1;37m     ^\u001b[0m\n\u001b[1;31mSyntaxError\u001b[0m\u001b[1;31m:\u001b[0m invalid decimal literal\n"
     ]
    }
   ],
   "source": [
    "3_musketeers = [\"Athos\", \"Porthos\", \"Aramis\"]"
   ]
  },
  {
   "cell_type": "markdown",
   "metadata": {},
   "source": [
    "### Save and upload your notebook\n",
    "\n",
    "Whether you're running this Jupyter notebook on an online service like Binder or on your local machine, it's important to save your work from time, so that you can access it later, or share it online. You can upload this notebook to your [Jovian.ml](https://jovian.ml) account using the `jovian` Python library."
   ]
  },
  {
   "cell_type": "code",
   "execution_count": null,
   "metadata": {},
   "outputs": [],
   "source": [
    "# Install the jovian library\n",
    "!pip install jovian --upgrade --quiet"
   ]
  },
  {
   "cell_type": "code",
   "execution_count": null,
   "metadata": {},
   "outputs": [],
   "source": [
    "import jovian"
   ]
  },
  {
   "cell_type": "code",
   "execution_count": null,
   "metadata": {},
   "outputs": [],
   "source": [
    "jovian.commit(project='python-variables-and-data-types')"
   ]
  },
  {
   "cell_type": "markdown",
   "metadata": {},
   "source": [
    "The first time you run `jovian.commit`, you'll be asked to provide an API Key, to securely upload the notebook to your Jovian.ml account. You can get the API key from your Jovian.ml profile page after logging in / signing up.\n",
    "\n",
    "![api-key](https://i.imgur.com/YGGLH3e.png)\n",
    "\n",
    "`jovian.commit` uploads the notebook to your Jovian.ml account, captures the Python environment and creates a shareable link for your notebook as shown above. You can use this link to share your work and let anyone (including you) run your notebooks and reproduce your work."
   ]
  },
  {
   "cell_type": "markdown",
   "metadata": {},
   "source": [
    "## Built-in data types in Python\n",
    "\n",
    "Any data or information stored within a Python variable has a *type*. The type of data stored within a variable can be checked using the `type` function."
   ]
  },
  {
   "cell_type": "code",
   "execution_count": 28,
   "metadata": {
    "execution": {
     "iopub.execute_input": "2020-08-30T05:34:06.886571Z",
     "iopub.status.busy": "2020-08-30T05:34:06.885570Z",
     "iopub.status.idle": "2020-08-30T05:34:06.902576Z",
     "shell.execute_reply": "2020-08-30T05:34:06.900570Z",
     "shell.execute_reply.started": "2020-08-30T05:34:06.885570Z"
    }
   },
   "outputs": [
    {
     "data": {
      "text/plain": [
       "23"
      ]
     },
     "execution_count": 28,
     "metadata": {},
     "output_type": "execute_result"
    }
   ],
   "source": [
    "a_variable"
   ]
  },
  {
   "cell_type": "code",
   "execution_count": 29,
   "metadata": {
    "execution": {
     "iopub.execute_input": "2020-08-30T05:34:17.761022Z",
     "iopub.status.busy": "2020-08-30T05:34:17.760022Z",
     "iopub.status.idle": "2020-08-30T05:34:17.775028Z",
     "shell.execute_reply": "2020-08-30T05:34:17.773024Z",
     "shell.execute_reply.started": "2020-08-30T05:34:17.761022Z"
    }
   },
   "outputs": [
    {
     "data": {
      "text/plain": [
       "int"
      ]
     },
     "execution_count": 29,
     "metadata": {},
     "output_type": "execute_result"
    }
   ],
   "source": [
    "type(a_variable)"
   ]
  },
  {
   "cell_type": "code",
   "execution_count": 30,
   "metadata": {
    "execution": {
     "iopub.execute_input": "2020-08-30T05:34:20.616371Z",
     "iopub.status.busy": "2020-08-30T05:34:20.615372Z",
     "iopub.status.idle": "2020-08-30T05:34:20.629371Z",
     "shell.execute_reply": "2020-08-30T05:34:20.627372Z",
     "shell.execute_reply.started": "2020-08-30T05:34:20.616371Z"
    }
   },
   "outputs": [
    {
     "data": {
      "text/plain": [
       "False"
      ]
     },
     "execution_count": 30,
     "metadata": {},
     "output_type": "execute_result"
    }
   ],
   "source": [
    "is_today_Saturday"
   ]
  },
  {
   "cell_type": "code",
   "execution_count": 31,
   "metadata": {
    "execution": {
     "iopub.execute_input": "2020-08-30T05:34:24.061654Z",
     "iopub.status.busy": "2020-08-30T05:34:24.060654Z",
     "iopub.status.idle": "2020-08-30T05:34:24.079648Z",
     "shell.execute_reply": "2020-08-30T05:34:24.078649Z",
     "shell.execute_reply.started": "2020-08-30T05:34:24.061654Z"
    }
   },
   "outputs": [
    {
     "data": {
      "text/plain": [
       "bool"
      ]
     },
     "execution_count": 31,
     "metadata": {},
     "output_type": "execute_result"
    }
   ],
   "source": [
    "type(is_today_Saturday)"
   ]
  },
  {
   "cell_type": "code",
   "execution_count": 32,
   "metadata": {
    "execution": {
     "iopub.execute_input": "2020-08-30T05:34:25.686712Z",
     "iopub.status.busy": "2020-08-30T05:34:25.685713Z",
     "iopub.status.idle": "2020-08-30T05:34:25.700716Z",
     "shell.execute_reply": "2020-08-30T05:34:25.698719Z",
     "shell.execute_reply.started": "2020-08-30T05:34:25.686712Z"
    }
   },
   "outputs": [
    {
     "data": {
      "text/plain": [
       "'Delorean'"
      ]
     },
     "execution_count": 32,
     "metadata": {},
     "output_type": "execute_result"
    }
   ],
   "source": [
    "my_favorite_car"
   ]
  },
  {
   "cell_type": "code",
   "execution_count": 33,
   "metadata": {
    "execution": {
     "iopub.execute_input": "2020-08-30T05:34:41.415475Z",
     "iopub.status.busy": "2020-08-30T05:34:41.415475Z",
     "iopub.status.idle": "2020-08-30T05:34:41.438474Z",
     "shell.execute_reply": "2020-08-30T05:34:41.436478Z",
     "shell.execute_reply.started": "2020-08-30T05:34:41.415475Z"
    }
   },
   "outputs": [
    {
     "data": {
      "text/plain": [
       "str"
      ]
     },
     "execution_count": 33,
     "metadata": {},
     "output_type": "execute_result"
    }
   ],
   "source": [
    "type(my_favorite_car)"
   ]
  },
  {
   "cell_type": "code",
   "execution_count": 34,
   "metadata": {
    "execution": {
     "iopub.execute_input": "2020-08-30T05:34:46.785032Z",
     "iopub.status.busy": "2020-08-30T05:34:46.785032Z",
     "iopub.status.idle": "2020-08-30T05:34:46.802032Z",
     "shell.execute_reply": "2020-08-30T05:34:46.800030Z",
     "shell.execute_reply.started": "2020-08-30T05:34:46.785032Z"
    }
   },
   "outputs": [
    {
     "data": {
      "text/plain": [
       "['Athos', 'Porthos', 'Aramis']"
      ]
     },
     "execution_count": 34,
     "metadata": {},
     "output_type": "execute_result"
    }
   ],
   "source": [
    "the_3_musketeers"
   ]
  },
  {
   "cell_type": "code",
   "execution_count": 35,
   "metadata": {
    "execution": {
     "iopub.execute_input": "2020-08-30T05:34:51.934526Z",
     "iopub.status.busy": "2020-08-30T05:34:51.933527Z",
     "iopub.status.idle": "2020-08-30T05:34:51.957525Z",
     "shell.execute_reply": "2020-08-30T05:34:51.955528Z",
     "shell.execute_reply.started": "2020-08-30T05:34:51.934526Z"
    }
   },
   "outputs": [
    {
     "data": {
      "text/plain": [
       "list"
      ]
     },
     "execution_count": 35,
     "metadata": {},
     "output_type": "execute_result"
    }
   ],
   "source": [
    "type(the_3_musketeers)"
   ]
  },
  {
   "cell_type": "markdown",
   "metadata": {},
   "source": [
    "Python has several built-in data types for storing different types of information in variables. Following are at some commonly used data types:\n",
    "\n",
    "1. Integer\n",
    "2. Float\n",
    "3. Boolean\n",
    "4. None\n",
    "5. String\n",
    "6. List\n",
    "7. Tuple\n",
    "8. Dictionary\n",
    "\n",
    "Integer, float, boolean, None and string are *primitive data types* because they represent a single value. Other data types like list, tuple and dictionary are often called *data structures* or *containers* because they hold multiple pieces of data together."
   ]
  },
  {
   "cell_type": "markdown",
   "metadata": {},
   "source": [
    "### Integer\n",
    "\n",
    "Integers represent positive or negative whole numbers, from negative infinity to infinity. Note that integers should not include decimal points. Integers have the type `int`."
   ]
  },
  {
   "cell_type": "code",
   "execution_count": 36,
   "metadata": {
    "execution": {
     "iopub.execute_input": "2020-08-30T05:35:27.346851Z",
     "iopub.status.busy": "2020-08-30T05:35:27.346851Z",
     "iopub.status.idle": "2020-08-30T05:35:27.359851Z",
     "shell.execute_reply": "2020-08-30T05:35:27.357850Z",
     "shell.execute_reply.started": "2020-08-30T05:35:27.346851Z"
    }
   },
   "outputs": [],
   "source": [
    "current_year = 2020"
   ]
  },
  {
   "cell_type": "code",
   "execution_count": 37,
   "metadata": {
    "execution": {
     "iopub.execute_input": "2020-08-30T05:35:28.697205Z",
     "iopub.status.busy": "2020-08-30T05:35:28.696205Z",
     "iopub.status.idle": "2020-08-30T05:35:28.708205Z",
     "shell.execute_reply": "2020-08-30T05:35:28.706207Z",
     "shell.execute_reply.started": "2020-08-30T05:35:28.697205Z"
    }
   },
   "outputs": [
    {
     "data": {
      "text/plain": [
       "2020"
      ]
     },
     "execution_count": 37,
     "metadata": {},
     "output_type": "execute_result"
    }
   ],
   "source": [
    "current_year"
   ]
  },
  {
   "cell_type": "code",
   "execution_count": 38,
   "metadata": {
    "execution": {
     "iopub.execute_input": "2020-08-30T05:35:30.842489Z",
     "iopub.status.busy": "2020-08-30T05:35:30.841490Z",
     "iopub.status.idle": "2020-08-30T05:35:30.859494Z",
     "shell.execute_reply": "2020-08-30T05:35:30.857496Z",
     "shell.execute_reply.started": "2020-08-30T05:35:30.842489Z"
    }
   },
   "outputs": [
    {
     "data": {
      "text/plain": [
       "int"
      ]
     },
     "execution_count": 38,
     "metadata": {},
     "output_type": "execute_result"
    }
   ],
   "source": [
    "type(current_year)"
   ]
  },
  {
   "cell_type": "markdown",
   "metadata": {},
   "source": [
    "Unlike some other programming languages, integers in Python can be arbirarily large (or small). There's no lowest or highest value for integers, and there's just one `int` type (as opposed to `short`, `int`, `long`, `long long`, `unsigned int` etc. in C/C++/Java)."
   ]
  },
  {
   "cell_type": "code",
   "execution_count": 39,
   "metadata": {
    "execution": {
     "iopub.execute_input": "2020-08-30T05:35:41.993446Z",
     "iopub.status.busy": "2020-08-30T05:35:41.993446Z",
     "iopub.status.idle": "2020-08-30T05:35:42.007449Z",
     "shell.execute_reply": "2020-08-30T05:35:42.005451Z",
     "shell.execute_reply.started": "2020-08-30T05:35:41.993446Z"
    }
   },
   "outputs": [],
   "source": [
    "a_large_negative_number = -23374038374832934334234317348343"
   ]
  },
  {
   "cell_type": "code",
   "execution_count": 40,
   "metadata": {
    "execution": {
     "iopub.execute_input": "2020-08-30T05:35:43.379482Z",
     "iopub.status.busy": "2020-08-30T05:35:43.379482Z",
     "iopub.status.idle": "2020-08-30T05:35:43.397482Z",
     "shell.execute_reply": "2020-08-30T05:35:43.396482Z",
     "shell.execute_reply.started": "2020-08-30T05:35:43.379482Z"
    }
   },
   "outputs": [
    {
     "data": {
      "text/plain": [
       "-23374038374832934334234317348343"
      ]
     },
     "execution_count": 40,
     "metadata": {},
     "output_type": "execute_result"
    }
   ],
   "source": [
    "a_large_negative_number"
   ]
  },
  {
   "cell_type": "code",
   "execution_count": 41,
   "metadata": {
    "execution": {
     "iopub.execute_input": "2020-08-30T05:35:44.945845Z",
     "iopub.status.busy": "2020-08-30T05:35:44.944843Z",
     "iopub.status.idle": "2020-08-30T05:35:44.957846Z",
     "shell.execute_reply": "2020-08-30T05:35:44.955846Z",
     "shell.execute_reply.started": "2020-08-30T05:35:44.945845Z"
    }
   },
   "outputs": [
    {
     "data": {
      "text/plain": [
       "int"
      ]
     },
     "execution_count": 41,
     "metadata": {},
     "output_type": "execute_result"
    }
   ],
   "source": [
    "type(a_large_negative_number)"
   ]
  },
  {
   "cell_type": "markdown",
   "metadata": {},
   "source": [
    "### Float\n",
    "\n",
    "Floats (or floating point numbers) are numbers with a decimal point. There are no limits on the value of a float or the number of digits before or after the decimal point. Floating point numbers have the type `float`."
   ]
  },
  {
   "cell_type": "code",
   "execution_count": 42,
   "metadata": {
    "execution": {
     "iopub.execute_input": "2020-08-30T05:35:55.985213Z",
     "iopub.status.busy": "2020-08-30T05:35:55.984212Z",
     "iopub.status.idle": "2020-08-30T05:35:55.993213Z",
     "shell.execute_reply": "2020-08-30T05:35:55.991213Z",
     "shell.execute_reply.started": "2020-08-30T05:35:55.985213Z"
    }
   },
   "outputs": [],
   "source": [
    "pi = 3.141592653589793238"
   ]
  },
  {
   "cell_type": "code",
   "execution_count": 43,
   "metadata": {
    "execution": {
     "iopub.execute_input": "2020-08-30T05:35:57.442412Z",
     "iopub.status.busy": "2020-08-30T05:35:57.441411Z",
     "iopub.status.idle": "2020-08-30T05:35:57.451410Z",
     "shell.execute_reply": "2020-08-30T05:35:57.450416Z",
     "shell.execute_reply.started": "2020-08-30T05:35:57.442412Z"
    }
   },
   "outputs": [
    {
     "data": {
      "text/plain": [
       "3.141592653589793"
      ]
     },
     "execution_count": 43,
     "metadata": {},
     "output_type": "execute_result"
    }
   ],
   "source": [
    "pi"
   ]
  },
  {
   "cell_type": "code",
   "execution_count": 44,
   "metadata": {
    "execution": {
     "iopub.execute_input": "2020-08-30T05:36:00.353385Z",
     "iopub.status.busy": "2020-08-30T05:36:00.353385Z",
     "iopub.status.idle": "2020-08-30T05:36:00.367389Z",
     "shell.execute_reply": "2020-08-30T05:36:00.365388Z",
     "shell.execute_reply.started": "2020-08-30T05:36:00.353385Z"
    }
   },
   "outputs": [
    {
     "data": {
      "text/plain": [
       "float"
      ]
     },
     "execution_count": 44,
     "metadata": {},
     "output_type": "execute_result"
    }
   ],
   "source": [
    "type(pi)"
   ]
  },
  {
   "cell_type": "markdown",
   "metadata": {},
   "source": [
    "Note that a whole number is treated as a float if it is written with a decimal point, even though the decimal portion of the number is zero."
   ]
  },
  {
   "cell_type": "code",
   "execution_count": 45,
   "metadata": {
    "execution": {
     "iopub.execute_input": "2020-08-30T05:36:04.672718Z",
     "iopub.status.busy": "2020-08-30T05:36:04.671717Z",
     "iopub.status.idle": "2020-08-30T05:36:04.679719Z",
     "shell.execute_reply": "2020-08-30T05:36:04.677716Z",
     "shell.execute_reply.started": "2020-08-30T05:36:04.672718Z"
    }
   },
   "outputs": [],
   "source": [
    "a_number = 3.0"
   ]
  },
  {
   "cell_type": "code",
   "execution_count": 46,
   "metadata": {
    "execution": {
     "iopub.execute_input": "2020-08-30T05:36:05.909717Z",
     "iopub.status.busy": "2020-08-30T05:36:05.908718Z",
     "iopub.status.idle": "2020-08-30T05:36:05.927718Z",
     "shell.execute_reply": "2020-08-30T05:36:05.925720Z",
     "shell.execute_reply.started": "2020-08-30T05:36:05.908718Z"
    }
   },
   "outputs": [
    {
     "data": {
      "text/plain": [
       "3.0"
      ]
     },
     "execution_count": 46,
     "metadata": {},
     "output_type": "execute_result"
    }
   ],
   "source": [
    "a_number"
   ]
  },
  {
   "cell_type": "code",
   "execution_count": 47,
   "metadata": {
    "execution": {
     "iopub.execute_input": "2020-08-30T05:36:07.423719Z",
     "iopub.status.busy": "2020-08-30T05:36:07.422723Z",
     "iopub.status.idle": "2020-08-30T05:36:07.434718Z",
     "shell.execute_reply": "2020-08-30T05:36:07.433715Z",
     "shell.execute_reply.started": "2020-08-30T05:36:07.423719Z"
    }
   },
   "outputs": [
    {
     "data": {
      "text/plain": [
       "float"
      ]
     },
     "execution_count": 47,
     "metadata": {},
     "output_type": "execute_result"
    }
   ],
   "source": [
    "type(a_number)"
   ]
  },
  {
   "cell_type": "code",
   "execution_count": 48,
   "metadata": {
    "execution": {
     "iopub.execute_input": "2020-08-30T05:36:10.829846Z",
     "iopub.status.busy": "2020-08-30T05:36:10.828846Z",
     "iopub.status.idle": "2020-08-30T05:36:10.841839Z",
     "shell.execute_reply": "2020-08-30T05:36:10.839841Z",
     "shell.execute_reply.started": "2020-08-30T05:36:10.829846Z"
    }
   },
   "outputs": [],
   "source": [
    "another_number = 4."
   ]
  },
  {
   "cell_type": "code",
   "execution_count": 49,
   "metadata": {
    "execution": {
     "iopub.execute_input": "2020-08-30T05:36:12.356126Z",
     "iopub.status.busy": "2020-08-30T05:36:12.355623Z",
     "iopub.status.idle": "2020-08-30T05:36:12.369120Z",
     "shell.execute_reply": "2020-08-30T05:36:12.367118Z",
     "shell.execute_reply.started": "2020-08-30T05:36:12.356126Z"
    }
   },
   "outputs": [
    {
     "data": {
      "text/plain": [
       "4.0"
      ]
     },
     "execution_count": 49,
     "metadata": {},
     "output_type": "execute_result"
    }
   ],
   "source": [
    "another_number"
   ]
  },
  {
   "cell_type": "code",
   "execution_count": 50,
   "metadata": {
    "execution": {
     "iopub.execute_input": "2020-08-30T05:36:13.354176Z",
     "iopub.status.busy": "2020-08-30T05:36:13.353173Z",
     "iopub.status.idle": "2020-08-30T05:36:13.378171Z",
     "shell.execute_reply": "2020-08-30T05:36:13.376179Z",
     "shell.execute_reply.started": "2020-08-30T05:36:13.354176Z"
    }
   },
   "outputs": [
    {
     "data": {
      "text/plain": [
       "float"
      ]
     },
     "execution_count": 50,
     "metadata": {},
     "output_type": "execute_result"
    }
   ],
   "source": [
    "type(another_number)"
   ]
  },
  {
   "cell_type": "markdown",
   "metadata": {},
   "source": [
    "Floating point numbers can also be written using the scientific notation with an \"e\" to indicate the power of 10."
   ]
  },
  {
   "cell_type": "code",
   "execution_count": 51,
   "metadata": {
    "execution": {
     "iopub.execute_input": "2020-08-30T05:36:24.974531Z",
     "iopub.status.busy": "2020-08-30T05:36:24.974531Z",
     "iopub.status.idle": "2020-08-30T05:36:24.980526Z",
     "shell.execute_reply": "2020-08-30T05:36:24.979530Z",
     "shell.execute_reply.started": "2020-08-30T05:36:24.974531Z"
    }
   },
   "outputs": [],
   "source": [
    "one_hundredth = 1e-2"
   ]
  },
  {
   "cell_type": "code",
   "execution_count": 52,
   "metadata": {
    "execution": {
     "iopub.execute_input": "2020-08-30T05:36:28.864702Z",
     "iopub.status.busy": "2020-08-30T05:36:28.864702Z",
     "iopub.status.idle": "2020-08-30T05:36:28.877708Z",
     "shell.execute_reply": "2020-08-30T05:36:28.876705Z",
     "shell.execute_reply.started": "2020-08-30T05:36:28.864702Z"
    }
   },
   "outputs": [
    {
     "data": {
      "text/plain": [
       "0.01"
      ]
     },
     "execution_count": 52,
     "metadata": {},
     "output_type": "execute_result"
    }
   ],
   "source": [
    "one_hundredth"
   ]
  },
  {
   "cell_type": "code",
   "execution_count": 53,
   "metadata": {
    "execution": {
     "iopub.execute_input": "2020-08-30T05:36:43.949859Z",
     "iopub.status.busy": "2020-08-30T05:36:43.949859Z",
     "iopub.status.idle": "2020-08-30T05:36:43.970861Z",
     "shell.execute_reply": "2020-08-30T05:36:43.968859Z",
     "shell.execute_reply.started": "2020-08-30T05:36:43.949859Z"
    }
   },
   "outputs": [
    {
     "data": {
      "text/plain": [
       "float"
      ]
     },
     "execution_count": 53,
     "metadata": {},
     "output_type": "execute_result"
    }
   ],
   "source": [
    "type(one_hundredth)"
   ]
  },
  {
   "cell_type": "code",
   "execution_count": 54,
   "metadata": {
    "execution": {
     "iopub.execute_input": "2020-08-30T05:36:46.342679Z",
     "iopub.status.busy": "2020-08-30T05:36:46.341679Z",
     "iopub.status.idle": "2020-08-30T05:36:46.353680Z",
     "shell.execute_reply": "2020-08-30T05:36:46.351677Z",
     "shell.execute_reply.started": "2020-08-30T05:36:46.341679Z"
    }
   },
   "outputs": [],
   "source": [
    "avogadro_number = 6.02214076e23"
   ]
  },
  {
   "cell_type": "code",
   "execution_count": 55,
   "metadata": {
    "execution": {
     "iopub.execute_input": "2020-08-30T05:36:49.337326Z",
     "iopub.status.busy": "2020-08-30T05:36:49.336330Z",
     "iopub.status.idle": "2020-08-30T05:36:49.351327Z",
     "shell.execute_reply": "2020-08-30T05:36:49.349324Z",
     "shell.execute_reply.started": "2020-08-30T05:36:49.336807Z"
    }
   },
   "outputs": [
    {
     "data": {
      "text/plain": [
       "6.02214076e+23"
      ]
     },
     "execution_count": 55,
     "metadata": {},
     "output_type": "execute_result"
    }
   ],
   "source": [
    "avogadro_number"
   ]
  },
  {
   "cell_type": "code",
   "execution_count": 56,
   "metadata": {
    "execution": {
     "iopub.execute_input": "2020-08-30T05:36:52.016160Z",
     "iopub.status.busy": "2020-08-30T05:36:52.015163Z",
     "iopub.status.idle": "2020-08-30T05:36:52.027164Z",
     "shell.execute_reply": "2020-08-30T05:36:52.025163Z",
     "shell.execute_reply.started": "2020-08-30T05:36:52.016160Z"
    }
   },
   "outputs": [
    {
     "data": {
      "text/plain": [
       "float"
      ]
     },
     "execution_count": 56,
     "metadata": {},
     "output_type": "execute_result"
    }
   ],
   "source": [
    "type(avogadro_number)"
   ]
  },
  {
   "cell_type": "markdown",
   "metadata": {},
   "source": [
    "Floats can be converted into integers and vice versa using the `float` and `int` functions. The operation of coverting one type of value into another is called casting."
   ]
  },
  {
   "cell_type": "code",
   "execution_count": 57,
   "metadata": {
    "execution": {
     "iopub.execute_input": "2020-08-30T05:37:03.975859Z",
     "iopub.status.busy": "2020-08-30T05:37:03.974858Z",
     "iopub.status.idle": "2020-08-30T05:37:03.986861Z",
     "shell.execute_reply": "2020-08-30T05:37:03.984859Z",
     "shell.execute_reply.started": "2020-08-30T05:37:03.975859Z"
    }
   },
   "outputs": [
    {
     "data": {
      "text/plain": [
       "2020.0"
      ]
     },
     "execution_count": 57,
     "metadata": {},
     "output_type": "execute_result"
    }
   ],
   "source": [
    "float(current_year)"
   ]
  },
  {
   "cell_type": "code",
   "execution_count": 58,
   "metadata": {
    "execution": {
     "iopub.execute_input": "2020-08-30T05:37:06.361212Z",
     "iopub.status.busy": "2020-08-30T05:37:06.360217Z",
     "iopub.status.idle": "2020-08-30T05:37:06.385211Z",
     "shell.execute_reply": "2020-08-30T05:37:06.383211Z",
     "shell.execute_reply.started": "2020-08-30T05:37:06.361212Z"
    }
   },
   "outputs": [
    {
     "data": {
      "text/plain": [
       "-2.3374038374832935e+31"
      ]
     },
     "execution_count": 58,
     "metadata": {},
     "output_type": "execute_result"
    }
   ],
   "source": [
    "float(a_large_negative_number)"
   ]
  },
  {
   "cell_type": "code",
   "execution_count": 59,
   "metadata": {
    "execution": {
     "iopub.execute_input": "2020-08-30T05:37:09.905139Z",
     "iopub.status.busy": "2020-08-30T05:37:09.904143Z",
     "iopub.status.idle": "2020-08-30T05:37:09.921144Z",
     "shell.execute_reply": "2020-08-30T05:37:09.919141Z",
     "shell.execute_reply.started": "2020-08-30T05:37:09.905139Z"
    }
   },
   "outputs": [
    {
     "data": {
      "text/plain": [
       "3"
      ]
     },
     "execution_count": 59,
     "metadata": {},
     "output_type": "execute_result"
    }
   ],
   "source": [
    "int(pi)"
   ]
  },
  {
   "cell_type": "code",
   "execution_count": 60,
   "metadata": {
    "execution": {
     "iopub.execute_input": "2020-08-30T05:37:12.952036Z",
     "iopub.status.busy": "2020-08-30T05:37:12.951039Z",
     "iopub.status.idle": "2020-08-30T05:37:12.961036Z",
     "shell.execute_reply": "2020-08-30T05:37:12.960034Z",
     "shell.execute_reply.started": "2020-08-30T05:37:12.952036Z"
    }
   },
   "outputs": [
    {
     "data": {
      "text/plain": [
       "602214075999999987023872"
      ]
     },
     "execution_count": 60,
     "metadata": {},
     "output_type": "execute_result"
    }
   ],
   "source": [
    "int(avogadro_number)"
   ]
  },
  {
   "cell_type": "markdown",
   "metadata": {},
   "source": [
    "While performing arithmetic operations, integers are automatically converted to floats if any of the operands is a float. Also, the division operator `/` always returns a float, even if both operands are integers. Use the `//` operator if you want the result of division to be an `int`."
   ]
  },
  {
   "cell_type": "code",
   "execution_count": 61,
   "metadata": {
    "execution": {
     "iopub.execute_input": "2020-08-30T05:37:37.494001Z",
     "iopub.status.busy": "2020-08-30T05:37:37.494001Z",
     "iopub.status.idle": "2020-08-30T05:37:37.507000Z",
     "shell.execute_reply": "2020-08-30T05:37:37.504999Z",
     "shell.execute_reply.started": "2020-08-30T05:37:37.494001Z"
    }
   },
   "outputs": [
    {
     "data": {
      "text/plain": [
       "float"
      ]
     },
     "execution_count": 61,
     "metadata": {},
     "output_type": "execute_result"
    }
   ],
   "source": [
    "type(45 * 3.0)"
   ]
  },
  {
   "cell_type": "code",
   "execution_count": 62,
   "metadata": {
    "execution": {
     "iopub.execute_input": "2020-08-30T05:37:42.349571Z",
     "iopub.status.busy": "2020-08-30T05:37:42.348572Z",
     "iopub.status.idle": "2020-08-30T05:37:42.362572Z",
     "shell.execute_reply": "2020-08-30T05:37:42.361571Z",
     "shell.execute_reply.started": "2020-08-30T05:37:42.349571Z"
    }
   },
   "outputs": [
    {
     "data": {
      "text/plain": [
       "int"
      ]
     },
     "execution_count": 62,
     "metadata": {},
     "output_type": "execute_result"
    }
   ],
   "source": [
    "type(45 * 3)"
   ]
  },
  {
   "cell_type": "code",
   "execution_count": 63,
   "metadata": {
    "execution": {
     "iopub.execute_input": "2020-08-30T05:37:44.506403Z",
     "iopub.status.busy": "2020-08-30T05:37:44.506403Z",
     "iopub.status.idle": "2020-08-30T05:37:44.517405Z",
     "shell.execute_reply": "2020-08-30T05:37:44.515405Z",
     "shell.execute_reply.started": "2020-08-30T05:37:44.506403Z"
    }
   },
   "outputs": [
    {
     "data": {
      "text/plain": [
       "float"
      ]
     },
     "execution_count": 63,
     "metadata": {},
     "output_type": "execute_result"
    }
   ],
   "source": [
    "type(10/3)"
   ]
  },
  {
   "cell_type": "code",
   "execution_count": 64,
   "metadata": {
    "execution": {
     "iopub.execute_input": "2020-08-30T05:37:47.407744Z",
     "iopub.status.busy": "2020-08-30T05:37:47.406741Z",
     "iopub.status.idle": "2020-08-30T05:37:47.418744Z",
     "shell.execute_reply": "2020-08-30T05:37:47.416746Z",
     "shell.execute_reply.started": "2020-08-30T05:37:47.407744Z"
    }
   },
   "outputs": [
    {
     "data": {
      "text/plain": [
       "float"
      ]
     },
     "execution_count": 64,
     "metadata": {},
     "output_type": "execute_result"
    }
   ],
   "source": [
    "type(10/2)"
   ]
  },
  {
   "cell_type": "code",
   "execution_count": 65,
   "metadata": {
    "execution": {
     "iopub.execute_input": "2020-08-30T05:37:49.376568Z",
     "iopub.status.busy": "2020-08-30T05:37:49.375568Z",
     "iopub.status.idle": "2020-08-30T05:37:49.385573Z",
     "shell.execute_reply": "2020-08-30T05:37:49.383568Z",
     "shell.execute_reply.started": "2020-08-30T05:37:49.376568Z"
    }
   },
   "outputs": [
    {
     "data": {
      "text/plain": [
       "int"
      ]
     },
     "execution_count": 65,
     "metadata": {},
     "output_type": "execute_result"
    }
   ],
   "source": [
    "type(10//2)"
   ]
  },
  {
   "cell_type": "markdown",
   "metadata": {},
   "source": [
    "### Boolean\n",
    "\n",
    "Booleans represent one of 2 values: `True` and `False`. Booleans have the type `bool`."
   ]
  },
  {
   "cell_type": "code",
   "execution_count": 66,
   "metadata": {
    "execution": {
     "iopub.execute_input": "2020-08-30T05:37:56.723051Z",
     "iopub.status.busy": "2020-08-30T05:37:56.722052Z",
     "iopub.status.idle": "2020-08-30T05:37:56.737050Z",
     "shell.execute_reply": "2020-08-30T05:37:56.735052Z",
     "shell.execute_reply.started": "2020-08-30T05:37:56.722052Z"
    }
   },
   "outputs": [],
   "source": [
    "is_today_Sunday = True"
   ]
  },
  {
   "cell_type": "code",
   "execution_count": 67,
   "metadata": {
    "execution": {
     "iopub.execute_input": "2020-08-30T05:37:58.731945Z",
     "iopub.status.busy": "2020-08-30T05:37:58.731945Z",
     "iopub.status.idle": "2020-08-30T05:37:58.747944Z",
     "shell.execute_reply": "2020-08-30T05:37:58.746944Z",
     "shell.execute_reply.started": "2020-08-30T05:37:58.731945Z"
    }
   },
   "outputs": [
    {
     "data": {
      "text/plain": [
       "True"
      ]
     },
     "execution_count": 67,
     "metadata": {},
     "output_type": "execute_result"
    }
   ],
   "source": [
    "is_today_Sunday"
   ]
  },
  {
   "cell_type": "code",
   "execution_count": 68,
   "metadata": {
    "execution": {
     "iopub.execute_input": "2020-08-30T05:38:01.890098Z",
     "iopub.status.busy": "2020-08-30T05:38:01.890098Z",
     "iopub.status.idle": "2020-08-30T05:38:01.913095Z",
     "shell.execute_reply": "2020-08-30T05:38:01.911092Z",
     "shell.execute_reply.started": "2020-08-30T05:38:01.890098Z"
    }
   },
   "outputs": [
    {
     "data": {
      "text/plain": [
       "bool"
      ]
     },
     "execution_count": 68,
     "metadata": {},
     "output_type": "execute_result"
    }
   ],
   "source": [
    "type(is_today_Saturday)"
   ]
  },
  {
   "cell_type": "markdown",
   "metadata": {},
   "source": [
    "Booleans are generally returned as the result of a comparision operation (e.g. `==`, `>=` etc.)."
   ]
  },
  {
   "cell_type": "code",
   "execution_count": 69,
   "metadata": {
    "execution": {
     "iopub.execute_input": "2020-08-30T05:38:11.342281Z",
     "iopub.status.busy": "2020-08-30T05:38:11.341280Z",
     "iopub.status.idle": "2020-08-30T05:38:11.356283Z",
     "shell.execute_reply": "2020-08-30T05:38:11.354282Z",
     "shell.execute_reply.started": "2020-08-30T05:38:11.342281Z"
    }
   },
   "outputs": [],
   "source": [
    "cost_of_ice_bag = 1.25\n",
    "is_ice_bag_expensive = cost_of_ice_bag >= 10"
   ]
  },
  {
   "cell_type": "code",
   "execution_count": 70,
   "metadata": {
    "execution": {
     "iopub.execute_input": "2020-08-30T05:38:12.591844Z",
     "iopub.status.busy": "2020-08-30T05:38:12.591844Z",
     "iopub.status.idle": "2020-08-30T05:38:12.601841Z",
     "shell.execute_reply": "2020-08-30T05:38:12.599843Z",
     "shell.execute_reply.started": "2020-08-30T05:38:12.591844Z"
    }
   },
   "outputs": [
    {
     "data": {
      "text/plain": [
       "False"
      ]
     },
     "execution_count": 70,
     "metadata": {},
     "output_type": "execute_result"
    }
   ],
   "source": [
    "is_ice_bag_expensive"
   ]
  },
  {
   "cell_type": "code",
   "execution_count": 71,
   "metadata": {
    "execution": {
     "iopub.execute_input": "2020-08-30T05:38:16.992598Z",
     "iopub.status.busy": "2020-08-30T05:38:16.991598Z",
     "iopub.status.idle": "2020-08-30T05:38:17.004133Z",
     "shell.execute_reply": "2020-08-30T05:38:17.001605Z",
     "shell.execute_reply.started": "2020-08-30T05:38:16.992598Z"
    }
   },
   "outputs": [
    {
     "data": {
      "text/plain": [
       "bool"
      ]
     },
     "execution_count": 71,
     "metadata": {},
     "output_type": "execute_result"
    }
   ],
   "source": [
    "type(is_ice_bag_expensive)"
   ]
  },
  {
   "cell_type": "markdown",
   "metadata": {},
   "source": [
    "Booleans are automatically converted to `int`s when used in arithmetic operations. `True` is converted to `1` and `False` is converted to `0`."
   ]
  },
  {
   "cell_type": "code",
   "execution_count": 72,
   "metadata": {
    "execution": {
     "iopub.execute_input": "2020-08-30T05:38:30.962038Z",
     "iopub.status.busy": "2020-08-30T05:38:30.961043Z",
     "iopub.status.idle": "2020-08-30T05:38:30.977046Z",
     "shell.execute_reply": "2020-08-30T05:38:30.975038Z",
     "shell.execute_reply.started": "2020-08-30T05:38:30.962038Z"
    }
   },
   "outputs": [
    {
     "data": {
      "text/plain": [
       "5"
      ]
     },
     "execution_count": 72,
     "metadata": {},
     "output_type": "execute_result"
    }
   ],
   "source": [
    "5 + False"
   ]
  },
  {
   "cell_type": "code",
   "execution_count": 73,
   "metadata": {
    "execution": {
     "iopub.execute_input": "2020-08-30T05:38:34.865345Z",
     "iopub.status.busy": "2020-08-30T05:38:34.865345Z",
     "iopub.status.idle": "2020-08-30T05:38:34.877683Z",
     "shell.execute_reply": "2020-08-30T05:38:34.876690Z",
     "shell.execute_reply.started": "2020-08-30T05:38:34.865345Z"
    }
   },
   "outputs": [
    {
     "data": {
      "text/plain": [
       "4.0"
      ]
     },
     "execution_count": 73,
     "metadata": {},
     "output_type": "execute_result"
    }
   ],
   "source": [
    "3. + True"
   ]
  },
  {
   "cell_type": "markdown",
   "metadata": {},
   "source": [
    "Any value in Python can be converted to a Boolean using the `bool` function. \n",
    "\n",
    "Only the following values evaluate to `False` (they are often called *falsy* values):\n",
    "\n",
    "1. The value `False` itself\n",
    "2. The integer `0`\n",
    "3. The float `0.0`\n",
    "4. The empty value `None`\n",
    "5. The empty text `\"\"`\n",
    "6. The empty list `[]`\n",
    "7. The empty tuple `()`\n",
    "8. The empty dictionary `{}`\n",
    "9. The emtpy set `set()`\n",
    "10. The empty range `range(0)`\n",
    "\n",
    "Everything else evaluates to `True` (a value that evalutes to `True` is often called a *truthy* value)."
   ]
  },
  {
   "cell_type": "code",
   "execution_count": 74,
   "metadata": {
    "execution": {
     "iopub.execute_input": "2020-08-30T05:39:27.622127Z",
     "iopub.status.busy": "2020-08-30T05:39:27.622127Z",
     "iopub.status.idle": "2020-08-30T05:39:27.637124Z",
     "shell.execute_reply": "2020-08-30T05:39:27.635128Z",
     "shell.execute_reply.started": "2020-08-30T05:39:27.622127Z"
    }
   },
   "outputs": [
    {
     "data": {
      "text/plain": [
       "False"
      ]
     },
     "execution_count": 74,
     "metadata": {},
     "output_type": "execute_result"
    }
   ],
   "source": [
    "bool(False)"
   ]
  },
  {
   "cell_type": "code",
   "execution_count": 75,
   "metadata": {
    "execution": {
     "iopub.execute_input": "2020-08-30T05:39:28.987296Z",
     "iopub.status.busy": "2020-08-30T05:39:28.987296Z",
     "iopub.status.idle": "2020-08-30T05:39:29.008292Z",
     "shell.execute_reply": "2020-08-30T05:39:29.007296Z",
     "shell.execute_reply.started": "2020-08-30T05:39:28.987296Z"
    }
   },
   "outputs": [
    {
     "data": {
      "text/plain": [
       "False"
      ]
     },
     "execution_count": 75,
     "metadata": {},
     "output_type": "execute_result"
    }
   ],
   "source": [
    "bool(0)"
   ]
  },
  {
   "cell_type": "code",
   "execution_count": 76,
   "metadata": {
    "execution": {
     "iopub.execute_input": "2020-08-30T05:39:31.474684Z",
     "iopub.status.busy": "2020-08-30T05:39:31.474684Z",
     "iopub.status.idle": "2020-08-30T05:39:31.489110Z",
     "shell.execute_reply": "2020-08-30T05:39:31.488111Z",
     "shell.execute_reply.started": "2020-08-30T05:39:31.474684Z"
    }
   },
   "outputs": [
    {
     "data": {
      "text/plain": [
       "False"
      ]
     },
     "execution_count": 76,
     "metadata": {},
     "output_type": "execute_result"
    }
   ],
   "source": [
    "bool(0.0)"
   ]
  },
  {
   "cell_type": "code",
   "execution_count": 77,
   "metadata": {
    "execution": {
     "iopub.execute_input": "2020-08-30T05:39:32.545326Z",
     "iopub.status.busy": "2020-08-30T05:39:32.544326Z",
     "iopub.status.idle": "2020-08-30T05:39:32.560327Z",
     "shell.execute_reply": "2020-08-30T05:39:32.559326Z",
     "shell.execute_reply.started": "2020-08-30T05:39:32.545326Z"
    }
   },
   "outputs": [
    {
     "data": {
      "text/plain": [
       "False"
      ]
     },
     "execution_count": 77,
     "metadata": {},
     "output_type": "execute_result"
    }
   ],
   "source": [
    "bool(None)"
   ]
  },
  {
   "cell_type": "code",
   "execution_count": 78,
   "metadata": {
    "execution": {
     "iopub.execute_input": "2020-08-30T05:39:33.891514Z",
     "iopub.status.busy": "2020-08-30T05:39:33.891514Z",
     "iopub.status.idle": "2020-08-30T05:39:33.906515Z",
     "shell.execute_reply": "2020-08-30T05:39:33.904514Z",
     "shell.execute_reply.started": "2020-08-30T05:39:33.891514Z"
    }
   },
   "outputs": [
    {
     "data": {
      "text/plain": [
       "False"
      ]
     },
     "execution_count": 78,
     "metadata": {},
     "output_type": "execute_result"
    }
   ],
   "source": [
    "bool(\"\")"
   ]
  },
  {
   "cell_type": "code",
   "execution_count": 79,
   "metadata": {
    "execution": {
     "iopub.execute_input": "2020-08-30T05:39:35.098601Z",
     "iopub.status.busy": "2020-08-30T05:39:35.097599Z",
     "iopub.status.idle": "2020-08-30T05:39:35.120599Z",
     "shell.execute_reply": "2020-08-30T05:39:35.119598Z",
     "shell.execute_reply.started": "2020-08-30T05:39:35.098601Z"
    }
   },
   "outputs": [
    {
     "data": {
      "text/plain": [
       "False"
      ]
     },
     "execution_count": 79,
     "metadata": {},
     "output_type": "execute_result"
    }
   ],
   "source": [
    "bool([])"
   ]
  },
  {
   "cell_type": "code",
   "execution_count": 80,
   "metadata": {
    "execution": {
     "iopub.execute_input": "2020-08-30T05:39:36.527541Z",
     "iopub.status.busy": "2020-08-30T05:39:36.526543Z",
     "iopub.status.idle": "2020-08-30T05:39:36.540542Z",
     "shell.execute_reply": "2020-08-30T05:39:36.538544Z",
     "shell.execute_reply.started": "2020-08-30T05:39:36.527541Z"
    }
   },
   "outputs": [
    {
     "data": {
      "text/plain": [
       "False"
      ]
     },
     "execution_count": 80,
     "metadata": {},
     "output_type": "execute_result"
    }
   ],
   "source": [
    "bool(())"
   ]
  },
  {
   "cell_type": "code",
   "execution_count": 81,
   "metadata": {
    "execution": {
     "iopub.execute_input": "2020-08-30T05:39:37.970535Z",
     "iopub.status.busy": "2020-08-30T05:39:37.970535Z",
     "iopub.status.idle": "2020-08-30T05:39:37.992533Z",
     "shell.execute_reply": "2020-08-30T05:39:37.991535Z",
     "shell.execute_reply.started": "2020-08-30T05:39:37.970535Z"
    }
   },
   "outputs": [
    {
     "data": {
      "text/plain": [
       "False"
      ]
     },
     "execution_count": 81,
     "metadata": {},
     "output_type": "execute_result"
    }
   ],
   "source": [
    "bool({})"
   ]
  },
  {
   "cell_type": "code",
   "execution_count": 82,
   "metadata": {
    "execution": {
     "iopub.execute_input": "2020-08-30T05:39:40.464784Z",
     "iopub.status.busy": "2020-08-30T05:39:40.463785Z",
     "iopub.status.idle": "2020-08-30T05:39:40.484788Z",
     "shell.execute_reply": "2020-08-30T05:39:40.482790Z",
     "shell.execute_reply.started": "2020-08-30T05:39:40.464784Z"
    }
   },
   "outputs": [
    {
     "data": {
      "text/plain": [
       "False"
      ]
     },
     "execution_count": 82,
     "metadata": {},
     "output_type": "execute_result"
    }
   ],
   "source": [
    "bool(set())"
   ]
  },
  {
   "cell_type": "code",
   "execution_count": 83,
   "metadata": {
    "execution": {
     "iopub.execute_input": "2020-08-30T05:39:52.354004Z",
     "iopub.status.busy": "2020-08-30T05:39:52.353007Z",
     "iopub.status.idle": "2020-08-30T05:39:52.369009Z",
     "shell.execute_reply": "2020-08-30T05:39:52.367008Z",
     "shell.execute_reply.started": "2020-08-30T05:39:52.354004Z"
    }
   },
   "outputs": [
    {
     "data": {
      "text/plain": [
       "False"
      ]
     },
     "execution_count": 83,
     "metadata": {},
     "output_type": "execute_result"
    }
   ],
   "source": [
    "bool(range(0))"
   ]
  },
  {
   "cell_type": "code",
   "execution_count": 84,
   "metadata": {
    "execution": {
     "iopub.execute_input": "2020-08-30T05:40:00.014618Z",
     "iopub.status.busy": "2020-08-30T05:40:00.013620Z",
     "iopub.status.idle": "2020-08-30T05:40:00.027617Z",
     "shell.execute_reply": "2020-08-30T05:40:00.025617Z",
     "shell.execute_reply.started": "2020-08-30T05:40:00.014618Z"
    }
   },
   "outputs": [
    {
     "data": {
      "text/plain": [
       "(True, True, True, True, True, True, True)"
      ]
     },
     "execution_count": 84,
     "metadata": {},
     "output_type": "execute_result"
    }
   ],
   "source": [
    "bool(True), bool(1), bool(2.0), bool(\"hello\"), bool([1,2]), bool((2,3)), bool(range(10))"
   ]
  },
  {
   "cell_type": "markdown",
   "metadata": {},
   "source": [
    "### None\n",
    "\n",
    "The None type includes a single value `None`, used to indicate the absence of a value. `None` has the type `NoneType`. It is often used to declare a variable whose value may be assigned later."
   ]
  },
  {
   "cell_type": "code",
   "execution_count": 85,
   "metadata": {
    "execution": {
     "iopub.execute_input": "2020-08-30T05:40:17.628365Z",
     "iopub.status.busy": "2020-08-30T05:40:17.627359Z",
     "iopub.status.idle": "2020-08-30T05:40:17.637357Z",
     "shell.execute_reply": "2020-08-30T05:40:17.635357Z",
     "shell.execute_reply.started": "2020-08-30T05:40:17.628365Z"
    }
   },
   "outputs": [],
   "source": [
    "nothing = None"
   ]
  },
  {
   "cell_type": "code",
   "execution_count": 86,
   "metadata": {
    "execution": {
     "iopub.execute_input": "2020-08-30T05:40:19.357359Z",
     "iopub.status.busy": "2020-08-30T05:40:19.357359Z",
     "iopub.status.idle": "2020-08-30T05:40:19.372362Z",
     "shell.execute_reply": "2020-08-30T05:40:19.370358Z",
     "shell.execute_reply.started": "2020-08-30T05:40:19.357359Z"
    }
   },
   "outputs": [
    {
     "data": {
      "text/plain": [
       "NoneType"
      ]
     },
     "execution_count": 86,
     "metadata": {},
     "output_type": "execute_result"
    }
   ],
   "source": [
    "type(nothing)"
   ]
  },
  {
   "cell_type": "markdown",
   "metadata": {},
   "source": [
    "### String\n",
    "\n",
    "A string is used to represent text (*a string of characters*) in Python. Strings must be surrounded using quotations (either the single quote `'` or the double quote `\"`). Strings have the type `string`."
   ]
  },
  {
   "cell_type": "code",
   "execution_count": 87,
   "metadata": {
    "execution": {
     "iopub.execute_input": "2020-08-30T05:43:46.701473Z",
     "iopub.status.busy": "2020-08-30T05:43:46.700477Z",
     "iopub.status.idle": "2020-08-30T05:43:46.707477Z",
     "shell.execute_reply": "2020-08-30T05:43:46.705477Z",
     "shell.execute_reply.started": "2020-08-30T05:43:46.701473Z"
    }
   },
   "outputs": [],
   "source": [
    "today = \"Saturday\""
   ]
  },
  {
   "cell_type": "code",
   "execution_count": 88,
   "metadata": {
    "execution": {
     "iopub.execute_input": "2020-08-30T05:43:47.669658Z",
     "iopub.status.busy": "2020-08-30T05:43:47.668657Z",
     "iopub.status.idle": "2020-08-30T05:43:47.678657Z",
     "shell.execute_reply": "2020-08-30T05:43:47.676657Z",
     "shell.execute_reply.started": "2020-08-30T05:43:47.669658Z"
    }
   },
   "outputs": [
    {
     "data": {
      "text/plain": [
       "'Saturday'"
      ]
     },
     "execution_count": 88,
     "metadata": {},
     "output_type": "execute_result"
    }
   ],
   "source": [
    "today"
   ]
  },
  {
   "cell_type": "code",
   "execution_count": 89,
   "metadata": {
    "execution": {
     "iopub.execute_input": "2020-08-30T05:43:49.358381Z",
     "iopub.status.busy": "2020-08-30T05:43:49.357386Z",
     "iopub.status.idle": "2020-08-30T05:43:49.372387Z",
     "shell.execute_reply": "2020-08-30T05:43:49.370386Z",
     "shell.execute_reply.started": "2020-08-30T05:43:49.358381Z"
    }
   },
   "outputs": [
    {
     "data": {
      "text/plain": [
       "str"
      ]
     },
     "execution_count": 89,
     "metadata": {},
     "output_type": "execute_result"
    }
   ],
   "source": [
    "type(today)"
   ]
  },
  {
   "cell_type": "markdown",
   "metadata": {},
   "source": [
    "You can use single quotes inside a string written with double quotes, and vice versa."
   ]
  },
  {
   "cell_type": "code",
   "execution_count": 90,
   "metadata": {
    "execution": {
     "iopub.execute_input": "2020-08-30T05:43:58.484431Z",
     "iopub.status.busy": "2020-08-30T05:43:58.483434Z",
     "iopub.status.idle": "2020-08-30T05:43:58.505434Z",
     "shell.execute_reply": "2020-08-30T05:43:58.503432Z",
     "shell.execute_reply.started": "2020-08-30T05:43:58.484431Z"
    }
   },
   "outputs": [],
   "source": [
    "my_favorite_movie = \"One Flew over the Cuckoo's Nest\" "
   ]
  },
  {
   "cell_type": "code",
   "execution_count": 91,
   "metadata": {
    "execution": {
     "iopub.execute_input": "2020-08-30T05:43:59.690714Z",
     "iopub.status.busy": "2020-08-30T05:43:59.690714Z",
     "iopub.status.idle": "2020-08-30T05:43:59.705715Z",
     "shell.execute_reply": "2020-08-30T05:43:59.703714Z",
     "shell.execute_reply.started": "2020-08-30T05:43:59.690714Z"
    }
   },
   "outputs": [
    {
     "data": {
      "text/plain": [
       "\"One Flew over the Cuckoo's Nest\""
      ]
     },
     "execution_count": 91,
     "metadata": {},
     "output_type": "execute_result"
    }
   ],
   "source": [
    "my_favorite_movie"
   ]
  },
  {
   "cell_type": "code",
   "execution_count": 92,
   "metadata": {
    "execution": {
     "iopub.execute_input": "2020-08-30T05:44:27.099514Z",
     "iopub.status.busy": "2020-08-30T05:44:27.099514Z",
     "iopub.status.idle": "2020-08-30T05:44:27.106511Z",
     "shell.execute_reply": "2020-08-30T05:44:27.105511Z",
     "shell.execute_reply.started": "2020-08-30T05:44:27.099514Z"
    }
   },
   "outputs": [],
   "source": [
    "my_favorite_pun = 'Thanks for explaining the word \"many\" to me, it means a lot.'"
   ]
  },
  {
   "cell_type": "code",
   "execution_count": 93,
   "metadata": {
    "execution": {
     "iopub.execute_input": "2020-08-30T05:44:28.662962Z",
     "iopub.status.busy": "2020-08-30T05:44:28.661963Z",
     "iopub.status.idle": "2020-08-30T05:44:28.677963Z",
     "shell.execute_reply": "2020-08-30T05:44:28.675964Z",
     "shell.execute_reply.started": "2020-08-30T05:44:28.662962Z"
    }
   },
   "outputs": [
    {
     "data": {
      "text/plain": [
       "'Thanks for explaining the word \"many\" to me, it means a lot.'"
      ]
     },
     "execution_count": 93,
     "metadata": {},
     "output_type": "execute_result"
    }
   ],
   "source": [
    "my_favorite_pun"
   ]
  },
  {
   "cell_type": "markdown",
   "metadata": {},
   "source": [
    "To use the a double quote within a string written with double quotes, *escape* the inner quotes by prefixing them with the `\\` character."
   ]
  },
  {
   "cell_type": "code",
   "execution_count": 94,
   "metadata": {
    "execution": {
     "iopub.execute_input": "2020-08-30T05:44:40.498198Z",
     "iopub.status.busy": "2020-08-30T05:44:40.498198Z",
     "iopub.status.idle": "2020-08-30T05:44:40.504201Z",
     "shell.execute_reply": "2020-08-30T05:44:40.502196Z",
     "shell.execute_reply.started": "2020-08-30T05:44:40.498198Z"
    }
   },
   "outputs": [],
   "source": [
    "another_pun = \"The first time I got a universal remote control, I thought to myself \\\"This changes everything\\\".\""
   ]
  },
  {
   "cell_type": "code",
   "execution_count": 95,
   "metadata": {
    "execution": {
     "iopub.execute_input": "2020-08-30T05:44:42.446521Z",
     "iopub.status.busy": "2020-08-30T05:44:42.446521Z",
     "iopub.status.idle": "2020-08-30T05:44:42.464525Z",
     "shell.execute_reply": "2020-08-30T05:44:42.462524Z",
     "shell.execute_reply.started": "2020-08-30T05:44:42.446521Z"
    }
   },
   "outputs": [
    {
     "data": {
      "text/plain": [
       "'The first time I got a universal remote control, I thought to myself \"This changes everything\".'"
      ]
     },
     "execution_count": 95,
     "metadata": {},
     "output_type": "execute_result"
    }
   ],
   "source": [
    "another_pun"
   ]
  },
  {
   "cell_type": "markdown",
   "metadata": {},
   "source": [
    "Strings created using single or double quotes must begin and end on the same line. To create multiline strings, use three single quotes `'''` or three double quotes `\"\"\"` to begin and end the string. Line breaks are represented using the newline character `\\n`."
   ]
  },
  {
   "cell_type": "code",
   "execution_count": 96,
   "metadata": {
    "execution": {
     "iopub.execute_input": "2020-08-30T05:45:12.717995Z",
     "iopub.status.busy": "2020-08-30T05:45:12.716995Z",
     "iopub.status.idle": "2020-08-30T05:45:12.736995Z",
     "shell.execute_reply": "2020-08-30T05:45:12.734996Z",
     "shell.execute_reply.started": "2020-08-30T05:45:12.717995Z"
    }
   },
   "outputs": [],
   "source": [
    "yet_another_pun = '''Son: \"Dad, can you tell me what a solar eclipse is?\" \n",
    "Dad: \"No sun.\"'''"
   ]
  },
  {
   "cell_type": "code",
   "execution_count": 97,
   "metadata": {
    "execution": {
     "iopub.execute_input": "2020-08-30T05:45:15.348097Z",
     "iopub.status.busy": "2020-08-30T05:45:15.348097Z",
     "iopub.status.idle": "2020-08-30T05:45:15.362102Z",
     "shell.execute_reply": "2020-08-30T05:45:15.360102Z",
     "shell.execute_reply.started": "2020-08-30T05:45:15.348097Z"
    }
   },
   "outputs": [
    {
     "data": {
      "text/plain": [
       "'Son: \"Dad, can you tell me what a solar eclipse is?\" \\nDad: \"No sun.\"'"
      ]
     },
     "execution_count": 97,
     "metadata": {},
     "output_type": "execute_result"
    }
   ],
   "source": [
    "yet_another_pun"
   ]
  },
  {
   "cell_type": "markdown",
   "metadata": {},
   "source": [
    "Multiline strings are best displayed using the `print` function."
   ]
  },
  {
   "cell_type": "code",
   "execution_count": 98,
   "metadata": {
    "execution": {
     "iopub.execute_input": "2020-08-30T05:45:40.831749Z",
     "iopub.status.busy": "2020-08-30T05:45:40.830742Z",
     "iopub.status.idle": "2020-08-30T05:45:40.848749Z",
     "shell.execute_reply": "2020-08-30T05:45:40.846751Z",
     "shell.execute_reply.started": "2020-08-30T05:45:40.831749Z"
    }
   },
   "outputs": [
    {
     "name": "stdout",
     "output_type": "stream",
     "text": [
      "Son: \"Dad, can you tell me what a solar eclipse is?\" \n",
      "Dad: \"No sun.\"\n"
     ]
    }
   ],
   "source": [
    "print(yet_another_pun)"
   ]
  },
  {
   "cell_type": "code",
   "execution_count": 99,
   "metadata": {
    "execution": {
     "iopub.execute_input": "2020-08-30T05:46:07.598928Z",
     "iopub.status.busy": "2020-08-30T05:46:07.598928Z",
     "iopub.status.idle": "2020-08-30T05:46:07.607924Z",
     "shell.execute_reply": "2020-08-30T05:46:07.605923Z",
     "shell.execute_reply.started": "2020-08-30T05:46:07.598928Z"
    }
   },
   "outputs": [],
   "source": [
    "a_music_pun = \"\"\"\n",
    "Two windmills are standing in a field and one asks the other, \n",
    "\"What kind of music do you like?\"  \n",
    "\n",
    "The other says, \n",
    "\"I'm a big metal fan.\"\n",
    "\"\"\""
   ]
  },
  {
   "cell_type": "code",
   "execution_count": 100,
   "metadata": {
    "execution": {
     "iopub.execute_input": "2020-08-30T05:46:18.990268Z",
     "iopub.status.busy": "2020-08-30T05:46:18.989267Z",
     "iopub.status.idle": "2020-08-30T05:46:18.997262Z",
     "shell.execute_reply": "2020-08-30T05:46:18.995262Z",
     "shell.execute_reply.started": "2020-08-30T05:46:18.990268Z"
    }
   },
   "outputs": [
    {
     "name": "stdout",
     "output_type": "stream",
     "text": [
      "\n",
      "Two windmills are standing in a field and one asks the other, \n",
      "\"What kind of music do you like?\"  \n",
      "\n",
      "The other says, \n",
      "\"I'm a big metal fan.\"\n",
      "\n"
     ]
    }
   ],
   "source": [
    "print(a_music_pun)"
   ]
  },
  {
   "cell_type": "markdown",
   "metadata": {},
   "source": [
    "You can check the length of a string using the `len` function."
   ]
  },
  {
   "cell_type": "code",
   "execution_count": 101,
   "metadata": {
    "execution": {
     "iopub.execute_input": "2020-08-30T05:46:56.343761Z",
     "iopub.status.busy": "2020-08-30T05:46:56.342763Z",
     "iopub.status.idle": "2020-08-30T05:46:56.354767Z",
     "shell.execute_reply": "2020-08-30T05:46:56.352759Z",
     "shell.execute_reply.started": "2020-08-30T05:46:56.343761Z"
    }
   },
   "outputs": [
    {
     "data": {
      "text/plain": [
       "31"
      ]
     },
     "execution_count": 101,
     "metadata": {},
     "output_type": "execute_result"
    }
   ],
   "source": [
    "len(my_favorite_movie)"
   ]
  },
  {
   "cell_type": "markdown",
   "metadata": {},
   "source": [
    "Note that special characters like `\\n` and escaped characters like `\\\"` count as a single character, even though they are written and sometimes printed as 2 characters."
   ]
  },
  {
   "cell_type": "code",
   "execution_count": 102,
   "metadata": {
    "execution": {
     "iopub.execute_input": "2020-08-30T05:47:10.488025Z",
     "iopub.status.busy": "2020-08-30T05:47:10.487024Z",
     "iopub.status.idle": "2020-08-30T05:47:10.512024Z",
     "shell.execute_reply": "2020-08-30T05:47:10.510022Z",
     "shell.execute_reply.started": "2020-08-30T05:47:10.488025Z"
    }
   },
   "outputs": [
    {
     "data": {
      "text/plain": [
       "'a\\nb'"
      ]
     },
     "execution_count": 102,
     "metadata": {},
     "output_type": "execute_result"
    }
   ],
   "source": [
    "multiline_string = \"\"\"a\n",
    "b\"\"\"\n",
    "multiline_string"
   ]
  },
  {
   "cell_type": "code",
   "execution_count": 103,
   "metadata": {
    "execution": {
     "iopub.execute_input": "2020-08-30T05:47:15.652535Z",
     "iopub.status.busy": "2020-08-30T05:47:15.651536Z",
     "iopub.status.idle": "2020-08-30T05:47:15.676538Z",
     "shell.execute_reply": "2020-08-30T05:47:15.674535Z",
     "shell.execute_reply.started": "2020-08-30T05:47:15.652535Z"
    }
   },
   "outputs": [
    {
     "data": {
      "text/plain": [
       "3"
      ]
     },
     "execution_count": 103,
     "metadata": {},
     "output_type": "execute_result"
    }
   ],
   "source": [
    "len(multiline_string)"
   ]
  },
  {
   "cell_type": "markdown",
   "metadata": {},
   "source": [
    "A string can be converted into a list of characters using `list` function."
   ]
  },
  {
   "cell_type": "code",
   "execution_count": 104,
   "metadata": {
    "execution": {
     "iopub.execute_input": "2020-08-30T05:47:33.354252Z",
     "iopub.status.busy": "2020-08-30T05:47:33.353253Z",
     "iopub.status.idle": "2020-08-30T05:47:33.362254Z",
     "shell.execute_reply": "2020-08-30T05:47:33.360256Z",
     "shell.execute_reply.started": "2020-08-30T05:47:33.353253Z"
    }
   },
   "outputs": [
    {
     "data": {
      "text/plain": [
       "['a', '\\n', 'b']"
      ]
     },
     "execution_count": 104,
     "metadata": {},
     "output_type": "execute_result"
    }
   ],
   "source": [
    "list(multiline_string)"
   ]
  },
  {
   "cell_type": "markdown",
   "metadata": {},
   "source": [
    "Strings also support several list operations, which are discussed in the next section. We'll look at a couple of examples here.\n",
    "\n",
    "You can access individual characters within a string using the `[]` indexing notation. Note the character indices go from `0` to `n-1`, where `n` is the length of the string."
   ]
  },
  {
   "cell_type": "code",
   "execution_count": 105,
   "metadata": {
    "execution": {
     "iopub.execute_input": "2020-08-30T05:47:45.925663Z",
     "iopub.status.busy": "2020-08-30T05:47:45.924665Z",
     "iopub.status.idle": "2020-08-30T05:47:45.939667Z",
     "shell.execute_reply": "2020-08-30T05:47:45.937666Z",
     "shell.execute_reply.started": "2020-08-30T05:47:45.925663Z"
    }
   },
   "outputs": [],
   "source": [
    "today = \"Saturday\""
   ]
  },
  {
   "cell_type": "code",
   "execution_count": 106,
   "metadata": {
    "execution": {
     "iopub.execute_input": "2020-08-30T05:47:47.348663Z",
     "iopub.status.busy": "2020-08-30T05:47:47.347664Z",
     "iopub.status.idle": "2020-08-30T05:47:47.362669Z",
     "shell.execute_reply": "2020-08-30T05:47:47.360668Z",
     "shell.execute_reply.started": "2020-08-30T05:47:47.348663Z"
    }
   },
   "outputs": [
    {
     "data": {
      "text/plain": [
       "'S'"
      ]
     },
     "execution_count": 106,
     "metadata": {},
     "output_type": "execute_result"
    }
   ],
   "source": [
    "today[0]"
   ]
  },
  {
   "cell_type": "code",
   "execution_count": 107,
   "metadata": {
    "execution": {
     "iopub.execute_input": "2020-08-30T05:47:51.343094Z",
     "iopub.status.busy": "2020-08-30T05:47:51.342092Z",
     "iopub.status.idle": "2020-08-30T05:47:51.357097Z",
     "shell.execute_reply": "2020-08-30T05:47:51.356094Z",
     "shell.execute_reply.started": "2020-08-30T05:47:51.343094Z"
    }
   },
   "outputs": [
    {
     "data": {
      "text/plain": [
       "'u'"
      ]
     },
     "execution_count": 107,
     "metadata": {},
     "output_type": "execute_result"
    }
   ],
   "source": [
    "today[3]"
   ]
  },
  {
   "cell_type": "code",
   "execution_count": 108,
   "metadata": {
    "execution": {
     "iopub.execute_input": "2020-08-30T05:47:57.044960Z",
     "iopub.status.busy": "2020-08-30T05:47:57.043961Z",
     "iopub.status.idle": "2020-08-30T05:47:57.068954Z",
     "shell.execute_reply": "2020-08-30T05:47:57.066957Z",
     "shell.execute_reply.started": "2020-08-30T05:47:57.044960Z"
    }
   },
   "outputs": [
    {
     "data": {
      "text/plain": [
       "'y'"
      ]
     },
     "execution_count": 108,
     "metadata": {},
     "output_type": "execute_result"
    }
   ],
   "source": [
    "today[7]"
   ]
  },
  {
   "cell_type": "markdown",
   "metadata": {},
   "source": [
    "You can access a part of a string using by providing a `start:end` range instead of a single index in `[]`."
   ]
  },
  {
   "cell_type": "code",
   "execution_count": 109,
   "metadata": {
    "execution": {
     "iopub.execute_input": "2020-08-30T05:48:19.961227Z",
     "iopub.status.busy": "2020-08-30T05:48:19.960225Z",
     "iopub.status.idle": "2020-08-30T05:48:19.980221Z",
     "shell.execute_reply": "2020-08-30T05:48:19.978223Z",
     "shell.execute_reply.started": "2020-08-30T05:48:19.961227Z"
    }
   },
   "outputs": [
    {
     "data": {
      "text/plain": [
       "'day'"
      ]
     },
     "execution_count": 109,
     "metadata": {},
     "output_type": "execute_result"
    }
   ],
   "source": [
    "today[5:8]"
   ]
  },
  {
   "cell_type": "markdown",
   "metadata": {},
   "source": [
    "You can also check whether a string contains a some text using the `in` operator. "
   ]
  },
  {
   "cell_type": "code",
   "execution_count": 110,
   "metadata": {
    "execution": {
     "iopub.execute_input": "2020-08-30T05:53:41.881564Z",
     "iopub.status.busy": "2020-08-30T05:53:41.880567Z",
     "iopub.status.idle": "2020-08-30T05:53:41.901565Z",
     "shell.execute_reply": "2020-08-30T05:53:41.899565Z",
     "shell.execute_reply.started": "2020-08-30T05:53:41.881564Z"
    }
   },
   "outputs": [
    {
     "data": {
      "text/plain": [
       "True"
      ]
     },
     "execution_count": 110,
     "metadata": {},
     "output_type": "execute_result"
    }
   ],
   "source": [
    "'day' in today"
   ]
  },
  {
   "cell_type": "code",
   "execution_count": 111,
   "metadata": {
    "execution": {
     "iopub.execute_input": "2020-08-30T05:53:44.376175Z",
     "iopub.status.busy": "2020-08-30T05:53:44.376175Z",
     "iopub.status.idle": "2020-08-30T05:53:44.389175Z",
     "shell.execute_reply": "2020-08-30T05:53:44.387182Z",
     "shell.execute_reply.started": "2020-08-30T05:53:44.376175Z"
    }
   },
   "outputs": [
    {
     "data": {
      "text/plain": [
       "False"
      ]
     },
     "execution_count": 111,
     "metadata": {},
     "output_type": "execute_result"
    }
   ],
   "source": [
    "'Sun' in today"
   ]
  },
  {
   "cell_type": "markdown",
   "metadata": {},
   "source": [
    "Two or more strings can be joined or *concatenated* using the `+` operator. Be careful while concatenating strings, sometimes you may need to add a space character `\" \"` between words."
   ]
  },
  {
   "cell_type": "code",
   "execution_count": 112,
   "metadata": {
    "execution": {
     "iopub.execute_input": "2020-08-30T05:53:47.949089Z",
     "iopub.status.busy": "2020-08-30T05:53:47.949089Z",
     "iopub.status.idle": "2020-08-30T05:53:47.964086Z",
     "shell.execute_reply": "2020-08-30T05:53:47.962087Z",
     "shell.execute_reply.started": "2020-08-30T05:53:47.949089Z"
    }
   },
   "outputs": [],
   "source": [
    "full_name = \"Derek O'Brien\""
   ]
  },
  {
   "cell_type": "code",
   "execution_count": 113,
   "metadata": {
    "execution": {
     "iopub.execute_input": "2020-08-30T05:53:49.031266Z",
     "iopub.status.busy": "2020-08-30T05:53:49.030267Z",
     "iopub.status.idle": "2020-08-30T05:53:49.046265Z",
     "shell.execute_reply": "2020-08-30T05:53:49.044266Z",
     "shell.execute_reply.started": "2020-08-30T05:53:49.031266Z"
    }
   },
   "outputs": [],
   "source": [
    "greeting = \"Hello\""
   ]
  },
  {
   "cell_type": "code",
   "execution_count": 114,
   "metadata": {
    "execution": {
     "iopub.execute_input": "2020-08-30T05:53:50.451272Z",
     "iopub.status.busy": "2020-08-30T05:53:50.450271Z",
     "iopub.status.idle": "2020-08-30T05:53:50.467276Z",
     "shell.execute_reply": "2020-08-30T05:53:50.466275Z",
     "shell.execute_reply.started": "2020-08-30T05:53:50.451272Z"
    }
   },
   "outputs": [
    {
     "data": {
      "text/plain": [
       "\"HelloDerek O'Brien\""
      ]
     },
     "execution_count": 114,
     "metadata": {},
     "output_type": "execute_result"
    }
   ],
   "source": [
    "greeting + full_name"
   ]
  },
  {
   "cell_type": "code",
   "execution_count": 115,
   "metadata": {
    "execution": {
     "iopub.execute_input": "2020-08-30T05:53:55.338679Z",
     "iopub.status.busy": "2020-08-30T05:53:55.338679Z",
     "iopub.status.idle": "2020-08-30T05:53:55.353685Z",
     "shell.execute_reply": "2020-08-30T05:53:55.351681Z",
     "shell.execute_reply.started": "2020-08-30T05:53:55.338679Z"
    }
   },
   "outputs": [
    {
     "data": {
      "text/plain": [
       "\"Hello Derek O'Brien!\""
      ]
     },
     "execution_count": 115,
     "metadata": {},
     "output_type": "execute_result"
    }
   ],
   "source": [
    "greeting + \" \" + full_name + \"!\" # additional space"
   ]
  },
  {
   "cell_type": "markdown",
   "metadata": {},
   "source": [
    "String in Python have many built-in *methods* that can be used to manipulate them. Let's try out some common string methods.\n",
    "\n",
    "> **Methods**: Methods are functions associated with data types, and are accessed using the `.` notatation e.g. `variable_name.method()` or `\"a string\".method()`. Methods are a powerful technique for associating common operations with values of specific data types.\n",
    "\n",
    "The `.lower()`, `.upper()` and `.capitalize()` methods are used to change the case of the characters."
   ]
  },
  {
   "cell_type": "code",
   "execution_count": 116,
   "metadata": {
    "execution": {
     "iopub.execute_input": "2020-08-30T05:53:59.545466Z",
     "iopub.status.busy": "2020-08-30T05:53:59.544467Z",
     "iopub.status.idle": "2020-08-30T05:53:59.558467Z",
     "shell.execute_reply": "2020-08-30T05:53:59.557465Z",
     "shell.execute_reply.started": "2020-08-30T05:53:59.545466Z"
    }
   },
   "outputs": [
    {
     "data": {
      "text/plain": [
       "'saturday'"
      ]
     },
     "execution_count": 116,
     "metadata": {},
     "output_type": "execute_result"
    }
   ],
   "source": [
    "today.lower()"
   ]
  },
  {
   "cell_type": "code",
   "execution_count": 117,
   "metadata": {
    "execution": {
     "iopub.execute_input": "2020-08-30T05:54:01.093514Z",
     "iopub.status.busy": "2020-08-30T05:54:01.092513Z",
     "iopub.status.idle": "2020-08-30T05:54:01.117514Z",
     "shell.execute_reply": "2020-08-30T05:54:01.115520Z",
     "shell.execute_reply.started": "2020-08-30T05:54:01.093514Z"
    }
   },
   "outputs": [
    {
     "data": {
      "text/plain": [
       "'SATURDAY'"
      ]
     },
     "execution_count": 117,
     "metadata": {},
     "output_type": "execute_result"
    }
   ],
   "source": [
    "\"saturday\".upper()"
   ]
  },
  {
   "cell_type": "code",
   "execution_count": 118,
   "metadata": {
    "execution": {
     "iopub.execute_input": "2020-08-30T05:54:04.347222Z",
     "iopub.status.busy": "2020-08-30T05:54:04.347222Z",
     "iopub.status.idle": "2020-08-30T05:54:04.362224Z",
     "shell.execute_reply": "2020-08-30T05:54:04.360221Z",
     "shell.execute_reply.started": "2020-08-30T05:54:04.347222Z"
    }
   },
   "outputs": [
    {
     "data": {
      "text/plain": [
       "'Monday'"
      ]
     },
     "execution_count": 118,
     "metadata": {},
     "output_type": "execute_result"
    }
   ],
   "source": [
    "\"monday\".capitalize() # changes first character to uppercase"
   ]
  },
  {
   "cell_type": "markdown",
   "metadata": {},
   "source": [
    "The `.replace` method is used to replace a part of the string with another string. It takes the portion to be replaced and the replacement text as *inputs* or *arguments*."
   ]
  },
  {
   "cell_type": "code",
   "execution_count": 119,
   "metadata": {
    "execution": {
     "iopub.execute_input": "2020-08-30T05:54:16.077262Z",
     "iopub.status.busy": "2020-08-30T05:54:16.076258Z",
     "iopub.status.idle": "2020-08-30T05:54:16.096261Z",
     "shell.execute_reply": "2020-08-30T05:54:16.094264Z",
     "shell.execute_reply.started": "2020-08-30T05:54:16.076258Z"
    }
   },
   "outputs": [],
   "source": [
    "another_day = today.replace(\"Satur\", \"Wednes\")"
   ]
  },
  {
   "cell_type": "code",
   "execution_count": 120,
   "metadata": {
    "execution": {
     "iopub.execute_input": "2020-08-30T05:54:18.337289Z",
     "iopub.status.busy": "2020-08-30T05:54:18.336290Z",
     "iopub.status.idle": "2020-08-30T05:54:18.351288Z",
     "shell.execute_reply": "2020-08-30T05:54:18.350287Z",
     "shell.execute_reply.started": "2020-08-30T05:54:18.337289Z"
    }
   },
   "outputs": [
    {
     "data": {
      "text/plain": [
       "'Wednesday'"
      ]
     },
     "execution_count": 120,
     "metadata": {},
     "output_type": "execute_result"
    }
   ],
   "source": [
    "another_day"
   ]
  },
  {
   "cell_type": "markdown",
   "metadata": {},
   "source": [
    "Note that a new string is returned, and the original string is not modified."
   ]
  },
  {
   "cell_type": "code",
   "execution_count": 121,
   "metadata": {
    "execution": {
     "iopub.execute_input": "2020-08-30T05:54:22.407868Z",
     "iopub.status.busy": "2020-08-30T05:54:22.406868Z",
     "iopub.status.idle": "2020-08-30T05:54:22.429868Z",
     "shell.execute_reply": "2020-08-30T05:54:22.427868Z",
     "shell.execute_reply.started": "2020-08-30T05:54:22.407868Z"
    }
   },
   "outputs": [
    {
     "data": {
      "text/plain": [
       "'Saturday'"
      ]
     },
     "execution_count": 121,
     "metadata": {},
     "output_type": "execute_result"
    }
   ],
   "source": [
    "today"
   ]
  },
  {
   "cell_type": "markdown",
   "metadata": {},
   "source": [
    "The `.split` method can be used to split a string into a list of strings based using the character(s) provided."
   ]
  },
  {
   "cell_type": "code",
   "execution_count": null,
   "metadata": {},
   "outputs": [],
   "source": [
    "\"Sun,Mon,Tue,Wed,Thu,Fri,Sat\".split(\",\")"
   ]
  },
  {
   "cell_type": "markdown",
   "metadata": {},
   "source": [
    "The .strip method is used to remove whitespace characters from the beginning and end of a string."
   ]
  },
  {
   "cell_type": "code",
   "execution_count": null,
   "metadata": {},
   "outputs": [],
   "source": [
    "a_long_line = \"       This is a long line with some space before, after,     and some space in the middle..    \""
   ]
  },
  {
   "cell_type": "code",
   "execution_count": null,
   "metadata": {},
   "outputs": [],
   "source": [
    "a_long_line_stripped = a_long_line.strip()"
   ]
  },
  {
   "cell_type": "code",
   "execution_count": null,
   "metadata": {},
   "outputs": [],
   "source": [
    "a_long_line_stripped"
   ]
  },
  {
   "cell_type": "markdown",
   "metadata": {},
   "source": [
    "The `.format` method is used to combine values of other data types e.g. integers, floats, booleans, lists etc. with strings. It is often used to create output messages for display."
   ]
  },
  {
   "cell_type": "code",
   "execution_count": 122,
   "metadata": {
    "execution": {
     "iopub.execute_input": "2020-08-30T05:59:54.340748Z",
     "iopub.status.busy": "2020-08-30T05:59:54.340748Z",
     "iopub.status.idle": "2020-08-30T05:59:54.355749Z",
     "shell.execute_reply": "2020-08-30T05:59:54.352748Z",
     "shell.execute_reply.started": "2020-08-30T05:59:54.340748Z"
    }
   },
   "outputs": [
    {
     "name": "stdout",
     "output_type": "stream",
     "text": [
      "If a grocery store sells ice bags at $ {} per bag, with a profit margin of {} %, \n",
      "then the total profit it makes by selling {} ice bags is $ {}.\n"
     ]
    }
   ],
   "source": [
    "# Input variables\n",
    "cost_of_ice_bag = 1.25\n",
    "profit_margin = .2\n",
    "number_of_bags = 500\n",
    "\n",
    "# Template for output message\n",
    "output_template = \"\"\"If a grocery store sells ice bags at $ {} per bag, with a profit margin of {} %, \n",
    "then the total profit it makes by selling {} ice bags is $ {}.\"\"\"\n",
    "\n",
    "print(output_template)"
   ]
  },
  {
   "cell_type": "code",
   "execution_count": 123,
   "metadata": {
    "execution": {
     "iopub.execute_input": "2020-08-30T06:00:36.348567Z",
     "iopub.status.busy": "2020-08-30T06:00:36.347565Z",
     "iopub.status.idle": "2020-08-30T06:00:36.359569Z",
     "shell.execute_reply": "2020-08-30T06:00:36.357565Z",
     "shell.execute_reply.started": "2020-08-30T06:00:36.348567Z"
    }
   },
   "outputs": [
    {
     "name": "stdout",
     "output_type": "stream",
     "text": [
      "If a grocery store sells ice bags at $ 1.25 per bag, with a profit margin of 20.0 %, \n",
      "then the total profit it makes by selling 500 ice bags is $ 125.0.\n"
     ]
    }
   ],
   "source": [
    "# Inserting values into the string\n",
    "total_profit = cost_of_ice_bag * profit_margin * number_of_bags\n",
    "output_message = output_template.format(cost_of_ice_bag, profit_margin*100, number_of_bags, total_profit)\n",
    "\n",
    "print(output_message)"
   ]
  },
  {
   "cell_type": "markdown",
   "metadata": {},
   "source": [
    "Notice how the placeholders `{}` in the `output_template` string are replaced with the arguments provided to the `.format` method.\n",
    "\n",
    "It is also possible use the string concatenation operator `+` to combine strings with other values, however, those values must first be converted to strings using the `str` function."
   ]
  },
  {
   "cell_type": "code",
   "execution_count": 124,
   "metadata": {
    "execution": {
     "iopub.execute_input": "2020-08-30T06:01:08.339898Z",
     "iopub.status.busy": "2020-08-30T06:01:08.338896Z",
     "iopub.status.idle": "2020-08-30T06:01:09.038604Z",
     "shell.execute_reply": "2020-08-30T06:01:09.036602Z",
     "shell.execute_reply.started": "2020-08-30T06:01:08.339898Z"
    }
   },
   "outputs": [
    {
     "ename": "TypeError",
     "evalue": "can only concatenate str (not \"float\") to str",
     "output_type": "error",
     "traceback": [
      "\u001b[1;31m---------------------------------------------------------------------------\u001b[0m",
      "\u001b[1;31mTypeError\u001b[0m                                 Traceback (most recent call last)",
      "\u001b[1;32m<ipython-input-124-78b7958ec7cc>\u001b[0m in \u001b[0;36m<module>\u001b[1;34m\u001b[0m\n\u001b[1;32m----> 1\u001b[1;33m \u001b[1;34m\"If a grocery store sells ice bags at $ \"\u001b[0m \u001b[1;33m+\u001b[0m \u001b[0mcost_of_ice_bag\u001b[0m \u001b[1;33m+\u001b[0m \u001b[1;34m\", with a profit margin of \"\u001b[0m \u001b[1;33m+\u001b[0m \u001b[0mprofit_margin\u001b[0m\u001b[1;33m\u001b[0m\u001b[1;33m\u001b[0m\u001b[0m\n\u001b[0m",
      "\u001b[1;31mTypeError\u001b[0m: can only concatenate str (not \"float\") to str"
     ]
    }
   ],
   "source": [
    "\"If a grocery store sells ice bags at $ \" + cost_of_ice_bag + \", with a profit margin of \" + profit_margin"
   ]
  },
  {
   "cell_type": "code",
   "execution_count": 126,
   "metadata": {
    "execution": {
     "iopub.execute_input": "2020-08-30T06:01:26.355120Z",
     "iopub.status.busy": "2020-08-30T06:01:26.354123Z",
     "iopub.status.idle": "2020-08-30T06:01:26.368124Z",
     "shell.execute_reply": "2020-08-30T06:01:26.366125Z",
     "shell.execute_reply.started": "2020-08-30T06:01:26.355120Z"
    }
   },
   "outputs": [
    {
     "data": {
      "text/plain": [
       "'If a grocery store sells ice bags at $ 1.25, with a profit margin of 0.2'"
      ]
     },
     "execution_count": 126,
     "metadata": {},
     "output_type": "execute_result"
    }
   ],
   "source": [
    "\"If a grocery store sells ice bags at $ \" + str(cost_of_ice_bag) + \", with a profit margin of \" + str(profit_margin)"
   ]
  },
  {
   "cell_type": "markdown",
   "metadata": {},
   "source": [
    "In fact, the `str` can be used to convert a value of any data type into a string."
   ]
  },
  {
   "cell_type": "code",
   "execution_count": 127,
   "metadata": {
    "execution": {
     "iopub.execute_input": "2020-08-30T06:01:39.039666Z",
     "iopub.status.busy": "2020-08-30T06:01:39.038667Z",
     "iopub.status.idle": "2020-08-30T06:01:39.053666Z",
     "shell.execute_reply": "2020-08-30T06:01:39.051665Z",
     "shell.execute_reply.started": "2020-08-30T06:01:39.039666Z"
    }
   },
   "outputs": [
    {
     "data": {
      "text/plain": [
       "'23'"
      ]
     },
     "execution_count": 127,
     "metadata": {},
     "output_type": "execute_result"
    }
   ],
   "source": [
    "str(23)"
   ]
  },
  {
   "cell_type": "code",
   "execution_count": 128,
   "metadata": {
    "execution": {
     "iopub.execute_input": "2020-08-30T06:01:40.469631Z",
     "iopub.status.busy": "2020-08-30T06:01:40.468634Z",
     "iopub.status.idle": "2020-08-30T06:01:40.479631Z",
     "shell.execute_reply": "2020-08-30T06:01:40.477630Z",
     "shell.execute_reply.started": "2020-08-30T06:01:40.469631Z"
    }
   },
   "outputs": [
    {
     "data": {
      "text/plain": [
       "'23.432'"
      ]
     },
     "execution_count": 128,
     "metadata": {},
     "output_type": "execute_result"
    }
   ],
   "source": [
    "str(23.432)"
   ]
  },
  {
   "cell_type": "code",
   "execution_count": 129,
   "metadata": {
    "execution": {
     "iopub.execute_input": "2020-08-30T06:01:42.499438Z",
     "iopub.status.busy": "2020-08-30T06:01:42.499438Z",
     "iopub.status.idle": "2020-08-30T06:01:42.513438Z",
     "shell.execute_reply": "2020-08-30T06:01:42.511442Z",
     "shell.execute_reply.started": "2020-08-30T06:01:42.499438Z"
    }
   },
   "outputs": [
    {
     "data": {
      "text/plain": [
       "'True'"
      ]
     },
     "execution_count": 129,
     "metadata": {},
     "output_type": "execute_result"
    }
   ],
   "source": [
    "str(True)"
   ]
  },
  {
   "cell_type": "code",
   "execution_count": 130,
   "metadata": {
    "execution": {
     "iopub.execute_input": "2020-08-30T06:01:44.415351Z",
     "iopub.status.busy": "2020-08-30T06:01:44.415351Z",
     "iopub.status.idle": "2020-08-30T06:01:44.435352Z",
     "shell.execute_reply": "2020-08-30T06:01:44.433352Z",
     "shell.execute_reply.started": "2020-08-30T06:01:44.415351Z"
    }
   },
   "outputs": [
    {
     "data": {
      "text/plain": [
       "\"['Athos', 'Porthos', 'Aramis']\""
      ]
     },
     "execution_count": 130,
     "metadata": {},
     "output_type": "execute_result"
    }
   ],
   "source": [
    "the_3_musketeers = [\"Athos\", \"Porthos\", \"Aramis\"]\n",
    "str(the_3_musketeers)"
   ]
  },
  {
   "cell_type": "markdown",
   "metadata": {},
   "source": [
    "Note that all string methods returns new values, and DO NOT change the existing string. You can find a full list of string methods here: https://www.w3schools.com/python/python_ref_string.asp. "
   ]
  },
  {
   "cell_type": "markdown",
   "metadata": {},
   "source": [
    "Strings also support the comparision operators `==` and `!=` for checking whether two strings are equal"
   ]
  },
  {
   "cell_type": "code",
   "execution_count": 131,
   "metadata": {
    "execution": {
     "iopub.execute_input": "2020-08-30T06:02:10.994358Z",
     "iopub.status.busy": "2020-08-30T06:02:10.993357Z",
     "iopub.status.idle": "2020-08-30T06:02:11.009359Z",
     "shell.execute_reply": "2020-08-30T06:02:11.008356Z",
     "shell.execute_reply.started": "2020-08-30T06:02:10.994358Z"
    }
   },
   "outputs": [],
   "source": [
    "first_name = \"John\""
   ]
  },
  {
   "cell_type": "code",
   "execution_count": 132,
   "metadata": {
    "execution": {
     "iopub.execute_input": "2020-08-30T06:02:12.395301Z",
     "iopub.status.busy": "2020-08-30T06:02:12.394302Z",
     "iopub.status.idle": "2020-08-30T06:02:12.407304Z",
     "shell.execute_reply": "2020-08-30T06:02:12.406308Z",
     "shell.execute_reply.started": "2020-08-30T06:02:12.395301Z"
    }
   },
   "outputs": [
    {
     "data": {
      "text/plain": [
       "False"
      ]
     },
     "execution_count": 132,
     "metadata": {},
     "output_type": "execute_result"
    }
   ],
   "source": [
    "first_name == \"Doe\""
   ]
  },
  {
   "cell_type": "code",
   "execution_count": 133,
   "metadata": {
    "execution": {
     "iopub.execute_input": "2020-08-30T06:02:14.347523Z",
     "iopub.status.busy": "2020-08-30T06:02:14.346524Z",
     "iopub.status.idle": "2020-08-30T06:02:14.361523Z",
     "shell.execute_reply": "2020-08-30T06:02:14.359527Z",
     "shell.execute_reply.started": "2020-08-30T06:02:14.347523Z"
    }
   },
   "outputs": [
    {
     "data": {
      "text/plain": [
       "True"
      ]
     },
     "execution_count": 133,
     "metadata": {},
     "output_type": "execute_result"
    }
   ],
   "source": [
    "first_name == \"John\""
   ]
  },
  {
   "cell_type": "code",
   "execution_count": 134,
   "metadata": {
    "execution": {
     "iopub.execute_input": "2020-08-30T06:02:15.895609Z",
     "iopub.status.busy": "2020-08-30T06:02:15.894601Z",
     "iopub.status.idle": "2020-08-30T06:02:15.910136Z",
     "shell.execute_reply": "2020-08-30T06:02:15.908137Z",
     "shell.execute_reply.started": "2020-08-30T06:02:15.895609Z"
    }
   },
   "outputs": [
    {
     "data": {
      "text/plain": [
       "True"
      ]
     },
     "execution_count": 134,
     "metadata": {},
     "output_type": "execute_result"
    }
   ],
   "source": [
    "first_name != \"Jane\""
   ]
  },
  {
   "cell_type": "markdown",
   "metadata": {},
   "source": [
    "We've looked at the primitive data types in Python, and we're now ready to explore non-primitive data structures or containers.\n",
    "\n",
    "Before continuing, let us run `jovian.commit` once again to record another snapshot of our notebook."
   ]
  },
  {
   "cell_type": "code",
   "execution_count": 135,
   "metadata": {
    "execution": {
     "iopub.execute_input": "2020-08-30T06:02:28.506652Z",
     "iopub.status.busy": "2020-08-30T06:02:28.506652Z",
     "iopub.status.idle": "2020-08-30T06:02:28.527656Z",
     "shell.execute_reply": "2020-08-30T06:02:28.525656Z",
     "shell.execute_reply.started": "2020-08-30T06:02:28.506652Z"
    }
   },
   "outputs": [
    {
     "ename": "NameError",
     "evalue": "name 'jovian' is not defined",
     "output_type": "error",
     "traceback": [
      "\u001b[1;31m---------------------------------------------------------------------------\u001b[0m",
      "\u001b[1;31mNameError\u001b[0m                                 Traceback (most recent call last)",
      "\u001b[1;32m<ipython-input-135-7f2017c1a3df>\u001b[0m in \u001b[0;36m<module>\u001b[1;34m\u001b[0m\n\u001b[1;32m----> 1\u001b[1;33m \u001b[0mjovian\u001b[0m\u001b[1;33m.\u001b[0m\u001b[0mcommit\u001b[0m\u001b[1;33m(\u001b[0m\u001b[1;33m)\u001b[0m\u001b[1;33m\u001b[0m\u001b[1;33m\u001b[0m\u001b[0m\n\u001b[0m",
      "\u001b[1;31mNameError\u001b[0m: name 'jovian' is not defined"
     ]
    }
   ],
   "source": [
    "jovian.commit()"
   ]
  },
  {
   "cell_type": "markdown",
   "metadata": {},
   "source": [
    "Running `jovian.commit` multiple times within a notebook automatically records new versions. You will continue to have access to all the previous versions of your notebook, using the versions dropdown on the Jovian.ml web interface."
   ]
  },
  {
   "cell_type": "markdown",
   "metadata": {},
   "source": [
    "### List\n",
    "\n",
    "A list in Python is an ordered collection of values. Lists can hold values of different data types, and support operations to add, remove and change values. Lists have the type `list`.\n",
    "\n",
    "To create a list, enclose a list of values within square brackets `[` and `]`, separated by commas."
   ]
  },
  {
   "cell_type": "code",
   "execution_count": 142,
   "metadata": {
    "execution": {
     "iopub.execute_input": "2020-08-30T06:35:45.805078Z",
     "iopub.status.busy": "2020-08-30T06:35:45.804078Z",
     "iopub.status.idle": "2020-08-30T06:35:45.814075Z",
     "shell.execute_reply": "2020-08-30T06:35:45.812078Z",
     "shell.execute_reply.started": "2020-08-30T06:35:45.805078Z"
    }
   },
   "outputs": [],
   "source": [
    "fruits = ['apple', 'banana', 'cherry']"
   ]
  },
  {
   "cell_type": "code",
   "execution_count": 143,
   "metadata": {
    "execution": {
     "iopub.execute_input": "2020-08-30T06:35:48.348938Z",
     "iopub.status.busy": "2020-08-30T06:35:48.347937Z",
     "iopub.status.idle": "2020-08-30T06:35:48.362937Z",
     "shell.execute_reply": "2020-08-30T06:35:48.361938Z",
     "shell.execute_reply.started": "2020-08-30T06:35:48.348938Z"
    }
   },
   "outputs": [
    {
     "data": {
      "text/plain": [
       "['apple', 'banana', 'cherry']"
      ]
     },
     "execution_count": 143,
     "metadata": {},
     "output_type": "execute_result"
    }
   ],
   "source": [
    "fruits"
   ]
  },
  {
   "cell_type": "code",
   "execution_count": 144,
   "metadata": {
    "execution": {
     "iopub.execute_input": "2020-08-30T06:35:49.676617Z",
     "iopub.status.busy": "2020-08-30T06:35:49.676617Z",
     "iopub.status.idle": "2020-08-30T06:35:49.695619Z",
     "shell.execute_reply": "2020-08-30T06:35:49.693615Z",
     "shell.execute_reply.started": "2020-08-30T06:35:49.676617Z"
    }
   },
   "outputs": [
    {
     "data": {
      "text/plain": [
       "list"
      ]
     },
     "execution_count": 144,
     "metadata": {},
     "output_type": "execute_result"
    }
   ],
   "source": [
    "type(fruits)"
   ]
  },
  {
   "cell_type": "markdown",
   "metadata": {},
   "source": [
    "Let's try creating a list containing values of different data types, including another list."
   ]
  },
  {
   "cell_type": "code",
   "execution_count": 145,
   "metadata": {
    "execution": {
     "iopub.execute_input": "2020-08-30T06:35:53.339964Z",
     "iopub.status.busy": "2020-08-30T06:35:53.339964Z",
     "iopub.status.idle": "2020-08-30T06:35:53.354965Z",
     "shell.execute_reply": "2020-08-30T06:35:53.352970Z",
     "shell.execute_reply.started": "2020-08-30T06:35:53.339964Z"
    }
   },
   "outputs": [],
   "source": [
    "a_list = [23, 'hello', None, 3.14, fruits, 3 <= 5]"
   ]
  },
  {
   "cell_type": "code",
   "execution_count": 146,
   "metadata": {
    "execution": {
     "iopub.execute_input": "2020-08-30T06:35:55.005331Z",
     "iopub.status.busy": "2020-08-30T06:35:55.005331Z",
     "iopub.status.idle": "2020-08-30T06:35:55.026331Z",
     "shell.execute_reply": "2020-08-30T06:35:55.024332Z",
     "shell.execute_reply.started": "2020-08-30T06:35:55.005331Z"
    }
   },
   "outputs": [
    {
     "data": {
      "text/plain": [
       "[23, 'hello', None, 3.14, ['apple', 'banana', 'cherry'], True]"
      ]
     },
     "execution_count": 146,
     "metadata": {},
     "output_type": "execute_result"
    }
   ],
   "source": [
    "a_list"
   ]
  },
  {
   "cell_type": "code",
   "execution_count": 147,
   "metadata": {
    "execution": {
     "iopub.execute_input": "2020-08-30T06:36:02.564602Z",
     "iopub.status.busy": "2020-08-30T06:36:02.563602Z",
     "iopub.status.idle": "2020-08-30T06:36:02.579601Z",
     "shell.execute_reply": "2020-08-30T06:36:02.577602Z",
     "shell.execute_reply.started": "2020-08-30T06:36:02.564602Z"
    }
   },
   "outputs": [],
   "source": [
    "empty_list = []"
   ]
  },
  {
   "cell_type": "code",
   "execution_count": 148,
   "metadata": {
    "execution": {
     "iopub.execute_input": "2020-08-30T06:36:05.310068Z",
     "iopub.status.busy": "2020-08-30T06:36:05.309068Z",
     "iopub.status.idle": "2020-08-30T06:36:05.324069Z",
     "shell.execute_reply": "2020-08-30T06:36:05.322069Z",
     "shell.execute_reply.started": "2020-08-30T06:36:05.310068Z"
    }
   },
   "outputs": [
    {
     "data": {
      "text/plain": [
       "[]"
      ]
     },
     "execution_count": 148,
     "metadata": {},
     "output_type": "execute_result"
    }
   ],
   "source": [
    "empty_list"
   ]
  },
  {
   "cell_type": "markdown",
   "metadata": {},
   "source": [
    "To determine the number of values in a list, use the `len` function. In general, the `len` function can be used to determine of values in several other data types."
   ]
  },
  {
   "cell_type": "code",
   "execution_count": 149,
   "metadata": {
    "execution": {
     "iopub.execute_input": "2020-08-30T06:36:13.635642Z",
     "iopub.status.busy": "2020-08-30T06:36:13.634647Z",
     "iopub.status.idle": "2020-08-30T06:36:13.649645Z",
     "shell.execute_reply": "2020-08-30T06:36:13.647642Z",
     "shell.execute_reply.started": "2020-08-30T06:36:13.635642Z"
    }
   },
   "outputs": [
    {
     "data": {
      "text/plain": [
       "3"
      ]
     },
     "execution_count": 149,
     "metadata": {},
     "output_type": "execute_result"
    }
   ],
   "source": [
    "len(fruits)"
   ]
  },
  {
   "cell_type": "code",
   "execution_count": 150,
   "metadata": {
    "execution": {
     "iopub.execute_input": "2020-08-30T06:36:15.357883Z",
     "iopub.status.busy": "2020-08-30T06:36:15.357883Z",
     "iopub.status.idle": "2020-08-30T06:36:15.371885Z",
     "shell.execute_reply": "2020-08-30T06:36:15.369883Z",
     "shell.execute_reply.started": "2020-08-30T06:36:15.357883Z"
    }
   },
   "outputs": [
    {
     "name": "stdout",
     "output_type": "stream",
     "text": [
      "Number of fruits: 3\n"
     ]
    }
   ],
   "source": [
    "print(\"Number of fruits:\", len(fruits))"
   ]
  },
  {
   "cell_type": "code",
   "execution_count": 151,
   "metadata": {
    "execution": {
     "iopub.execute_input": "2020-08-30T06:36:20.413809Z",
     "iopub.status.busy": "2020-08-30T06:36:20.412809Z",
     "iopub.status.idle": "2020-08-30T06:36:20.422809Z",
     "shell.execute_reply": "2020-08-30T06:36:20.420816Z",
     "shell.execute_reply.started": "2020-08-30T06:36:20.413809Z"
    }
   },
   "outputs": [
    {
     "data": {
      "text/plain": [
       "6"
      ]
     },
     "execution_count": 151,
     "metadata": {},
     "output_type": "execute_result"
    }
   ],
   "source": [
    "len(a_list)"
   ]
  },
  {
   "cell_type": "code",
   "execution_count": 152,
   "metadata": {
    "execution": {
     "iopub.execute_input": "2020-08-30T06:36:28.349964Z",
     "iopub.status.busy": "2020-08-30T06:36:28.348967Z",
     "iopub.status.idle": "2020-08-30T06:36:28.361965Z",
     "shell.execute_reply": "2020-08-30T06:36:28.359963Z",
     "shell.execute_reply.started": "2020-08-30T06:36:28.349964Z"
    }
   },
   "outputs": [
    {
     "data": {
      "text/plain": [
       "0"
      ]
     },
     "execution_count": 152,
     "metadata": {},
     "output_type": "execute_result"
    }
   ],
   "source": [
    "len(empty_list)"
   ]
  },
  {
   "cell_type": "markdown",
   "metadata": {},
   "source": [
    "You can access the elements of a list using the the *index* of the element, starting from the index 0."
   ]
  },
  {
   "cell_type": "code",
   "execution_count": 153,
   "metadata": {
    "execution": {
     "iopub.execute_input": "2020-08-30T06:36:31.839511Z",
     "iopub.status.busy": "2020-08-30T06:36:31.839511Z",
     "iopub.status.idle": "2020-08-30T06:36:31.849513Z",
     "shell.execute_reply": "2020-08-30T06:36:31.847512Z",
     "shell.execute_reply.started": "2020-08-30T06:36:31.839511Z"
    }
   },
   "outputs": [
    {
     "data": {
      "text/plain": [
       "'apple'"
      ]
     },
     "execution_count": 153,
     "metadata": {},
     "output_type": "execute_result"
    }
   ],
   "source": [
    "fruits[0]"
   ]
  },
  {
   "cell_type": "code",
   "execution_count": 154,
   "metadata": {
    "execution": {
     "iopub.execute_input": "2020-08-30T06:36:32.982629Z",
     "iopub.status.busy": "2020-08-30T06:36:32.981631Z",
     "iopub.status.idle": "2020-08-30T06:36:32.990629Z",
     "shell.execute_reply": "2020-08-30T06:36:32.988632Z",
     "shell.execute_reply.started": "2020-08-30T06:36:32.982629Z"
    }
   },
   "outputs": [
    {
     "data": {
      "text/plain": [
       "'banana'"
      ]
     },
     "execution_count": 154,
     "metadata": {},
     "output_type": "execute_result"
    }
   ],
   "source": [
    "fruits[1]"
   ]
  },
  {
   "cell_type": "code",
   "execution_count": 155,
   "metadata": {
    "execution": {
     "iopub.execute_input": "2020-08-30T06:36:34.354631Z",
     "iopub.status.busy": "2020-08-30T06:36:34.354631Z",
     "iopub.status.idle": "2020-08-30T06:36:34.367631Z",
     "shell.execute_reply": "2020-08-30T06:36:34.365632Z",
     "shell.execute_reply.started": "2020-08-30T06:36:34.354631Z"
    }
   },
   "outputs": [
    {
     "data": {
      "text/plain": [
       "'cherry'"
      ]
     },
     "execution_count": 155,
     "metadata": {},
     "output_type": "execute_result"
    }
   ],
   "source": [
    "fruits[2]"
   ]
  },
  {
   "cell_type": "markdown",
   "metadata": {},
   "source": [
    "If you try to access an index equal to or higher than the length of the list, Python returns an `IndexError`."
   ]
  },
  {
   "cell_type": "code",
   "execution_count": 156,
   "metadata": {
    "execution": {
     "iopub.execute_input": "2020-08-30T06:36:41.677935Z",
     "iopub.status.busy": "2020-08-30T06:36:41.676935Z",
     "iopub.status.idle": "2020-08-30T06:36:41.702934Z",
     "shell.execute_reply": "2020-08-30T06:36:41.700935Z",
     "shell.execute_reply.started": "2020-08-30T06:36:41.677935Z"
    }
   },
   "outputs": [
    {
     "ename": "IndexError",
     "evalue": "list index out of range",
     "output_type": "error",
     "traceback": [
      "\u001b[1;31m---------------------------------------------------------------------------\u001b[0m",
      "\u001b[1;31mIndexError\u001b[0m                                Traceback (most recent call last)",
      "\u001b[1;32m<ipython-input-156-7ceeafd384d7>\u001b[0m in \u001b[0;36m<module>\u001b[1;34m\u001b[0m\n\u001b[1;32m----> 1\u001b[1;33m \u001b[0mfruits\u001b[0m\u001b[1;33m[\u001b[0m\u001b[1;36m3\u001b[0m\u001b[1;33m]\u001b[0m\u001b[1;33m\u001b[0m\u001b[1;33m\u001b[0m\u001b[0m\n\u001b[0m",
      "\u001b[1;31mIndexError\u001b[0m: list index out of range"
     ]
    }
   ],
   "source": [
    "fruits[3]"
   ]
  },
  {
   "cell_type": "code",
   "execution_count": 157,
   "metadata": {
    "execution": {
     "iopub.execute_input": "2020-08-30T06:36:43.454505Z",
     "iopub.status.busy": "2020-08-30T06:36:43.453504Z",
     "iopub.status.idle": "2020-08-30T06:36:43.470507Z",
     "shell.execute_reply": "2020-08-30T06:36:43.467507Z",
     "shell.execute_reply.started": "2020-08-30T06:36:43.454505Z"
    }
   },
   "outputs": [
    {
     "ename": "IndexError",
     "evalue": "list index out of range",
     "output_type": "error",
     "traceback": [
      "\u001b[1;31m---------------------------------------------------------------------------\u001b[0m",
      "\u001b[1;31mIndexError\u001b[0m                                Traceback (most recent call last)",
      "\u001b[1;32m<ipython-input-157-b8c91da6ba3a>\u001b[0m in \u001b[0;36m<module>\u001b[1;34m\u001b[0m\n\u001b[1;32m----> 1\u001b[1;33m \u001b[0mfruits\u001b[0m\u001b[1;33m[\u001b[0m\u001b[1;36m4\u001b[0m\u001b[1;33m]\u001b[0m\u001b[1;33m\u001b[0m\u001b[1;33m\u001b[0m\u001b[0m\n\u001b[0m",
      "\u001b[1;31mIndexError\u001b[0m: list index out of range"
     ]
    }
   ],
   "source": [
    "fruits[4]"
   ]
  },
  {
   "cell_type": "code",
   "execution_count": 158,
   "metadata": {
    "execution": {
     "iopub.execute_input": "2020-08-30T06:36:44.550783Z",
     "iopub.status.busy": "2020-08-30T06:36:44.549780Z",
     "iopub.status.idle": "2020-08-30T06:36:44.571776Z",
     "shell.execute_reply": "2020-08-30T06:36:44.570780Z",
     "shell.execute_reply.started": "2020-08-30T06:36:44.550783Z"
    }
   },
   "outputs": [
    {
     "data": {
      "text/plain": [
       "'cherry'"
      ]
     },
     "execution_count": 158,
     "metadata": {},
     "output_type": "execute_result"
    }
   ],
   "source": [
    "fruits[-1]"
   ]
  },
  {
   "cell_type": "code",
   "execution_count": 159,
   "metadata": {
    "execution": {
     "iopub.execute_input": "2020-08-30T06:36:45.751298Z",
     "iopub.status.busy": "2020-08-30T06:36:45.750300Z",
     "iopub.status.idle": "2020-08-30T06:36:45.773298Z",
     "shell.execute_reply": "2020-08-30T06:36:45.772299Z",
     "shell.execute_reply.started": "2020-08-30T06:36:45.751298Z"
    }
   },
   "outputs": [
    {
     "data": {
      "text/plain": [
       "'banana'"
      ]
     },
     "execution_count": 159,
     "metadata": {},
     "output_type": "execute_result"
    }
   ],
   "source": [
    "fruits[-2]"
   ]
  },
  {
   "cell_type": "code",
   "execution_count": 160,
   "metadata": {
    "execution": {
     "iopub.execute_input": "2020-08-30T06:36:47.337121Z",
     "iopub.status.busy": "2020-08-30T06:36:47.336121Z",
     "iopub.status.idle": "2020-08-30T06:36:47.351124Z",
     "shell.execute_reply": "2020-08-30T06:36:47.349124Z",
     "shell.execute_reply.started": "2020-08-30T06:36:47.337121Z"
    }
   },
   "outputs": [
    {
     "data": {
      "text/plain": [
       "'apple'"
      ]
     },
     "execution_count": 160,
     "metadata": {},
     "output_type": "execute_result"
    }
   ],
   "source": [
    "fruits[-3]"
   ]
  },
  {
   "cell_type": "code",
   "execution_count": 161,
   "metadata": {
    "execution": {
     "iopub.execute_input": "2020-08-30T06:36:50.355345Z",
     "iopub.status.busy": "2020-08-30T06:36:50.355345Z",
     "iopub.status.idle": "2020-08-30T06:36:50.385343Z",
     "shell.execute_reply": "2020-08-30T06:36:50.383358Z",
     "shell.execute_reply.started": "2020-08-30T06:36:50.355345Z"
    }
   },
   "outputs": [
    {
     "ename": "IndexError",
     "evalue": "list index out of range",
     "output_type": "error",
     "traceback": [
      "\u001b[1;31m---------------------------------------------------------------------------\u001b[0m",
      "\u001b[1;31mIndexError\u001b[0m                                Traceback (most recent call last)",
      "\u001b[1;32m<ipython-input-161-1cb2d66442ee>\u001b[0m in \u001b[0;36m<module>\u001b[1;34m\u001b[0m\n\u001b[1;32m----> 1\u001b[1;33m \u001b[0mfruits\u001b[0m\u001b[1;33m[\u001b[0m\u001b[1;33m-\u001b[0m\u001b[1;36m4\u001b[0m\u001b[1;33m]\u001b[0m\u001b[1;33m\u001b[0m\u001b[1;33m\u001b[0m\u001b[0m\n\u001b[0m",
      "\u001b[1;31mIndexError\u001b[0m: list index out of range"
     ]
    }
   ],
   "source": [
    "fruits[-4]"
   ]
  },
  {
   "cell_type": "markdown",
   "metadata": {},
   "source": [
    "You can also access a range of values from the list. The result is itself a list. Let us look at some examples."
   ]
  },
  {
   "cell_type": "code",
   "execution_count": 162,
   "metadata": {
    "execution": {
     "iopub.execute_input": "2020-08-30T06:37:01.341116Z",
     "iopub.status.busy": "2020-08-30T06:37:01.340113Z",
     "iopub.status.idle": "2020-08-30T06:37:01.353116Z",
     "shell.execute_reply": "2020-08-30T06:37:01.351114Z",
     "shell.execute_reply.started": "2020-08-30T06:37:01.341116Z"
    }
   },
   "outputs": [],
   "source": [
    "a_list = [23, 'hello', None, 3.14, fruits, 3 <= 5]"
   ]
  },
  {
   "cell_type": "code",
   "execution_count": 163,
   "metadata": {
    "execution": {
     "iopub.execute_input": "2020-08-30T06:37:02.699933Z",
     "iopub.status.busy": "2020-08-30T06:37:02.699933Z",
     "iopub.status.idle": "2020-08-30T06:37:02.717933Z",
     "shell.execute_reply": "2020-08-30T06:37:02.715931Z",
     "shell.execute_reply.started": "2020-08-30T06:37:02.699933Z"
    }
   },
   "outputs": [
    {
     "data": {
      "text/plain": [
       "[23, 'hello', None, 3.14, ['apple', 'banana', 'cherry'], True]"
      ]
     },
     "execution_count": 163,
     "metadata": {},
     "output_type": "execute_result"
    }
   ],
   "source": [
    "a_list"
   ]
  },
  {
   "cell_type": "code",
   "execution_count": 164,
   "metadata": {
    "execution": {
     "iopub.execute_input": "2020-08-30T06:37:08.446131Z",
     "iopub.status.busy": "2020-08-30T06:37:08.445131Z",
     "iopub.status.idle": "2020-08-30T06:37:08.461132Z",
     "shell.execute_reply": "2020-08-30T06:37:08.459132Z",
     "shell.execute_reply.started": "2020-08-30T06:37:08.446131Z"
    }
   },
   "outputs": [
    {
     "data": {
      "text/plain": [
       "6"
      ]
     },
     "execution_count": 164,
     "metadata": {},
     "output_type": "execute_result"
    }
   ],
   "source": [
    "len(a_list)"
   ]
  },
  {
   "cell_type": "code",
   "execution_count": 165,
   "metadata": {
    "execution": {
     "iopub.execute_input": "2020-08-30T06:37:19.651552Z",
     "iopub.status.busy": "2020-08-30T06:37:19.651552Z",
     "iopub.status.idle": "2020-08-30T06:37:19.673555Z",
     "shell.execute_reply": "2020-08-30T06:37:19.671552Z",
     "shell.execute_reply.started": "2020-08-30T06:37:19.651552Z"
    }
   },
   "outputs": [
    {
     "data": {
      "text/plain": [
       "[None, 3.14, ['apple', 'banana', 'cherry']]"
      ]
     },
     "execution_count": 165,
     "metadata": {},
     "output_type": "execute_result"
    }
   ],
   "source": [
    "a_list[2:5]"
   ]
  },
  {
   "cell_type": "markdown",
   "metadata": {},
   "source": [
    "Note that the start index (`2` in the above example) of the range is included in the list, but the end index (`5` in the above example) is not included. So, the result has 3 values (indices `2`, `3` and `4`).\n",
    "\n",
    "Here are some experiments you should try out (use the empty cells below):\n",
    "\n",
    "* Try setting one or both indices of the range are larger than the size of the list e.g. `a_list[2:10]`\n",
    "* Try setting the start index of the range to be larger than the end index of the range e.g. `list_a[2:10]`\n",
    "* Try leaving out the start or end index of a range e.g. `a_list[2:]` or `a_list[:5]`\n",
    "* Try using negative indices for the range e.g. `a_list[-2:-5]` or `a_list[-5:-2]` (can you explain the results?)\n",
    "\n",
    "> The flexible and interactive nature of Jupyter notebooks makes them a great tool for learning and experimentation. Most questions that arise while you are learning Python for the first time can be resolved by simply typing the code into a cell and executing it. Let your curiosity run wild, and discover what Python is capable of, and what it isn't! "
   ]
  },
  {
   "cell_type": "code",
   "execution_count": 166,
   "metadata": {
    "execution": {
     "iopub.execute_input": "2020-08-30T06:38:12.337072Z",
     "iopub.status.busy": "2020-08-30T06:38:12.336073Z",
     "iopub.status.idle": "2020-08-30T06:38:12.351074Z",
     "shell.execute_reply": "2020-08-30T06:38:12.349073Z",
     "shell.execute_reply.started": "2020-08-30T06:38:12.337072Z"
    }
   },
   "outputs": [
    {
     "data": {
      "text/plain": [
       "[None, 3.14, ['apple', 'banana', 'cherry'], True]"
      ]
     },
     "execution_count": 166,
     "metadata": {},
     "output_type": "execute_result"
    }
   ],
   "source": [
    "a_list[2:10]"
   ]
  },
  {
   "cell_type": "code",
   "execution_count": 168,
   "metadata": {
    "execution": {
     "iopub.execute_input": "2020-08-30T06:39:34.478237Z",
     "iopub.status.busy": "2020-08-30T06:39:34.477227Z",
     "iopub.status.idle": "2020-08-30T06:39:34.501228Z",
     "shell.execute_reply": "2020-08-30T06:39:34.499228Z",
     "shell.execute_reply.started": "2020-08-30T06:39:34.478237Z"
    }
   },
   "outputs": [
    {
     "data": {
      "text/plain": [
       "[]"
      ]
     },
     "execution_count": 168,
     "metadata": {},
     "output_type": "execute_result"
    }
   ],
   "source": [
    "a_list[6:10]"
   ]
  },
  {
   "cell_type": "code",
   "execution_count": 169,
   "metadata": {
    "execution": {
     "iopub.execute_input": "2020-08-30T06:40:23.685161Z",
     "iopub.status.busy": "2020-08-30T06:40:23.684160Z",
     "iopub.status.idle": "2020-08-30T06:40:23.702158Z",
     "shell.execute_reply": "2020-08-30T06:40:23.700158Z",
     "shell.execute_reply.started": "2020-08-30T06:40:23.685161Z"
    }
   },
   "outputs": [
    {
     "data": {
      "text/plain": [
       "[None, 3.14, ['apple', 'banana', 'cherry'], True]"
      ]
     },
     "execution_count": 169,
     "metadata": {},
     "output_type": "execute_result"
    }
   ],
   "source": [
    "a_list[2:]"
   ]
  },
  {
   "cell_type": "code",
   "execution_count": 170,
   "metadata": {
    "execution": {
     "iopub.execute_input": "2020-08-30T06:40:58.915805Z",
     "iopub.status.busy": "2020-08-30T06:40:58.914802Z",
     "iopub.status.idle": "2020-08-30T06:40:58.936800Z",
     "shell.execute_reply": "2020-08-30T06:40:58.934798Z",
     "shell.execute_reply.started": "2020-08-30T06:40:58.915805Z"
    }
   },
   "outputs": [
    {
     "data": {
      "text/plain": [
       "[23, 'hello', None, 3.14, ['apple', 'banana', 'cherry']]"
      ]
     },
     "execution_count": 170,
     "metadata": {},
     "output_type": "execute_result"
    }
   ],
   "source": [
    "a_list[:5]"
   ]
  },
  {
   "cell_type": "code",
   "execution_count": 171,
   "metadata": {
    "execution": {
     "iopub.execute_input": "2020-08-30T06:42:46.588981Z",
     "iopub.status.busy": "2020-08-30T06:42:46.587980Z",
     "iopub.status.idle": "2020-08-30T06:42:46.603984Z",
     "shell.execute_reply": "2020-08-30T06:42:46.601987Z",
     "shell.execute_reply.started": "2020-08-30T06:42:46.588981Z"
    }
   },
   "outputs": [
    {
     "data": {
      "text/plain": [
       "[]"
      ]
     },
     "execution_count": 171,
     "metadata": {},
     "output_type": "execute_result"
    }
   ],
   "source": [
    "a_list[-2:-5]"
   ]
  },
  {
   "cell_type": "code",
   "execution_count": 172,
   "metadata": {
    "execution": {
     "iopub.execute_input": "2020-08-30T06:43:50.363096Z",
     "iopub.status.busy": "2020-08-30T06:43:50.362097Z",
     "iopub.status.idle": "2020-08-30T06:43:50.377096Z",
     "shell.execute_reply": "2020-08-30T06:43:50.376094Z",
     "shell.execute_reply.started": "2020-08-30T06:43:50.363096Z"
    }
   },
   "outputs": [
    {
     "data": {
      "text/plain": [
       "['hello', None, 3.14]"
      ]
     },
     "execution_count": 172,
     "metadata": {},
     "output_type": "execute_result"
    }
   ],
   "source": [
    "a_list[-5:-2]"
   ]
  },
  {
   "cell_type": "markdown",
   "metadata": {},
   "source": [
    "You can also change the value at a specific index within a list using the assignment operation."
   ]
  },
  {
   "cell_type": "code",
   "execution_count": 173,
   "metadata": {
    "execution": {
     "iopub.execute_input": "2020-08-30T06:44:31.351788Z",
     "iopub.status.busy": "2020-08-30T06:44:31.351788Z",
     "iopub.status.idle": "2020-08-30T06:44:31.366787Z",
     "shell.execute_reply": "2020-08-30T06:44:31.364787Z",
     "shell.execute_reply.started": "2020-08-30T06:44:31.351788Z"
    }
   },
   "outputs": [
    {
     "data": {
      "text/plain": [
       "['apple', 'banana', 'cherry']"
      ]
     },
     "execution_count": 173,
     "metadata": {},
     "output_type": "execute_result"
    }
   ],
   "source": [
    "fruits"
   ]
  },
  {
   "cell_type": "code",
   "execution_count": 174,
   "metadata": {
    "execution": {
     "iopub.execute_input": "2020-08-30T06:44:36.015302Z",
     "iopub.status.busy": "2020-08-30T06:44:36.014303Z",
     "iopub.status.idle": "2020-08-30T06:44:36.026303Z",
     "shell.execute_reply": "2020-08-30T06:44:36.024302Z",
     "shell.execute_reply.started": "2020-08-30T06:44:36.015302Z"
    }
   },
   "outputs": [],
   "source": [
    "fruits[1] = 'blueberry'"
   ]
  },
  {
   "cell_type": "code",
   "execution_count": 175,
   "metadata": {
    "execution": {
     "iopub.execute_input": "2020-08-30T06:44:37.058503Z",
     "iopub.status.busy": "2020-08-30T06:44:37.057501Z",
     "iopub.status.idle": "2020-08-30T06:44:37.069499Z",
     "shell.execute_reply": "2020-08-30T06:44:37.067501Z",
     "shell.execute_reply.started": "2020-08-30T06:44:37.058503Z"
    }
   },
   "outputs": [
    {
     "data": {
      "text/plain": [
       "['apple', 'blueberry', 'cherry']"
      ]
     },
     "execution_count": 175,
     "metadata": {},
     "output_type": "execute_result"
    }
   ],
   "source": [
    "fruits"
   ]
  },
  {
   "cell_type": "markdown",
   "metadata": {},
   "source": [
    "A new value can be added to the end of a list using the `append` method."
   ]
  },
  {
   "cell_type": "code",
   "execution_count": 176,
   "metadata": {
    "execution": {
     "iopub.execute_input": "2020-08-30T06:44:43.359493Z",
     "iopub.status.busy": "2020-08-30T06:44:43.359493Z",
     "iopub.status.idle": "2020-08-30T06:44:43.371697Z",
     "shell.execute_reply": "2020-08-30T06:44:43.369495Z",
     "shell.execute_reply.started": "2020-08-30T06:44:43.359493Z"
    }
   },
   "outputs": [],
   "source": [
    "fruits.append('dates')"
   ]
  },
  {
   "cell_type": "code",
   "execution_count": 177,
   "metadata": {
    "execution": {
     "iopub.execute_input": "2020-08-30T06:44:44.876816Z",
     "iopub.status.busy": "2020-08-30T06:44:44.876816Z",
     "iopub.status.idle": "2020-08-30T06:44:44.884813Z",
     "shell.execute_reply": "2020-08-30T06:44:44.882814Z",
     "shell.execute_reply.started": "2020-08-30T06:44:44.876816Z"
    }
   },
   "outputs": [
    {
     "data": {
      "text/plain": [
       "['apple', 'blueberry', 'cherry', 'dates']"
      ]
     },
     "execution_count": 177,
     "metadata": {},
     "output_type": "execute_result"
    }
   ],
   "source": [
    "fruits"
   ]
  },
  {
   "cell_type": "markdown",
   "metadata": {},
   "source": [
    "A new value can also be inserted a specific index using the `insert` method."
   ]
  },
  {
   "cell_type": "code",
   "execution_count": 178,
   "metadata": {
    "execution": {
     "iopub.execute_input": "2020-08-30T06:44:51.042283Z",
     "iopub.status.busy": "2020-08-30T06:44:51.041285Z",
     "iopub.status.idle": "2020-08-30T06:44:51.057278Z",
     "shell.execute_reply": "2020-08-30T06:44:51.055286Z",
     "shell.execute_reply.started": "2020-08-30T06:44:51.042283Z"
    }
   },
   "outputs": [],
   "source": [
    "fruits.insert(1, 'banana')"
   ]
  },
  {
   "cell_type": "code",
   "execution_count": 179,
   "metadata": {
    "execution": {
     "iopub.execute_input": "2020-08-30T06:44:52.732803Z",
     "iopub.status.busy": "2020-08-30T06:44:52.731807Z",
     "iopub.status.idle": "2020-08-30T06:44:52.754410Z",
     "shell.execute_reply": "2020-08-30T06:44:52.751807Z",
     "shell.execute_reply.started": "2020-08-30T06:44:52.732803Z"
    }
   },
   "outputs": [
    {
     "data": {
      "text/plain": [
       "['apple', 'banana', 'blueberry', 'cherry', 'dates']"
      ]
     },
     "execution_count": 179,
     "metadata": {},
     "output_type": "execute_result"
    }
   ],
   "source": [
    "fruits"
   ]
  },
  {
   "cell_type": "markdown",
   "metadata": {},
   "source": [
    "You can remove a value from the list using the `remove` method."
   ]
  },
  {
   "cell_type": "code",
   "execution_count": 180,
   "metadata": {
    "execution": {
     "iopub.execute_input": "2020-08-30T06:44:59.480243Z",
     "iopub.status.busy": "2020-08-30T06:44:59.479238Z",
     "iopub.status.idle": "2020-08-30T06:44:59.501237Z",
     "shell.execute_reply": "2020-08-30T06:44:59.499242Z",
     "shell.execute_reply.started": "2020-08-30T06:44:59.480243Z"
    }
   },
   "outputs": [],
   "source": [
    "fruits.remove('blueberry')"
   ]
  },
  {
   "cell_type": "code",
   "execution_count": 181,
   "metadata": {
    "execution": {
     "iopub.execute_input": "2020-08-30T06:45:02.657258Z",
     "iopub.status.busy": "2020-08-30T06:45:02.656265Z",
     "iopub.status.idle": "2020-08-30T06:45:02.675259Z",
     "shell.execute_reply": "2020-08-30T06:45:02.674258Z",
     "shell.execute_reply.started": "2020-08-30T06:45:02.657258Z"
    }
   },
   "outputs": [
    {
     "data": {
      "text/plain": [
       "['apple', 'banana', 'cherry', 'dates']"
      ]
     },
     "execution_count": 181,
     "metadata": {},
     "output_type": "execute_result"
    }
   ],
   "source": [
    "fruits"
   ]
  },
  {
   "cell_type": "markdown",
   "metadata": {},
   "source": [
    "What happens if a list has multiple instances of the value passed to `.remove`? Try it out."
   ]
  },
  {
   "cell_type": "code",
   "execution_count": 182,
   "metadata": {
    "execution": {
     "iopub.execute_input": "2020-08-30T06:46:23.748722Z",
     "iopub.status.busy": "2020-08-30T06:46:23.747720Z",
     "iopub.status.idle": "2020-08-30T06:46:23.769251Z",
     "shell.execute_reply": "2020-08-30T06:46:23.767249Z",
     "shell.execute_reply.started": "2020-08-30T06:46:23.748722Z"
    }
   },
   "outputs": [],
   "source": [
    "fruits.append('strawberry')\n",
    "fruits.append('strawberry')"
   ]
  },
  {
   "cell_type": "code",
   "execution_count": 183,
   "metadata": {
    "execution": {
     "iopub.execute_input": "2020-08-30T06:46:44.807944Z",
     "iopub.status.busy": "2020-08-30T06:46:44.806946Z",
     "iopub.status.idle": "2020-08-30T06:46:44.820946Z",
     "shell.execute_reply": "2020-08-30T06:46:44.818948Z",
     "shell.execute_reply.started": "2020-08-30T06:46:44.807944Z"
    }
   },
   "outputs": [
    {
     "data": {
      "text/plain": [
       "['apple', 'banana', 'cherry', 'dates', 'strawberry', 'strawberry']"
      ]
     },
     "execution_count": 183,
     "metadata": {},
     "output_type": "execute_result"
    }
   ],
   "source": [
    "fruits"
   ]
  },
  {
   "cell_type": "code",
   "execution_count": 184,
   "metadata": {
    "execution": {
     "iopub.execute_input": "2020-08-30T06:47:33.820663Z",
     "iopub.status.busy": "2020-08-30T06:47:33.819664Z",
     "iopub.status.idle": "2020-08-30T06:47:33.833664Z",
     "shell.execute_reply": "2020-08-30T06:47:33.831662Z",
     "shell.execute_reply.started": "2020-08-30T06:47:33.820663Z"
    }
   },
   "outputs": [
    {
     "data": {
      "text/plain": [
       "['apple', 'banana', 'cherry', 'dates', 'strawberry']"
      ]
     },
     "execution_count": 184,
     "metadata": {},
     "output_type": "execute_result"
    }
   ],
   "source": [
    "fruits.remove('strawberry')\n",
    "fruits"
   ]
  },
  {
   "cell_type": "markdown",
   "metadata": {},
   "source": [
    "To remove an element from a specific index, use the `pop` method. The method also returns the removed element."
   ]
  },
  {
   "cell_type": "code",
   "execution_count": 185,
   "metadata": {
    "execution": {
     "iopub.execute_input": "2020-08-30T06:48:08.345532Z",
     "iopub.status.busy": "2020-08-30T06:48:08.345532Z",
     "iopub.status.idle": "2020-08-30T06:48:08.358531Z",
     "shell.execute_reply": "2020-08-30T06:48:08.357532Z",
     "shell.execute_reply.started": "2020-08-30T06:48:08.345532Z"
    }
   },
   "outputs": [
    {
     "data": {
      "text/plain": [
       "['apple', 'banana', 'cherry', 'dates', 'strawberry']"
      ]
     },
     "execution_count": 185,
     "metadata": {},
     "output_type": "execute_result"
    }
   ],
   "source": [
    "fruits"
   ]
  },
  {
   "cell_type": "code",
   "execution_count": 186,
   "metadata": {
    "execution": {
     "iopub.execute_input": "2020-08-30T06:48:13.338740Z",
     "iopub.status.busy": "2020-08-30T06:48:13.337742Z",
     "iopub.status.idle": "2020-08-30T06:48:13.352743Z",
     "shell.execute_reply": "2020-08-30T06:48:13.350743Z",
     "shell.execute_reply.started": "2020-08-30T06:48:13.338740Z"
    }
   },
   "outputs": [
    {
     "data": {
      "text/plain": [
       "'banana'"
      ]
     },
     "execution_count": 186,
     "metadata": {},
     "output_type": "execute_result"
    }
   ],
   "source": [
    "fruits.pop(1)"
   ]
  },
  {
   "cell_type": "code",
   "execution_count": 187,
   "metadata": {
    "execution": {
     "iopub.execute_input": "2020-08-30T06:48:22.346212Z",
     "iopub.status.busy": "2020-08-30T06:48:22.345211Z",
     "iopub.status.idle": "2020-08-30T06:48:22.360214Z",
     "shell.execute_reply": "2020-08-30T06:48:22.358214Z",
     "shell.execute_reply.started": "2020-08-30T06:48:22.346212Z"
    }
   },
   "outputs": [
    {
     "data": {
      "text/plain": [
       "['apple', 'cherry', 'dates', 'strawberry']"
      ]
     },
     "execution_count": 187,
     "metadata": {},
     "output_type": "execute_result"
    }
   ],
   "source": [
    "fruits"
   ]
  },
  {
   "cell_type": "markdown",
   "metadata": {},
   "source": [
    "If no index is provided, the `pop` method removes the last element of the list."
   ]
  },
  {
   "cell_type": "code",
   "execution_count": 188,
   "metadata": {
    "execution": {
     "iopub.execute_input": "2020-08-30T06:48:30.375933Z",
     "iopub.status.busy": "2020-08-30T06:48:30.374934Z",
     "iopub.status.idle": "2020-08-30T06:48:30.386930Z",
     "shell.execute_reply": "2020-08-30T06:48:30.384932Z",
     "shell.execute_reply.started": "2020-08-30T06:48:30.375933Z"
    }
   },
   "outputs": [
    {
     "data": {
      "text/plain": [
       "'strawberry'"
      ]
     },
     "execution_count": 188,
     "metadata": {},
     "output_type": "execute_result"
    }
   ],
   "source": [
    "fruits.pop()"
   ]
  },
  {
   "cell_type": "code",
   "execution_count": 189,
   "metadata": {
    "execution": {
     "iopub.execute_input": "2020-08-30T06:48:35.862243Z",
     "iopub.status.busy": "2020-08-30T06:48:35.862243Z",
     "iopub.status.idle": "2020-08-30T06:48:35.877243Z",
     "shell.execute_reply": "2020-08-30T06:48:35.876242Z",
     "shell.execute_reply.started": "2020-08-30T06:48:35.862243Z"
    }
   },
   "outputs": [
    {
     "data": {
      "text/plain": [
       "['apple', 'cherry', 'dates']"
      ]
     },
     "execution_count": 189,
     "metadata": {},
     "output_type": "execute_result"
    }
   ],
   "source": [
    "fruits"
   ]
  },
  {
   "cell_type": "markdown",
   "metadata": {},
   "source": [
    "You can test whether a list contains a value using the `in` operator."
   ]
  },
  {
   "cell_type": "code",
   "execution_count": 190,
   "metadata": {
    "execution": {
     "iopub.execute_input": "2020-08-30T06:48:42.496216Z",
     "iopub.status.busy": "2020-08-30T06:48:42.495212Z",
     "iopub.status.idle": "2020-08-30T06:48:42.508217Z",
     "shell.execute_reply": "2020-08-30T06:48:42.506210Z",
     "shell.execute_reply.started": "2020-08-30T06:48:42.496216Z"
    }
   },
   "outputs": [
    {
     "data": {
      "text/plain": [
       "False"
      ]
     },
     "execution_count": 190,
     "metadata": {},
     "output_type": "execute_result"
    }
   ],
   "source": [
    "'pineapple' in fruits"
   ]
  },
  {
   "cell_type": "code",
   "execution_count": 191,
   "metadata": {
    "execution": {
     "iopub.execute_input": "2020-08-30T06:48:43.960211Z",
     "iopub.status.busy": "2020-08-30T06:48:43.959211Z",
     "iopub.status.idle": "2020-08-30T06:48:43.977217Z",
     "shell.execute_reply": "2020-08-30T06:48:43.976212Z",
     "shell.execute_reply.started": "2020-08-30T06:48:43.960211Z"
    }
   },
   "outputs": [
    {
     "data": {
      "text/plain": [
       "True"
      ]
     },
     "execution_count": 191,
     "metadata": {},
     "output_type": "execute_result"
    }
   ],
   "source": [
    "'cherry' in fruits"
   ]
  },
  {
   "cell_type": "markdown",
   "metadata": {},
   "source": [
    "To combine two or more lists, use the `+` operator. This operation is also called *concatenation*."
   ]
  },
  {
   "cell_type": "code",
   "execution_count": 192,
   "metadata": {
    "execution": {
     "iopub.execute_input": "2020-08-30T06:48:50.850833Z",
     "iopub.status.busy": "2020-08-30T06:48:50.850833Z",
     "iopub.status.idle": "2020-08-30T06:48:50.869831Z",
     "shell.execute_reply": "2020-08-30T06:48:50.867836Z",
     "shell.execute_reply.started": "2020-08-30T06:48:50.850833Z"
    }
   },
   "outputs": [
    {
     "data": {
      "text/plain": [
       "['apple', 'cherry', 'dates']"
      ]
     },
     "execution_count": 192,
     "metadata": {},
     "output_type": "execute_result"
    }
   ],
   "source": [
    "fruits"
   ]
  },
  {
   "cell_type": "code",
   "execution_count": 193,
   "metadata": {
    "execution": {
     "iopub.execute_input": "2020-08-30T06:48:55.569803Z",
     "iopub.status.busy": "2020-08-30T06:48:55.569803Z",
     "iopub.status.idle": "2020-08-30T06:48:55.589807Z",
     "shell.execute_reply": "2020-08-30T06:48:55.587802Z",
     "shell.execute_reply.started": "2020-08-30T06:48:55.569803Z"
    }
   },
   "outputs": [],
   "source": [
    "more_fruits = fruits + ['pineapple', 'tomato', 'guava'] + ['dates', 'banana']"
   ]
  },
  {
   "cell_type": "code",
   "execution_count": 194,
   "metadata": {
    "execution": {
     "iopub.execute_input": "2020-08-30T06:48:56.556948Z",
     "iopub.status.busy": "2020-08-30T06:48:56.556948Z",
     "iopub.status.idle": "2020-08-30T06:48:56.569949Z",
     "shell.execute_reply": "2020-08-30T06:48:56.567952Z",
     "shell.execute_reply.started": "2020-08-30T06:48:56.556948Z"
    }
   },
   "outputs": [
    {
     "data": {
      "text/plain": [
       "['apple', 'cherry', 'dates', 'pineapple', 'tomato', 'guava', 'dates', 'banana']"
      ]
     },
     "execution_count": 194,
     "metadata": {},
     "output_type": "execute_result"
    }
   ],
   "source": [
    "more_fruits"
   ]
  },
  {
   "cell_type": "markdown",
   "metadata": {},
   "source": [
    "To create a copy of a list, use the `copy` method. Modifying the copied list does not affect the original list."
   ]
  },
  {
   "cell_type": "code",
   "execution_count": 195,
   "metadata": {
    "execution": {
     "iopub.execute_input": "2020-08-30T06:49:08.376552Z",
     "iopub.status.busy": "2020-08-30T06:49:08.376552Z",
     "iopub.status.idle": "2020-08-30T06:49:08.389553Z",
     "shell.execute_reply": "2020-08-30T06:49:08.387551Z",
     "shell.execute_reply.started": "2020-08-30T06:49:08.376552Z"
    }
   },
   "outputs": [],
   "source": [
    "more_fruits_copy = more_fruits.copy()"
   ]
  },
  {
   "cell_type": "code",
   "execution_count": 196,
   "metadata": {
    "execution": {
     "iopub.execute_input": "2020-08-30T06:49:09.864089Z",
     "iopub.status.busy": "2020-08-30T06:49:09.862552Z",
     "iopub.status.idle": "2020-08-30T06:49:09.874553Z",
     "shell.execute_reply": "2020-08-30T06:49:09.872550Z",
     "shell.execute_reply.started": "2020-08-30T06:49:09.863557Z"
    }
   },
   "outputs": [
    {
     "data": {
      "text/plain": [
       "['apple', 'cherry', 'dates', 'pineapple', 'tomato', 'guava', 'dates', 'banana']"
      ]
     },
     "execution_count": 196,
     "metadata": {},
     "output_type": "execute_result"
    }
   ],
   "source": [
    "more_fruits_copy"
   ]
  },
  {
   "cell_type": "code",
   "execution_count": 197,
   "metadata": {
    "execution": {
     "iopub.execute_input": "2020-08-30T06:49:34.607554Z",
     "iopub.status.busy": "2020-08-30T06:49:34.607554Z",
     "iopub.status.idle": "2020-08-30T06:49:34.631556Z",
     "shell.execute_reply": "2020-08-30T06:49:34.629558Z",
     "shell.execute_reply.started": "2020-08-30T06:49:34.607554Z"
    }
   },
   "outputs": [
    {
     "data": {
      "text/plain": [
       "['apple', 'cherry', 'dates', 'tomato', 'guava', 'dates']"
      ]
     },
     "execution_count": 197,
     "metadata": {},
     "output_type": "execute_result"
    }
   ],
   "source": [
    "# Modify the copy\n",
    "more_fruits_copy.remove('pineapple')\n",
    "more_fruits_copy.pop()\n",
    "more_fruits_copy"
   ]
  },
  {
   "cell_type": "code",
   "execution_count": 198,
   "metadata": {
    "execution": {
     "iopub.execute_input": "2020-08-30T06:49:49.729936Z",
     "iopub.status.busy": "2020-08-30T06:49:49.728423Z",
     "iopub.status.idle": "2020-08-30T06:49:49.745425Z",
     "shell.execute_reply": "2020-08-30T06:49:49.743427Z",
     "shell.execute_reply.started": "2020-08-30T06:49:49.729936Z"
    }
   },
   "outputs": [
    {
     "data": {
      "text/plain": [
       "['apple', 'cherry', 'dates', 'pineapple', 'tomato', 'guava', 'dates', 'banana']"
      ]
     },
     "execution_count": 198,
     "metadata": {},
     "output_type": "execute_result"
    }
   ],
   "source": [
    "# Original list remains unchanged\n",
    "more_fruits"
   ]
  },
  {
   "cell_type": "markdown",
   "metadata": {},
   "source": [
    "Note that you cannot create a copy of a list by simply creating a new variable using the assignment operator `=`. The new variable will point to the same list, and any modifications performed using one variable will affect the other."
   ]
  },
  {
   "cell_type": "code",
   "execution_count": 199,
   "metadata": {
    "execution": {
     "iopub.execute_input": "2020-08-30T06:50:11.411947Z",
     "iopub.status.busy": "2020-08-30T06:50:11.410945Z",
     "iopub.status.idle": "2020-08-30T06:50:11.433945Z",
     "shell.execute_reply": "2020-08-30T06:50:11.431943Z",
     "shell.execute_reply.started": "2020-08-30T06:50:11.411947Z"
    }
   },
   "outputs": [
    {
     "data": {
      "text/plain": [
       "['apple', 'cherry', 'dates', 'pineapple', 'tomato', 'guava', 'dates', 'banana']"
      ]
     },
     "execution_count": 199,
     "metadata": {},
     "output_type": "execute_result"
    }
   ],
   "source": [
    "more_fruits"
   ]
  },
  {
   "cell_type": "code",
   "execution_count": 200,
   "metadata": {
    "execution": {
     "iopub.execute_input": "2020-08-30T06:50:20.345944Z",
     "iopub.status.busy": "2020-08-30T06:50:20.344946Z",
     "iopub.status.idle": "2020-08-30T06:50:20.358944Z",
     "shell.execute_reply": "2020-08-30T06:50:20.356944Z",
     "shell.execute_reply.started": "2020-08-30T06:50:20.345944Z"
    }
   },
   "outputs": [],
   "source": [
    "more_fruits_not_a_copy = more_fruits"
   ]
  },
  {
   "cell_type": "code",
   "execution_count": 201,
   "metadata": {
    "execution": {
     "iopub.execute_input": "2020-08-30T06:50:34.500964Z",
     "iopub.status.busy": "2020-08-30T06:50:34.499964Z",
     "iopub.status.idle": "2020-08-30T06:50:34.520965Z",
     "shell.execute_reply": "2020-08-30T06:50:34.518965Z",
     "shell.execute_reply.started": "2020-08-30T06:50:34.500964Z"
    }
   },
   "outputs": [
    {
     "data": {
      "text/plain": [
       "'banana'"
      ]
     },
     "execution_count": 201,
     "metadata": {},
     "output_type": "execute_result"
    }
   ],
   "source": [
    "more_fruits_not_a_copy.remove('pineapple')\n",
    "more_fruits_not_a_copy.pop()"
   ]
  },
  {
   "cell_type": "code",
   "execution_count": 202,
   "metadata": {
    "execution": {
     "iopub.execute_input": "2020-08-30T06:50:45.099864Z",
     "iopub.status.busy": "2020-08-30T06:50:45.099864Z",
     "iopub.status.idle": "2020-08-30T06:50:45.114819Z",
     "shell.execute_reply": "2020-08-30T06:50:45.112819Z",
     "shell.execute_reply.started": "2020-08-30T06:50:45.099864Z"
    }
   },
   "outputs": [
    {
     "data": {
      "text/plain": [
       "['apple', 'cherry', 'dates', 'tomato', 'guava', 'dates']"
      ]
     },
     "execution_count": 202,
     "metadata": {},
     "output_type": "execute_result"
    }
   ],
   "source": [
    "more_fruits_not_a_copy"
   ]
  },
  {
   "cell_type": "code",
   "execution_count": 203,
   "metadata": {
    "execution": {
     "iopub.execute_input": "2020-08-30T06:50:50.337357Z",
     "iopub.status.busy": "2020-08-30T06:50:50.336354Z",
     "iopub.status.idle": "2020-08-30T06:50:50.351356Z",
     "shell.execute_reply": "2020-08-30T06:50:50.349354Z",
     "shell.execute_reply.started": "2020-08-30T06:50:50.337357Z"
    }
   },
   "outputs": [
    {
     "data": {
      "text/plain": [
       "['apple', 'cherry', 'dates', 'tomato', 'guava', 'dates']"
      ]
     },
     "execution_count": 203,
     "metadata": {},
     "output_type": "execute_result"
    }
   ],
   "source": [
    "more_fruits"
   ]
  },
  {
   "cell_type": "markdown",
   "metadata": {},
   "source": [
    "Just like strings, there are several in-built methods to manipulate a list. Unlike strings, however, most list methods modify the original list, rather than returning a new one. Check out some common list operations here: https://www.w3schools.com/python/python_ref_list.asp\n",
    "\n",
    "\n",
    "Following are some exercises you can try out with list methods (use the blank code cells below):\n",
    "\n",
    "* Reverse the order of elements in a list\n",
    "* Add the elements of one list to the end of another list\n",
    "* Sort a list of strings in alphabetical order\n",
    "* Sort a list of numbers in decreasing order"
   ]
  },
  {
   "cell_type": "code",
   "execution_count": 204,
   "metadata": {
    "execution": {
     "iopub.execute_input": "2020-08-30T06:52:28.099334Z",
     "iopub.status.busy": "2020-08-30T06:52:28.099334Z",
     "iopub.status.idle": "2020-08-30T06:52:28.117336Z",
     "shell.execute_reply": "2020-08-30T06:52:28.115335Z",
     "shell.execute_reply.started": "2020-08-30T06:52:28.099334Z"
    }
   },
   "outputs": [],
   "source": [
    "more_fruits.reverse()"
   ]
  },
  {
   "cell_type": "code",
   "execution_count": 206,
   "metadata": {
    "execution": {
     "iopub.execute_input": "2020-08-30T06:52:50.915644Z",
     "iopub.status.busy": "2020-08-30T06:52:50.915644Z",
     "iopub.status.idle": "2020-08-30T06:52:50.929645Z",
     "shell.execute_reply": "2020-08-30T06:52:50.928644Z",
     "shell.execute_reply.started": "2020-08-30T06:52:50.915644Z"
    }
   },
   "outputs": [
    {
     "data": {
      "text/plain": [
       "['dates', 'guava', 'tomato', 'dates', 'cherry', 'apple']"
      ]
     },
     "execution_count": 206,
     "metadata": {},
     "output_type": "execute_result"
    }
   ],
   "source": [
    "more_fruits"
   ]
  },
  {
   "cell_type": "code",
   "execution_count": 208,
   "metadata": {
    "execution": {
     "iopub.execute_input": "2020-08-30T06:55:22.701436Z",
     "iopub.status.busy": "2020-08-30T06:55:22.701436Z",
     "iopub.status.idle": "2020-08-30T06:55:22.725434Z",
     "shell.execute_reply": "2020-08-30T06:55:22.723438Z",
     "shell.execute_reply.started": "2020-08-30T06:55:22.701436Z"
    }
   },
   "outputs": [
    {
     "data": {
      "text/plain": [
       "['dates',\n",
       " 'guava',\n",
       " 'tomato',\n",
       " 'dates',\n",
       " 'cherry',\n",
       " 'apple',\n",
       " 'apple',\n",
       " 'cherry',\n",
       " 'dates']"
      ]
     },
     "execution_count": 208,
     "metadata": {},
     "output_type": "execute_result"
    }
   ],
   "source": [
    "more_fruits.extend(fruits)\n",
    "more_fruits"
   ]
  },
  {
   "cell_type": "code",
   "execution_count": 209,
   "metadata": {
    "execution": {
     "iopub.execute_input": "2020-08-30T06:56:35.343541Z",
     "iopub.status.busy": "2020-08-30T06:56:35.342539Z",
     "iopub.status.idle": "2020-08-30T06:56:35.358541Z",
     "shell.execute_reply": "2020-08-30T06:56:35.356544Z",
     "shell.execute_reply.started": "2020-08-30T06:56:35.343541Z"
    }
   },
   "outputs": [
    {
     "data": {
      "text/plain": [
       "['apple',\n",
       " 'apple',\n",
       " 'cherry',\n",
       " 'cherry',\n",
       " 'dates',\n",
       " 'dates',\n",
       " 'dates',\n",
       " 'guava',\n",
       " 'tomato']"
      ]
     },
     "execution_count": 209,
     "metadata": {},
     "output_type": "execute_result"
    }
   ],
   "source": [
    "more_fruits.sort()\n",
    "more_fruits"
   ]
  },
  {
   "cell_type": "code",
   "execution_count": 210,
   "metadata": {
    "execution": {
     "iopub.execute_input": "2020-08-30T06:57:48.392932Z",
     "iopub.status.busy": "2020-08-30T06:57:48.391929Z",
     "iopub.status.idle": "2020-08-30T06:57:48.406932Z",
     "shell.execute_reply": "2020-08-30T06:57:48.404932Z",
     "shell.execute_reply.started": "2020-08-30T06:57:48.392932Z"
    }
   },
   "outputs": [
    {
     "data": {
      "text/plain": [
       "['tomato',\n",
       " 'guava',\n",
       " 'dates',\n",
       " 'dates',\n",
       " 'dates',\n",
       " 'cherry',\n",
       " 'cherry',\n",
       " 'apple',\n",
       " 'apple']"
      ]
     },
     "execution_count": 210,
     "metadata": {},
     "output_type": "execute_result"
    }
   ],
   "source": [
    "more_fruits.sort(reverse=True)\n",
    "more_fruits"
   ]
  },
  {
   "cell_type": "markdown",
   "metadata": {},
   "source": [
    "### Tuple\n",
    "\n",
    "A tuple is an ordered collection of values, similar to a list, however it is not possible to add, remove or modify values in a tuple. A tuple is created by enclosing values within parantheses `(` and `)`, separated by commas.\n",
    "\n",
    "> Any data structure that cannot be modified after creation is called *immutable*. You can think of tuples as immutable lists.\n",
    "\n",
    "Let's try some experiments with tuples."
   ]
  },
  {
   "cell_type": "markdown",
   "metadata": {},
   "source": [
    "**Reanudar el video en 31:30.**"
   ]
  },
  {
   "cell_type": "code",
   "execution_count": null,
   "metadata": {},
   "outputs": [],
   "source": [
    "fruits = ('apple', 'cherry', 'dates')"
   ]
  },
  {
   "cell_type": "code",
   "execution_count": null,
   "metadata": {},
   "outputs": [],
   "source": [
    "# check no. of elements\n",
    "len(fruits)"
   ]
  },
  {
   "cell_type": "code",
   "execution_count": null,
   "metadata": {},
   "outputs": [],
   "source": [
    "# get an element (positive index)\n",
    "fruits[0]"
   ]
  },
  {
   "cell_type": "code",
   "execution_count": null,
   "metadata": {},
   "outputs": [],
   "source": [
    "# get an element (negative index)\n",
    "fruits[-2]"
   ]
  },
  {
   "cell_type": "code",
   "execution_count": null,
   "metadata": {},
   "outputs": [],
   "source": [
    "# check if it contains an element\n",
    "'dates' in fruits"
   ]
  },
  {
   "cell_type": "code",
   "execution_count": null,
   "metadata": {},
   "outputs": [],
   "source": [
    "# try to change an element\n",
    "fruits[0] = 'avocado'"
   ]
  },
  {
   "cell_type": "code",
   "execution_count": null,
   "metadata": {},
   "outputs": [],
   "source": [
    "# try to append an element\n",
    "fruits.append('blueberry')"
   ]
  },
  {
   "cell_type": "code",
   "execution_count": null,
   "metadata": {},
   "outputs": [],
   "source": [
    "# try to remove an element\n",
    "fruits.remove('apple')"
   ]
  },
  {
   "cell_type": "markdown",
   "metadata": {},
   "source": [
    "You can also skip the parantheses `(` and `)` while creating a tuple. Python automatically converts comma-separated values into a tuple."
   ]
  },
  {
   "cell_type": "code",
   "execution_count": null,
   "metadata": {},
   "outputs": [],
   "source": [
    "the_3_musketeers = 'Athos', 'Porthos', 'Aramis'"
   ]
  },
  {
   "cell_type": "code",
   "execution_count": null,
   "metadata": {},
   "outputs": [],
   "source": [
    "the_3_musketeers"
   ]
  },
  {
   "cell_type": "markdown",
   "metadata": {},
   "source": [
    "You can also create a tuple with just one element, if you include a comma after the element. Just wrapping it with parantheses `(` and `)` won't create a tuple."
   ]
  },
  {
   "cell_type": "code",
   "execution_count": null,
   "metadata": {},
   "outputs": [],
   "source": [
    "single_element_tuple = 4,"
   ]
  },
  {
   "cell_type": "code",
   "execution_count": null,
   "metadata": {},
   "outputs": [],
   "source": [
    "single_element_tuple"
   ]
  },
  {
   "cell_type": "code",
   "execution_count": null,
   "metadata": {},
   "outputs": [],
   "source": [
    "another_single_element_tuple = (4,)"
   ]
  },
  {
   "cell_type": "code",
   "execution_count": null,
   "metadata": {},
   "outputs": [],
   "source": [
    "another_single_element_tuple"
   ]
  },
  {
   "cell_type": "code",
   "execution_count": null,
   "metadata": {},
   "outputs": [],
   "source": [
    "not_a_tuple = (4)"
   ]
  },
  {
   "cell_type": "code",
   "execution_count": null,
   "metadata": {},
   "outputs": [],
   "source": [
    "not_a_tuple"
   ]
  },
  {
   "cell_type": "markdown",
   "metadata": {},
   "source": [
    "Tuples are often used to create multiple variables with a single statement."
   ]
  },
  {
   "cell_type": "code",
   "execution_count": null,
   "metadata": {},
   "outputs": [],
   "source": [
    "point = (3, 4)"
   ]
  },
  {
   "cell_type": "code",
   "execution_count": null,
   "metadata": {},
   "outputs": [],
   "source": [
    "point_x, point_y = point"
   ]
  },
  {
   "cell_type": "code",
   "execution_count": null,
   "metadata": {},
   "outputs": [],
   "source": [
    "point_x"
   ]
  },
  {
   "cell_type": "code",
   "execution_count": null,
   "metadata": {},
   "outputs": [],
   "source": [
    "point_y"
   ]
  },
  {
   "cell_type": "markdown",
   "metadata": {},
   "source": [
    "You can convert a list into a tuple using the `tuple` function, and vice versa using the `list` function"
   ]
  },
  {
   "cell_type": "code",
   "execution_count": null,
   "metadata": {},
   "outputs": [],
   "source": [
    "tuple(['one', 'two', 'three'])"
   ]
  },
  {
   "cell_type": "code",
   "execution_count": null,
   "metadata": {},
   "outputs": [],
   "source": [
    "list(('Athos', 'Porthos', 'Aramis'))"
   ]
  },
  {
   "cell_type": "markdown",
   "metadata": {},
   "source": [
    "Tuples have just 2 built-in methods: `count` and `index`. Can you figure out what they do? While look could look for documentation and examples online, there's an easier way to check the documentation of a method, using the `help` function."
   ]
  },
  {
   "cell_type": "code",
   "execution_count": null,
   "metadata": {},
   "outputs": [],
   "source": [
    "a_tuple = 23, \"hello\", False, None, 23, 37, \"hello\""
   ]
  },
  {
   "cell_type": "code",
   "execution_count": null,
   "metadata": {},
   "outputs": [],
   "source": [
    "help(a_tuple.count)"
   ]
  },
  {
   "cell_type": "markdown",
   "metadata": {},
   "source": [
    "Within a Jupyter notebook, you can also start a code cell with `?` and type the name of a function or method. When you execute this cell, you will see the documentation for the function/method in a pop-up window."
   ]
  },
  {
   "cell_type": "code",
   "execution_count": null,
   "metadata": {},
   "outputs": [],
   "source": [
    "?a_tuple.index"
   ]
  },
  {
   "cell_type": "markdown",
   "metadata": {},
   "source": [
    "Try using `count` and `index` with `a_tuple` in the code cells below."
   ]
  },
  {
   "cell_type": "code",
   "execution_count": null,
   "metadata": {},
   "outputs": [],
   "source": []
  },
  {
   "cell_type": "code",
   "execution_count": null,
   "metadata": {},
   "outputs": [],
   "source": []
  },
  {
   "cell_type": "markdown",
   "metadata": {},
   "source": [
    "### Dictionary\n",
    "\n",
    "A dictionary is an unordered collection of items. Each item stored in a dictionary has a key and value. Keys are used to retrieve values from the dictionary. Dictionaries have the type `dict`.\n",
    "\n",
    "Dictionaries are often used to store many pieces of information e.g. details about a person, in a single variable. Dictionaries are created by enclosing key-value pairs within curly brackets `{` and `}`."
   ]
  },
  {
   "cell_type": "code",
   "execution_count": null,
   "metadata": {},
   "outputs": [],
   "source": [
    "person1 = {\n",
    "    'name': 'John Doe',\n",
    "    'sex': 'Male',\n",
    "    'age': 32,\n",
    "    'married': True\n",
    "}"
   ]
  },
  {
   "cell_type": "code",
   "execution_count": null,
   "metadata": {},
   "outputs": [],
   "source": [
    "person1"
   ]
  },
  {
   "cell_type": "markdown",
   "metadata": {},
   "source": [
    "Dictionaries can also be created using the `dict` function."
   ]
  },
  {
   "cell_type": "code",
   "execution_count": null,
   "metadata": {},
   "outputs": [],
   "source": [
    "person2 = dict(name='Jane Judy', sex='Female', age=28, married=False)"
   ]
  },
  {
   "cell_type": "code",
   "execution_count": null,
   "metadata": {},
   "outputs": [],
   "source": [
    "person2"
   ]
  },
  {
   "cell_type": "code",
   "execution_count": null,
   "metadata": {},
   "outputs": [],
   "source": [
    "type(person1)"
   ]
  },
  {
   "cell_type": "markdown",
   "metadata": {},
   "source": [
    "Keys can be used to access values using square brackets `[` and `]`."
   ]
  },
  {
   "cell_type": "code",
   "execution_count": null,
   "metadata": {},
   "outputs": [],
   "source": [
    "person1['name']"
   ]
  },
  {
   "cell_type": "code",
   "execution_count": null,
   "metadata": {},
   "outputs": [],
   "source": [
    "person1['married']"
   ]
  },
  {
   "cell_type": "code",
   "execution_count": null,
   "metadata": {},
   "outputs": [],
   "source": [
    "person2['name']"
   ]
  },
  {
   "cell_type": "markdown",
   "metadata": {},
   "source": [
    "If a key isn't present in the dictionary, then a `KeyError` is returned."
   ]
  },
  {
   "cell_type": "code",
   "execution_count": null,
   "metadata": {},
   "outputs": [],
   "source": [
    "person1['address']"
   ]
  },
  {
   "cell_type": "markdown",
   "metadata": {},
   "source": [
    "The `get` method can also be used to access the value associated with a key."
   ]
  },
  {
   "cell_type": "code",
   "execution_count": null,
   "metadata": {},
   "outputs": [],
   "source": [
    "person2.get(\"name\")"
   ]
  },
  {
   "cell_type": "markdown",
   "metadata": {},
   "source": [
    "The `get` method also accepts a default value which is returned if the key is not present in the dictionary."
   ]
  },
  {
   "cell_type": "code",
   "execution_count": null,
   "metadata": {},
   "outputs": [],
   "source": [
    "person2.get(\"address\", \"Unknown\")"
   ]
  },
  {
   "cell_type": "markdown",
   "metadata": {},
   "source": [
    "You can check whether a key is present in a dictionary using the `in` operator."
   ]
  },
  {
   "cell_type": "code",
   "execution_count": null,
   "metadata": {},
   "outputs": [],
   "source": [
    "'name' in person1"
   ]
  },
  {
   "cell_type": "code",
   "execution_count": null,
   "metadata": {},
   "outputs": [],
   "source": [
    "'address' in person1"
   ]
  },
  {
   "cell_type": "markdown",
   "metadata": {},
   "source": [
    "You can change the value associated with a key using the assignment operator."
   ]
  },
  {
   "cell_type": "code",
   "execution_count": null,
   "metadata": {},
   "outputs": [],
   "source": [
    "person2['married']"
   ]
  },
  {
   "cell_type": "code",
   "execution_count": null,
   "metadata": {},
   "outputs": [],
   "source": [
    "person2['married'] = True"
   ]
  },
  {
   "cell_type": "code",
   "execution_count": null,
   "metadata": {},
   "outputs": [],
   "source": [
    "person2['married']"
   ]
  },
  {
   "cell_type": "markdown",
   "metadata": {},
   "source": [
    "The assignment operator can also be used to add new key-value pairs to the dictonary."
   ]
  },
  {
   "cell_type": "code",
   "execution_count": null,
   "metadata": {},
   "outputs": [],
   "source": [
    "person1"
   ]
  },
  {
   "cell_type": "code",
   "execution_count": null,
   "metadata": {},
   "outputs": [],
   "source": [
    "person1['address'] = '1, Penny Lane'"
   ]
  },
  {
   "cell_type": "code",
   "execution_count": null,
   "metadata": {},
   "outputs": [],
   "source": [
    "person1"
   ]
  },
  {
   "cell_type": "markdown",
   "metadata": {},
   "source": [
    "To remove a key and the associated value from a dictionary, use the `pop` method."
   ]
  },
  {
   "cell_type": "code",
   "execution_count": null,
   "metadata": {},
   "outputs": [],
   "source": [
    "person1.pop('address')"
   ]
  },
  {
   "cell_type": "code",
   "execution_count": null,
   "metadata": {},
   "outputs": [],
   "source": [
    "person1"
   ]
  },
  {
   "cell_type": "markdown",
   "metadata": {},
   "source": [
    "Dictonaries also provide methods to view the list of keys, values or key-value pairs inside it."
   ]
  },
  {
   "cell_type": "code",
   "execution_count": null,
   "metadata": {},
   "outputs": [],
   "source": [
    "person1.keys()"
   ]
  },
  {
   "cell_type": "code",
   "execution_count": null,
   "metadata": {},
   "outputs": [],
   "source": [
    "person1.values()"
   ]
  },
  {
   "cell_type": "code",
   "execution_count": null,
   "metadata": {},
   "outputs": [],
   "source": [
    "person1.items()"
   ]
  },
  {
   "cell_type": "code",
   "execution_count": null,
   "metadata": {},
   "outputs": [],
   "source": [
    "person1.items()[1]"
   ]
  },
  {
   "cell_type": "markdown",
   "metadata": {},
   "source": [
    "The result of the `keys`, `values` or `items` look like lists but don't seem to support the indexing operator `[]` for retrieving elements. \n",
    "\n",
    "Can you figure out how to access an element at a specific index from these results? Try it below. *Hint: Use the `list` function*"
   ]
  },
  {
   "cell_type": "code",
   "execution_count": null,
   "metadata": {},
   "outputs": [],
   "source": []
  },
  {
   "cell_type": "code",
   "execution_count": null,
   "metadata": {},
   "outputs": [],
   "source": []
  },
  {
   "cell_type": "markdown",
   "metadata": {},
   "source": [
    "Dictionaries provide many other methods. You can learn more about them here: https://www.w3schools.com/python/python_ref_dictionary.asp\n",
    "\n",
    "Here are some experiments you can try out with dictionaries (use the empty cells below):\n",
    "* What happens if you use the same key multiple times while creating a dictionary?\n",
    "* How can you create a copy of a dictionary (modifying the copy should not change the original)?\n",
    "* Can the value associated with a key itself be a dictionary?\n",
    "* How can you add the key value pairs from one dictionary into another dictionary? Hint: See the `update` method.\n",
    "* Can the keys of a dictionary be something other than a string e.g. a number, boolean, list etc.?"
   ]
  },
  {
   "cell_type": "code",
   "execution_count": null,
   "metadata": {},
   "outputs": [],
   "source": []
  },
  {
   "cell_type": "code",
   "execution_count": null,
   "metadata": {},
   "outputs": [],
   "source": []
  },
  {
   "cell_type": "code",
   "execution_count": null,
   "metadata": {},
   "outputs": [],
   "source": []
  },
  {
   "cell_type": "code",
   "execution_count": null,
   "metadata": {},
   "outputs": [],
   "source": []
  },
  {
   "cell_type": "code",
   "execution_count": null,
   "metadata": {},
   "outputs": [],
   "source": []
  },
  {
   "cell_type": "markdown",
   "metadata": {},
   "source": [
    "## Further Reading\n",
    "\n",
    "We've now completed our exploration of variables and common data types in Python. Following are some resources to learn more about data types in Python:\n",
    "\n",
    "* Python official documentation: https://docs.python.org/3/tutorial/index.html\n",
    "* Python Tutorial at W3Schools: https://www.w3schools.com/python/\n",
    "* Practical Python Programming: https://dabeaz-course.github.io/practical-python/Notes/Contents.html\n",
    "\n",
    "You are now ready to move on to the next tutorial: [Branching using conditional statements and loops in Python](https://jovian.ml/aakashns/python-branching-and-loops)"
   ]
  },
  {
   "cell_type": "markdown",
   "metadata": {},
   "source": [
    "Let's save a snapshot of our notebook one final time using `jovian.commit`."
   ]
  },
  {
   "cell_type": "code",
   "execution_count": null,
   "metadata": {},
   "outputs": [],
   "source": [
    "jovian.commit()"
   ]
  },
  {
   "cell_type": "code",
   "execution_count": null,
   "metadata": {},
   "outputs": [],
   "source": []
  }
 ],
 "metadata": {
  "kernelspec": {
   "display_name": "Python 3",
   "language": "python",
   "name": "python3"
  },
  "language_info": {
   "codemirror_mode": {
    "name": "ipython",
    "version": 3
   },
   "file_extension": ".py",
   "mimetype": "text/x-python",
   "name": "python",
   "nbconvert_exporter": "python",
   "pygments_lexer": "ipython3",
   "version": "3.8.5"
  }
 },
 "nbformat": 4,
 "nbformat_minor": 4
}
