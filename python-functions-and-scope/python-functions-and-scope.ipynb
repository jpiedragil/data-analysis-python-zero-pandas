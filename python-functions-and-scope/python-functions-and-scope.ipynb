{
 "cells": [
  {
   "cell_type": "markdown",
   "metadata": {},
   "source": [
    "# Writing Reusable Code Using Functions in Python\n",
    "\n",
    "### Part 4 of \"A Gentle Introduction to Programming with Python\"\n",
    "\n",
    "This tutorial is the fourth in a series on introduction to programming using the Python language. These tutorials take a practical coding-based approach, and the best way to learn the material is to execute the code and experiment with the examples. Check out the full series here: \n",
    "\n",
    "1. [First Steps with Python and Jupyter](https://jovian.ml/aakashns/first-steps-with-python)\n",
    "2. [A Quick Tour of Variables and Data Types](https://jovian.ml/aakashns/python-variables-and-data-types)\n",
    "3. [Branching using Conditional Statements and Loops](https://jovian.ml/aakashns/python-branching-and-loops)\n",
    "4. [Writing Reusable Code Using Functions](https://jovian.ml/aakashns/python-functions-and-scope)\n",
    "5. [Reading from and Writing to Files](https://jovian.ml/aakashns/python-os-and-filesystem)\n",
    "6. [Object Oriented Programming with Classes](https://jovian.ml/aakashns/python-object-oriented-programming)\n",
    "\n"
   ]
  },
  {
   "cell_type": "markdown",
   "metadata": {},
   "source": [
    "## How to run the code\n",
    "\n",
    "This tutorial hosted on [Jovian.ml](https://www.jovian.ml), a platform for sharing data science projects online. You can \"run\" this tutorial and experiment with the code examples in a couple of ways: *using free online resources* (recommended) or *on your own computer*.\n",
    "\n",
    ">  This tutorial is a [Jupyter notebook](https://jupyter.org) - a document made of \"cells\", which can contain explanations in text or code written in Python. Code cells can be executed and their outputs e.g. numbers, messages, graphs, tables, files etc. can be viewed within the notebook, which makes it a really powerful platform for experimentation and analysis. Don't afraid to experiment with the code & break things - you'll learn a lot by encoutering and fixing errors. You can use the \"Kernel > Restart & Clear Output\" menu option to clear all outputs and start again from the top of the notebook.\n",
    "\n",
    "### Option 1: Running using free online resources (1-click, recommended)\n",
    "\n",
    "The easiest way to start executing this notebook is to click the \"Run\" button at the top of this page, and select \"Run on Binder\". This will run the notebook on [mybinder.org](https://mybinder.org), a free online service for running Jupyter notebooks. You can also select \"Run on Colab\" or \"Run on Kaggle\", but you'll need to create an account on [Google Colab](https://colab.research.google.com) or [Kaggle](https://kaggle.com) to use these platforms.\n",
    "\n",
    "\n",
    "### Option 2: Running on your computer locally\n",
    "\n",
    "You'll need to install Python and download this notebook on your computer to run in locally. We recommend using the [Conda](https://docs.conda.io/en/latest/) distribution of Python. Here's what you need to do to get started:\n",
    "\n",
    "1. Install Conda by [following these instructions](https://conda.io/projects/conda/en/latest/user-guide/install/index.html). Make sure to add Conda binaries to your system `PATH` to be able to run the `conda` command line tool from your Mac/Linux terminal or Windows command prompt. \n",
    "\n",
    "\n",
    "2. Create and activate a [Conda virtual environment](https://docs.conda.io/projects/conda/en/latest/user-guide/tasks/manage-environments.html) called `intro-to-python` which you can use for this tutorial series:\n",
    "```\n",
    "conda create -n intro-to-python -y python=3.8 \n",
    "conda activate intro-to-python\n",
    "```\n",
    "You'll need to create the environment only once, but you'll have to activate it every time want to run the notebook. When the environment is activated, you should be able to see a prefix `(intro-to-python)` within your terminal or command prompt.\n",
    "\n",
    "\n",
    "3. Install the required Python libraries within the environmebt by the running the following command on your  terminal or command prompt:\n",
    "```\n",
    "pip install jovian jupyter numpy pandas matplotlib seaborn --upgrade\n",
    "```\n",
    "\n",
    "4. Download the notebook for this tutorial using the `jovian clone` command:\n",
    "```\n",
    "jovian clone aakashns/python-functions-and-scope\n",
    "```\n",
    "The notebook is downloaded to the directory `python-functions-and-scope`.\n",
    "\n",
    "\n",
    "5. Enter the project directory and start the Jupyter notebook:\n",
    "```\n",
    "cd python-functions-and-scope\n",
    "jupyter notebook\n",
    "```\n",
    "\n",
    "6. You can now access Jupyter's web interface by clicking the link that shows up on the terminal or by visiting http://localhost:8888 on your browser. Click on the notebook `python-functions-and-scope.ipynb` to open it and run the code. If you want to type out the code yourself, you can also create a new notebook using the \"New\" button.\n",
    "\n"
   ]
  },
  {
   "cell_type": "markdown",
   "metadata": {},
   "source": [
    "## Creating and using functions\n",
    "\n",
    "A function is a reusable set of instructions. A function takes one or more inputs, performs certain operations, and often returns an output. Python provides many in-built functions like `print`, and also allows you to define your own functions."
   ]
  },
  {
   "cell_type": "code",
   "execution_count": 1,
   "metadata": {
    "execution": {
     "iopub.execute_input": "2020-08-31T04:06:47.057857Z",
     "iopub.status.busy": "2020-08-31T04:06:47.056857Z",
     "iopub.status.idle": "2020-08-31T04:06:47.072856Z",
     "shell.execute_reply": "2020-08-31T04:06:47.071855Z",
     "shell.execute_reply.started": "2020-08-31T04:06:47.056857Z"
    }
   },
   "outputs": [
    {
     "name": "stdout",
     "output_type": "stream",
     "text": [
      "Today is Saturday\n"
     ]
    }
   ],
   "source": [
    "today = \"Saturday\"\n",
    "print(\"Today is\", today)"
   ]
  },
  {
   "cell_type": "markdown",
   "metadata": {},
   "source": [
    "You can define a new function using the `def` keyword."
   ]
  },
  {
   "cell_type": "code",
   "execution_count": 2,
   "metadata": {
    "execution": {
     "iopub.execute_input": "2020-08-31T04:06:50.664616Z",
     "iopub.status.busy": "2020-08-31T04:06:50.664616Z",
     "iopub.status.idle": "2020-08-31T04:06:50.675618Z",
     "shell.execute_reply": "2020-08-31T04:06:50.673618Z",
     "shell.execute_reply.started": "2020-08-31T04:06:50.664616Z"
    }
   },
   "outputs": [],
   "source": [
    "def say_hello():\n",
    "    print('Hello there!')\n",
    "    print('How are you?')"
   ]
  },
  {
   "cell_type": "markdown",
   "metadata": {},
   "source": [
    "Note the round brackets or parantheses `()` and colon `:` after the function's name. Both are essential parts of the syntax for defining a function. The *body* of the function can contain one or more statements which are to be executed when the function is called. Simlar to conditional statements and loops, the statements must be indented by 4 spaces.\n",
    "\n",
    "The statements inside a function's body are not executed when a function is defined. To execute the statements, we need to *call* or *invoke* the function."
   ]
  },
  {
   "cell_type": "code",
   "execution_count": 3,
   "metadata": {
    "execution": {
     "iopub.execute_input": "2020-08-31T04:06:52.704627Z",
     "iopub.status.busy": "2020-08-31T04:06:52.703627Z",
     "iopub.status.idle": "2020-08-31T04:06:52.723629Z",
     "shell.execute_reply": "2020-08-31T04:06:52.722626Z",
     "shell.execute_reply.started": "2020-08-31T04:06:52.704627Z"
    }
   },
   "outputs": [
    {
     "name": "stdout",
     "output_type": "stream",
     "text": [
      "Hello there!\n",
      "How are you?\n"
     ]
    }
   ],
   "source": [
    "say_hello()"
   ]
  },
  {
   "cell_type": "markdown",
   "metadata": {},
   "source": [
    "### Function arguments\n",
    "\n",
    "Functions can also accept one or more values as *inputs* (also knows as *arguments* or *parameters*). Arguments help us write flexible functions which can perform the same operation on different values. Further, functions can also return a value as a result using the `return` keyword, which can be stored in a variable or used in other expressions.\n",
    "\n",
    "Here's a function that filters out the even numbers from a list."
   ]
  },
  {
   "cell_type": "code",
   "execution_count": 4,
   "metadata": {
    "execution": {
     "iopub.execute_input": "2020-08-31T04:07:05.397138Z",
     "iopub.status.busy": "2020-08-31T04:07:05.396138Z",
     "iopub.status.idle": "2020-08-31T04:07:05.410137Z",
     "shell.execute_reply": "2020-08-31T04:07:05.408137Z",
     "shell.execute_reply.started": "2020-08-31T04:07:05.397138Z"
    }
   },
   "outputs": [],
   "source": [
    "def filter_even(number_list):\n",
    "    result_list = []\n",
    "    for number in number_list:\n",
    "        if number % 2 == 0:\n",
    "            result_list.append(number)\n",
    "    return result_list"
   ]
  },
  {
   "cell_type": "markdown",
   "metadata": {},
   "source": [
    "Can you understand what the function does by looking at the code? If not, try to execute each line of the function within a code cell with a list of numbers as `number_list`."
   ]
  },
  {
   "cell_type": "code",
   "execution_count": 5,
   "metadata": {
    "execution": {
     "iopub.execute_input": "2020-08-31T04:07:08.088932Z",
     "iopub.status.busy": "2020-08-31T04:07:08.088932Z",
     "iopub.status.idle": "2020-08-31T04:07:08.101933Z",
     "shell.execute_reply": "2020-08-31T04:07:08.100937Z",
     "shell.execute_reply.started": "2020-08-31T04:07:08.088932Z"
    }
   },
   "outputs": [],
   "source": [
    "even_list = filter_even([1, 2, 3, 4, 5, 6, 7])"
   ]
  },
  {
   "cell_type": "code",
   "execution_count": 6,
   "metadata": {
    "execution": {
     "iopub.execute_input": "2020-08-31T04:07:08.721277Z",
     "iopub.status.busy": "2020-08-31T04:07:08.720276Z",
     "iopub.status.idle": "2020-08-31T04:07:08.748275Z",
     "shell.execute_reply": "2020-08-31T04:07:08.746271Z",
     "shell.execute_reply.started": "2020-08-31T04:07:08.721277Z"
    }
   },
   "outputs": [
    {
     "data": {
      "text/plain": [
       "[2, 4, 6]"
      ]
     },
     "execution_count": 6,
     "metadata": {},
     "output_type": "execute_result"
    }
   ],
   "source": [
    "even_list"
   ]
  },
  {
   "cell_type": "markdown",
   "metadata": {},
   "source": [
    "## Writing great functions in Python\n",
    "\n",
    "As a programmer, you will spend most of your time writing and using functions, and Python offers many features to make your functions powerful and flexible. Let's explore some of these by solving a problem:\n",
    "\n",
    "> Radha is planning to buy a house that costs `$1,260,000`. She considering two options to finance her purchase:\n",
    ">\n",
    "> * Option 1: Make an immediate down payment of `$300,000`, and take loan 8-year loan with an interest rate of 10% (compounded monthly) for the remaining amount.\n",
    "> * Option 2: Take a 10-year loan with an interest rate of 8% (compounded monthly) for the entire amount.\n",
    ">\n",
    "> Both these loans have to paid back in equal monthly installments (EMIs). Which loan has a lower EMI among the two?\n",
    "\n",
    "\n",
    "Since we need to compare the EMIs for two loan options, it might be helpful to define a function to calculate the EMI for a loan, given inputs like the cost of the house, the down payment, duration of the loan, rate of interest etc. We'll build this function step by step.\n",
    "\n",
    "To begin, let's write a simple function that calculates the EMI on the entire cost of the house, assuming that the loan has to be paid back in one year, and there is no interest or down payment."
   ]
  },
  {
   "cell_type": "code",
   "execution_count": 7,
   "metadata": {
    "execution": {
     "iopub.execute_input": "2020-08-31T04:07:39.534297Z",
     "iopub.status.busy": "2020-08-31T04:07:39.534297Z",
     "iopub.status.idle": "2020-08-31T04:07:39.552296Z",
     "shell.execute_reply": "2020-08-31T04:07:39.551293Z",
     "shell.execute_reply.started": "2020-08-31T04:07:39.534297Z"
    }
   },
   "outputs": [],
   "source": [
    "def loan_emi(amount):\n",
    "    emi = amount / 12\n",
    "    print('The EMI is ${}'.format(emi))"
   ]
  },
  {
   "cell_type": "code",
   "execution_count": 8,
   "metadata": {
    "execution": {
     "iopub.execute_input": "2020-08-31T04:07:42.770546Z",
     "iopub.status.busy": "2020-08-31T04:07:42.769537Z",
     "iopub.status.idle": "2020-08-31T04:07:42.785536Z",
     "shell.execute_reply": "2020-08-31T04:07:42.784536Z",
     "shell.execute_reply.started": "2020-08-31T04:07:42.770546Z"
    }
   },
   "outputs": [
    {
     "name": "stdout",
     "output_type": "stream",
     "text": [
      "The EMI is $105000.0\n"
     ]
    }
   ],
   "source": [
    "loan_emi(1260000)"
   ]
  },
  {
   "cell_type": "markdown",
   "metadata": {},
   "source": [
    "### Local variables and scope\n",
    "\n",
    "Let's add a second argument to account for the duration of the loan, in months."
   ]
  },
  {
   "cell_type": "code",
   "execution_count": 9,
   "metadata": {
    "execution": {
     "iopub.execute_input": "2020-08-31T04:07:51.670352Z",
     "iopub.status.busy": "2020-08-31T04:07:51.670352Z",
     "iopub.status.idle": "2020-08-31T04:07:51.685351Z",
     "shell.execute_reply": "2020-08-31T04:07:51.684350Z",
     "shell.execute_reply.started": "2020-08-31T04:07:51.670352Z"
    }
   },
   "outputs": [],
   "source": [
    "def loan_emi(amount, duration):\n",
    "    emi = amount / duration\n",
    "    print('The EMI is ${}'.format(emi))"
   ]
  },
  {
   "cell_type": "markdown",
   "metadata": {},
   "source": [
    "Note that the variable `emi` defined inside the function is not accessible outside the function. The same is true for the parameters `amount` and `duration`. These are all *local variables* that lie within the *scope* of the function.\n",
    "\n",
    "> **Scope**: Scope refers to the region within the code where a certain variable is visible. Every function (or class definition) defines a scope within Python. Variables defined in this scope are called *local variables*. Variables that are available everywhere are called *global variables*. Scope rules allow you to use the same variable names in different functions without sharing values from one to the other. "
   ]
  },
  {
   "cell_type": "code",
   "execution_count": 10,
   "metadata": {
    "execution": {
     "iopub.execute_input": "2020-08-31T04:08:03.741474Z",
     "iopub.status.busy": "2020-08-31T04:08:03.741474Z",
     "iopub.status.idle": "2020-08-31T04:08:04.218471Z",
     "shell.execute_reply": "2020-08-31T04:08:04.217475Z",
     "shell.execute_reply.started": "2020-08-31T04:08:03.741474Z"
    }
   },
   "outputs": [
    {
     "ename": "NameError",
     "evalue": "name 'emi' is not defined",
     "output_type": "error",
     "traceback": [
      "\u001b[1;31m---------------------------------------------------------------------------\u001b[0m",
      "\u001b[1;31mNameError\u001b[0m                                 Traceback (most recent call last)",
      "\u001b[1;32m<ipython-input-10-e5795bfcf3c1>\u001b[0m in \u001b[0;36m<module>\u001b[1;34m\u001b[0m\n\u001b[1;32m----> 1\u001b[1;33m \u001b[0memi\u001b[0m\u001b[1;33m\u001b[0m\u001b[1;33m\u001b[0m\u001b[0m\n\u001b[0m",
      "\u001b[1;31mNameError\u001b[0m: name 'emi' is not defined"
     ]
    }
   ],
   "source": [
    "emi"
   ]
  },
  {
   "cell_type": "code",
   "execution_count": 11,
   "metadata": {
    "execution": {
     "iopub.execute_input": "2020-08-31T04:08:05.932809Z",
     "iopub.status.busy": "2020-08-31T04:08:05.931807Z",
     "iopub.status.idle": "2020-08-31T04:08:05.961808Z",
     "shell.execute_reply": "2020-08-31T04:08:05.959809Z",
     "shell.execute_reply.started": "2020-08-31T04:08:05.931807Z"
    }
   },
   "outputs": [
    {
     "ename": "NameError",
     "evalue": "name 'amount' is not defined",
     "output_type": "error",
     "traceback": [
      "\u001b[1;31m---------------------------------------------------------------------------\u001b[0m",
      "\u001b[1;31mNameError\u001b[0m                                 Traceback (most recent call last)",
      "\u001b[1;32m<ipython-input-11-9b8f90fabac0>\u001b[0m in \u001b[0;36m<module>\u001b[1;34m\u001b[0m\n\u001b[1;32m----> 1\u001b[1;33m \u001b[0mamount\u001b[0m\u001b[1;33m\u001b[0m\u001b[1;33m\u001b[0m\u001b[0m\n\u001b[0m",
      "\u001b[1;31mNameError\u001b[0m: name 'amount' is not defined"
     ]
    }
   ],
   "source": [
    "amount"
   ]
  },
  {
   "cell_type": "code",
   "execution_count": 12,
   "metadata": {
    "execution": {
     "iopub.execute_input": "2020-08-31T04:08:07.397629Z",
     "iopub.status.busy": "2020-08-31T04:08:07.397487Z",
     "iopub.status.idle": "2020-08-31T04:08:07.411629Z",
     "shell.execute_reply": "2020-08-31T04:08:07.409629Z",
     "shell.execute_reply.started": "2020-08-31T04:08:07.397629Z"
    }
   },
   "outputs": [
    {
     "ename": "NameError",
     "evalue": "name 'duration' is not defined",
     "output_type": "error",
     "traceback": [
      "\u001b[1;31m---------------------------------------------------------------------------\u001b[0m",
      "\u001b[1;31mNameError\u001b[0m                                 Traceback (most recent call last)",
      "\u001b[1;32m<ipython-input-12-5b6659652103>\u001b[0m in \u001b[0;36m<module>\u001b[1;34m\u001b[0m\n\u001b[1;32m----> 1\u001b[1;33m \u001b[0mduration\u001b[0m\u001b[1;33m\u001b[0m\u001b[1;33m\u001b[0m\u001b[0m\n\u001b[0m",
      "\u001b[1;31mNameError\u001b[0m: name 'duration' is not defined"
     ]
    }
   ],
   "source": [
    "duration"
   ]
  },
  {
   "cell_type": "markdown",
   "metadata": {},
   "source": [
    "We can now compare a 6-year loan vs. a 10-year loan (assuming no down payment or interest)."
   ]
  },
  {
   "cell_type": "code",
   "execution_count": 13,
   "metadata": {
    "execution": {
     "iopub.execute_input": "2020-08-31T04:08:43.152432Z",
     "iopub.status.busy": "2020-08-31T04:08:43.151430Z",
     "iopub.status.idle": "2020-08-31T04:08:43.161430Z",
     "shell.execute_reply": "2020-08-31T04:08:43.160430Z",
     "shell.execute_reply.started": "2020-08-31T04:08:43.152432Z"
    }
   },
   "outputs": [
    {
     "name": "stdout",
     "output_type": "stream",
     "text": [
      "The EMI is $13125.0\n"
     ]
    }
   ],
   "source": [
    "loan_emi(1260000, 8*12)"
   ]
  },
  {
   "cell_type": "code",
   "execution_count": 14,
   "metadata": {
    "execution": {
     "iopub.execute_input": "2020-08-31T04:08:47.572428Z",
     "iopub.status.busy": "2020-08-31T04:08:47.571429Z",
     "iopub.status.idle": "2020-08-31T04:08:47.580436Z",
     "shell.execute_reply": "2020-08-31T04:08:47.578432Z",
     "shell.execute_reply.started": "2020-08-31T04:08:47.572428Z"
    },
    "scrolled": true
   },
   "outputs": [
    {
     "name": "stdout",
     "output_type": "stream",
     "text": [
      "The EMI is $10500.0\n"
     ]
    }
   ],
   "source": [
    "loan_emi(1260000, 10*12)"
   ]
  },
  {
   "cell_type": "markdown",
   "metadata": {},
   "source": [
    "### Return values\n",
    "\n",
    "As you might expect, the EMI for the 6-year loan is higher compared to the 10-year loan. Right now we're printing out the result, but it would be better to return it and store the results in variables for easier comparison. We can do this using the `return` statement"
   ]
  },
  {
   "cell_type": "code",
   "execution_count": 15,
   "metadata": {
    "execution": {
     "iopub.execute_input": "2020-08-31T04:09:16.411893Z",
     "iopub.status.busy": "2020-08-31T04:09:16.410895Z",
     "iopub.status.idle": "2020-08-31T04:09:16.424894Z",
     "shell.execute_reply": "2020-08-31T04:09:16.422892Z",
     "shell.execute_reply.started": "2020-08-31T04:09:16.411893Z"
    }
   },
   "outputs": [],
   "source": [
    "def loan_emi(amount, duration):\n",
    "    emi = amount / duration\n",
    "    return emi"
   ]
  },
  {
   "cell_type": "code",
   "execution_count": 16,
   "metadata": {
    "execution": {
     "iopub.execute_input": "2020-08-31T04:09:17.957310Z",
     "iopub.status.busy": "2020-08-31T04:09:17.957310Z",
     "iopub.status.idle": "2020-08-31T04:09:17.969342Z",
     "shell.execute_reply": "2020-08-31T04:09:17.968342Z",
     "shell.execute_reply.started": "2020-08-31T04:09:17.957310Z"
    }
   },
   "outputs": [],
   "source": [
    "emi1 = loan_emi(1260000, 8*12)"
   ]
  },
  {
   "cell_type": "code",
   "execution_count": 17,
   "metadata": {
    "execution": {
     "iopub.execute_input": "2020-08-31T04:09:19.400724Z",
     "iopub.status.busy": "2020-08-31T04:09:19.399721Z",
     "iopub.status.idle": "2020-08-31T04:09:19.414727Z",
     "shell.execute_reply": "2020-08-31T04:09:19.413729Z",
     "shell.execute_reply.started": "2020-08-31T04:09:19.400724Z"
    }
   },
   "outputs": [],
   "source": [
    "emi2 = loan_emi(1260000, 10*12)"
   ]
  },
  {
   "cell_type": "code",
   "execution_count": 18,
   "metadata": {
    "execution": {
     "iopub.execute_input": "2020-08-31T04:09:22.384051Z",
     "iopub.status.busy": "2020-08-31T04:09:22.384051Z",
     "iopub.status.idle": "2020-08-31T04:09:22.398054Z",
     "shell.execute_reply": "2020-08-31T04:09:22.396050Z",
     "shell.execute_reply.started": "2020-08-31T04:09:22.384051Z"
    },
    "scrolled": true
   },
   "outputs": [
    {
     "data": {
      "text/plain": [
       "13125.0"
      ]
     },
     "execution_count": 18,
     "metadata": {},
     "output_type": "execute_result"
    }
   ],
   "source": [
    "emi1"
   ]
  },
  {
   "cell_type": "code",
   "execution_count": 19,
   "metadata": {
    "execution": {
     "iopub.execute_input": "2020-08-31T04:09:24.951669Z",
     "iopub.status.busy": "2020-08-31T04:09:24.951669Z",
     "iopub.status.idle": "2020-08-31T04:09:24.966672Z",
     "shell.execute_reply": "2020-08-31T04:09:24.964675Z",
     "shell.execute_reply.started": "2020-08-31T04:09:24.951669Z"
    }
   },
   "outputs": [
    {
     "data": {
      "text/plain": [
       "10500.0"
      ]
     },
     "execution_count": 19,
     "metadata": {},
     "output_type": "execute_result"
    }
   ],
   "source": [
    "emi2"
   ]
  },
  {
   "cell_type": "markdown",
   "metadata": {},
   "source": [
    "### Optional arguments\n",
    "\n",
    "Let's now add another argument to account for the immediate down payment. We'll make this an *optional argument*, with a default value of 0."
   ]
  },
  {
   "cell_type": "code",
   "execution_count": 20,
   "metadata": {
    "execution": {
     "iopub.execute_input": "2020-08-31T04:09:42.006281Z",
     "iopub.status.busy": "2020-08-31T04:09:42.006281Z",
     "iopub.status.idle": "2020-08-31T04:09:42.025280Z",
     "shell.execute_reply": "2020-08-31T04:09:42.024282Z",
     "shell.execute_reply.started": "2020-08-31T04:09:42.006281Z"
    }
   },
   "outputs": [],
   "source": [
    "def loan_emi(amount, duration, down_payment=0):\n",
    "    loan_amount = amount - down_payment\n",
    "    emi = loan_amount / duration\n",
    "    return emi"
   ]
  },
  {
   "cell_type": "code",
   "execution_count": 21,
   "metadata": {
    "execution": {
     "iopub.execute_input": "2020-08-31T04:09:48.535881Z",
     "iopub.status.busy": "2020-08-31T04:09:48.534879Z",
     "iopub.status.idle": "2020-08-31T04:09:48.555878Z",
     "shell.execute_reply": "2020-08-31T04:09:48.554879Z",
     "shell.execute_reply.started": "2020-08-31T04:09:48.535881Z"
    }
   },
   "outputs": [],
   "source": [
    "emi1 = loan_emi(1260000, 8*12, 3e5)"
   ]
  },
  {
   "cell_type": "code",
   "execution_count": 22,
   "metadata": {
    "execution": {
     "iopub.execute_input": "2020-08-31T04:09:50.394165Z",
     "iopub.status.busy": "2020-08-31T04:09:50.392936Z",
     "iopub.status.idle": "2020-08-31T04:09:50.406931Z",
     "shell.execute_reply": "2020-08-31T04:09:50.404932Z",
     "shell.execute_reply.started": "2020-08-31T04:09:50.394165Z"
    }
   },
   "outputs": [
    {
     "data": {
      "text/plain": [
       "10000.0"
      ]
     },
     "execution_count": 22,
     "metadata": {},
     "output_type": "execute_result"
    }
   ],
   "source": [
    "emi1"
   ]
  },
  {
   "cell_type": "code",
   "execution_count": 23,
   "metadata": {
    "execution": {
     "iopub.execute_input": "2020-08-31T04:09:51.507933Z",
     "iopub.status.busy": "2020-08-31T04:09:51.507933Z",
     "iopub.status.idle": "2020-08-31T04:09:51.526933Z",
     "shell.execute_reply": "2020-08-31T04:09:51.524929Z",
     "shell.execute_reply.started": "2020-08-31T04:09:51.507933Z"
    }
   },
   "outputs": [],
   "source": [
    "emi2 = loan_emi(1260000, 10*12)"
   ]
  },
  {
   "cell_type": "code",
   "execution_count": 24,
   "metadata": {
    "execution": {
     "iopub.execute_input": "2020-08-31T04:09:55.774638Z",
     "iopub.status.busy": "2020-08-31T04:09:55.773637Z",
     "iopub.status.idle": "2020-08-31T04:09:55.795642Z",
     "shell.execute_reply": "2020-08-31T04:09:55.793645Z",
     "shell.execute_reply.started": "2020-08-31T04:09:55.774638Z"
    }
   },
   "outputs": [
    {
     "data": {
      "text/plain": [
       "10500.0"
      ]
     },
     "execution_count": 24,
     "metadata": {},
     "output_type": "execute_result"
    }
   ],
   "source": [
    "emi2"
   ]
  },
  {
   "cell_type": "markdown",
   "metadata": {},
   "source": [
    "Next, let's add the interest calculation into the function. Here's the formula used to calculate the EMI for a loan:\n",
    "\n",
    "<img src=\"https://i.imgur.com/iKujHGK.png\" style=\"width:240px\">\n",
    "\n",
    "where:\n",
    "\n",
    "* `P` is the loan amount (principal)\n",
    "* `n` is the no. of months\n",
    "* `r` is the rate of interest per month\n",
    "\n",
    "The derivation of this forumula is beyond the scope of this tutorial. See this video for an explanation: https://youtu.be/Coxza9ugW4E"
   ]
  },
  {
   "cell_type": "code",
   "execution_count": 25,
   "metadata": {
    "execution": {
     "iopub.execute_input": "2020-08-31T04:10:06.402464Z",
     "iopub.status.busy": "2020-08-31T04:10:06.401462Z",
     "iopub.status.idle": "2020-08-31T04:10:06.416462Z",
     "shell.execute_reply": "2020-08-31T04:10:06.415462Z",
     "shell.execute_reply.started": "2020-08-31T04:10:06.402464Z"
    }
   },
   "outputs": [],
   "source": [
    "def loan_emi(amount, duration, rate, down_payment=0):\n",
    "    loan_amount = amount - down_payment\n",
    "    emi = loan_amount * rate * ((1+rate)**duration) / (((1+rate)**duration)-1)\n",
    "    return emi"
   ]
  },
  {
   "cell_type": "markdown",
   "metadata": {},
   "source": [
    "Note that while defining the function, required arguments like `cost`, `duration` and `rate` must appear before optional arguments like `down_payment`.\n",
    "\n",
    "Let's calculate the EMI for Option 1"
   ]
  },
  {
   "cell_type": "code",
   "execution_count": 26,
   "metadata": {
    "execution": {
     "iopub.execute_input": "2020-08-31T04:10:17.381579Z",
     "iopub.status.busy": "2020-08-31T04:10:17.381579Z",
     "iopub.status.idle": "2020-08-31T04:10:17.396578Z",
     "shell.execute_reply": "2020-08-31T04:10:17.395583Z",
     "shell.execute_reply.started": "2020-08-31T04:10:17.381579Z"
    },
    "scrolled": true
   },
   "outputs": [
    {
     "data": {
      "text/plain": [
       "14567.19753389219"
      ]
     },
     "execution_count": 26,
     "metadata": {},
     "output_type": "execute_result"
    }
   ],
   "source": [
    "loan_emi(1260000, 8*12, 0.1/12, 3e5)"
   ]
  },
  {
   "cell_type": "markdown",
   "metadata": {},
   "source": [
    "While calculating the EMI for Option 2, we need not include the `down_payment` argument."
   ]
  },
  {
   "cell_type": "code",
   "execution_count": 27,
   "metadata": {
    "execution": {
     "iopub.execute_input": "2020-08-31T04:10:21.788555Z",
     "iopub.status.busy": "2020-08-31T04:10:21.788555Z",
     "iopub.status.idle": "2020-08-31T04:10:21.801552Z",
     "shell.execute_reply": "2020-08-31T04:10:21.799548Z",
     "shell.execute_reply.started": "2020-08-31T04:10:21.788555Z"
    }
   },
   "outputs": [
    {
     "data": {
      "text/plain": [
       "15287.276888775077"
      ]
     },
     "execution_count": 27,
     "metadata": {},
     "output_type": "execute_result"
    }
   ],
   "source": [
    "loan_emi(1260000, 10*12, 0.08/12)"
   ]
  },
  {
   "cell_type": "markdown",
   "metadata": {},
   "source": [
    "### Named arguments\n",
    "\n",
    "Invoking a function with many arguments can often get confusing, and is prone to human errors. Python provides the option of invoking functions with *named* arguments, for better clarity. Function invocation can also be split into multiple lines."
   ]
  },
  {
   "cell_type": "code",
   "execution_count": 28,
   "metadata": {
    "execution": {
     "iopub.execute_input": "2020-08-31T04:10:34.459645Z",
     "iopub.status.busy": "2020-08-31T04:10:34.459645Z",
     "iopub.status.idle": "2020-08-31T04:10:34.471645Z",
     "shell.execute_reply": "2020-08-31T04:10:34.469643Z",
     "shell.execute_reply.started": "2020-08-31T04:10:34.459645Z"
    }
   },
   "outputs": [],
   "source": [
    "emi1 = loan_emi(\n",
    "    amount=1260000, \n",
    "    duration=8*12, \n",
    "    rate=0.1/12, \n",
    "    down_payment=3e5\n",
    ")"
   ]
  },
  {
   "cell_type": "code",
   "execution_count": 29,
   "metadata": {
    "execution": {
     "iopub.execute_input": "2020-08-31T04:10:35.395660Z",
     "iopub.status.busy": "2020-08-31T04:10:35.394661Z",
     "iopub.status.idle": "2020-08-31T04:10:35.409665Z",
     "shell.execute_reply": "2020-08-31T04:10:35.407667Z",
     "shell.execute_reply.started": "2020-08-31T04:10:35.395660Z"
    }
   },
   "outputs": [
    {
     "data": {
      "text/plain": [
       "14567.19753389219"
      ]
     },
     "execution_count": 29,
     "metadata": {},
     "output_type": "execute_result"
    }
   ],
   "source": [
    "emi1"
   ]
  },
  {
   "cell_type": "code",
   "execution_count": 30,
   "metadata": {
    "execution": {
     "iopub.execute_input": "2020-08-31T04:10:36.401513Z",
     "iopub.status.busy": "2020-08-31T04:10:36.401513Z",
     "iopub.status.idle": "2020-08-31T04:10:36.414510Z",
     "shell.execute_reply": "2020-08-31T04:10:36.412508Z",
     "shell.execute_reply.started": "2020-08-31T04:10:36.401513Z"
    }
   },
   "outputs": [],
   "source": [
    "emi2 = loan_emi(amount=1260000, duration=10*12, rate=0.08/12)"
   ]
  },
  {
   "cell_type": "code",
   "execution_count": 31,
   "metadata": {
    "execution": {
     "iopub.execute_input": "2020-08-31T04:10:37.566094Z",
     "iopub.status.busy": "2020-08-31T04:10:37.565094Z",
     "iopub.status.idle": "2020-08-31T04:10:37.588093Z",
     "shell.execute_reply": "2020-08-31T04:10:37.586097Z",
     "shell.execute_reply.started": "2020-08-31T04:10:37.566094Z"
    }
   },
   "outputs": [
    {
     "data": {
      "text/plain": [
       "15287.276888775077"
      ]
     },
     "execution_count": 31,
     "metadata": {},
     "output_type": "execute_result"
    }
   ],
   "source": [
    "emi2"
   ]
  },
  {
   "cell_type": "markdown",
   "metadata": {},
   "source": [
    "### Modules and library functions\n",
    "\n",
    "We can already see that the EMI for Option 1 seems to be lower than the EMI for Option 2. However, it would be nice to round up the amount to full dollars, rather than including digits afer the decimal. To achieve this, we might want to write a function which can take a number and round it up to the next integer (e.g. 1.2 is rounded up to 2). That would be a good exercise to try out!\n",
    "\n",
    "However, since rounding numbers is a fairly common operation, Python provides a function for it (along with thousands of other functions) as part of the [Python Standard Library](https://docs.python.org/3/library/). Functions are organized into *modules*, which need to imported in order to use the functions they contain. \n",
    "\n",
    "> **Modules**: Modules are files containing Python code (variables, functions, classes etc.). They provide a way of organizing the code for large Python projects into files and folders. The key benefit offered by modules is *namespaces* - a module or a specific function/class/variable from a module has to imported before it can be used within a Python script or notebook. This provides *encapsulation* and avoid naming conflicts between your code vs. a module, or across modules.\n",
    "\n",
    "For rounding up our EMI amounts, we can use the `ceil` function (short for *ceiling*) from the `math` module. Let's import the module and use it to round up the number 1.2 . "
   ]
  },
  {
   "cell_type": "code",
   "execution_count": 32,
   "metadata": {
    "execution": {
     "iopub.execute_input": "2020-08-31T04:38:43.427109Z",
     "iopub.status.busy": "2020-08-31T04:38:43.426107Z",
     "iopub.status.idle": "2020-08-31T04:38:43.438110Z",
     "shell.execute_reply": "2020-08-31T04:38:43.436111Z",
     "shell.execute_reply.started": "2020-08-31T04:38:43.427109Z"
    }
   },
   "outputs": [],
   "source": [
    "import math"
   ]
  },
  {
   "cell_type": "code",
   "execution_count": 33,
   "metadata": {
    "execution": {
     "iopub.execute_input": "2020-08-31T04:38:44.432115Z",
     "iopub.status.busy": "2020-08-31T04:38:44.431111Z",
     "iopub.status.idle": "2020-08-31T04:38:44.446113Z",
     "shell.execute_reply": "2020-08-31T04:38:44.444112Z",
     "shell.execute_reply.started": "2020-08-31T04:38:44.432115Z"
    }
   },
   "outputs": [
    {
     "name": "stdout",
     "output_type": "stream",
     "text": [
      "Help on built-in function ceil in module math:\n",
      "\n",
      "ceil(x, /)\n",
      "    Return the ceiling of x as an Integral.\n",
      "    \n",
      "    This is the smallest integer >= x.\n",
      "\n"
     ]
    }
   ],
   "source": [
    "help(math.ceil)"
   ]
  },
  {
   "cell_type": "code",
   "execution_count": 34,
   "metadata": {
    "execution": {
     "iopub.execute_input": "2020-08-31T04:38:48.726117Z",
     "iopub.status.busy": "2020-08-31T04:38:48.725112Z",
     "iopub.status.idle": "2020-08-31T04:38:48.741112Z",
     "shell.execute_reply": "2020-08-31T04:38:48.740112Z",
     "shell.execute_reply.started": "2020-08-31T04:38:48.726117Z"
    }
   },
   "outputs": [
    {
     "data": {
      "text/plain": [
       "2"
      ]
     },
     "execution_count": 34,
     "metadata": {},
     "output_type": "execute_result"
    }
   ],
   "source": [
    "math.ceil(1.2)"
   ]
  },
  {
   "cell_type": "markdown",
   "metadata": {},
   "source": [
    "Let's now use the `math.ceil` function within the `home_loan_emi` function to round up the EMI amount. \n",
    "\n",
    "> Using function to build other functions is a great way to reuse code and implement complex business logic while still keeping the code small, understandable and manageable. Ideally, one a fuction should do one thing, and one thing only. If you find yourself doing too many things within a single function, you should consider splitting it into 2 or more smaller, independent functions. As a rule of thumb, try to limit your functions to 10 lines of code or less. Good programmers always write small, simple and readable functions.\n",
    "\n"
   ]
  },
  {
   "cell_type": "code",
   "execution_count": 35,
   "metadata": {
    "execution": {
     "iopub.execute_input": "2020-08-31T04:39:05.395111Z",
     "iopub.status.busy": "2020-08-31T04:39:05.395111Z",
     "iopub.status.idle": "2020-08-31T04:39:05.410110Z",
     "shell.execute_reply": "2020-08-31T04:39:05.408110Z",
     "shell.execute_reply.started": "2020-08-31T04:39:05.395111Z"
    }
   },
   "outputs": [],
   "source": [
    "def loan_emi(amount, duration, rate, down_payment=0):\n",
    "    loan_amount = amount - down_payment\n",
    "    emi = loan_amount * rate * ((1+rate)**duration) / (((1+rate)**duration)-1)\n",
    "    emi = math.ceil(emi)\n",
    "    return emi"
   ]
  },
  {
   "cell_type": "code",
   "execution_count": 36,
   "metadata": {
    "execution": {
     "iopub.execute_input": "2020-08-31T04:39:08.109225Z",
     "iopub.status.busy": "2020-08-31T04:39:08.109225Z",
     "iopub.status.idle": "2020-08-31T04:39:08.116226Z",
     "shell.execute_reply": "2020-08-31T04:39:08.114229Z",
     "shell.execute_reply.started": "2020-08-31T04:39:08.109225Z"
    }
   },
   "outputs": [],
   "source": [
    "emi1 = loan_emi(\n",
    "    amount=1260000, \n",
    "    duration=8*12, \n",
    "    rate=0.1/12, \n",
    "    down_payment=3e5\n",
    ")"
   ]
  },
  {
   "cell_type": "code",
   "execution_count": 37,
   "metadata": {
    "execution": {
     "iopub.execute_input": "2020-08-31T04:39:11.424642Z",
     "iopub.status.busy": "2020-08-31T04:39:11.424642Z",
     "iopub.status.idle": "2020-08-31T04:39:11.432638Z",
     "shell.execute_reply": "2020-08-31T04:39:11.430642Z",
     "shell.execute_reply.started": "2020-08-31T04:39:11.424642Z"
    }
   },
   "outputs": [
    {
     "data": {
      "text/plain": [
       "14568"
      ]
     },
     "execution_count": 37,
     "metadata": {},
     "output_type": "execute_result"
    }
   ],
   "source": [
    "emi1"
   ]
  },
  {
   "cell_type": "code",
   "execution_count": 38,
   "metadata": {
    "execution": {
     "iopub.execute_input": "2020-08-31T04:39:12.774890Z",
     "iopub.status.busy": "2020-08-31T04:39:12.774890Z",
     "iopub.status.idle": "2020-08-31T04:39:12.786895Z",
     "shell.execute_reply": "2020-08-31T04:39:12.784894Z",
     "shell.execute_reply.started": "2020-08-31T04:39:12.774890Z"
    }
   },
   "outputs": [],
   "source": [
    "emi2 = loan_emi(amount=1260000, duration=10*12, rate=0.08/12)"
   ]
  },
  {
   "cell_type": "code",
   "execution_count": 39,
   "metadata": {
    "execution": {
     "iopub.execute_input": "2020-08-31T04:39:16.103864Z",
     "iopub.status.busy": "2020-08-31T04:39:16.102864Z",
     "iopub.status.idle": "2020-08-31T04:39:16.125864Z",
     "shell.execute_reply": "2020-08-31T04:39:16.124861Z",
     "shell.execute_reply.started": "2020-08-31T04:39:16.103864Z"
    }
   },
   "outputs": [
    {
     "data": {
      "text/plain": [
       "15288"
      ]
     },
     "execution_count": 39,
     "metadata": {},
     "output_type": "execute_result"
    }
   ],
   "source": [
    "emi2"
   ]
  },
  {
   "cell_type": "markdown",
   "metadata": {},
   "source": [
    "Let's compare the EMIs and display a message for the option with the lower EMI."
   ]
  },
  {
   "cell_type": "code",
   "execution_count": 40,
   "metadata": {
    "execution": {
     "iopub.execute_input": "2020-08-31T04:39:18.662333Z",
     "iopub.status.busy": "2020-08-31T04:39:18.661333Z",
     "iopub.status.idle": "2020-08-31T04:39:18.677336Z",
     "shell.execute_reply": "2020-08-31T04:39:18.675335Z",
     "shell.execute_reply.started": "2020-08-31T04:39:18.662333Z"
    }
   },
   "outputs": [
    {
     "name": "stdout",
     "output_type": "stream",
     "text": [
      "Option 1 has the lower EMI: $14568\n"
     ]
    }
   ],
   "source": [
    "if emi1 < emi2:\n",
    "    print(\"Option 1 has the lower EMI: ${}\".format(emi1))\n",
    "else:\n",
    "    print(\"Option 2 has the lower EMI: ${}\".format(emi2))"
   ]
  },
  {
   "cell_type": "markdown",
   "metadata": {},
   "source": [
    "### Reusing and improving functions \n",
    "\n",
    "Now we know for cetain that \"Option 1\" has the lower EMI among the two options. But what's even better is that we now have a handy function `loan_emi` that can be used to solve many other similar problems with just a few lines of code. Let's try it with a couple more problems."
   ]
  },
  {
   "cell_type": "markdown",
   "metadata": {},
   "source": [
    "> Q: Shaun is currenly paying back a home loan for a house a few years go. The cost of the house was `$800,000`. Shaun made a down payment of `25%` of the cost, and financed the remaining amount using a 6-year loan with an interest rate of `7%` per annum (compounded monthly). Shaun is now buying a car worth `$60,000`, which he is planning to finance using a 1-year loan with an interest rate of `12%` per annum. Both loans are paid back in EMIs. What is the total monthly payment Shaun makes towards loan repayment?\n",
    "\n",
    "This question is now straightforward to solve, using the `loan_emi` function we've already defined."
   ]
  },
  {
   "cell_type": "code",
   "execution_count": 41,
   "metadata": {
    "execution": {
     "iopub.execute_input": "2020-08-31T04:51:54.390800Z",
     "iopub.status.busy": "2020-08-31T04:51:54.389802Z",
     "iopub.status.idle": "2020-08-31T04:51:54.402799Z",
     "shell.execute_reply": "2020-08-31T04:51:54.401798Z",
     "shell.execute_reply.started": "2020-08-31T04:51:54.390800Z"
    }
   },
   "outputs": [
    {
     "data": {
      "text/plain": [
       "10230"
      ]
     },
     "execution_count": 41,
     "metadata": {},
     "output_type": "execute_result"
    }
   ],
   "source": [
    "cost_of_house = 800000\n",
    "home_loan_duration = 6*12 # months\n",
    "home_loan_rate = 0.07/12 # monthly\n",
    "home_down_payment = .25 * 800000\n",
    "\n",
    "emi_house = loan_emi(amount=cost_of_house,\n",
    "                     duration=home_loan_duration,\n",
    "                     rate=home_loan_rate, \n",
    "                     down_payment=home_down_payment)\n",
    "\n",
    "emi_house"
   ]
  },
  {
   "cell_type": "code",
   "execution_count": 42,
   "metadata": {
    "execution": {
     "iopub.execute_input": "2020-08-31T04:51:57.745082Z",
     "iopub.status.busy": "2020-08-31T04:51:57.744800Z",
     "iopub.status.idle": "2020-08-31T04:51:57.764079Z",
     "shell.execute_reply": "2020-08-31T04:51:57.762084Z",
     "shell.execute_reply.started": "2020-08-31T04:51:57.745082Z"
    }
   },
   "outputs": [
    {
     "data": {
      "text/plain": [
       "5331"
      ]
     },
     "execution_count": 42,
     "metadata": {},
     "output_type": "execute_result"
    }
   ],
   "source": [
    "cost_of_car = 60000\n",
    "car_loan_duration = 1*12 # months\n",
    "car_loan_rate = .12/12 # monthly\n",
    "\n",
    "emi_car = loan_emi(amount=cost_of_car, \n",
    "                   duration=car_loan_duration, \n",
    "                   rate=car_loan_rate)\n",
    "\n",
    "emi_car"
   ]
  },
  {
   "cell_type": "code",
   "execution_count": 43,
   "metadata": {
    "execution": {
     "iopub.execute_input": "2020-08-31T04:51:59.654816Z",
     "iopub.status.busy": "2020-08-31T04:51:59.654816Z",
     "iopub.status.idle": "2020-08-31T04:51:59.670811Z",
     "shell.execute_reply": "2020-08-31T04:51:59.668812Z",
     "shell.execute_reply.started": "2020-08-31T04:51:59.654816Z"
    }
   },
   "outputs": [
    {
     "name": "stdout",
     "output_type": "stream",
     "text": [
      "Shaun makes a total monthly payment of $15561 towards loan repayments.\n"
     ]
    }
   ],
   "source": [
    "print(\"Shaun makes a total monthly payment of ${} towards loan repayments.\".format(emi_house+emi_car))"
   ]
  },
  {
   "cell_type": "markdown",
   "metadata": {},
   "source": [
    "### Exceptions and `try`-`except`\n",
    "\n",
    "> Q: If you borrow `$100,000` using a 10-year loan with an interest rate of 9% per annum, what is the total amount you end up paying as interest?\n",
    "\n",
    "One way to solve this problem is to compare the EMIs for two loans: one with the given rate of interest, and another with a 0% rate of interest. The total interest paid is then simply the sum of monthly differences over the duration of the loan."
   ]
  },
  {
   "cell_type": "code",
   "execution_count": 44,
   "metadata": {
    "execution": {
     "iopub.execute_input": "2020-08-31T04:52:02.845675Z",
     "iopub.status.busy": "2020-08-31T04:52:02.845258Z",
     "iopub.status.idle": "2020-08-31T04:52:02.866675Z",
     "shell.execute_reply": "2020-08-31T04:52:02.865678Z",
     "shell.execute_reply.started": "2020-08-31T04:52:02.845675Z"
    }
   },
   "outputs": [
    {
     "data": {
      "text/plain": [
       "1267"
      ]
     },
     "execution_count": 44,
     "metadata": {},
     "output_type": "execute_result"
    }
   ],
   "source": [
    "emi_with_interest = loan_emi(amount=100000, duration=10*12, rate=0.09/12)\n",
    "emi_with_interest"
   ]
  },
  {
   "cell_type": "code",
   "execution_count": 45,
   "metadata": {
    "execution": {
     "iopub.execute_input": "2020-08-31T04:52:03.853739Z",
     "iopub.status.busy": "2020-08-31T04:52:03.852746Z",
     "iopub.status.idle": "2020-08-31T04:52:03.890738Z",
     "shell.execute_reply": "2020-08-31T04:52:03.887739Z",
     "shell.execute_reply.started": "2020-08-31T04:52:03.853739Z"
    }
   },
   "outputs": [
    {
     "ename": "ZeroDivisionError",
     "evalue": "float division by zero",
     "output_type": "error",
     "traceback": [
      "\u001b[1;31m---------------------------------------------------------------------------\u001b[0m",
      "\u001b[1;31mZeroDivisionError\u001b[0m                         Traceback (most recent call last)",
      "\u001b[1;32m<ipython-input-45-b684ffbee02d>\u001b[0m in \u001b[0;36m<module>\u001b[1;34m\u001b[0m\n\u001b[1;32m----> 1\u001b[1;33m \u001b[0memi_without_interest\u001b[0m \u001b[1;33m=\u001b[0m \u001b[0mloan_emi\u001b[0m\u001b[1;33m(\u001b[0m\u001b[0mamount\u001b[0m\u001b[1;33m=\u001b[0m\u001b[1;36m100000\u001b[0m\u001b[1;33m,\u001b[0m \u001b[0mduration\u001b[0m\u001b[1;33m=\u001b[0m\u001b[1;36m10\u001b[0m\u001b[1;33m*\u001b[0m\u001b[1;36m12\u001b[0m\u001b[1;33m,\u001b[0m \u001b[0mrate\u001b[0m\u001b[1;33m=\u001b[0m\u001b[1;36m0.\u001b[0m\u001b[1;33m/\u001b[0m\u001b[1;36m12\u001b[0m\u001b[1;33m)\u001b[0m\u001b[1;33m\u001b[0m\u001b[1;33m\u001b[0m\u001b[0m\n\u001b[0m\u001b[0;32m      2\u001b[0m \u001b[0memi_without_interest\u001b[0m\u001b[1;33m\u001b[0m\u001b[1;33m\u001b[0m\u001b[0m\n",
      "\u001b[1;32m<ipython-input-35-ad16168becb0>\u001b[0m in \u001b[0;36mloan_emi\u001b[1;34m(amount, duration, rate, down_payment)\u001b[0m\n\u001b[0;32m      1\u001b[0m \u001b[1;32mdef\u001b[0m \u001b[0mloan_emi\u001b[0m\u001b[1;33m(\u001b[0m\u001b[0mamount\u001b[0m\u001b[1;33m,\u001b[0m \u001b[0mduration\u001b[0m\u001b[1;33m,\u001b[0m \u001b[0mrate\u001b[0m\u001b[1;33m,\u001b[0m \u001b[0mdown_payment\u001b[0m\u001b[1;33m=\u001b[0m\u001b[1;36m0\u001b[0m\u001b[1;33m)\u001b[0m\u001b[1;33m:\u001b[0m\u001b[1;33m\u001b[0m\u001b[1;33m\u001b[0m\u001b[0m\n\u001b[0;32m      2\u001b[0m     \u001b[0mloan_amount\u001b[0m \u001b[1;33m=\u001b[0m \u001b[0mamount\u001b[0m \u001b[1;33m-\u001b[0m \u001b[0mdown_payment\u001b[0m\u001b[1;33m\u001b[0m\u001b[1;33m\u001b[0m\u001b[0m\n\u001b[1;32m----> 3\u001b[1;33m     \u001b[0memi\u001b[0m \u001b[1;33m=\u001b[0m \u001b[0mloan_amount\u001b[0m \u001b[1;33m*\u001b[0m \u001b[0mrate\u001b[0m \u001b[1;33m*\u001b[0m \u001b[1;33m(\u001b[0m\u001b[1;33m(\u001b[0m\u001b[1;36m1\u001b[0m\u001b[1;33m+\u001b[0m\u001b[0mrate\u001b[0m\u001b[1;33m)\u001b[0m\u001b[1;33m**\u001b[0m\u001b[0mduration\u001b[0m\u001b[1;33m)\u001b[0m \u001b[1;33m/\u001b[0m \u001b[1;33m(\u001b[0m\u001b[1;33m(\u001b[0m\u001b[1;33m(\u001b[0m\u001b[1;36m1\u001b[0m\u001b[1;33m+\u001b[0m\u001b[0mrate\u001b[0m\u001b[1;33m)\u001b[0m\u001b[1;33m**\u001b[0m\u001b[0mduration\u001b[0m\u001b[1;33m)\u001b[0m\u001b[1;33m-\u001b[0m\u001b[1;36m1\u001b[0m\u001b[1;33m)\u001b[0m\u001b[1;33m\u001b[0m\u001b[1;33m\u001b[0m\u001b[0m\n\u001b[0m\u001b[0;32m      4\u001b[0m     \u001b[0memi\u001b[0m \u001b[1;33m=\u001b[0m \u001b[0mmath\u001b[0m\u001b[1;33m.\u001b[0m\u001b[0mceil\u001b[0m\u001b[1;33m(\u001b[0m\u001b[0memi\u001b[0m\u001b[1;33m)\u001b[0m\u001b[1;33m\u001b[0m\u001b[1;33m\u001b[0m\u001b[0m\n\u001b[0;32m      5\u001b[0m     \u001b[1;32mreturn\u001b[0m \u001b[0memi\u001b[0m\u001b[1;33m\u001b[0m\u001b[1;33m\u001b[0m\u001b[0m\n",
      "\u001b[1;31mZeroDivisionError\u001b[0m: float division by zero"
     ]
    }
   ],
   "source": [
    "emi_without_interest = loan_emi(amount=100000, duration=10*12, rate=0./12)\n",
    "emi_without_interest"
   ]
  },
  {
   "cell_type": "markdown",
   "metadata": {},
   "source": [
    "Something seems to have gone wrong! If you look at the error message above carefully, Python tells us exactly what is gone wrong. Python *throws* a `ZeroDivisionError` with a message indicating that we're trying to divide a number by zero. This is an *exception* that stops further execution of the program.\n",
    "\n",
    "> **Exception**: Even if a statement or expression is syntactically correct, it may cause an error when an attempt is made to execute it. Errors detected during execution are called exceptions. We refer to exceptions as being typically stop further execution of the program, unless they are handled within the program using `try`-`except` statements.\n",
    "\n",
    "Python provides many built-in exceptions that are *thrown* when built-in operators, functions or methods are used in an incorrect manner: https://docs.python.org/3/library/exceptions.html#built-in-exceptions . You can also define your own custom exception by extending `Exception` class (more on that later).\n",
    "\n",
    "You can use the `try` and `except` statements to *handle* and exception. Here's an example:"
   ]
  },
  {
   "cell_type": "code",
   "execution_count": 46,
   "metadata": {
    "execution": {
     "iopub.execute_input": "2020-08-31T04:52:19.783976Z",
     "iopub.status.busy": "2020-08-31T04:52:19.782976Z",
     "iopub.status.idle": "2020-08-31T04:52:19.802977Z",
     "shell.execute_reply": "2020-08-31T04:52:19.800974Z",
     "shell.execute_reply.started": "2020-08-31T04:52:19.782976Z"
    }
   },
   "outputs": [
    {
     "name": "stdout",
     "output_type": "stream",
     "text": [
      "Now computing the result..\n",
      "Failed to compute result because you were trying to divide by zero\n",
      "None\n"
     ]
    }
   ],
   "source": [
    "try:\n",
    "    print(\"Now computing the result..\")\n",
    "    result = 5 / 0\n",
    "    print(\"Computation was completed successfully\")\n",
    "except ZeroDivisionError:\n",
    "    print(\"Failed to compute result because you were trying to divide by zero\")\n",
    "    result = None\n",
    "\n",
    "print(result)"
   ]
  },
  {
   "cell_type": "markdown",
   "metadata": {},
   "source": [
    "When an exception occurs in the code inside a `try` block, the rest of the statements in the block are skipped, and `except` statement is executed. If the type of exception throw matches the type of exception being handled by the `except` statement, then the code inside the `except` block is executed and the program execution then returns to the normal flow. \n",
    "\n",
    "You can also handle more than one type of exception using multiple `except` statements. Learn more about exceptions here: https://www.w3schools.com/python/python_try_except.asp .\n",
    "\n",
    "Let's enhance the `loan_emi` function to use `try`-`execpt` to handle the scenario where the rate of intersest is 0%. It's common practice to make changes/enhancements to functions over time, as new scenarios and use cases come up. It makes functions more flexible & powerful."
   ]
  },
  {
   "cell_type": "code",
   "execution_count": 47,
   "metadata": {
    "execution": {
     "iopub.execute_input": "2020-08-31T04:52:40.662060Z",
     "iopub.status.busy": "2020-08-31T04:52:40.662060Z",
     "iopub.status.idle": "2020-08-31T04:52:40.671062Z",
     "shell.execute_reply": "2020-08-31T04:52:40.670061Z",
     "shell.execute_reply.started": "2020-08-31T04:52:40.662060Z"
    }
   },
   "outputs": [],
   "source": [
    "def loan_emi(amount, duration, rate, down_payment=0):\n",
    "    loan_amount = amount - down_payment\n",
    "    try:\n",
    "        emi = loan_amount * rate * ((1+rate)**duration) / (((1+rate)**duration)-1)\n",
    "    except ZeroDivisionError:\n",
    "        emi = loan_amount / duration\n",
    "    emi = math.ceil(emi)\n",
    "    return emi"
   ]
  },
  {
   "cell_type": "markdown",
   "metadata": {},
   "source": [
    "We can use the updated `loan_emi` function to solve our problem.\n",
    "\n",
    "> Q: If you borrow `$100,000` using a 10-year loan with an interest rate of 9% per annum, what is the total amount you end up paying as interest?\n",
    "\n"
   ]
  },
  {
   "cell_type": "code",
   "execution_count": 48,
   "metadata": {
    "execution": {
     "iopub.execute_input": "2020-08-31T04:52:52.150835Z",
     "iopub.status.busy": "2020-08-31T04:52:52.149832Z",
     "iopub.status.idle": "2020-08-31T04:52:52.172834Z",
     "shell.execute_reply": "2020-08-31T04:52:52.170834Z",
     "shell.execute_reply.started": "2020-08-31T04:52:52.149832Z"
    }
   },
   "outputs": [
    {
     "data": {
      "text/plain": [
       "1267"
      ]
     },
     "execution_count": 48,
     "metadata": {},
     "output_type": "execute_result"
    }
   ],
   "source": [
    "emi_with_interest = loan_emi(amount=100000, duration=10*12, rate=0.09/12)\n",
    "emi_with_interest"
   ]
  },
  {
   "cell_type": "code",
   "execution_count": 49,
   "metadata": {
    "execution": {
     "iopub.execute_input": "2020-08-31T04:52:53.498137Z",
     "iopub.status.busy": "2020-08-31T04:52:53.497137Z",
     "iopub.status.idle": "2020-08-31T04:52:53.508136Z",
     "shell.execute_reply": "2020-08-31T04:52:53.507139Z",
     "shell.execute_reply.started": "2020-08-31T04:52:53.498137Z"
    }
   },
   "outputs": [
    {
     "data": {
      "text/plain": [
       "834"
      ]
     },
     "execution_count": 49,
     "metadata": {},
     "output_type": "execute_result"
    }
   ],
   "source": [
    "emi_without_interest = loan_emi(amount=100000, duration=10*12, rate=0)\n",
    "emi_without_interest"
   ]
  },
  {
   "cell_type": "code",
   "execution_count": 50,
   "metadata": {
    "execution": {
     "iopub.execute_input": "2020-08-31T04:52:57.519942Z",
     "iopub.status.busy": "2020-08-31T04:52:57.519942Z",
     "iopub.status.idle": "2020-08-31T04:52:57.533939Z",
     "shell.execute_reply": "2020-08-31T04:52:57.532938Z",
     "shell.execute_reply.started": "2020-08-31T04:52:57.519942Z"
    }
   },
   "outputs": [],
   "source": [
    "total_interest = (emi_with_interest - emi_without_interest) * 10*12"
   ]
  },
  {
   "cell_type": "code",
   "execution_count": 51,
   "metadata": {
    "execution": {
     "iopub.execute_input": "2020-08-31T04:52:58.921357Z",
     "iopub.status.busy": "2020-08-31T04:52:58.920358Z",
     "iopub.status.idle": "2020-08-31T04:52:58.930360Z",
     "shell.execute_reply": "2020-08-31T04:52:58.929359Z",
     "shell.execute_reply.started": "2020-08-31T04:52:58.921357Z"
    }
   },
   "outputs": [
    {
     "name": "stdout",
     "output_type": "stream",
     "text": [
      "The total interest paid is $51960.\n"
     ]
    }
   ],
   "source": [
    "print(\"The total interest paid is ${}.\".format(total_interest))"
   ]
  },
  {
   "cell_type": "markdown",
   "metadata": {},
   "source": [
    "### Documenting functions using Docstrings\n",
    "\n",
    "We can add some documentation within our function using a *docstring*. A docstring is simply a string that appears as the first statement within the function body, and is used by the `help` function. A good docstring describes what the function does, and provides some explanation about the arguments."
   ]
  },
  {
   "cell_type": "code",
   "execution_count": 52,
   "metadata": {
    "execution": {
     "iopub.execute_input": "2020-08-31T04:53:18.762717Z",
     "iopub.status.busy": "2020-08-31T04:53:18.761716Z",
     "iopub.status.idle": "2020-08-31T04:53:18.774718Z",
     "shell.execute_reply": "2020-08-31T04:53:18.772720Z",
     "shell.execute_reply.started": "2020-08-31T04:53:18.762717Z"
    }
   },
   "outputs": [],
   "source": [
    "def loan_emi(amount, duration, rate, down_payment=0):\n",
    "    \"\"\"Calculates the equal montly installment (EMI) for a loan.\n",
    "    \n",
    "    Arguments:\n",
    "        amount - Total amount to be spent (loan + down payment)\n",
    "        duration - Duration of the loan (in months)\n",
    "        rate - Rate of interest (monthly)\n",
    "        down_payment (optional) - Optional intial payment (deducted from amount)\n",
    "    \"\"\"\n",
    "    loan_amount = amount - down_payment\n",
    "    try:\n",
    "        emi = loan_amount * rate * ((1+rate)**duration) / (((1+rate)**duration)-1)\n",
    "    except ZeroDivisionError:\n",
    "        emi = loan_amount / duration\n",
    "    emi = math.ceil(emi)\n",
    "    return emi"
   ]
  },
  {
   "cell_type": "markdown",
   "metadata": {},
   "source": [
    "In the docstring above, we've provided some additional information that the `duration` and `rate` are both measured in months. You might even consider naming the arguments `duration_months` and `rate_monthly`, to avoid any confusion whatsoever. Can you think of some other ways in which the function can be improved?"
   ]
  },
  {
   "cell_type": "code",
   "execution_count": 54,
   "metadata": {
    "execution": {
     "iopub.execute_input": "2020-08-31T05:02:22.401995Z",
     "iopub.status.busy": "2020-08-31T05:02:22.401995Z",
     "iopub.status.idle": "2020-08-31T05:02:22.411992Z",
     "shell.execute_reply": "2020-08-31T05:02:22.409991Z",
     "shell.execute_reply.started": "2020-08-31T05:02:22.401995Z"
    }
   },
   "outputs": [
    {
     "name": "stdout",
     "output_type": "stream",
     "text": [
      "Help on function loan_emi in module __main__:\n",
      "\n",
      "loan_emi(amount, duration, rate, down_payment=0)\n",
      "    Calculates the equal montly installment (EMI) for a loan.\n",
      "    \n",
      "    Arguments:\n",
      "        amount - Total amount to be spent (loan + down payment)\n",
      "        duration - Duration of the loan (in months)\n",
      "        rate - Rate of interest (monthly)\n",
      "        down_payment (optional) - Optional intial payment (deducted from amount)\n",
      "\n"
     ]
    }
   ],
   "source": [
    "help(loan_emi)"
   ]
  },
  {
   "cell_type": "markdown",
   "metadata": {},
   "source": [
    "## Save and upload your notebook"
   ]
  },
  {
   "cell_type": "markdown",
   "metadata": {},
   "source": [
    "Whether you're running this Jupyter notebook on an online service like Binder or on your local machine, it's important to save your work from time, so that you can access it later, or share it online. You can upload this notebook to your [Jovian.ml](https://jovian.ml) account using the `jovian` Python library."
   ]
  },
  {
   "cell_type": "code",
   "execution_count": null,
   "metadata": {},
   "outputs": [],
   "source": [
    "# Instal the library\n",
    "!pip install jovian --upgrade --quiet"
   ]
  },
  {
   "cell_type": "code",
   "execution_count": null,
   "metadata": {},
   "outputs": [],
   "source": [
    "# Import the jovian module\n",
    "import jovian"
   ]
  },
  {
   "cell_type": "code",
   "execution_count": null,
   "metadata": {},
   "outputs": [],
   "source": [
    "jovian.commit(project='python-functions-and-scope', environment=None)"
   ]
  },
  {
   "cell_type": "markdown",
   "metadata": {},
   "source": [
    "## Exercise - Data Analysis for Vacation Planning\n",
    "\n",
    "You're planning a leisure trip (vacation) and you need to decide which city you want to visit. You have shortlisted 4 cities, and identified the cost of the return flight, daily hotel cost and a weekly car rental cost (a car has to be rented for full weeks, even if you return the car before a week ends).\n",
    "\n",
    "\n",
    "| City | Return Flight (`$`) | Hotel per day (`$`) | Weekly Car Rental  (`$`) | \n",
    "|------|--------------------------|------------------|------------------------|\n",
    "| Paris|       200                |       20         |          200           |\n",
    "| London|      250                |       30         |          120           |\n",
    "| Dubai|       370                |       15         |          80           |\n",
    "| Mumbai|      450                |       10         |          70           |         \n",
    "\n",
    "\n",
    "Answer the following questions using the data above:\n",
    "\n",
    "1. If you're planning a 1-week long trip, which city should you visit to spend the least amount of money?\n",
    "2. How does the answer to the previous question change if you change the duration of the trip to 4 days, 10 days or 2 weeks?\n",
    "3. If your total budget for the trip is `$1000`, which city should you visit to maximize the duration of your trip? Which city should you visit if you want to minimize the duration?\n",
    "4. How does the answer to the previous question change if your budget is `$600`, `$2000` or `$1500`?\n",
    "\n",
    "*Hint: To answer these questions, it will help to define a function `cost_of_trip` with relevant inputs like flight cost, hotel rate, car rental rate and duration of the trip. You may find the `math.ceil` function useful for calculating the total cost of car rental.*"
   ]
  },
  {
   "cell_type": "code",
   "execution_count": null,
   "metadata": {},
   "outputs": [],
   "source": [
    "# Use these cells to answer the question - build the function step-by-step"
   ]
  },
  {
   "cell_type": "code",
   "execution_count": 68,
   "metadata": {
    "execution": {
     "iopub.execute_input": "2020-08-31T05:55:31.033138Z",
     "iopub.status.busy": "2020-08-31T05:55:31.032138Z",
     "iopub.status.idle": "2020-08-31T05:55:31.052134Z",
     "shell.execute_reply": "2020-08-31T05:55:31.050134Z",
     "shell.execute_reply.started": "2020-08-31T05:55:31.033138Z"
    }
   },
   "outputs": [],
   "source": [
    "def cost_of_trip(flight_cost, hotel_rate, car_rental, duration=1):\n",
    "    \n",
    "    days = math.ceil(duration * 7)\n",
    "    \n",
    "    weeks = duration if duration >= 1 else math.ceil(duration) \n",
    "    \n",
    "    total_cost = flight_cost + hotel_rate * days + car_rental * weeks\n",
    "    \n",
    "    return total_cost"
   ]
  },
  {
   "cell_type": "code",
   "execution_count": 73,
   "metadata": {
    "execution": {
     "iopub.execute_input": "2020-08-31T06:06:43.453955Z",
     "iopub.status.busy": "2020-08-31T06:06:43.453955Z",
     "iopub.status.idle": "2020-08-31T06:06:43.468956Z",
     "shell.execute_reply": "2020-08-31T06:06:43.466955Z",
     "shell.execute_reply.started": "2020-08-31T06:06:43.453955Z"
    }
   },
   "outputs": [
    {
     "name": "stdout",
     "output_type": "stream",
     "text": [
      "Paris trip cost: 540\n",
      "London trip cost: 580\n",
      "Dubai trip cost: 555\n",
      "Mumbai trip cost: 590\n",
      "\n",
      "Paris trip cost: 540\n",
      "London trip cost: 580\n",
      "Dubai trip cost: 555\n",
      "Mumbai trip cost: 590\n"
     ]
    }
   ],
   "source": [
    "# 1 week cost\n",
    "\n",
    "print(f\"Paris trip cost: {cost_of_trip(200, 20, 200, 1)}\")\n",
    "print(f\"London trip cost: {cost_of_trip(250, 30, 120, 1)}\")\n",
    "print(f\"Dubai trip cost: {cost_of_trip(370, 15, 80, 1)}\")\n",
    "print(f\"Mumbai trip cost: {cost_of_trip(450, 10, 70, 1)}\")\n",
    "\n",
    "print()\n",
    "\n",
    "print(f\"Paris trip cost: {cost_of_trip(200, 20, 200)}\")\n",
    "print(f\"London trip cost: {cost_of_trip(250, 30, 120)}\")\n",
    "print(f\"Dubai trip cost: {cost_of_trip(370, 15, 80)}\")\n",
    "print(f\"Mumbai trip cost: {cost_of_trip(450, 10, 70)}\")"
   ]
  },
  {
   "cell_type": "code",
   "execution_count": 76,
   "metadata": {
    "execution": {
     "iopub.execute_input": "2020-08-31T06:12:14.762573Z",
     "iopub.status.busy": "2020-08-31T06:12:14.762573Z",
     "iopub.status.idle": "2020-08-31T06:12:14.784572Z",
     "shell.execute_reply": "2020-08-31T06:12:14.783569Z",
     "shell.execute_reply.started": "2020-08-31T06:12:14.762573Z"
    }
   },
   "outputs": [
    {
     "name": "stdout",
     "output_type": "stream",
     "text": [
      "Paris trip cost: 480\n",
      "London trip cost: 490\n",
      "Dubai trip cost: 510\n",
      "Mumbai trip cost: 560\n"
     ]
    }
   ],
   "source": [
    "# 4 days cost\n",
    "\n",
    "print(f\"Paris trip cost: {cost_of_trip(200, 20, 200, 4 / 7)}\")\n",
    "print(f\"London trip cost: {cost_of_trip(250, 30, 120, 4 / 7)}\")\n",
    "print(f\"Dubai trip cost: {cost_of_trip(370, 15, 80, 4 / 7)}\")\n",
    "print(f\"Mumbai trip cost: {cost_of_trip(450, 10, 70, 4 / 7)}\")"
   ]
  },
  {
   "cell_type": "code",
   "execution_count": 72,
   "metadata": {
    "execution": {
     "iopub.execute_input": "2020-08-31T05:59:31.904257Z",
     "iopub.status.busy": "2020-08-31T05:59:31.903255Z",
     "iopub.status.idle": "2020-08-31T05:59:31.924255Z",
     "shell.execute_reply": "2020-08-31T05:59:31.922259Z",
     "shell.execute_reply.started": "2020-08-31T05:59:31.904257Z"
    }
   },
   "outputs": [
    {
     "name": "stdout",
     "output_type": "stream",
     "text": [
      "Paris trip cost: 685.7142857142858\n",
      "London trip cost: 721.4285714285714\n",
      "Dubai trip cost: 634.2857142857143\n",
      "Mumbai trip cost: 650.0\n"
     ]
    }
   ],
   "source": [
    "# 10 day cost\n",
    "\n",
    "print(f\"Paris trip cost: {cost_of_trip(200, 20, 200, 10 / 7)}\")\n",
    "print(f\"London trip cost: {cost_of_trip(250, 30, 120, 10 / 7)}\")\n",
    "print(f\"Dubai trip cost: {cost_of_trip(370, 15, 80, 10 / 7)}\")\n",
    "print(f\"Mumbai trip cost: {cost_of_trip(450, 10, 70, 10 / 7)}\")"
   ]
  },
  {
   "cell_type": "code",
   "execution_count": 74,
   "metadata": {
    "execution": {
     "iopub.execute_input": "2020-08-31T06:07:45.452228Z",
     "iopub.status.busy": "2020-08-31T06:07:45.452228Z",
     "iopub.status.idle": "2020-08-31T06:07:45.467227Z",
     "shell.execute_reply": "2020-08-31T06:07:45.465231Z",
     "shell.execute_reply.started": "2020-08-31T06:07:45.452228Z"
    }
   },
   "outputs": [
    {
     "name": "stdout",
     "output_type": "stream",
     "text": [
      "Paris trip cost: 880\n",
      "London trip cost: 910\n",
      "Dubai trip cost: 740\n",
      "Mumbai trip cost: 730\n"
     ]
    }
   ],
   "source": [
    "# 2 week cost\n",
    "\n",
    "print(f\"Paris trip cost: {cost_of_trip(200, 20, 200, 2)}\")\n",
    "print(f\"London trip cost: {cost_of_trip(250, 30, 120, 2)}\")\n",
    "print(f\"Dubai trip cost: {cost_of_trip(370, 15, 80, 2)}\")\n",
    "print(f\"Mumbai trip cost: {cost_of_trip(450, 10, 70, 2)}\")"
   ]
  },
  {
   "cell_type": "code",
   "execution_count": 79,
   "metadata": {
    "execution": {
     "iopub.execute_input": "2020-08-31T06:21:07.908707Z",
     "iopub.status.busy": "2020-08-31T06:21:07.907709Z",
     "iopub.status.idle": "2020-08-31T06:21:07.931705Z",
     "shell.execute_reply": "2020-08-31T06:21:07.929711Z",
     "shell.execute_reply.started": "2020-08-31T06:21:07.908707Z"
    }
   },
   "outputs": [
    {
     "name": "stdout",
     "output_type": "stream",
     "text": [
      "Paris trip cost: 1268.5714285714284\n",
      "London trip cost: 1287.142857142857\n",
      "Dubai trip cost: 951.4285714285714\n",
      "Mumbai trip cost: 890.0\n"
     ]
    }
   ],
   "source": [
    "# Maximize duration for $1,000 budget\n",
    "\n",
    "print(f\"Paris trip cost: {cost_of_trip(200, 20, 200, 22 / 7)}\")\n",
    "print(f\"London trip cost: {cost_of_trip(250, 30, 120, 22 / 7)}\")\n",
    "print(f\"Dubai trip cost: {cost_of_trip(370, 15, 80, 22 / 7)}\")\n",
    "print(f\"Mumbai trip cost: {cost_of_trip(450, 10, 70, 22 / 7)}\")"
   ]
  },
  {
   "cell_type": "code",
   "execution_count": 78,
   "metadata": {
    "execution": {
     "iopub.execute_input": "2020-08-31T06:16:55.682183Z",
     "iopub.status.busy": "2020-08-31T06:16:55.681179Z",
     "iopub.status.idle": "2020-08-31T06:16:55.693181Z",
     "shell.execute_reply": "2020-08-31T06:16:55.691184Z",
     "shell.execute_reply.started": "2020-08-31T06:16:55.682183Z"
    }
   },
   "outputs": [
    {
     "name": "stdout",
     "output_type": "stream",
     "text": [
      "Paris trip cost: 420\n",
      "London trip cost: 400\n",
      "Dubai trip cost: 465\n",
      "Mumbai trip cost: 530\n"
     ]
    }
   ],
   "source": [
    "# minimize duration\n",
    "\n",
    "print(f\"Paris trip cost: {cost_of_trip(200, 20, 200, 1 / 7)}\")\n",
    "print(f\"London trip cost: {cost_of_trip(250, 30, 120, 1 / 7)}\")\n",
    "print(f\"Dubai trip cost: {cost_of_trip(370, 15, 80, 1 / 7)}\")\n",
    "print(f\"Mumbai trip cost: {cost_of_trip(450, 10, 70, 1 / 7)}\")"
   ]
  },
  {
   "cell_type": "markdown",
   "metadata": {},
   "source": [
    "For a $600 budget, the city to visit is: Paris"
   ]
  },
  {
   "cell_type": "code",
   "execution_count": 81,
   "metadata": {
    "execution": {
     "iopub.execute_input": "2020-08-31T06:23:10.468530Z",
     "iopub.status.busy": "2020-08-31T06:23:10.467528Z",
     "iopub.status.idle": "2020-08-31T06:23:10.482532Z",
     "shell.execute_reply": "2020-08-31T06:23:10.480531Z",
     "shell.execute_reply.started": "2020-08-31T06:23:10.468530Z"
    }
   },
   "outputs": [
    {
     "name": "stdout",
     "output_type": "stream",
     "text": [
      "Paris trip cost: 2240\n",
      "London trip cost: 2230\n",
      "Dubai trip cost: 1480\n",
      "Mumbai trip cost: 1290\n"
     ]
    }
   ],
   "source": [
    "# Maximize duration for a $2, 000 budget\n",
    "# Mumbai is the best city to visit to maximize duration.\n",
    "\n",
    "print(f\"Paris trip cost: {cost_of_trip(200, 20, 200, 6)}\")\n",
    "print(f\"London trip cost: {cost_of_trip(250, 30, 120, 6)}\")\n",
    "print(f\"Dubai trip cost: {cost_of_trip(370, 15, 80, 6)}\")\n",
    "print(f\"Mumbai trip cost: {cost_of_trip(450, 10, 70, 6)}\")"
   ]
  },
  {
   "cell_type": "markdown",
   "metadata": {},
   "source": [
    "## Summary and Further Reading\n",
    "\n",
    "With this we complete our discussion of functions in Python. We've covered the following topics in this tutorial:\n",
    "\n",
    "* Creating and using functions\n",
    "* Functions with one or more arguments\n",
    "* Local variables and scope\n",
    "* Returning values using `return`\n",
    "* Using default arguments to make a function flexible\n",
    "* Using named arguments while invoking a function\n",
    "* Importing modules and using library functions\n",
    "* Reusing and improving functions to handle new use cases\n",
    "* Handling exceptions with `try`-`except`\n",
    "* Documenting functions using docstrings\n",
    "\n",
    "This is by no means an exhaustive or comprehensive tutorial on functions in Python. Here are few more topics to learn about:\n",
    "\n",
    "* Functions with an arbitrary number of arguments using (`*args` and `**kwargs`)\n",
    "* Defining functions inside functions (and closures)\n",
    "* A function that invokes itself (recursion)\n",
    "* Functions that accept other functions as arguments or return other functions\n",
    "* Functions that enhance other functions (decorators)\n",
    "\n",
    "Following are some resources to learn about more functions in Python:\n",
    "\n",
    "* Python Tutorial at W3Schools: https://www.w3schools.com/python/\n",
    "* Practical Python Programming: https://dabeaz-course.github.io/practical-python/Notes/Contents.html\n",
    "* Python official documentation: https://docs.python.org/3/tutorial/index.html\n",
    "\n",
    "You are ready to move on to the next tutorial: [\"Reading from and writing to files using Python\"](https://jovian.ml/aakashns/python-os-and-filesystem)."
   ]
  },
  {
   "cell_type": "code",
   "execution_count": null,
   "metadata": {},
   "outputs": [],
   "source": []
  }
 ],
 "metadata": {
  "kernelspec": {
   "display_name": "Python 3",
   "language": "python",
   "name": "python3"
  },
  "language_info": {
   "codemirror_mode": {
    "name": "ipython",
    "version": 3
   },
   "file_extension": ".py",
   "mimetype": "text/x-python",
   "name": "python",
   "nbconvert_exporter": "python",
   "pygments_lexer": "ipython3",
   "version": "3.8.5"
  }
 },
 "nbformat": 4,
 "nbformat_minor": 4
}
