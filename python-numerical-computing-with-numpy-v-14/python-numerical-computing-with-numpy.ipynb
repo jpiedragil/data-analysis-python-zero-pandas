{
 "cells": [
  {
   "cell_type": "markdown",
   "metadata": {},
   "source": [
    "# Numerical Computing with Python and Numpy\n",
    "\n",
    "### Part 6 of \"Data Analysis with Python: Zero to Pandas\"\n",
    "\n",
    "This tutorial is the sixth in a series on introduction to programming and data analysis using the Python language. These tutorials take a practical coding-based approach, and the best way to learn the material is to execute the code and experiment with the examples. Check out the full series here: \n",
    "\n",
    "1. [First Steps with Python and Jupyter](https://jovian.ml/aakashns/first-steps-with-python)\n",
    "2. [A Quick Tour of Variables and Data Types](https://jovian.ml/aakashns/python-variables-and-data-types)\n",
    "3. [Branching using Conditional Statements and Loops](https://jovian.ml/aakashns/python-branching-and-loops)\n",
    "4. [Writing Reusable Code Using Functions](https://jovian.ml/aakashns/python-functions-and-scope)\n",
    "5. [Reading from and Writing to Files](https://jovian.ml/aakashns/python-os-and-filesystem)\n",
    "6. [Numerical Computing with Python and Numpy](https://jovian.ml/aakashns/numerical-computing-with-numpy)\n",
    "\n"
   ]
  },
  {
   "cell_type": "markdown",
   "metadata": {},
   "source": [
    "## How to run the code\n",
    "\n",
    "This tutorial hosted on [Jovian.ml](https://www.jovian.ml), a platform for sharing data science projects online. You can \"run\" this tutorial and experiment with the code examples in a couple of ways: *using free online resources* (recommended) or *on your own computer*.\n",
    "\n",
    ">  This tutorial is a [Jupyter notebook](https://jupyter.org) - a document made of \"cells\", which can contain explanations in text or code written in Python. Code cells can be executed and their outputs e.g. numbers, messages, graphs, tables, files etc. can be viewed within the notebook, which makes it a really powerful platform for experimentation and analysis. Don't afraid to experiment with the code & break things - you'll learn a lot by encoutering and fixing errors. You can use the \"Kernel > Restart & Clear Output\" menu option to clear all outputs and start again from the top of the notebook.\n",
    "\n",
    "### Option 1: Running using free online resources (1-click, recommended)\n",
    "\n",
    "The easiest way to start executing this notebook is to click the \"Run\" button at the top of this page, and select \"Run on Binder\". This will run the notebook on [mybinder.org](https://mybinder.org), a free online service for running Jupyter notebooks. You can also select \"Run on Colab\" or \"Run on Kaggle\", but you'll need to create an account on [Google Colab](https://colab.research.google.com) or [Kaggle](https://kaggle.com) to use these platforms.\n",
    "\n",
    "\n",
    "### Option 2: Running on your computer locally\n",
    "\n",
    "You'll need to install Python and download this notebook on your computer to run in locally. We recommend using the [Conda](https://docs.conda.io/en/latest/) distribution of Python. Here's what you need to do to get started:\n",
    "\n",
    "1. Install Conda by [following these instructions](https://conda.io/projects/conda/en/latest/user-guide/install/index.html). Make sure to add Conda binaries to your system `PATH` to be able to run the `conda` command line tool from your Mac/Linux terminal or Windows command prompt. \n",
    "\n",
    "\n",
    "2. Create and activate a [Conda virtual environment](https://docs.conda.io/projects/conda/en/latest/user-guide/tasks/manage-environments.html) called `zerotopandas` which you can use for this tutorial series:\n",
    "```\n",
    "conda create -n zerotopandas -y python=3.8 \n",
    "conda activate zerotopandas\n",
    "```\n",
    "You'll need to create the environment only once, but you'll have to activate it every time want to run the notebook. When the environment is activated, you should be able to see a prefix `(numerical-computing-with-numpy)` within your terminal or command prompt.\n",
    "\n",
    "\n",
    "3. Install the required Python libraries within the environmebt by the running the following command on your  terminal or command prompt:\n",
    "```\n",
    "pip install jovian jupyter numpy pandas matplotlib seaborn --upgrade\n",
    "```\n",
    "\n",
    "4. Download the notebook for this tutorial using the `jovian clone` command:\n",
    "```\n",
    "jovian clone aakashns/python-numerical-computing-with-numpy\n",
    "```\n",
    "The notebook is downloaded to the directory `python-numerical-computing-with-numpy`.\n",
    "\n",
    "\n",
    "5. Enter the project directory and start the Jupyter notebook:\n",
    "```\n",
    "cd python-numerical-computing-with-numpy\n",
    "jupyter notebook\n",
    "```\n",
    "\n",
    "6. You can now access Jupyter's web interface by clicking the link that shows up on the terminal or by visiting http://localhost:8888 on your browser. Click on the notebook `python-numerical-computing-with-numpy.ipynb` to open it and run the code. If you want to type out the code yourself, you can also create a new notebook using the \"New\" button.\n"
   ]
  },
  {
   "cell_type": "markdown",
   "metadata": {},
   "source": [
    "## Working with numerical data\n",
    "\n",
    "The \"data\" in *Data Analysis* typically refers to numerical data e.g. stock prices, sales figures, sensor measurements, sports scores, database tables etc. The [Numpy](https://numpy.org) library provides specialized data structures, functions and other tools for numerical computing in Python. Let's work through an example to see why & how to use Numpy for working with numerical data.\n",
    "\n",
    "\n",
    "> Let's say we want to use climate data like the temperature, rainfall and humidity in a region to determine if the region is well suited for growing apples. A really simple approach for doing this would be to formulate the relationship between the annual yield of apples (tons per hectare) and the climatic conditions like the average temperature (in degrees Farenheit), rainfall (in  millimeters) & average relative humidity (in percentage) as a linear equation.\n",
    ">\n",
    "> `yield_of_apples = w1 * temperature + w2 * rainfall + w3 * humidity`\n",
    "\n",
    "We're expressing the yield of apples as a weighted sum of the temperature, rainfall and humidity. Obviously, this is an approximation, since the actual relation may not necessarily be linear. But a simple linear model like this often works well in practice.\n",
    "\n",
    "Based on some statical analysis of historical data, we might we able to come up with reasonable values for the weights `w1`, `w2` and `w3`. Here's an example set of values:"
   ]
  },
  {
   "cell_type": "code",
   "execution_count": 1,
   "metadata": {
    "execution": {
     "iopub.execute_input": "2020-09-12T04:12:18.792325Z",
     "iopub.status.busy": "2020-09-12T04:12:18.792325Z",
     "iopub.status.idle": "2020-09-12T04:12:18.814318Z",
     "shell.execute_reply": "2020-09-12T04:12:18.812317Z",
     "shell.execute_reply.started": "2020-09-12T04:12:18.792325Z"
    }
   },
   "outputs": [],
   "source": [
    "w1, w2, w3 = 0.3, 0.2, 0.5"
   ]
  },
  {
   "cell_type": "markdown",
   "metadata": {},
   "source": [
    "Given some climate data for a region, we can now predict what the yield of apples in the region might look like. Here's some sample data:\n",
    "\n",
    "<img src=\"https://i.imgur.com/TXPBiqv.png\" style=\"width:360px;\">\n",
    "\n",
    "To begin, we can define some variables to record the climate data for a region."
   ]
  },
  {
   "cell_type": "code",
   "execution_count": 2,
   "metadata": {
    "execution": {
     "iopub.execute_input": "2020-09-12T04:12:34.262586Z",
     "iopub.status.busy": "2020-09-12T04:12:34.261584Z",
     "iopub.status.idle": "2020-09-12T04:12:34.274585Z",
     "shell.execute_reply": "2020-09-12T04:12:34.273583Z",
     "shell.execute_reply.started": "2020-09-12T04:12:34.262586Z"
    }
   },
   "outputs": [],
   "source": [
    "kanto_temp = 73\n",
    "kanto_rainfall = 67\n",
    "kanto_humidity = 43"
   ]
  },
  {
   "cell_type": "markdown",
   "metadata": {},
   "source": [
    "These variables can now we substituted into the linear equation to predict yield of apples in that region."
   ]
  },
  {
   "cell_type": "code",
   "execution_count": 3,
   "metadata": {
    "execution": {
     "iopub.execute_input": "2020-09-12T04:13:05.807366Z",
     "iopub.status.busy": "2020-09-12T04:13:05.806362Z",
     "iopub.status.idle": "2020-09-12T04:13:05.826367Z",
     "shell.execute_reply": "2020-09-12T04:13:05.824360Z",
     "shell.execute_reply.started": "2020-09-12T04:13:05.807366Z"
    }
   },
   "outputs": [
    {
     "data": {
      "text/plain": [
       "56.8"
      ]
     },
     "execution_count": 3,
     "metadata": {},
     "output_type": "execute_result"
    }
   ],
   "source": [
    "kanto_yield_apples = kanto_temp * w1 + kanto_rainfall * w2 + kanto_humidity * w3\n",
    "kanto_yield_apples"
   ]
  },
  {
   "cell_type": "code",
   "execution_count": 4,
   "metadata": {
    "execution": {
     "iopub.execute_input": "2020-09-12T04:13:45.271030Z",
     "iopub.status.busy": "2020-09-12T04:13:45.270032Z",
     "iopub.status.idle": "2020-09-12T04:13:45.292030Z",
     "shell.execute_reply": "2020-09-12T04:13:45.290027Z",
     "shell.execute_reply.started": "2020-09-12T04:13:45.271030Z"
    }
   },
   "outputs": [
    {
     "name": "stdout",
     "output_type": "stream",
     "text": [
      "The expected yield of apples in Kanto region is 56.8 tons per hectare.\n"
     ]
    }
   ],
   "source": [
    "print(\"The expected yield of apples in Kanto region is {} tons per hectare.\".format(kanto_yield_apples))"
   ]
  },
  {
   "cell_type": "markdown",
   "metadata": {},
   "source": [
    "To make it slightly easier to perform the above computation for multiple regions, we can represent the climate data for each region as a vector i.e. a list of numbers."
   ]
  },
  {
   "cell_type": "code",
   "execution_count": 5,
   "metadata": {
    "execution": {
     "iopub.execute_input": "2020-09-12T04:17:58.575704Z",
     "iopub.status.busy": "2020-09-12T04:17:58.574703Z",
     "iopub.status.idle": "2020-09-12T04:17:58.588700Z",
     "shell.execute_reply": "2020-09-12T04:17:58.586698Z",
     "shell.execute_reply.started": "2020-09-12T04:17:58.575704Z"
    }
   },
   "outputs": [],
   "source": [
    "kanto = [73, 67, 43]\n",
    "johto = [91, 88, 64]\n",
    "hoenn = [87, 134, 58]\n",
    "sinnoh = [102, 43, 37]\n",
    "unova = [69, 96, 70]"
   ]
  },
  {
   "cell_type": "markdown",
   "metadata": {},
   "source": [
    "The three numbers in each vector represent the temperature, rainfall and humidity data respecively. The set of weights to be used in the forumla can also be represented as a vector."
   ]
  },
  {
   "cell_type": "code",
   "execution_count": 6,
   "metadata": {
    "execution": {
     "iopub.execute_input": "2020-09-12T04:18:01.610698Z",
     "iopub.status.busy": "2020-09-12T04:18:01.610698Z",
     "iopub.status.idle": "2020-09-12T04:18:01.625702Z",
     "shell.execute_reply": "2020-09-12T04:18:01.623700Z",
     "shell.execute_reply.started": "2020-09-12T04:18:01.610698Z"
    }
   },
   "outputs": [],
   "source": [
    "weights = [w1, w2, w3]"
   ]
  },
  {
   "cell_type": "markdown",
   "metadata": {},
   "source": [
    "We can now write a function `crop_yield` to calcuate the yield of apples (or any other crop) given the climate data and the respective weights."
   ]
  },
  {
   "cell_type": "code",
   "execution_count": 7,
   "metadata": {
    "execution": {
     "iopub.execute_input": "2020-09-12T04:18:04.222704Z",
     "iopub.status.busy": "2020-09-12T04:18:04.221700Z",
     "iopub.status.idle": "2020-09-12T04:18:04.237701Z",
     "shell.execute_reply": "2020-09-12T04:18:04.235698Z",
     "shell.execute_reply.started": "2020-09-12T04:18:04.222704Z"
    }
   },
   "outputs": [],
   "source": [
    "def crop_yield(region, weights):\n",
    "    result = 0\n",
    "    for x, w in zip(region, weights):\n",
    "        result += x * w\n",
    "    return result"
   ]
  },
  {
   "cell_type": "code",
   "execution_count": 8,
   "metadata": {
    "execution": {
     "iopub.execute_input": "2020-09-12T04:18:09.541702Z",
     "iopub.status.busy": "2020-09-12T04:18:09.541702Z",
     "iopub.status.idle": "2020-09-12T04:18:09.555703Z",
     "shell.execute_reply": "2020-09-12T04:18:09.553702Z",
     "shell.execute_reply.started": "2020-09-12T04:18:09.541702Z"
    }
   },
   "outputs": [
    {
     "data": {
      "text/plain": [
       "56.8"
      ]
     },
     "execution_count": 8,
     "metadata": {},
     "output_type": "execute_result"
    }
   ],
   "source": [
    "crop_yield(kanto, weights)"
   ]
  },
  {
   "cell_type": "code",
   "execution_count": 9,
   "metadata": {
    "execution": {
     "iopub.execute_input": "2020-09-12T04:18:14.566702Z",
     "iopub.status.busy": "2020-09-12T04:18:14.566702Z",
     "iopub.status.idle": "2020-09-12T04:18:14.579700Z",
     "shell.execute_reply": "2020-09-12T04:18:14.578700Z",
     "shell.execute_reply.started": "2020-09-12T04:18:14.566702Z"
    }
   },
   "outputs": [
    {
     "data": {
      "text/plain": [
       "76.9"
      ]
     },
     "execution_count": 9,
     "metadata": {},
     "output_type": "execute_result"
    }
   ],
   "source": [
    "crop_yield(johto, weights)"
   ]
  },
  {
   "cell_type": "code",
   "execution_count": 10,
   "metadata": {
    "execution": {
     "iopub.execute_input": "2020-09-12T04:18:15.977701Z",
     "iopub.status.busy": "2020-09-12T04:18:15.977701Z",
     "iopub.status.idle": "2020-09-12T04:18:15.998701Z",
     "shell.execute_reply": "2020-09-12T04:18:15.996699Z",
     "shell.execute_reply.started": "2020-09-12T04:18:15.977701Z"
    }
   },
   "outputs": [
    {
     "data": {
      "text/plain": [
       "74.9"
      ]
     },
     "execution_count": 10,
     "metadata": {},
     "output_type": "execute_result"
    }
   ],
   "source": [
    "crop_yield(unova, weights)"
   ]
  },
  {
   "cell_type": "markdown",
   "metadata": {},
   "source": [
    "## Going from Python lists to Numpy arrays\n",
    "\n",
    "\n",
    "The calculation performed by the `crop_yield` (element-wise multiplication of two vectors, and taking a sum of the results) is also called the *dot product* of the two vectors. Learn more about dot product here: https://www.khanacademy.org/math/linear-algebra/vectors-and-spaces/dot-cross-products/v/vector-dot-product-and-vector-length\n",
    "\n",
    "The Numpy library provides a built-in function to perform the dot product of two vectors. However, the lists must first be converted to numpy arrays before we can perform the operation. To begin, let's import the `numpy` module. It is common practice to import numpy with the alias `np`."
   ]
  },
  {
   "cell_type": "code",
   "execution_count": 11,
   "metadata": {
    "execution": {
     "iopub.execute_input": "2020-09-12T04:19:16.596328Z",
     "iopub.status.busy": "2020-09-12T04:19:16.596328Z",
     "iopub.status.idle": "2020-09-12T04:19:16.987324Z",
     "shell.execute_reply": "2020-09-12T04:19:16.986321Z",
     "shell.execute_reply.started": "2020-09-12T04:19:16.596328Z"
    }
   },
   "outputs": [],
   "source": [
    "import numpy as np"
   ]
  },
  {
   "cell_type": "markdown",
   "metadata": {},
   "source": [
    "Numpy arrays can be created using the `np.array` function."
   ]
  },
  {
   "cell_type": "code",
   "execution_count": 12,
   "metadata": {
    "execution": {
     "iopub.execute_input": "2020-09-12T04:19:39.212560Z",
     "iopub.status.busy": "2020-09-12T04:19:39.211560Z",
     "iopub.status.idle": "2020-09-12T04:19:39.220558Z",
     "shell.execute_reply": "2020-09-12T04:19:39.218563Z",
     "shell.execute_reply.started": "2020-09-12T04:19:39.212560Z"
    }
   },
   "outputs": [],
   "source": [
    "kanto = np.array([73, 67, 43])"
   ]
  },
  {
   "cell_type": "code",
   "execution_count": 13,
   "metadata": {
    "execution": {
     "iopub.execute_input": "2020-09-12T04:19:40.813559Z",
     "iopub.status.busy": "2020-09-12T04:19:40.812559Z",
     "iopub.status.idle": "2020-09-12T04:19:40.831563Z",
     "shell.execute_reply": "2020-09-12T04:19:40.830560Z",
     "shell.execute_reply.started": "2020-09-12T04:19:40.813559Z"
    }
   },
   "outputs": [
    {
     "data": {
      "text/plain": [
       "array([73, 67, 43])"
      ]
     },
     "execution_count": 13,
     "metadata": {},
     "output_type": "execute_result"
    }
   ],
   "source": [
    "kanto"
   ]
  },
  {
   "cell_type": "code",
   "execution_count": 14,
   "metadata": {
    "execution": {
     "iopub.execute_input": "2020-09-12T04:19:43.678560Z",
     "iopub.status.busy": "2020-09-12T04:19:43.677562Z",
     "iopub.status.idle": "2020-09-12T04:19:43.685559Z",
     "shell.execute_reply": "2020-09-12T04:19:43.683560Z",
     "shell.execute_reply.started": "2020-09-12T04:19:43.678560Z"
    }
   },
   "outputs": [],
   "source": [
    "weights = np.array([w1, w2, w3])"
   ]
  },
  {
   "cell_type": "code",
   "execution_count": 15,
   "metadata": {
    "execution": {
     "iopub.execute_input": "2020-09-12T04:19:44.997559Z",
     "iopub.status.busy": "2020-09-12T04:19:44.996565Z",
     "iopub.status.idle": "2020-09-12T04:19:45.014563Z",
     "shell.execute_reply": "2020-09-12T04:19:45.012559Z",
     "shell.execute_reply.started": "2020-09-12T04:19:44.997559Z"
    }
   },
   "outputs": [
    {
     "data": {
      "text/plain": [
       "array([0.3, 0.2, 0.5])"
      ]
     },
     "execution_count": 15,
     "metadata": {},
     "output_type": "execute_result"
    }
   ],
   "source": [
    "weights"
   ]
  },
  {
   "cell_type": "code",
   "execution_count": 16,
   "metadata": {
    "execution": {
     "iopub.execute_input": "2020-09-12T04:19:51.612560Z",
     "iopub.status.busy": "2020-09-12T04:19:51.611560Z",
     "iopub.status.idle": "2020-09-12T04:19:51.624560Z",
     "shell.execute_reply": "2020-09-12T04:19:51.622558Z",
     "shell.execute_reply.started": "2020-09-12T04:19:51.612560Z"
    }
   },
   "outputs": [
    {
     "data": {
      "text/plain": [
       "numpy.ndarray"
      ]
     },
     "execution_count": 16,
     "metadata": {},
     "output_type": "execute_result"
    }
   ],
   "source": [
    "type(kanto)"
   ]
  },
  {
   "cell_type": "code",
   "execution_count": 17,
   "metadata": {
    "execution": {
     "iopub.execute_input": "2020-09-12T04:19:56.586558Z",
     "iopub.status.busy": "2020-09-12T04:19:56.585560Z",
     "iopub.status.idle": "2020-09-12T04:19:56.599559Z",
     "shell.execute_reply": "2020-09-12T04:19:56.598562Z",
     "shell.execute_reply.started": "2020-09-12T04:19:56.586558Z"
    }
   },
   "outputs": [
    {
     "data": {
      "text/plain": [
       "numpy.ndarray"
      ]
     },
     "execution_count": 17,
     "metadata": {},
     "output_type": "execute_result"
    }
   ],
   "source": [
    "type(weights)"
   ]
  },
  {
   "cell_type": "markdown",
   "metadata": {},
   "source": [
    "Just like lists, Numpy arrays support the indexing notation `[]`"
   ]
  },
  {
   "cell_type": "code",
   "execution_count": 18,
   "metadata": {
    "execution": {
     "iopub.execute_input": "2020-09-12T04:20:15.572282Z",
     "iopub.status.busy": "2020-09-12T04:20:15.571281Z",
     "iopub.status.idle": "2020-09-12T04:20:15.585281Z",
     "shell.execute_reply": "2020-09-12T04:20:15.583282Z",
     "shell.execute_reply.started": "2020-09-12T04:20:15.572282Z"
    }
   },
   "outputs": [
    {
     "data": {
      "text/plain": [
       "0.3"
      ]
     },
     "execution_count": 18,
     "metadata": {},
     "output_type": "execute_result"
    }
   ],
   "source": [
    "weights[0]"
   ]
  },
  {
   "cell_type": "code",
   "execution_count": 19,
   "metadata": {
    "execution": {
     "iopub.execute_input": "2020-09-12T04:20:26.559665Z",
     "iopub.status.busy": "2020-09-12T04:20:26.559665Z",
     "iopub.status.idle": "2020-09-12T04:20:26.574668Z",
     "shell.execute_reply": "2020-09-12T04:20:26.572666Z",
     "shell.execute_reply.started": "2020-09-12T04:20:26.559665Z"
    }
   },
   "outputs": [
    {
     "data": {
      "text/plain": [
       "43"
      ]
     },
     "execution_count": 19,
     "metadata": {},
     "output_type": "execute_result"
    }
   ],
   "source": [
    "kanto[2]"
   ]
  },
  {
   "cell_type": "markdown",
   "metadata": {},
   "source": [
    "## Operating on Numpy arrays\n",
    "\n",
    "We can now compute the dot product of the two vectors using the `np.dot` function"
   ]
  },
  {
   "cell_type": "code",
   "execution_count": 20,
   "metadata": {
    "execution": {
     "iopub.execute_input": "2020-09-12T04:20:42.568188Z",
     "iopub.status.busy": "2020-09-12T04:20:42.568188Z",
     "iopub.status.idle": "2020-09-12T04:20:42.598187Z",
     "shell.execute_reply": "2020-09-12T04:20:42.596191Z",
     "shell.execute_reply.started": "2020-09-12T04:20:42.568188Z"
    }
   },
   "outputs": [
    {
     "data": {
      "text/plain": [
       "56.8"
      ]
     },
     "execution_count": 20,
     "metadata": {},
     "output_type": "execute_result"
    }
   ],
   "source": [
    "np.dot(kanto, weights)"
   ]
  },
  {
   "cell_type": "markdown",
   "metadata": {},
   "source": [
    "We can achieve the same result with lower level operations supported by Numpy arrays: performing an element-wise multiplication and calculating the sum of the resulting numbers."
   ]
  },
  {
   "cell_type": "code",
   "execution_count": 21,
   "metadata": {
    "execution": {
     "iopub.execute_input": "2020-09-12T04:20:58.602651Z",
     "iopub.status.busy": "2020-09-12T04:20:58.602651Z",
     "iopub.status.idle": "2020-09-12T04:20:58.612656Z",
     "shell.execute_reply": "2020-09-12T04:20:58.610653Z",
     "shell.execute_reply.started": "2020-09-12T04:20:58.602651Z"
    }
   },
   "outputs": [
    {
     "data": {
      "text/plain": [
       "56.8"
      ]
     },
     "execution_count": 21,
     "metadata": {},
     "output_type": "execute_result"
    }
   ],
   "source": [
    "(kanto * weights).sum()"
   ]
  },
  {
   "cell_type": "markdown",
   "metadata": {},
   "source": [
    "The `*` operator performs an element-wise multiplication of two arrays (assuming they have the same size), and the `sum` method calcuates the sum of numbers in an array."
   ]
  },
  {
   "cell_type": "code",
   "execution_count": 22,
   "metadata": {
    "execution": {
     "iopub.execute_input": "2020-09-12T04:21:22.827695Z",
     "iopub.status.busy": "2020-09-12T04:21:22.826696Z",
     "iopub.status.idle": "2020-09-12T04:21:22.847689Z",
     "shell.execute_reply": "2020-09-12T04:21:22.846688Z",
     "shell.execute_reply.started": "2020-09-12T04:21:22.827695Z"
    }
   },
   "outputs": [],
   "source": [
    "arr1 = np.array([1, 2, 3])\n",
    "arr2 = np.array([4, 5, 6])"
   ]
  },
  {
   "cell_type": "code",
   "execution_count": 23,
   "metadata": {
    "execution": {
     "iopub.execute_input": "2020-09-12T04:21:45.586949Z",
     "iopub.status.busy": "2020-09-12T04:21:45.585949Z",
     "iopub.status.idle": "2020-09-12T04:21:45.600951Z",
     "shell.execute_reply": "2020-09-12T04:21:45.598951Z",
     "shell.execute_reply.started": "2020-09-12T04:21:45.586949Z"
    }
   },
   "outputs": [
    {
     "data": {
      "text/plain": [
       "array([ 4, 10, 18])"
      ]
     },
     "execution_count": 23,
     "metadata": {},
     "output_type": "execute_result"
    }
   ],
   "source": [
    "arr1 * arr2"
   ]
  },
  {
   "cell_type": "code",
   "execution_count": 24,
   "metadata": {
    "execution": {
     "iopub.execute_input": "2020-09-12T04:21:48.573949Z",
     "iopub.status.busy": "2020-09-12T04:21:48.573949Z",
     "iopub.status.idle": "2020-09-12T04:21:48.587953Z",
     "shell.execute_reply": "2020-09-12T04:21:48.585949Z",
     "shell.execute_reply.started": "2020-09-12T04:21:48.573949Z"
    }
   },
   "outputs": [
    {
     "data": {
      "text/plain": [
       "15"
      ]
     },
     "execution_count": 24,
     "metadata": {},
     "output_type": "execute_result"
    }
   ],
   "source": [
    "arr2.sum()"
   ]
  },
  {
   "cell_type": "markdown",
   "metadata": {},
   "source": [
    "## Benefits of using Numpy arrays\n",
    "\n",
    "There are a couple of important benefits of using Numpy arrays instead of Python lists for operating on numerical data:\n",
    "\n",
    "- **Ease of use**: You can write small, concise and intutive mathematical expressions like `(kanto * weights).sum()` rather than using loops & custom functions like `crop_yeild`.\n",
    "- **Performance**: Numpy operations and functions are implemented internally in C++, which makes them much faster than using Python statements & loops which are interpreted at runtime\n",
    "\n",
    "Here's a quick comparision of dot products done of vectors with a million elements each using Python loops vs. Numpy arrays."
   ]
  },
  {
   "cell_type": "code",
   "execution_count": 25,
   "metadata": {
    "execution": {
     "iopub.execute_input": "2020-09-12T04:23:12.203242Z",
     "iopub.status.busy": "2020-09-12T04:23:12.202241Z",
     "iopub.status.idle": "2020-09-12T04:23:12.468243Z",
     "shell.execute_reply": "2020-09-12T04:23:12.466241Z",
     "shell.execute_reply.started": "2020-09-12T04:23:12.203242Z"
    }
   },
   "outputs": [],
   "source": [
    "# Python lists\n",
    "arr1 = list(range(1000000))\n",
    "arr2 = list(range(1000000, 2000000))\n",
    "\n",
    "# Numpy arrays\n",
    "arr1_np = np.array(arr1)\n",
    "arr2_np = np.array(arr2)"
   ]
  },
  {
   "cell_type": "code",
   "execution_count": 26,
   "metadata": {
    "execution": {
     "iopub.execute_input": "2020-09-12T04:23:28.619712Z",
     "iopub.status.busy": "2020-09-12T04:23:28.619712Z",
     "iopub.status.idle": "2020-09-12T04:23:28.953712Z",
     "shell.execute_reply": "2020-09-12T04:23:28.952712Z",
     "shell.execute_reply.started": "2020-09-12T04:23:28.619712Z"
    }
   },
   "outputs": [
    {
     "name": "stdout",
     "output_type": "stream",
     "text": [
      "Wall time: 321 ms\n"
     ]
    },
    {
     "data": {
      "text/plain": [
       "833332333333500000"
      ]
     },
     "execution_count": 26,
     "metadata": {},
     "output_type": "execute_result"
    }
   ],
   "source": [
    "%%time\n",
    "result = 0\n",
    "for x1, x2 in zip(arr1, arr2):\n",
    "    result += x1*x2\n",
    "result"
   ]
  },
  {
   "cell_type": "code",
   "execution_count": 27,
   "metadata": {
    "execution": {
     "iopub.execute_input": "2020-09-12T04:23:54.653816Z",
     "iopub.status.busy": "2020-09-12T04:23:54.653816Z",
     "iopub.status.idle": "2020-09-12T04:23:54.680814Z",
     "shell.execute_reply": "2020-09-12T04:23:54.678813Z",
     "shell.execute_reply.started": "2020-09-12T04:23:54.653816Z"
    }
   },
   "outputs": [
    {
     "name": "stdout",
     "output_type": "stream",
     "text": [
      "Wall time: 1 ms\n"
     ]
    },
    {
     "data": {
      "text/plain": [
       "-1942957984"
      ]
     },
     "execution_count": 27,
     "metadata": {},
     "output_type": "execute_result"
    }
   ],
   "source": [
    "%%time\n",
    "np.dot(arr1_np, arr2_np)"
   ]
  },
  {
   "cell_type": "markdown",
   "metadata": {},
   "source": [
    "As you can see, using `np.dot` is 100 times faster than using a `for` loop. This makes Numpy especially useful while working with really large datasets with tens of thousands or millions of data points.\n",
    "\n",
    "Let's save our work before continuing."
   ]
  },
  {
   "cell_type": "code",
   "execution_count": 28,
   "metadata": {
    "execution": {
     "iopub.execute_input": "2020-09-12T04:24:23.683640Z",
     "iopub.status.busy": "2020-09-12T04:24:23.682640Z",
     "iopub.status.idle": "2020-09-12T04:24:25.075641Z",
     "shell.execute_reply": "2020-09-12T04:24:25.073640Z",
     "shell.execute_reply.started": "2020-09-12T04:24:23.683640Z"
    }
   },
   "outputs": [
    {
     "data": {
      "application/javascript": [
       "if (window.IPython && IPython.notebook.kernel) IPython.notebook.kernel.execute('jovian.utils.jupyter.get_notebook_name_saved = lambda: \"' + IPython.notebook.notebook_name + '\"')"
      ],
      "text/plain": [
       "<IPython.core.display.Javascript object>"
      ]
     },
     "metadata": {},
     "output_type": "display_data"
    }
   ],
   "source": [
    "import jovian"
   ]
  },
  {
   "cell_type": "code",
   "execution_count": 29,
   "metadata": {},
   "outputs": [
    {
     "data": {
      "application/javascript": [
       "window.require && require([\"base/js/namespace\"],function(Jupyter){Jupyter.notebook.save_checkpoint()})"
      ],
      "text/plain": [
       "<IPython.core.display.Javascript object>"
      ]
     },
     "metadata": {},
     "output_type": "display_data"
    },
    {
     "name": "stdout",
     "output_type": "stream",
     "text": [
      "[jovian] Attempting to save notebook..\u001b[0m\n",
      "[jovian] Updating notebook \"aakashns/python-numerical-computing-with-numpy\" on https://jovian.ml/\u001b[0m\n",
      "[jovian] Uploading notebook..\u001b[0m\n",
      "[jovian] Capturing environment..\u001b[0m\n",
      "[jovian] Committed successfully! https://jovian.ml/aakashns/python-numerical-computing-with-numpy\u001b[0m\n"
     ]
    },
    {
     "data": {
      "text/plain": [
       "'https://jovian.ml/aakashns/python-numerical-computing-with-numpy'"
      ]
     },
     "execution_count": 29,
     "metadata": {},
     "output_type": "execute_result"
    }
   ],
   "source": [
    "jovian.commit()"
   ]
  },
  {
   "cell_type": "markdown",
   "metadata": {},
   "source": [
    "## Multi-dimensional Numpy arrays \n",
    "\n",
    "We can now go one step further, and represent the climate data for all the regions together using a single 2-dimensional Numpy array."
   ]
  },
  {
   "cell_type": "code",
   "execution_count": 32,
   "metadata": {
    "execution": {
     "iopub.execute_input": "2020-09-12T04:25:31.905079Z",
     "iopub.status.busy": "2020-09-12T04:25:31.904077Z",
     "iopub.status.idle": "2020-09-12T04:25:31.913080Z",
     "shell.execute_reply": "2020-09-12T04:25:31.912076Z",
     "shell.execute_reply.started": "2020-09-12T04:25:31.905079Z"
    }
   },
   "outputs": [],
   "source": [
    "climate_data = np.array([[73, 67, 43],\n",
    "                         [91, 88, 64],\n",
    "                         [87, 134, 58],\n",
    "                         [102, 43, 37],\n",
    "                         [69, 96, 70]])"
   ]
  },
  {
   "cell_type": "code",
   "execution_count": 33,
   "metadata": {
    "execution": {
     "iopub.execute_input": "2020-09-12T04:25:33.638078Z",
     "iopub.status.busy": "2020-09-12T04:25:33.637076Z",
     "iopub.status.idle": "2020-09-12T04:25:33.650079Z",
     "shell.execute_reply": "2020-09-12T04:25:33.649076Z",
     "shell.execute_reply.started": "2020-09-12T04:25:33.638078Z"
    }
   },
   "outputs": [
    {
     "data": {
      "text/plain": [
       "array([[ 73,  67,  43],\n",
       "       [ 91,  88,  64],\n",
       "       [ 87, 134,  58],\n",
       "       [102,  43,  37],\n",
       "       [ 69,  96,  70]])"
      ]
     },
     "execution_count": 33,
     "metadata": {},
     "output_type": "execute_result"
    }
   ],
   "source": [
    "climate_data"
   ]
  },
  {
   "cell_type": "markdown",
   "metadata": {},
   "source": [
    "If you've taken a linear algebra class in high school, you might recognize the above 2-d array as a *matrix* with 5 rows (one for each region) and 3 columns (containing values for temperature, rainfall and humidity).\n",
    "\n",
    "<img src=\"https://fgnt.github.io/python_crashkurs_doc/_images/numpy_array_t.png\" width=\"420\">"
   ]
  },
  {
   "cell_type": "markdown",
   "metadata": {},
   "source": [
    "Numpy arays can have any number of dimensions, and different lengths along each dimension. We can inspect the length along each dimension using the `.shape` property of an array."
   ]
  },
  {
   "cell_type": "code",
   "execution_count": 34,
   "metadata": {
    "execution": {
     "iopub.execute_input": "2020-09-12T04:26:47.217858Z",
     "iopub.status.busy": "2020-09-12T04:26:47.216860Z",
     "iopub.status.idle": "2020-09-12T04:26:47.230860Z",
     "shell.execute_reply": "2020-09-12T04:26:47.228860Z",
     "shell.execute_reply.started": "2020-09-12T04:26:47.217858Z"
    }
   },
   "outputs": [
    {
     "data": {
      "text/plain": [
       "(5, 3)"
      ]
     },
     "execution_count": 34,
     "metadata": {},
     "output_type": "execute_result"
    }
   ],
   "source": [
    "# 2D array (matrix)\n",
    "climate_data.shape"
   ]
  },
  {
   "cell_type": "code",
   "execution_count": 35,
   "metadata": {
    "execution": {
     "iopub.execute_input": "2020-09-12T04:26:51.245856Z",
     "iopub.status.busy": "2020-09-12T04:26:51.244860Z",
     "iopub.status.idle": "2020-09-12T04:26:51.260859Z",
     "shell.execute_reply": "2020-09-12T04:26:51.259857Z",
     "shell.execute_reply.started": "2020-09-12T04:26:51.245856Z"
    }
   },
   "outputs": [
    {
     "data": {
      "text/plain": [
       "array([0.3, 0.2, 0.5])"
      ]
     },
     "execution_count": 35,
     "metadata": {},
     "output_type": "execute_result"
    }
   ],
   "source": [
    "weights"
   ]
  },
  {
   "cell_type": "code",
   "execution_count": 36,
   "metadata": {
    "execution": {
     "iopub.execute_input": "2020-09-12T04:26:55.568858Z",
     "iopub.status.busy": "2020-09-12T04:26:55.567857Z",
     "iopub.status.idle": "2020-09-12T04:26:55.582858Z",
     "shell.execute_reply": "2020-09-12T04:26:55.580858Z",
     "shell.execute_reply.started": "2020-09-12T04:26:55.567857Z"
    }
   },
   "outputs": [
    {
     "data": {
      "text/plain": [
       "(3,)"
      ]
     },
     "execution_count": 36,
     "metadata": {},
     "output_type": "execute_result"
    }
   ],
   "source": [
    "# 1D array (vector)\n",
    "weights.shape"
   ]
  },
  {
   "cell_type": "code",
   "execution_count": 37,
   "metadata": {
    "execution": {
     "iopub.execute_input": "2020-09-12T04:30:17.589670Z",
     "iopub.status.busy": "2020-09-12T04:30:17.588669Z",
     "iopub.status.idle": "2020-09-12T04:30:17.601670Z",
     "shell.execute_reply": "2020-09-12T04:30:17.599670Z",
     "shell.execute_reply.started": "2020-09-12T04:30:17.589670Z"
    }
   },
   "outputs": [],
   "source": [
    "# 3D array \n",
    "arr3 = np.array([[[11, 12, 13], [13, 14, 15]],[[15, 16, 17], [17, 18, 19.5]]])"
   ]
  },
  {
   "cell_type": "code",
   "execution_count": 38,
   "metadata": {
    "execution": {
     "iopub.execute_input": "2020-09-12T04:30:19.015671Z",
     "iopub.status.busy": "2020-09-12T04:30:19.014673Z",
     "iopub.status.idle": "2020-09-12T04:30:19.026674Z",
     "shell.execute_reply": "2020-09-12T04:30:19.024670Z",
     "shell.execute_reply.started": "2020-09-12T04:30:19.015671Z"
    }
   },
   "outputs": [
    {
     "data": {
      "text/plain": [
       "(2, 2, 3)"
      ]
     },
     "execution_count": 38,
     "metadata": {},
     "output_type": "execute_result"
    }
   ],
   "source": [
    "arr3.shape"
   ]
  },
  {
   "cell_type": "markdown",
   "metadata": {},
   "source": [
    "All the elements in a numpy array have the same datatype. You can check the data type of an array using the `.dtype` property"
   ]
  },
  {
   "cell_type": "code",
   "execution_count": 39,
   "metadata": {
    "execution": {
     "iopub.execute_input": "2020-09-12T04:31:13.848280Z",
     "iopub.status.busy": "2020-09-12T04:31:13.848280Z",
     "iopub.status.idle": "2020-09-12T04:31:13.864274Z",
     "shell.execute_reply": "2020-09-12T04:31:13.862278Z",
     "shell.execute_reply.started": "2020-09-12T04:31:13.848280Z"
    }
   },
   "outputs": [
    {
     "data": {
      "text/plain": [
       "dtype('float64')"
      ]
     },
     "execution_count": 39,
     "metadata": {},
     "output_type": "execute_result"
    }
   ],
   "source": [
    "weights.dtype"
   ]
  },
  {
   "cell_type": "code",
   "execution_count": 40,
   "metadata": {
    "execution": {
     "iopub.execute_input": "2020-09-12T04:31:19.690280Z",
     "iopub.status.busy": "2020-09-12T04:31:19.689280Z",
     "iopub.status.idle": "2020-09-12T04:31:19.705279Z",
     "shell.execute_reply": "2020-09-12T04:31:19.703277Z",
     "shell.execute_reply.started": "2020-09-12T04:31:19.690280Z"
    }
   },
   "outputs": [
    {
     "data": {
      "text/plain": [
       "dtype('int32')"
      ]
     },
     "execution_count": 40,
     "metadata": {},
     "output_type": "execute_result"
    }
   ],
   "source": [
    "climate_data.dtype"
   ]
  },
  {
   "cell_type": "markdown",
   "metadata": {},
   "source": [
    "If an array contains even a single floating point number, all the other elements are also coverted to floats."
   ]
  },
  {
   "cell_type": "code",
   "execution_count": 41,
   "metadata": {
    "execution": {
     "iopub.execute_input": "2020-09-12T04:31:47.169974Z",
     "iopub.status.busy": "2020-09-12T04:31:47.169974Z",
     "iopub.status.idle": "2020-09-12T04:31:47.191978Z",
     "shell.execute_reply": "2020-09-12T04:31:47.189975Z",
     "shell.execute_reply.started": "2020-09-12T04:31:47.169974Z"
    }
   },
   "outputs": [
    {
     "data": {
      "text/plain": [
       "dtype('float64')"
      ]
     },
     "execution_count": 41,
     "metadata": {},
     "output_type": "execute_result"
    }
   ],
   "source": [
    "arr3.dtype"
   ]
  },
  {
   "cell_type": "markdown",
   "metadata": {},
   "source": [
    "We can now compute the predicted yields of apples in all the regions, using a single matrix multiplication between `climate_data` (a 5x3 matrix) and `weights` (a vector of length 3). Here's what it looks like visually:\n",
    "\n",
    "<img src=\"https://i.imgur.com/LJ2WKSI.png\" width=\"240\">\n",
    "\n",
    "You can learn about matrices and matrix multiplication by watching the first 3-4 videos of this playlist: https://www.youtube.com/watch?v=xyAuNHPsq-g&list=PLFD0EB975BA0CC1E0&index=1\n",
    "\n",
    "We can use the `np.matmul` function from Numpy, or simply use the `@` operator to perform matrix multiplication."
   ]
  },
  {
   "cell_type": "code",
   "execution_count": 42,
   "metadata": {
    "execution": {
     "iopub.execute_input": "2020-09-12T04:32:59.952864Z",
     "iopub.status.busy": "2020-09-12T04:32:59.951864Z",
     "iopub.status.idle": "2020-09-12T04:32:59.979864Z",
     "shell.execute_reply": "2020-09-12T04:32:59.977862Z",
     "shell.execute_reply.started": "2020-09-12T04:32:59.952864Z"
    }
   },
   "outputs": [
    {
     "data": {
      "text/plain": [
       "array([56.8, 76.9, 81.9, 57.7, 74.9])"
      ]
     },
     "execution_count": 42,
     "metadata": {},
     "output_type": "execute_result"
    }
   ],
   "source": [
    "np.matmul(climate_data, weights)"
   ]
  },
  {
   "cell_type": "code",
   "execution_count": 43,
   "metadata": {
    "execution": {
     "iopub.execute_input": "2020-09-12T04:34:45.899759Z",
     "iopub.status.busy": "2020-09-12T04:34:45.898758Z",
     "iopub.status.idle": "2020-09-12T04:34:45.910760Z",
     "shell.execute_reply": "2020-09-12T04:34:45.908753Z",
     "shell.execute_reply.started": "2020-09-12T04:34:45.899759Z"
    }
   },
   "outputs": [
    {
     "data": {
      "text/plain": [
       "array([56.8, 76.9, 81.9, 57.7, 74.9])"
      ]
     },
     "execution_count": 43,
     "metadata": {},
     "output_type": "execute_result"
    }
   ],
   "source": [
    "climate_data @ weights"
   ]
  },
  {
   "cell_type": "markdown",
   "metadata": {},
   "source": [
    "## Working with CSV data files\n",
    "\n",
    "Numpy also provides helper functions reading from & writing to files. Let's download a file `climate.txt` which contains 10,000 climate data (temperature, rainfall & humidity) in the following format:\n",
    "\n",
    "\n",
    "```\n",
    "temperature,rainfall,humidity\n",
    "25.00,76.00,99.00\n",
    "39.00,65.00,70.00\n",
    "59.00,45.00,77.00\n",
    "84.00,63.00,38.00\n",
    "66.00,50.00,52.00\n",
    "41.00,94.00,77.00\n",
    "91.00,57.00,96.00\n",
    "49.00,96.00,99.00\n",
    "67.00,20.00,28.00\n",
    "...\n",
    "```\n",
    "\n",
    "This format of storing data is known as *comma separated values* or CSV. \n",
    "\n",
    "> **CSVs**: A comma-separated values (CSV) file is a delimited text file that uses a comma to separate values. Each line of the file is a data record. Each record consists of one or more fields, separated by commas. A CSV file typically stores tabular data (numbers and text) in plain text, in which case each line will have the same number of fields. (Wikipedia)\n",
    "\n",
    "\n",
    "\n",
    "\n",
    "To read this file into a numpy array, we can use the `genfromtxt` function."
   ]
  },
  {
   "cell_type": "code",
   "execution_count": 44,
   "metadata": {
    "execution": {
     "iopub.execute_input": "2020-09-12T04:36:39.182840Z",
     "iopub.status.busy": "2020-09-12T04:36:39.181838Z",
     "iopub.status.idle": "2020-09-12T04:36:41.284838Z",
     "shell.execute_reply": "2020-09-12T04:36:41.283836Z",
     "shell.execute_reply.started": "2020-09-12T04:36:39.182840Z"
    }
   },
   "outputs": [
    {
     "data": {
      "text/plain": [
       "('climate.txt', <http.client.HTTPMessage at 0x1fa6cf02400>)"
      ]
     },
     "execution_count": 44,
     "metadata": {},
     "output_type": "execute_result"
    }
   ],
   "source": [
    "import urllib.request\n",
    "\n",
    "urllib.request.urlretrieve(\n",
    "    'https://hub.jovian.ml/wp-content/uploads/2020/08/climate.csv', \n",
    "    'climate.txt')"
   ]
  },
  {
   "cell_type": "code",
   "execution_count": 45,
   "metadata": {
    "execution": {
     "iopub.execute_input": "2020-09-12T04:37:01.559988Z",
     "iopub.status.busy": "2020-09-12T04:37:01.558988Z",
     "iopub.status.idle": "2020-09-12T04:37:01.684987Z",
     "shell.execute_reply": "2020-09-12T04:37:01.682984Z",
     "shell.execute_reply.started": "2020-09-12T04:37:01.559988Z"
    }
   },
   "outputs": [],
   "source": [
    "climate_data = np.genfromtxt('climate.txt', delimiter=',', skip_header=1)"
   ]
  },
  {
   "cell_type": "code",
   "execution_count": 46,
   "metadata": {
    "execution": {
     "iopub.execute_input": "2020-09-12T04:37:04.612992Z",
     "iopub.status.busy": "2020-09-12T04:37:04.611992Z",
     "iopub.status.idle": "2020-09-12T04:37:04.629988Z",
     "shell.execute_reply": "2020-09-12T04:37:04.627989Z",
     "shell.execute_reply.started": "2020-09-12T04:37:04.612992Z"
    }
   },
   "outputs": [
    {
     "data": {
      "text/plain": [
       "array([[25., 76., 99.],\n",
       "       [39., 65., 70.],\n",
       "       [59., 45., 77.],\n",
       "       ...,\n",
       "       [99., 62., 58.],\n",
       "       [70., 71., 91.],\n",
       "       [92., 39., 76.]])"
      ]
     },
     "execution_count": 46,
     "metadata": {},
     "output_type": "execute_result"
    }
   ],
   "source": [
    "climate_data"
   ]
  },
  {
   "cell_type": "code",
   "execution_count": 47,
   "metadata": {
    "execution": {
     "iopub.execute_input": "2020-09-12T04:37:11.862989Z",
     "iopub.status.busy": "2020-09-12T04:37:11.862989Z",
     "iopub.status.idle": "2020-09-12T04:37:11.873991Z",
     "shell.execute_reply": "2020-09-12T04:37:11.871987Z",
     "shell.execute_reply.started": "2020-09-12T04:37:11.862989Z"
    }
   },
   "outputs": [
    {
     "data": {
      "text/plain": [
       "(10000, 3)"
      ]
     },
     "execution_count": 47,
     "metadata": {},
     "output_type": "execute_result"
    }
   ],
   "source": [
    "climate_data.shape"
   ]
  },
  {
   "cell_type": "markdown",
   "metadata": {},
   "source": [
    "We can now use a matrix mulplication operator `@` to predict the yield of apples for the entire dataset using a given set of weights."
   ]
  },
  {
   "cell_type": "code",
   "execution_count": 48,
   "metadata": {
    "execution": {
     "iopub.execute_input": "2020-09-12T04:37:49.729517Z",
     "iopub.status.busy": "2020-09-12T04:37:49.728514Z",
     "iopub.status.idle": "2020-09-12T04:37:49.744512Z",
     "shell.execute_reply": "2020-09-12T04:37:49.742512Z",
     "shell.execute_reply.started": "2020-09-12T04:37:49.729517Z"
    }
   },
   "outputs": [],
   "source": [
    "weights = np.array([0.3, 0.2, 0.5])"
   ]
  },
  {
   "cell_type": "code",
   "execution_count": 49,
   "metadata": {
    "execution": {
     "iopub.execute_input": "2020-09-12T04:37:51.212516Z",
     "iopub.status.busy": "2020-09-12T04:37:51.211515Z",
     "iopub.status.idle": "2020-09-12T04:37:51.261510Z",
     "shell.execute_reply": "2020-09-12T04:37:51.259508Z",
     "shell.execute_reply.started": "2020-09-12T04:37:51.212516Z"
    }
   },
   "outputs": [],
   "source": [
    "yields = climate_data @ weights"
   ]
  },
  {
   "cell_type": "code",
   "execution_count": 50,
   "metadata": {
    "execution": {
     "iopub.execute_input": "2020-09-12T04:37:52.595514Z",
     "iopub.status.busy": "2020-09-12T04:37:52.594513Z",
     "iopub.status.idle": "2020-09-12T04:37:52.605515Z",
     "shell.execute_reply": "2020-09-12T04:37:52.604515Z",
     "shell.execute_reply.started": "2020-09-12T04:37:52.595514Z"
    }
   },
   "outputs": [
    {
     "data": {
      "text/plain": [
       "array([72.2, 59.7, 65.2, ..., 71.1, 80.7, 73.4])"
      ]
     },
     "execution_count": 50,
     "metadata": {},
     "output_type": "execute_result"
    }
   ],
   "source": [
    "yields"
   ]
  },
  {
   "cell_type": "code",
   "execution_count": 51,
   "metadata": {
    "execution": {
     "iopub.execute_input": "2020-09-12T04:37:59.843716Z",
     "iopub.status.busy": "2020-09-12T04:37:59.843716Z",
     "iopub.status.idle": "2020-09-12T04:37:59.865715Z",
     "shell.execute_reply": "2020-09-12T04:37:59.864715Z",
     "shell.execute_reply.started": "2020-09-12T04:37:59.843716Z"
    }
   },
   "outputs": [
    {
     "data": {
      "text/plain": [
       "(10000,)"
      ]
     },
     "execution_count": 51,
     "metadata": {},
     "output_type": "execute_result"
    }
   ],
   "source": [
    "yields.shape"
   ]
  },
  {
   "cell_type": "markdown",
   "metadata": {},
   "source": [
    "We can now add the `yields` back to `climate_data` as a fourth column using the [`np.concatenate`](https://numpy.org/doc/stable/reference/generated/numpy.concatenate.html) function."
   ]
  },
  {
   "cell_type": "code",
   "execution_count": 52,
   "metadata": {
    "execution": {
     "iopub.execute_input": "2020-09-12T04:38:43.349032Z",
     "iopub.status.busy": "2020-09-12T04:38:43.349032Z",
     "iopub.status.idle": "2020-09-12T04:38:43.362030Z",
     "shell.execute_reply": "2020-09-12T04:38:43.360031Z",
     "shell.execute_reply.started": "2020-09-12T04:38:43.349032Z"
    }
   },
   "outputs": [],
   "source": [
    "climate_results = np.concatenate((climate_data, yields.reshape(10000, 1)), axis=1)"
   ]
  },
  {
   "cell_type": "code",
   "execution_count": 53,
   "metadata": {
    "execution": {
     "iopub.execute_input": "2020-09-12T04:38:52.724714Z",
     "iopub.status.busy": "2020-09-12T04:38:52.724714Z",
     "iopub.status.idle": "2020-09-12T04:38:52.739716Z",
     "shell.execute_reply": "2020-09-12T04:38:52.737714Z",
     "shell.execute_reply.started": "2020-09-12T04:38:52.724714Z"
    }
   },
   "outputs": [
    {
     "data": {
      "text/plain": [
       "array([[25. , 76. , 99. , 72.2],\n",
       "       [39. , 65. , 70. , 59.7],\n",
       "       [59. , 45. , 77. , 65.2],\n",
       "       ...,\n",
       "       [99. , 62. , 58. , 71.1],\n",
       "       [70. , 71. , 91. , 80.7],\n",
       "       [92. , 39. , 76. , 73.4]])"
      ]
     },
     "execution_count": 53,
     "metadata": {},
     "output_type": "execute_result"
    }
   ],
   "source": [
    "climate_results"
   ]
  },
  {
   "cell_type": "markdown",
   "metadata": {},
   "source": [
    "There are a couple of subtleties here:\n",
    "\n",
    "* We need to provide to `axis` argument to `np.concatenate` to specify the dimension along with concatenation should be performed.\n",
    "\n",
    "* The arrays being concatenated should have the same number of dimensions, and the same length along each dimension, except the one along which concatenation is being performed. We use the [`np.reshape`](https://numpy.org/doc/stable/reference/generated/numpy.reshape.html) function here to change the shape of `yields` from `(10000,)` to `(10000,1)`.\n",
    "\n",
    "Here's a visual explanation of `np.concatenate` along `axis=1` (can you guess what `axis=0` results in):\n",
    "\n",
    "<img src=\"https://www.w3resource.com/w3r_images/python-numpy-image-exercise-58.png\" width=\"300\">\n",
    "\n",
    "The best way to understand what an Numpy function does is to experiment with it and read the documentation using the `help` function to learn about its arguments & return values. Use the cells below to experiment with `np.concatenate` and `np.reshape`."
   ]
  },
  {
   "cell_type": "code",
   "execution_count": 54,
   "metadata": {
    "execution": {
     "iopub.execute_input": "2020-09-12T04:41:23.632184Z",
     "iopub.status.busy": "2020-09-12T04:41:23.631186Z",
     "iopub.status.idle": "2020-09-12T04:41:23.641184Z",
     "shell.execute_reply": "2020-09-12T04:41:23.640183Z",
     "shell.execute_reply.started": "2020-09-12T04:41:23.632184Z"
    }
   },
   "outputs": [
    {
     "name": "stdout",
     "output_type": "stream",
     "text": [
      "Help on function concatenate in module numpy:\n",
      "\n",
      "concatenate(...)\n",
      "    concatenate((a1, a2, ...), axis=0, out=None)\n",
      "    \n",
      "    Join a sequence of arrays along an existing axis.\n",
      "    \n",
      "    Parameters\n",
      "    ----------\n",
      "    a1, a2, ... : sequence of array_like\n",
      "        The arrays must have the same shape, except in the dimension\n",
      "        corresponding to `axis` (the first, by default).\n",
      "    axis : int, optional\n",
      "        The axis along which the arrays will be joined.  If axis is None,\n",
      "        arrays are flattened before use.  Default is 0.\n",
      "    out : ndarray, optional\n",
      "        If provided, the destination to place the result. The shape must be\n",
      "        correct, matching that of what concatenate would have returned if no\n",
      "        out argument were specified.\n",
      "    \n",
      "    Returns\n",
      "    -------\n",
      "    res : ndarray\n",
      "        The concatenated array.\n",
      "    \n",
      "    See Also\n",
      "    --------\n",
      "    ma.concatenate : Concatenate function that preserves input masks.\n",
      "    array_split : Split an array into multiple sub-arrays of equal or\n",
      "                  near-equal size.\n",
      "    split : Split array into a list of multiple sub-arrays of equal size.\n",
      "    hsplit : Split array into multiple sub-arrays horizontally (column wise).\n",
      "    vsplit : Split array into multiple sub-arrays vertically (row wise).\n",
      "    dsplit : Split array into multiple sub-arrays along the 3rd axis (depth).\n",
      "    stack : Stack a sequence of arrays along a new axis.\n",
      "    block : Assemble arrays from blocks.\n",
      "    hstack : Stack arrays in sequence horizontally (column wise).\n",
      "    vstack : Stack arrays in sequence vertically (row wise).\n",
      "    dstack : Stack arrays in sequence depth wise (along third dimension).\n",
      "    column_stack : Stack 1-D arrays as columns into a 2-D array.\n",
      "    \n",
      "    Notes\n",
      "    -----\n",
      "    When one or more of the arrays to be concatenated is a MaskedArray,\n",
      "    this function will return a MaskedArray object instead of an ndarray,\n",
      "    but the input masks are *not* preserved. In cases where a MaskedArray\n",
      "    is expected as input, use the ma.concatenate function from the masked\n",
      "    array module instead.\n",
      "    \n",
      "    Examples\n",
      "    --------\n",
      "    >>> a = np.array([[1, 2], [3, 4]])\n",
      "    >>> b = np.array([[5, 6]])\n",
      "    >>> np.concatenate((a, b), axis=0)\n",
      "    array([[1, 2],\n",
      "           [3, 4],\n",
      "           [5, 6]])\n",
      "    >>> np.concatenate((a, b.T), axis=1)\n",
      "    array([[1, 2, 5],\n",
      "           [3, 4, 6]])\n",
      "    >>> np.concatenate((a, b), axis=None)\n",
      "    array([1, 2, 3, 4, 5, 6])\n",
      "    \n",
      "    This function will not preserve masking of MaskedArray inputs.\n",
      "    \n",
      "    >>> a = np.ma.arange(3)\n",
      "    >>> a[1] = np.ma.masked\n",
      "    >>> b = np.arange(2, 5)\n",
      "    >>> a\n",
      "    masked_array(data=[0, --, 2],\n",
      "                 mask=[False,  True, False],\n",
      "           fill_value=999999)\n",
      "    >>> b\n",
      "    array([2, 3, 4])\n",
      "    >>> np.concatenate([a, b])\n",
      "    masked_array(data=[0, 1, 2, 2, 3, 4],\n",
      "                 mask=False,\n",
      "           fill_value=999999)\n",
      "    >>> np.ma.concatenate([a, b])\n",
      "    masked_array(data=[0, --, 2, 2, 3, 4],\n",
      "                 mask=[False,  True, False, False, False, False],\n",
      "           fill_value=999999)\n",
      "\n"
     ]
    }
   ],
   "source": [
    "help(np.concatenate)"
   ]
  },
  {
   "cell_type": "code",
   "execution_count": 55,
   "metadata": {
    "execution": {
     "iopub.execute_input": "2020-09-12T04:47:21.687586Z",
     "iopub.status.busy": "2020-09-12T04:47:21.686588Z",
     "iopub.status.idle": "2020-09-12T04:47:21.696586Z",
     "shell.execute_reply": "2020-09-12T04:47:21.695586Z",
     "shell.execute_reply.started": "2020-09-12T04:47:21.687586Z"
    }
   },
   "outputs": [],
   "source": [
    "d = np.array([[10, 20, 30], [2, 4, 6], [1, 2, 3]])"
   ]
  },
  {
   "cell_type": "code",
   "execution_count": 56,
   "metadata": {
    "execution": {
     "iopub.execute_input": "2020-09-12T04:47:30.112675Z",
     "iopub.status.busy": "2020-09-12T04:47:30.111677Z",
     "iopub.status.idle": "2020-09-12T04:47:30.132680Z",
     "shell.execute_reply": "2020-09-12T04:47:30.131673Z",
     "shell.execute_reply.started": "2020-09-12T04:47:30.112675Z"
    }
   },
   "outputs": [
    {
     "data": {
      "text/plain": [
       "(3, 3)"
      ]
     },
     "execution_count": 56,
     "metadata": {},
     "output_type": "execute_result"
    }
   ],
   "source": [
    "d.shape"
   ]
  },
  {
   "cell_type": "code",
   "execution_count": 57,
   "metadata": {
    "execution": {
     "iopub.execute_input": "2020-09-12T04:48:00.035935Z",
     "iopub.status.busy": "2020-09-12T04:48:00.034932Z",
     "iopub.status.idle": "2020-09-12T04:48:00.052932Z",
     "shell.execute_reply": "2020-09-12T04:48:00.050936Z",
     "shell.execute_reply.started": "2020-09-12T04:48:00.035935Z"
    }
   },
   "outputs": [
    {
     "data": {
      "text/plain": [
       "array([[10, 20, 30],\n",
       "       [ 2,  4,  6],\n",
       "       [ 1,  2,  3]])"
      ]
     },
     "execution_count": 57,
     "metadata": {},
     "output_type": "execute_result"
    }
   ],
   "source": [
    "d"
   ]
  },
  {
   "cell_type": "code",
   "execution_count": 58,
   "metadata": {
    "execution": {
     "iopub.execute_input": "2020-09-12T04:50:28.575255Z",
     "iopub.status.busy": "2020-09-12T04:50:28.575255Z",
     "iopub.status.idle": "2020-09-12T04:50:28.589256Z",
     "shell.execute_reply": "2020-09-12T04:50:28.588253Z",
     "shell.execute_reply.started": "2020-09-12T04:50:28.575255Z"
    }
   },
   "outputs": [
    {
     "name": "stdout",
     "output_type": "stream",
     "text": [
      "Help on function reshape in module numpy:\n",
      "\n",
      "reshape(a, newshape, order='C')\n",
      "    Gives a new shape to an array without changing its data.\n",
      "    \n",
      "    Parameters\n",
      "    ----------\n",
      "    a : array_like\n",
      "        Array to be reshaped.\n",
      "    newshape : int or tuple of ints\n",
      "        The new shape should be compatible with the original shape. If\n",
      "        an integer, then the result will be a 1-D array of that length.\n",
      "        One shape dimension can be -1. In this case, the value is\n",
      "        inferred from the length of the array and remaining dimensions.\n",
      "    order : {'C', 'F', 'A'}, optional\n",
      "        Read the elements of `a` using this index order, and place the\n",
      "        elements into the reshaped array using this index order.  'C'\n",
      "        means to read / write the elements using C-like index order,\n",
      "        with the last axis index changing fastest, back to the first\n",
      "        axis index changing slowest. 'F' means to read / write the\n",
      "        elements using Fortran-like index order, with the first index\n",
      "        changing fastest, and the last index changing slowest. Note that\n",
      "        the 'C' and 'F' options take no account of the memory layout of\n",
      "        the underlying array, and only refer to the order of indexing.\n",
      "        'A' means to read / write the elements in Fortran-like index\n",
      "        order if `a` is Fortran *contiguous* in memory, C-like order\n",
      "        otherwise.\n",
      "    \n",
      "    Returns\n",
      "    -------\n",
      "    reshaped_array : ndarray\n",
      "        This will be a new view object if possible; otherwise, it will\n",
      "        be a copy.  Note there is no guarantee of the *memory layout* (C- or\n",
      "        Fortran- contiguous) of the returned array.\n",
      "    \n",
      "    See Also\n",
      "    --------\n",
      "    ndarray.reshape : Equivalent method.\n",
      "    \n",
      "    Notes\n",
      "    -----\n",
      "    It is not always possible to change the shape of an array without\n",
      "    copying the data. If you want an error to be raised when the data is copied,\n",
      "    you should assign the new shape to the shape attribute of the array::\n",
      "    \n",
      "     >>> a = np.zeros((10, 2))\n",
      "    \n",
      "     # A transpose makes the array non-contiguous\n",
      "     >>> b = a.T\n",
      "    \n",
      "     # Taking a view makes it possible to modify the shape without modifying\n",
      "     # the initial object.\n",
      "     >>> c = b.view()\n",
      "     >>> c.shape = (20)\n",
      "     Traceback (most recent call last):\n",
      "        ...\n",
      "     AttributeError: Incompatible shape for in-place modification. Use\n",
      "     `.reshape()` to make a copy with the desired shape.\n",
      "    \n",
      "    The `order` keyword gives the index ordering both for *fetching* the values\n",
      "    from `a`, and then *placing* the values into the output array.\n",
      "    For example, let's say you have an array:\n",
      "    \n",
      "    >>> a = np.arange(6).reshape((3, 2))\n",
      "    >>> a\n",
      "    array([[0, 1],\n",
      "           [2, 3],\n",
      "           [4, 5]])\n",
      "    \n",
      "    You can think of reshaping as first raveling the array (using the given\n",
      "    index order), then inserting the elements from the raveled array into the\n",
      "    new array using the same kind of index ordering as was used for the\n",
      "    raveling.\n",
      "    \n",
      "    >>> np.reshape(a, (2, 3)) # C-like index ordering\n",
      "    array([[0, 1, 2],\n",
      "           [3, 4, 5]])\n",
      "    >>> np.reshape(np.ravel(a), (2, 3)) # equivalent to C ravel then C reshape\n",
      "    array([[0, 1, 2],\n",
      "           [3, 4, 5]])\n",
      "    >>> np.reshape(a, (2, 3), order='F') # Fortran-like index ordering\n",
      "    array([[0, 4, 3],\n",
      "           [2, 1, 5]])\n",
      "    >>> np.reshape(np.ravel(a, order='F'), (2, 3), order='F')\n",
      "    array([[0, 4, 3],\n",
      "           [2, 1, 5]])\n",
      "    \n",
      "    Examples\n",
      "    --------\n",
      "    >>> a = np.array([[1,2,3], [4,5,6]])\n",
      "    >>> np.reshape(a, 6)\n",
      "    array([1, 2, 3, 4, 5, 6])\n",
      "    >>> np.reshape(a, 6, order='F')\n",
      "    array([1, 4, 2, 5, 3, 6])\n",
      "    \n",
      "    >>> np.reshape(a, (3,-1))       # the unspecified value is inferred to be 2\n",
      "    array([[1, 2],\n",
      "           [3, 4],\n",
      "           [5, 6]])\n",
      "\n"
     ]
    }
   ],
   "source": [
    "help(np.reshape)"
   ]
  },
  {
   "cell_type": "code",
   "execution_count": 63,
   "metadata": {
    "execution": {
     "iopub.execute_input": "2020-09-12T04:55:23.611277Z",
     "iopub.status.busy": "2020-09-12T04:55:23.610277Z",
     "iopub.status.idle": "2020-09-12T04:55:23.625279Z",
     "shell.execute_reply": "2020-09-12T04:55:23.623277Z",
     "shell.execute_reply.started": "2020-09-12T04:55:23.611277Z"
    }
   },
   "outputs": [
    {
     "data": {
      "text/plain": [
       "array([[10],\n",
       "       [20],\n",
       "       [30],\n",
       "       [ 2],\n",
       "       [ 4],\n",
       "       [ 6],\n",
       "       [ 1],\n",
       "       [ 2],\n",
       "       [ 3]])"
      ]
     },
     "execution_count": 63,
     "metadata": {},
     "output_type": "execute_result"
    }
   ],
   "source": [
    "e = np.reshape(d, (9, 1))\n",
    "\n",
    "e"
   ]
  },
  {
   "cell_type": "code",
   "execution_count": 64,
   "metadata": {
    "execution": {
     "iopub.execute_input": "2020-09-12T04:55:28.139277Z",
     "iopub.status.busy": "2020-09-12T04:55:28.139277Z",
     "iopub.status.idle": "2020-09-12T04:55:28.148281Z",
     "shell.execute_reply": "2020-09-12T04:55:28.146279Z",
     "shell.execute_reply.started": "2020-09-12T04:55:28.139277Z"
    }
   },
   "outputs": [
    {
     "data": {
      "text/plain": [
       "array([[10, 20, 30],\n",
       "       [ 2,  4,  6],\n",
       "       [ 1,  2,  3]])"
      ]
     },
     "execution_count": 64,
     "metadata": {},
     "output_type": "execute_result"
    }
   ],
   "source": [
    "d"
   ]
  },
  {
   "cell_type": "code",
   "execution_count": 66,
   "metadata": {
    "execution": {
     "iopub.execute_input": "2020-09-12T04:56:28.910836Z",
     "iopub.status.busy": "2020-09-12T04:56:28.909837Z",
     "iopub.status.idle": "2020-09-12T04:56:28.922837Z",
     "shell.execute_reply": "2020-09-12T04:56:28.920838Z",
     "shell.execute_reply.started": "2020-09-12T04:56:28.909837Z"
    }
   },
   "outputs": [
    {
     "data": {
      "text/plain": [
       "array([[10, 20, 30],\n",
       "       [ 2,  4,  6],\n",
       "       [ 1,  2,  3]])"
      ]
     },
     "execution_count": 66,
     "metadata": {},
     "output_type": "execute_result"
    }
   ],
   "source": [
    "e = np.reshape(e, (3, 3))\n",
    "e"
   ]
  },
  {
   "cell_type": "code",
   "execution_count": 67,
   "metadata": {
    "execution": {
     "iopub.execute_input": "2020-09-12T04:58:45.571157Z",
     "iopub.status.busy": "2020-09-12T04:58:45.570156Z",
     "iopub.status.idle": "2020-09-12T04:58:45.585157Z",
     "shell.execute_reply": "2020-09-12T04:58:45.583155Z",
     "shell.execute_reply.started": "2020-09-12T04:58:45.571157Z"
    }
   },
   "outputs": [
    {
     "data": {
      "text/plain": [
       "array([[10, 20, 30],\n",
       "       [ 2,  4,  6],\n",
       "       [ 1,  2,  3],\n",
       "       [10, 20, 30],\n",
       "       [ 2,  4,  6],\n",
       "       [ 1,  2,  3]])"
      ]
     },
     "execution_count": 67,
     "metadata": {},
     "output_type": "execute_result"
    }
   ],
   "source": [
    "np.concatenate((d, e), axis=0) "
   ]
  },
  {
   "cell_type": "code",
   "execution_count": 68,
   "metadata": {
    "execution": {
     "iopub.execute_input": "2020-09-12T04:59:20.808265Z",
     "iopub.status.busy": "2020-09-12T04:59:20.808265Z",
     "iopub.status.idle": "2020-09-12T04:59:20.825265Z",
     "shell.execute_reply": "2020-09-12T04:59:20.823270Z",
     "shell.execute_reply.started": "2020-09-12T04:59:20.808265Z"
    }
   },
   "outputs": [
    {
     "data": {
      "text/plain": [
       "array([[10, 20, 30, 10, 20, 30],\n",
       "       [ 2,  4,  6,  2,  4,  6],\n",
       "       [ 1,  2,  3,  1,  2,  3]])"
      ]
     },
     "execution_count": 68,
     "metadata": {},
     "output_type": "execute_result"
    }
   ],
   "source": [
    "np.concatenate((d, e), axis=1) "
   ]
  },
  {
   "cell_type": "markdown",
   "metadata": {},
   "source": [
    "Let's write the final results from our computation above back to a file using the `np.savetxt` function."
   ]
  },
  {
   "cell_type": "code",
   "execution_count": 69,
   "metadata": {
    "execution": {
     "iopub.execute_input": "2020-09-12T04:59:36.647962Z",
     "iopub.status.busy": "2020-09-12T04:59:36.647962Z",
     "iopub.status.idle": "2020-09-12T04:59:36.662960Z",
     "shell.execute_reply": "2020-09-12T04:59:36.661956Z",
     "shell.execute_reply.started": "2020-09-12T04:59:36.647962Z"
    }
   },
   "outputs": [
    {
     "data": {
      "text/plain": [
       "array([[25. , 76. , 99. , 72.2],\n",
       "       [39. , 65. , 70. , 59.7],\n",
       "       [59. , 45. , 77. , 65.2],\n",
       "       ...,\n",
       "       [99. , 62. , 58. , 71.1],\n",
       "       [70. , 71. , 91. , 80.7],\n",
       "       [92. , 39. , 76. , 73.4]])"
      ]
     },
     "execution_count": 69,
     "metadata": {},
     "output_type": "execute_result"
    }
   ],
   "source": [
    "climate_results"
   ]
  },
  {
   "cell_type": "code",
   "execution_count": 70,
   "metadata": {
    "execution": {
     "iopub.execute_input": "2020-09-12T04:59:59.078619Z",
     "iopub.status.busy": "2020-09-12T04:59:59.077619Z",
     "iopub.status.idle": "2020-09-12T04:59:59.176613Z",
     "shell.execute_reply": "2020-09-12T04:59:59.175613Z",
     "shell.execute_reply.started": "2020-09-12T04:59:59.078619Z"
    }
   },
   "outputs": [],
   "source": [
    "np.savetxt('climate_results.txt', \n",
    "           climate_results, \n",
    "           fmt='%.2f', \n",
    "           header='temperature,rainfall,humidity,yeild_apples', \n",
    "           comments='')"
   ]
  },
  {
   "cell_type": "markdown",
   "metadata": {},
   "source": [
    "The results are written back in the CSV format to the file `climate_results.txt`. \n",
    "\n",
    "```\n",
    "temperature,rainfall,humidity,yeild_apples\n",
    "25.00 76.00 99.00 72.20\n",
    "39.00 65.00 70.00 59.70\n",
    "59.00 45.00 77.00 65.20\n",
    "84.00 63.00 38.00 56.80\n",
    "66.00 50.00 52.00 55.80\n",
    "41.00 94.00 77.00 69.60\n",
    "91.00 57.00 96.00 86.70\n",
    "49.00 96.00 99.00 83.40\n",
    "67.00 20.00 28.00 38.10\n",
    "...\n",
    "```\n",
    "\n"
   ]
  },
  {
   "cell_type": "markdown",
   "metadata": {},
   "source": [
    "Numpy provides hundreds of functions for peforming operations on arrays. Here are some common functions:\n",
    "\n",
    "\n",
    "* Mathematics: `np.sum`, `np.exp`, `np.round`, arithemtic operators \n",
    "* Array manipulation: `np.reshape`, `np.stack`, `np.concatenate`, `np.split`\n",
    "* Linear Algebra: `np.matmul`, `np.dot`, `np.transpose`, `np.eigvals`\n",
    "* Statistics: `np.mean`, `np.median`, `np.std`, `np.max`\n",
    "\n",
    "> **How to find the function you need?** Since Numpy offers hundreds of functions for operating on arrays, it can sometimes be hard to find exactly what you need. The easiest way to find the right function is to do a web search e.g. searching for \"How to join numpy arrays\" leads to [this tutorial on array concatenation](https://cmdlinetips.com/2018/04/how-to-concatenate-arrays-in-numpy/). \n",
    "\n",
    "You can find a full list of array functions here: https://numpy.org/doc/stable/reference/routines.html"
   ]
  },
  {
   "cell_type": "markdown",
   "metadata": {},
   "source": [
    "Let's save our work before continuing"
   ]
  },
  {
   "cell_type": "code",
   "execution_count": 54,
   "metadata": {},
   "outputs": [],
   "source": [
    "import jovian"
   ]
  },
  {
   "cell_type": "code",
   "execution_count": 55,
   "metadata": {},
   "outputs": [
    {
     "data": {
      "application/javascript": [
       "window.require && require([\"base/js/namespace\"],function(Jupyter){Jupyter.notebook.save_checkpoint()})"
      ],
      "text/plain": [
       "<IPython.core.display.Javascript object>"
      ]
     },
     "metadata": {},
     "output_type": "display_data"
    },
    {
     "name": "stdout",
     "output_type": "stream",
     "text": [
      "[jovian] Attempting to save notebook..\u001b[0m\n",
      "[jovian] Updating notebook \"aakashns/python-numerical-computing-with-numpy\" on https://jovian.ml/\u001b[0m\n",
      "[jovian] Uploading notebook..\u001b[0m\n",
      "[jovian] Capturing environment..\u001b[0m\n",
      "[jovian] Committed successfully! https://jovian.ml/aakashns/python-numerical-computing-with-numpy\u001b[0m\n"
     ]
    },
    {
     "data": {
      "text/plain": [
       "'https://jovian.ml/aakashns/python-numerical-computing-with-numpy'"
      ]
     },
     "execution_count": 55,
     "metadata": {},
     "output_type": "execute_result"
    }
   ],
   "source": [
    "jovian.commit()"
   ]
  },
  {
   "cell_type": "markdown",
   "metadata": {},
   "source": [
    "## Arithmetic operations and broadcasting\n",
    "\n",
    "Numpy arrays support arithmetic operators like `+`, `-`, `*` etc. You can perform an arithmetic operation with a single number (also called scalar), or with another array of the same shape. This makes it really easy to write mathemtical expressions with multi-dimensional arrays."
   ]
  },
  {
   "cell_type": "code",
   "execution_count": 74,
   "metadata": {
    "execution": {
     "iopub.execute_input": "2020-09-12T05:02:49.562196Z",
     "iopub.status.busy": "2020-09-12T05:02:49.561198Z",
     "iopub.status.idle": "2020-09-12T05:02:49.574198Z",
     "shell.execute_reply": "2020-09-12T05:02:49.572194Z",
     "shell.execute_reply.started": "2020-09-12T05:02:49.562196Z"
    }
   },
   "outputs": [],
   "source": [
    "arr2 = np.array([[1, 2, 3, 4], \n",
    "                 [5, 6, 7, 8], \n",
    "                 [9, 1, 2, 3]])"
   ]
  },
  {
   "cell_type": "code",
   "execution_count": 75,
   "metadata": {
    "execution": {
     "iopub.execute_input": "2020-09-12T05:02:51.585198Z",
     "iopub.status.busy": "2020-09-12T05:02:51.585198Z",
     "iopub.status.idle": "2020-09-12T05:02:51.600197Z",
     "shell.execute_reply": "2020-09-12T05:02:51.598198Z",
     "shell.execute_reply.started": "2020-09-12T05:02:51.585198Z"
    }
   },
   "outputs": [],
   "source": [
    "arr3 = np.array([[11, 12, 13, 14], \n",
    "                 [15, 16, 17, 18], \n",
    "                 [19, 11, 12, 13]])"
   ]
  },
  {
   "cell_type": "code",
   "execution_count": 76,
   "metadata": {
    "execution": {
     "iopub.execute_input": "2020-09-12T05:02:53.661196Z",
     "iopub.status.busy": "2020-09-12T05:02:53.660196Z",
     "iopub.status.idle": "2020-09-12T05:02:53.670197Z",
     "shell.execute_reply": "2020-09-12T05:02:53.668203Z",
     "shell.execute_reply.started": "2020-09-12T05:02:53.661196Z"
    }
   },
   "outputs": [
    {
     "data": {
      "text/plain": [
       "array([[ 4,  5,  6,  7],\n",
       "       [ 8,  9, 10, 11],\n",
       "       [12,  4,  5,  6]])"
      ]
     },
     "execution_count": 76,
     "metadata": {},
     "output_type": "execute_result"
    }
   ],
   "source": [
    "# Adding a scalar\n",
    "arr2 + 3"
   ]
  },
  {
   "cell_type": "code",
   "execution_count": 77,
   "metadata": {
    "execution": {
     "iopub.execute_input": "2020-09-12T05:03:27.902690Z",
     "iopub.status.busy": "2020-09-12T05:03:27.902690Z",
     "iopub.status.idle": "2020-09-12T05:03:27.915694Z",
     "shell.execute_reply": "2020-09-12T05:03:27.913696Z",
     "shell.execute_reply.started": "2020-09-12T05:03:27.902690Z"
    }
   },
   "outputs": [
    {
     "data": {
      "text/plain": [
       "array([[10, 10, 10, 10],\n",
       "       [10, 10, 10, 10],\n",
       "       [10, 10, 10, 10]])"
      ]
     },
     "execution_count": 77,
     "metadata": {},
     "output_type": "execute_result"
    }
   ],
   "source": [
    "# Element-wise subtraction\n",
    "arr3 - arr2"
   ]
  },
  {
   "cell_type": "code",
   "execution_count": 78,
   "metadata": {
    "execution": {
     "iopub.execute_input": "2020-09-12T05:03:36.939235Z",
     "iopub.status.busy": "2020-09-12T05:03:36.938237Z",
     "iopub.status.idle": "2020-09-12T05:03:36.952237Z",
     "shell.execute_reply": "2020-09-12T05:03:36.950240Z",
     "shell.execute_reply.started": "2020-09-12T05:03:36.939235Z"
    }
   },
   "outputs": [
    {
     "data": {
      "text/plain": [
       "array([[0.5, 1. , 1.5, 2. ],\n",
       "       [2.5, 3. , 3.5, 4. ],\n",
       "       [4.5, 0.5, 1. , 1.5]])"
      ]
     },
     "execution_count": 78,
     "metadata": {},
     "output_type": "execute_result"
    }
   ],
   "source": [
    "# Division by scalar\n",
    "arr2 / 2"
   ]
  },
  {
   "cell_type": "code",
   "execution_count": 79,
   "metadata": {
    "execution": {
     "iopub.execute_input": "2020-09-12T05:04:00.954821Z",
     "iopub.status.busy": "2020-09-12T05:04:00.953823Z",
     "iopub.status.idle": "2020-09-12T05:04:00.976823Z",
     "shell.execute_reply": "2020-09-12T05:04:00.974821Z",
     "shell.execute_reply.started": "2020-09-12T05:04:00.953823Z"
    }
   },
   "outputs": [
    {
     "data": {
      "text/plain": [
       "array([[ 11,  24,  39,  56],\n",
       "       [ 75,  96, 119, 144],\n",
       "       [171,  11,  24,  39]])"
      ]
     },
     "execution_count": 79,
     "metadata": {},
     "output_type": "execute_result"
    }
   ],
   "source": [
    "# Element-wise multiplication\n",
    "arr2 * arr3"
   ]
  },
  {
   "cell_type": "code",
   "execution_count": 80,
   "metadata": {
    "execution": {
     "iopub.execute_input": "2020-09-12T05:04:06.574549Z",
     "iopub.status.busy": "2020-09-12T05:04:06.573552Z",
     "iopub.status.idle": "2020-09-12T05:04:06.588548Z",
     "shell.execute_reply": "2020-09-12T05:04:06.586546Z",
     "shell.execute_reply.started": "2020-09-12T05:04:06.573552Z"
    }
   },
   "outputs": [
    {
     "data": {
      "text/plain": [
       "array([[1, 2, 3, 0],\n",
       "       [1, 2, 3, 0],\n",
       "       [1, 1, 2, 3]], dtype=int32)"
      ]
     },
     "execution_count": 80,
     "metadata": {},
     "output_type": "execute_result"
    }
   ],
   "source": [
    "# Modulus with scalar\n",
    "arr2 % 4"
   ]
  },
  {
   "cell_type": "markdown",
   "metadata": {},
   "source": [
    "Numpy arrays also support *brodcasting*, which allows arthmetic operations between two array having a different number of dimensions, but compatible shapes. Let's look at an example to see how it works."
   ]
  },
  {
   "cell_type": "code",
   "execution_count": 81,
   "metadata": {
    "execution": {
     "iopub.execute_input": "2020-09-12T05:07:08.157115Z",
     "iopub.status.busy": "2020-09-12T05:07:08.156121Z",
     "iopub.status.idle": "2020-09-12T05:07:08.170116Z",
     "shell.execute_reply": "2020-09-12T05:07:08.168116Z",
     "shell.execute_reply.started": "2020-09-12T05:07:08.157115Z"
    }
   },
   "outputs": [],
   "source": [
    "arr2 = np.array([[1, 2, 3, 4], \n",
    "                 [5, 6, 7, 8], \n",
    "                 [9, 1, 2, 3]])"
   ]
  },
  {
   "cell_type": "code",
   "execution_count": 82,
   "metadata": {
    "execution": {
     "iopub.execute_input": "2020-09-12T05:07:10.136115Z",
     "iopub.status.busy": "2020-09-12T05:07:10.136115Z",
     "iopub.status.idle": "2020-09-12T05:07:10.144113Z",
     "shell.execute_reply": "2020-09-12T05:07:10.143114Z",
     "shell.execute_reply.started": "2020-09-12T05:07:10.136115Z"
    }
   },
   "outputs": [
    {
     "data": {
      "text/plain": [
       "(3, 4)"
      ]
     },
     "execution_count": 82,
     "metadata": {},
     "output_type": "execute_result"
    }
   ],
   "source": [
    "arr2.shape"
   ]
  },
  {
   "cell_type": "code",
   "execution_count": 83,
   "metadata": {
    "execution": {
     "iopub.execute_input": "2020-09-12T05:07:21.862475Z",
     "iopub.status.busy": "2020-09-12T05:07:21.861477Z",
     "iopub.status.idle": "2020-09-12T05:07:21.875474Z",
     "shell.execute_reply": "2020-09-12T05:07:21.873474Z",
     "shell.execute_reply.started": "2020-09-12T05:07:21.861477Z"
    }
   },
   "outputs": [],
   "source": [
    "arr4 = np.array([4, 5, 6, 7])"
   ]
  },
  {
   "cell_type": "code",
   "execution_count": 84,
   "metadata": {
    "execution": {
     "iopub.execute_input": "2020-09-12T05:08:01.201143Z",
     "iopub.status.busy": "2020-09-12T05:08:01.201143Z",
     "iopub.status.idle": "2020-09-12T05:08:01.219143Z",
     "shell.execute_reply": "2020-09-12T05:08:01.218142Z",
     "shell.execute_reply.started": "2020-09-12T05:08:01.201143Z"
    }
   },
   "outputs": [
    {
     "data": {
      "text/plain": [
       "(4,)"
      ]
     },
     "execution_count": 84,
     "metadata": {},
     "output_type": "execute_result"
    }
   ],
   "source": [
    "arr4.shape"
   ]
  },
  {
   "cell_type": "code",
   "execution_count": 85,
   "metadata": {
    "execution": {
     "iopub.execute_input": "2020-09-12T05:08:03.896144Z",
     "iopub.status.busy": "2020-09-12T05:08:03.895145Z",
     "iopub.status.idle": "2020-09-12T05:08:03.915146Z",
     "shell.execute_reply": "2020-09-12T05:08:03.914144Z",
     "shell.execute_reply.started": "2020-09-12T05:08:03.896144Z"
    }
   },
   "outputs": [
    {
     "data": {
      "text/plain": [
       "array([[ 5,  7,  9, 11],\n",
       "       [ 9, 11, 13, 15],\n",
       "       [13,  6,  8, 10]])"
      ]
     },
     "execution_count": 85,
     "metadata": {},
     "output_type": "execute_result"
    }
   ],
   "source": [
    "arr2 + arr4"
   ]
  },
  {
   "cell_type": "markdown",
   "metadata": {},
   "source": [
    "When the expression `arr2 + arr4` is evaluated, `arr4` (which has the shape `(4,)`) is replicated 3 times to match the shape `(3, 4)` of `arr2`. This is pretty useful, because numpy performs the replication without actually creating 3 copies of the smaller dimension array.\n",
    "\n",
    "<img src=\"https://jakevdp.github.io/PythonDataScienceHandbook/figures/02.05-broadcasting.png\" width=\"360\">\n",
    "\n",
    "Broadcasting only works if one of the arrays can be replicated to exactly match the shape of the other array."
   ]
  },
  {
   "cell_type": "code",
   "execution_count": 86,
   "metadata": {
    "execution": {
     "iopub.execute_input": "2020-09-12T05:09:48.166497Z",
     "iopub.status.busy": "2020-09-12T05:09:48.165496Z",
     "iopub.status.idle": "2020-09-12T05:09:48.172494Z",
     "shell.execute_reply": "2020-09-12T05:09:48.170495Z",
     "shell.execute_reply.started": "2020-09-12T05:09:48.166497Z"
    }
   },
   "outputs": [],
   "source": [
    "arr5 = np.array([7, 8])"
   ]
  },
  {
   "cell_type": "code",
   "execution_count": 87,
   "metadata": {
    "execution": {
     "iopub.execute_input": "2020-09-12T05:09:55.821494Z",
     "iopub.status.busy": "2020-09-12T05:09:55.820496Z",
     "iopub.status.idle": "2020-09-12T05:09:55.839493Z",
     "shell.execute_reply": "2020-09-12T05:09:55.837496Z",
     "shell.execute_reply.started": "2020-09-12T05:09:55.821494Z"
    }
   },
   "outputs": [
    {
     "data": {
      "text/plain": [
       "(2,)"
      ]
     },
     "execution_count": 87,
     "metadata": {},
     "output_type": "execute_result"
    }
   ],
   "source": [
    "arr5.shape"
   ]
  },
  {
   "cell_type": "code",
   "execution_count": 88,
   "metadata": {
    "execution": {
     "iopub.execute_input": "2020-09-12T05:10:04.581857Z",
     "iopub.status.busy": "2020-09-12T05:10:04.580861Z",
     "iopub.status.idle": "2020-09-12T05:10:04.607863Z",
     "shell.execute_reply": "2020-09-12T05:10:04.605856Z",
     "shell.execute_reply.started": "2020-09-12T05:10:04.580861Z"
    }
   },
   "outputs": [
    {
     "ename": "ValueError",
     "evalue": "operands could not be broadcast together with shapes (3,4) (2,) ",
     "output_type": "error",
     "traceback": [
      "\u001b[1;31m---------------------------------------------------------------------------\u001b[0m",
      "\u001b[1;31mValueError\u001b[0m                                Traceback (most recent call last)",
      "\u001b[1;32m<ipython-input-88-c22e92053c39>\u001b[0m in \u001b[0;36m<module>\u001b[1;34m\u001b[0m\n\u001b[1;32m----> 1\u001b[1;33m \u001b[0marr2\u001b[0m \u001b[1;33m+\u001b[0m \u001b[0marr5\u001b[0m\u001b[1;33m\u001b[0m\u001b[1;33m\u001b[0m\u001b[0m\n\u001b[0m",
      "\u001b[1;31mValueError\u001b[0m: operands could not be broadcast together with shapes (3,4) (2,) "
     ]
    }
   ],
   "source": [
    "arr2 + arr5"
   ]
  },
  {
   "cell_type": "markdown",
   "metadata": {},
   "source": [
    "In the above example, even if `arr5` is replicated 3 times, it will not match the shape of `arr2`, hence `arr2 + arr5` cannot be evaluted successfully. Learn more about brodcasting here: https://numpy.org/doc/stable/user/basics.broadcasting.html\n",
    "\n",
    "Numpy arrays also support comparision operations like `==`, `!=`, `>` etc. The result is an array of booleans."
   ]
  },
  {
   "cell_type": "code",
   "execution_count": 91,
   "metadata": {
    "execution": {
     "iopub.execute_input": "2020-09-12T05:13:30.797599Z",
     "iopub.status.busy": "2020-09-12T05:13:30.795600Z",
     "iopub.status.idle": "2020-09-12T05:13:30.814599Z",
     "shell.execute_reply": "2020-09-12T05:13:30.812598Z",
     "shell.execute_reply.started": "2020-09-12T05:13:30.796597Z"
    }
   },
   "outputs": [],
   "source": [
    "arr1 = np.array([[1, 2, 3], [3, 4, 5]])\n",
    "arr2 = np.array([[2, 2, 3], [1, 2, 5]])"
   ]
  },
  {
   "cell_type": "code",
   "execution_count": 92,
   "metadata": {
    "execution": {
     "iopub.execute_input": "2020-09-12T05:13:32.587604Z",
     "iopub.status.busy": "2020-09-12T05:13:32.586598Z",
     "iopub.status.idle": "2020-09-12T05:13:32.601601Z",
     "shell.execute_reply": "2020-09-12T05:13:32.600602Z",
     "shell.execute_reply.started": "2020-09-12T05:13:32.587604Z"
    }
   },
   "outputs": [
    {
     "data": {
      "text/plain": [
       "array([[False,  True,  True],\n",
       "       [False, False,  True]])"
      ]
     },
     "execution_count": 92,
     "metadata": {},
     "output_type": "execute_result"
    }
   ],
   "source": [
    "arr1 == arr2"
   ]
  },
  {
   "cell_type": "code",
   "execution_count": 93,
   "metadata": {
    "execution": {
     "iopub.execute_input": "2020-09-12T05:13:33.989603Z",
     "iopub.status.busy": "2020-09-12T05:13:33.988602Z",
     "iopub.status.idle": "2020-09-12T05:13:34.008600Z",
     "shell.execute_reply": "2020-09-12T05:13:34.006604Z",
     "shell.execute_reply.started": "2020-09-12T05:13:33.989603Z"
    }
   },
   "outputs": [
    {
     "data": {
      "text/plain": [
       "array([[ True, False, False],\n",
       "       [ True,  True, False]])"
      ]
     },
     "execution_count": 93,
     "metadata": {},
     "output_type": "execute_result"
    }
   ],
   "source": [
    "arr1 != arr2"
   ]
  },
  {
   "cell_type": "code",
   "execution_count": 94,
   "metadata": {
    "execution": {
     "iopub.execute_input": "2020-09-12T05:13:37.579597Z",
     "iopub.status.busy": "2020-09-12T05:13:37.578598Z",
     "iopub.status.idle": "2020-09-12T05:13:37.593599Z",
     "shell.execute_reply": "2020-09-12T05:13:37.591600Z",
     "shell.execute_reply.started": "2020-09-12T05:13:37.579597Z"
    }
   },
   "outputs": [
    {
     "data": {
      "text/plain": [
       "array([[False,  True,  True],\n",
       "       [ True,  True,  True]])"
      ]
     },
     "execution_count": 94,
     "metadata": {},
     "output_type": "execute_result"
    }
   ],
   "source": [
    "arr1 >= arr2"
   ]
  },
  {
   "cell_type": "code",
   "execution_count": 95,
   "metadata": {
    "execution": {
     "iopub.execute_input": "2020-09-12T05:13:40.591603Z",
     "iopub.status.busy": "2020-09-12T05:13:40.590600Z",
     "iopub.status.idle": "2020-09-12T05:13:40.606602Z",
     "shell.execute_reply": "2020-09-12T05:13:40.604600Z",
     "shell.execute_reply.started": "2020-09-12T05:13:40.591603Z"
    }
   },
   "outputs": [
    {
     "data": {
      "text/plain": [
       "array([[ True, False, False],\n",
       "       [False, False, False]])"
      ]
     },
     "execution_count": 95,
     "metadata": {},
     "output_type": "execute_result"
    }
   ],
   "source": [
    "arr1 < arr2"
   ]
  },
  {
   "cell_type": "markdown",
   "metadata": {},
   "source": [
    "A common use case for this is to count the number of equal elements in two arrays using the `sum` method. Remember that `True` evalues to `1` and `False` evaluates to `0` when booleans are used in arithmetic operations."
   ]
  },
  {
   "cell_type": "code",
   "execution_count": 96,
   "metadata": {
    "execution": {
     "iopub.execute_input": "2020-09-12T05:14:01.573684Z",
     "iopub.status.busy": "2020-09-12T05:14:01.572682Z",
     "iopub.status.idle": "2020-09-12T05:14:01.587682Z",
     "shell.execute_reply": "2020-09-12T05:14:01.585682Z",
     "shell.execute_reply.started": "2020-09-12T05:14:01.573684Z"
    }
   },
   "outputs": [
    {
     "data": {
      "text/plain": [
       "3"
      ]
     },
     "execution_count": 96,
     "metadata": {},
     "output_type": "execute_result"
    }
   ],
   "source": [
    "(arr1 == arr2).sum()"
   ]
  },
  {
   "cell_type": "markdown",
   "metadata": {},
   "source": [
    "## Array indexing and slicing\n",
    "\n",
    "Numpy extends Python's list indexing notation using `[]` to multiple dimensions in a fairly intuitive fashion. You can provide a comma separated list of indices or ranges to select a specific element or a subarray (also called slice) from a numpy array."
   ]
  },
  {
   "cell_type": "code",
   "execution_count": 98,
   "metadata": {
    "execution": {
     "iopub.execute_input": "2020-09-12T05:32:30.246941Z",
     "iopub.status.busy": "2020-09-12T05:32:30.246941Z",
     "iopub.status.idle": "2020-09-12T05:32:30.257940Z",
     "shell.execute_reply": "2020-09-12T05:32:30.256940Z",
     "shell.execute_reply.started": "2020-09-12T05:32:30.246941Z"
    }
   },
   "outputs": [],
   "source": [
    "arr3 = np.array([\n",
    "    [[11, 12, 13, 14], \n",
    "     [13, 14, 15, 19]], \n",
    "    \n",
    "    [[15, 16, 17, 21], \n",
    "     [63, 92, 36, 18]], \n",
    "    \n",
    "    [[98, 32, 81, 23],      \n",
    "     [17, 18, 19.5, 43]]])"
   ]
  },
  {
   "cell_type": "code",
   "execution_count": 100,
   "metadata": {
    "execution": {
     "iopub.execute_input": "2020-09-12T05:40:24.193390Z",
     "iopub.status.busy": "2020-09-12T05:40:24.192389Z",
     "iopub.status.idle": "2020-09-12T05:40:24.207386Z",
     "shell.execute_reply": "2020-09-12T05:40:24.205387Z",
     "shell.execute_reply.started": "2020-09-12T05:40:24.193390Z"
    }
   },
   "outputs": [
    {
     "data": {
      "text/plain": [
       "(3, 2, 4)"
      ]
     },
     "execution_count": 100,
     "metadata": {},
     "output_type": "execute_result"
    }
   ],
   "source": [
    "arr3.shape"
   ]
  },
  {
   "cell_type": "code",
   "execution_count": 101,
   "metadata": {
    "execution": {
     "iopub.execute_input": "2020-09-12T05:40:26.949387Z",
     "iopub.status.busy": "2020-09-12T05:40:26.948388Z",
     "iopub.status.idle": "2020-09-12T05:40:26.962387Z",
     "shell.execute_reply": "2020-09-12T05:40:26.960389Z",
     "shell.execute_reply.started": "2020-09-12T05:40:26.949387Z"
    }
   },
   "outputs": [
    {
     "data": {
      "text/plain": [
       "36.0"
      ]
     },
     "execution_count": 101,
     "metadata": {},
     "output_type": "execute_result"
    }
   ],
   "source": [
    "# Single element\n",
    "arr3[1, 1, 2]"
   ]
  },
  {
   "cell_type": "code",
   "execution_count": 114,
   "metadata": {
    "execution": {
     "iopub.execute_input": "2020-09-12T05:57:10.762137Z",
     "iopub.status.busy": "2020-09-12T05:57:10.761138Z",
     "iopub.status.idle": "2020-09-12T05:57:10.780136Z",
     "shell.execute_reply": "2020-09-12T05:57:10.778139Z",
     "shell.execute_reply.started": "2020-09-12T05:57:10.762137Z"
    }
   },
   "outputs": [
    {
     "data": {
      "text/plain": [
       "array([[[15., 16.]],\n",
       "\n",
       "       [[98., 32.]]])"
      ]
     },
     "execution_count": 114,
     "metadata": {},
     "output_type": "execute_result"
    }
   ],
   "source": [
    "# Subarray using ranges\n",
    "arr3[1:, 0:1, :2]"
   ]
  },
  {
   "cell_type": "code",
   "execution_count": 115,
   "metadata": {
    "execution": {
     "iopub.execute_input": "2020-09-12T05:59:15.708782Z",
     "iopub.status.busy": "2020-09-12T05:59:15.708782Z",
     "iopub.status.idle": "2020-09-12T05:59:15.730783Z",
     "shell.execute_reply": "2020-09-12T05:59:15.729782Z",
     "shell.execute_reply.started": "2020-09-12T05:59:15.708782Z"
    }
   },
   "outputs": [
    {
     "data": {
      "text/plain": [
       "array([18., 43.])"
      ]
     },
     "execution_count": 115,
     "metadata": {},
     "output_type": "execute_result"
    }
   ],
   "source": [
    "# Mixing indices and ranges\n",
    "arr3[1:, 1, 3]"
   ]
  },
  {
   "cell_type": "code",
   "execution_count": 116,
   "metadata": {
    "execution": {
     "iopub.execute_input": "2020-09-12T06:00:02.575601Z",
     "iopub.status.busy": "2020-09-12T06:00:02.574600Z",
     "iopub.status.idle": "2020-09-12T06:00:02.588604Z",
     "shell.execute_reply": "2020-09-12T06:00:02.586606Z",
     "shell.execute_reply.started": "2020-09-12T06:00:02.575601Z"
    }
   },
   "outputs": [
    {
     "data": {
      "text/plain": [
       "array([[63. , 92. , 36. ],\n",
       "       [17. , 18. , 19.5]])"
      ]
     },
     "execution_count": 116,
     "metadata": {},
     "output_type": "execute_result"
    }
   ],
   "source": [
    "# Mixing indices and ranges\n",
    "arr3[1:, 1, :3]"
   ]
  },
  {
   "cell_type": "code",
   "execution_count": 117,
   "metadata": {
    "execution": {
     "iopub.execute_input": "2020-09-12T06:00:09.602604Z",
     "iopub.status.busy": "2020-09-12T06:00:09.601604Z",
     "iopub.status.idle": "2020-09-12T06:00:09.625602Z",
     "shell.execute_reply": "2020-09-12T06:00:09.623601Z",
     "shell.execute_reply.started": "2020-09-12T06:00:09.602604Z"
    }
   },
   "outputs": [
    {
     "data": {
      "text/plain": [
       "array([[15., 16., 17., 21.],\n",
       "       [63., 92., 36., 18.]])"
      ]
     },
     "execution_count": 117,
     "metadata": {},
     "output_type": "execute_result"
    }
   ],
   "source": [
    "# Using fewer indices\n",
    "arr3[1]"
   ]
  },
  {
   "cell_type": "code",
   "execution_count": 118,
   "metadata": {
    "execution": {
     "iopub.execute_input": "2020-09-12T06:01:15.951237Z",
     "iopub.status.busy": "2020-09-12T06:01:15.950238Z",
     "iopub.status.idle": "2020-09-12T06:01:15.960239Z",
     "shell.execute_reply": "2020-09-12T06:01:15.958238Z",
     "shell.execute_reply.started": "2020-09-12T06:01:15.951237Z"
    }
   },
   "outputs": [
    {
     "data": {
      "text/plain": [
       "array([[13., 14., 15., 19.],\n",
       "       [63., 92., 36., 18.]])"
      ]
     },
     "execution_count": 118,
     "metadata": {},
     "output_type": "execute_result"
    }
   ],
   "source": [
    "# Using fewer indices\n",
    "arr3[:2, 1]"
   ]
  },
  {
   "cell_type": "code",
   "execution_count": 119,
   "metadata": {
    "execution": {
     "iopub.execute_input": "2020-09-12T06:01:21.256467Z",
     "iopub.status.busy": "2020-09-12T06:01:21.255467Z",
     "iopub.status.idle": "2020-09-12T06:01:21.276470Z",
     "shell.execute_reply": "2020-09-12T06:01:21.273467Z",
     "shell.execute_reply.started": "2020-09-12T06:01:21.256467Z"
    }
   },
   "outputs": [
    {
     "ename": "IndexError",
     "evalue": "too many indices for array: array is 3-dimensional, but 4 were indexed",
     "output_type": "error",
     "traceback": [
      "\u001b[1;31m---------------------------------------------------------------------------\u001b[0m",
      "\u001b[1;31mIndexError\u001b[0m                                Traceback (most recent call last)",
      "\u001b[1;32m<ipython-input-119-fbde713646b3>\u001b[0m in \u001b[0;36m<module>\u001b[1;34m\u001b[0m\n\u001b[0;32m      1\u001b[0m \u001b[1;31m# Using too many indices\u001b[0m\u001b[1;33m\u001b[0m\u001b[1;33m\u001b[0m\u001b[1;33m\u001b[0m\u001b[0m\n\u001b[1;32m----> 2\u001b[1;33m \u001b[0marr3\u001b[0m\u001b[1;33m[\u001b[0m\u001b[1;36m1\u001b[0m\u001b[1;33m,\u001b[0m\u001b[1;36m3\u001b[0m\u001b[1;33m,\u001b[0m\u001b[1;36m2\u001b[0m\u001b[1;33m,\u001b[0m\u001b[1;36m1\u001b[0m\u001b[1;33m]\u001b[0m\u001b[1;33m\u001b[0m\u001b[1;33m\u001b[0m\u001b[0m\n\u001b[0m",
      "\u001b[1;31mIndexError\u001b[0m: too many indices for array: array is 3-dimensional, but 4 were indexed"
     ]
    }
   ],
   "source": [
    "# Using too many indices\n",
    "arr3[1,3,2,1]"
   ]
  },
  {
   "cell_type": "markdown",
   "metadata": {},
   "source": [
    "The notation and results can confusing at first, so take your time to experiment and become comfortable with it. Use the cells below to try out some examples of array indexing and slicing, with different combinations of indices and ranges. Here are some more examples demonstrated visually:\n",
    "\n",
    "<img src=\"https://scipy-lectures.org/_images/numpy_indexing.png\" width=\"360\">"
   ]
  },
  {
   "cell_type": "markdown",
   "metadata": {},
   "source": [
    "## Other ways of creating Numpy arrays\n",
    "\n",
    "Numpy also provides some handy functions to create arrays of a desired shape with fixed or random values. Check the out the [official documentation](https://numpy.org/doc/stable/reference/routines.array-creation.html) or use the `help` function to learn more about the following functions."
   ]
  },
  {
   "cell_type": "code",
   "execution_count": 120,
   "metadata": {
    "execution": {
     "iopub.execute_input": "2020-09-12T06:02:35.847551Z",
     "iopub.status.busy": "2020-09-12T06:02:35.847551Z",
     "iopub.status.idle": "2020-09-12T06:02:35.862550Z",
     "shell.execute_reply": "2020-09-12T06:02:35.860548Z",
     "shell.execute_reply.started": "2020-09-12T06:02:35.847551Z"
    }
   },
   "outputs": [
    {
     "data": {
      "text/plain": [
       "array([[0., 0.],\n",
       "       [0., 0.],\n",
       "       [0., 0.]])"
      ]
     },
     "execution_count": 120,
     "metadata": {},
     "output_type": "execute_result"
    }
   ],
   "source": [
    "# All zeros\n",
    "np.zeros((3, 2))"
   ]
  },
  {
   "cell_type": "code",
   "execution_count": 121,
   "metadata": {
    "execution": {
     "iopub.execute_input": "2020-09-12T06:03:14.575670Z",
     "iopub.status.busy": "2020-09-12T06:03:14.574670Z",
     "iopub.status.idle": "2020-09-12T06:03:14.588673Z",
     "shell.execute_reply": "2020-09-12T06:03:14.586670Z",
     "shell.execute_reply.started": "2020-09-12T06:03:14.575670Z"
    }
   },
   "outputs": [
    {
     "data": {
      "text/plain": [
       "array([[[1., 1., 1.],\n",
       "        [1., 1., 1.]],\n",
       "\n",
       "       [[1., 1., 1.],\n",
       "        [1., 1., 1.]]])"
      ]
     },
     "execution_count": 121,
     "metadata": {},
     "output_type": "execute_result"
    }
   ],
   "source": [
    "# All ones\n",
    "np.ones([2, 2, 3])"
   ]
  },
  {
   "cell_type": "code",
   "execution_count": 122,
   "metadata": {
    "execution": {
     "iopub.execute_input": "2020-09-12T06:03:20.019676Z",
     "iopub.status.busy": "2020-09-12T06:03:20.019676Z",
     "iopub.status.idle": "2020-09-12T06:03:20.031672Z",
     "shell.execute_reply": "2020-09-12T06:03:20.029670Z",
     "shell.execute_reply.started": "2020-09-12T06:03:20.019676Z"
    }
   },
   "outputs": [
    {
     "data": {
      "text/plain": [
       "array([[1., 0., 0.],\n",
       "       [0., 1., 0.],\n",
       "       [0., 0., 1.]])"
      ]
     },
     "execution_count": 122,
     "metadata": {},
     "output_type": "execute_result"
    }
   ],
   "source": [
    "# Identity matrix\n",
    "np.eye(3)"
   ]
  },
  {
   "cell_type": "code",
   "execution_count": 123,
   "metadata": {
    "execution": {
     "iopub.execute_input": "2020-09-12T06:03:34.996670Z",
     "iopub.status.busy": "2020-09-12T06:03:34.995672Z",
     "iopub.status.idle": "2020-09-12T06:03:35.020672Z",
     "shell.execute_reply": "2020-09-12T06:03:35.018671Z",
     "shell.execute_reply.started": "2020-09-12T06:03:34.996670Z"
    }
   },
   "outputs": [
    {
     "data": {
      "text/plain": [
       "array([0.68894041, 0.83518792, 0.80167632, 0.52801246, 0.2423135 ])"
      ]
     },
     "execution_count": 123,
     "metadata": {},
     "output_type": "execute_result"
    }
   ],
   "source": [
    "# Random vector\n",
    "np.random.rand(5)"
   ]
  },
  {
   "cell_type": "code",
   "execution_count": 124,
   "metadata": {
    "execution": {
     "iopub.execute_input": "2020-09-12T06:03:46.043980Z",
     "iopub.status.busy": "2020-09-12T06:03:46.042981Z",
     "iopub.status.idle": "2020-09-12T06:03:46.058980Z",
     "shell.execute_reply": "2020-09-12T06:03:46.056983Z",
     "shell.execute_reply.started": "2020-09-12T06:03:46.042981Z"
    }
   },
   "outputs": [
    {
     "data": {
      "text/plain": [
       "array([[-0.74602203,  0.47467783,  0.30343443],\n",
       "       [-2.13514893,  0.29803218, -0.29457697]])"
      ]
     },
     "execution_count": 124,
     "metadata": {},
     "output_type": "execute_result"
    }
   ],
   "source": [
    "# Random matrix\n",
    "np.random.randn(2, 3) # rand vs. randn - what's the difference?"
   ]
  },
  {
   "cell_type": "code",
   "execution_count": 125,
   "metadata": {
    "execution": {
     "iopub.execute_input": "2020-09-12T06:03:57.190108Z",
     "iopub.status.busy": "2020-09-12T06:03:57.190108Z",
     "iopub.status.idle": "2020-09-12T06:03:57.200111Z",
     "shell.execute_reply": "2020-09-12T06:03:57.198109Z",
     "shell.execute_reply.started": "2020-09-12T06:03:57.190108Z"
    }
   },
   "outputs": [
    {
     "data": {
      "text/plain": [
       "array([[42, 42, 42],\n",
       "       [42, 42, 42]])"
      ]
     },
     "execution_count": 125,
     "metadata": {},
     "output_type": "execute_result"
    }
   ],
   "source": [
    "# Fixed value\n",
    "np.full([2, 3], 42)"
   ]
  },
  {
   "cell_type": "code",
   "execution_count": 126,
   "metadata": {
    "execution": {
     "iopub.execute_input": "2020-09-12T06:04:15.981458Z",
     "iopub.status.busy": "2020-09-12T06:04:15.980457Z",
     "iopub.status.idle": "2020-09-12T06:04:15.998456Z",
     "shell.execute_reply": "2020-09-12T06:04:15.996457Z",
     "shell.execute_reply.started": "2020-09-12T06:04:15.981458Z"
    }
   },
   "outputs": [
    {
     "data": {
      "text/plain": [
       "array([10, 13, 16, 19, 22, 25, 28, 31, 34, 37, 40, 43, 46, 49, 52, 55, 58,\n",
       "       61, 64, 67, 70, 73, 76, 79, 82, 85, 88])"
      ]
     },
     "execution_count": 126,
     "metadata": {},
     "output_type": "execute_result"
    }
   ],
   "source": [
    "# Range with start, end and step\n",
    "np.arange(10, 90, 3)"
   ]
  },
  {
   "cell_type": "code",
   "execution_count": 127,
   "metadata": {
    "execution": {
     "iopub.execute_input": "2020-09-12T06:04:36.976255Z",
     "iopub.status.busy": "2020-09-12T06:04:36.975256Z",
     "iopub.status.idle": "2020-09-12T06:04:36.993254Z",
     "shell.execute_reply": "2020-09-12T06:04:36.991256Z",
     "shell.execute_reply.started": "2020-09-12T06:04:36.976255Z"
    }
   },
   "outputs": [
    {
     "data": {
      "text/plain": [
       "array([ 3.,  6.,  9., 12., 15., 18., 21., 24., 27.])"
      ]
     },
     "execution_count": 127,
     "metadata": {},
     "output_type": "execute_result"
    }
   ],
   "source": [
    "# Equally spaced numbers in a range\n",
    "np.linspace(3, 27, 9)"
   ]
  },
  {
   "cell_type": "markdown",
   "metadata": {},
   "source": [
    "## Save and Commit\n",
    "\n",
    "Whether you're running this Jupyter notebook on an online service like Binder or on your local machine, it's important to save your work from time, so that you can access it later, or share it online. You can upload this notebook to your [Jovian.ml](https://jovian.ml) account using the `jovian` Python library.\n",
    "\n"
   ]
  },
  {
   "cell_type": "code",
   "execution_count": 95,
   "metadata": {},
   "outputs": [],
   "source": [
    "# Install the library \n",
    "!pip install jovian --upgrade --quiet"
   ]
  },
  {
   "cell_type": "code",
   "execution_count": 96,
   "metadata": {},
   "outputs": [],
   "source": [
    "import jovian"
   ]
  },
  {
   "cell_type": "code",
   "execution_count": null,
   "metadata": {},
   "outputs": [
    {
     "data": {
      "application/javascript": [
       "window.require && require([\"base/js/namespace\"],function(Jupyter){Jupyter.notebook.save_checkpoint()})"
      ],
      "text/plain": [
       "<IPython.core.display.Javascript object>"
      ]
     },
     "metadata": {},
     "output_type": "display_data"
    },
    {
     "name": "stdout",
     "output_type": "stream",
     "text": [
      "[jovian] Attempting to save notebook..\u001b[0m\n"
     ]
    }
   ],
   "source": [
    "jovian.commit()"
   ]
  },
  {
   "cell_type": "markdown",
   "metadata": {},
   "source": [
    "## Exercises and Further Reading\n",
    "\n",
    "Try the following exercises to become familiar with Numpy and practice your skills:\n",
    "\n",
    "- Assignment on Numpy array functions: https://jovian.ml/aakashns/numpy-array-operations\n",
    "- (Optional) 100 numpy exercises: https://jovian.ml/aakashns/100-numpy-exercises\n",
    "\n",
    "We've covered the following topics in this tutorial:\n",
    "\n",
    "- Going from Python lists to Numpy arrays\n",
    "- Operating on Numpy arrays\n",
    "- Benefits of using Numpy arrays over lists\n",
    "- Multi-dimensional Numpy arrays\n",
    "- Working with CSV data files\n",
    "- Arithmetic operations and broadcasting\n",
    "- Array indexing and slicing\n",
    "- Other ways of creating Numpy arrays\n",
    "\n",
    "\n",
    "Check out the following resouces for learning more about Numpy:\n",
    "\n",
    "- Official tutorial: https://numpy.org/devdocs/user/quickstart.html\n",
    "- Numpy tutorial on W3Schools: https://www.w3schools.com/python/numpy_intro.asp\n",
    "- Advanced Numpy (exploring the internals): http://scipy-lectures.org/advanced/advanced_numpy/index.html"
   ]
  },
  {
   "cell_type": "code",
   "execution_count": null,
   "metadata": {},
   "outputs": [],
   "source": []
  }
 ],
 "metadata": {
  "kernelspec": {
   "display_name": "Python 3",
   "language": "python",
   "name": "python3"
  },
  "language_info": {
   "codemirror_mode": {
    "name": "ipython",
    "version": 3
   },
   "file_extension": ".py",
   "mimetype": "text/x-python",
   "name": "python",
   "nbconvert_exporter": "python",
   "pygments_lexer": "ipython3",
   "version": "3.8.5"
  }
 },
 "nbformat": 4,
 "nbformat_minor": 4
}
